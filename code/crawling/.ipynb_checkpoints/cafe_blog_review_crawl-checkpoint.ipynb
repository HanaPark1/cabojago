{
 "cells": [
  {
   "cell_type": "code",
   "execution_count": 23,
   "id": "c09155ed-1418-46f9-a0f5-9d47d511ab94",
   "metadata": {},
   "outputs": [],
   "source": [
    "import sys\n",
    "import os\n",
    "\n",
    "import pandas as pd\n",
    "import numpy as np\n",
    "\n",
    "from bs4 import BeautifulSoup\n",
    "\n",
    "from selenium.webdriver.common.by import By\n",
    "from selenium import webdriver\n",
    "from selenium.webdriver.common.keys import Keys\n",
    "import chromedriver_autoinstaller\n",
    "\n",
    "import time\n",
    "from tqdm import tqdm_notebook\n",
    "\n",
    "import warnings\n",
    "warnings.filterwarnings('ignore')"
   ]
  },
  {
   "cell_type": "code",
   "execution_count": 4,
   "id": "117e29a0-2355-4a47-bb19-116c9e9e181d",
   "metadata": {},
   "outputs": [
    {
     "name": "stdin",
     "output_type": "stream",
     "text": [
      "크롤링 키워드 필구커피\n"
     ]
    }
   ],
   "source": [
    "cafe = input(\"크롤링 키워드\")\n",
    "\n",
    "query_txt = cafe + \" 리뷰\""
   ]
  },
  {
   "cell_type": "code",
   "execution_count": 5,
   "id": "7761a17b-b9bf-433b-affc-417bd3bdaef8",
   "metadata": {},
   "outputs": [],
   "source": [
    "#크롬 웹브라우저 실행\n",
    "chrome_options = webdriver.ChromeOptions()\n",
    "\n",
    "chrome_options.add_argument(\"/Users/hana/.wdm/drivers/chromedriver/mac64/119.0.6045.105/chromedriver-mac-arm64/chromedriver\")\n",
    "driver = webdriver.Chrome()\n",
    "driver.get(\n",
    "    \"https://search.naver.com\"\n",
    ")\n",
    "time.sleep(1)"
   ]
  },
  {
   "cell_type": "code",
   "execution_count": 6,
   "id": "4b37e73d-a59f-459a-a924-c442aa99ad00",
   "metadata": {
    "scrolled": true
   },
   "outputs": [],
   "source": [
    "#검색창에 \"검색어\" 검색\n",
    "element = driver.find_element(By.CSS_SELECTOR, 'div.search_input_box > input#query')\n",
    "element.send_keys(query_txt)\n",
    "element.submit()\n",
    "time.sleep(1)"
   ]
  },
  {
   "cell_type": "code",
   "execution_count": 7,
   "id": "2913a74b-73fd-4515-85a8-025ec4b4f6e4",
   "metadata": {},
   "outputs": [],
   "source": [
    "#VIEW 클릭\n",
    "\n",
    "driver.find_element(By.LINK_TEXT, \"VIEW\").click()\n",
    "\n",
    "#옵션 클릭\n",
    "driver.find_element(By.LINK_TEXT, \"옵션\").click()\n",
    "\n",
    "#블로그 클릭\n",
    "driver.find_element(By.LINK_TEXT, \"블로그\").click()"
   ]
  },
  {
   "cell_type": "code",
   "execution_count": 8,
   "id": "c982eabd-7ccb-4d15-8e72-5591e1fd3a42",
   "metadata": {},
   "outputs": [],
   "source": [
    "# 스크롤을 밑으로 내려주는 함수\n",
    "\n",
    "def scroll_down(driver):\n",
    "    driver.execute_script(\"window.scrollTo(0, 99999999)\")\n",
    "    time.sleep(1)\n",
    "\n",
    "# n : 스크롤할 횟수 설정\n",
    "n = 1 #스크롤 1번당 글 30개씩 화면에 출력\n",
    "i = 0\n",
    "while i < n:\n",
    "    scroll_down(driver) #스크롤다운\n",
    "    i = i+1"
   ]
  },
  {
   "cell_type": "code",
   "execution_count": 9,
   "id": "c017588b-1603-4e44-8101-820e2b23577e",
   "metadata": {},
   "outputs": [
    {
     "data": {
      "text/plain": [
       "'https://blog.naver.com/occkei/222938814521'"
      ]
     },
     "execution_count": 9,
     "metadata": {},
     "output_type": "execute_result"
    }
   ],
   "source": [
    "url_list = []\n",
    "title_list = []\n",
    "\n",
    "\n",
    "#URL_raw 크롤링\n",
    "articles = \"a.title_link\"\n",
    "article_raw = driver.find_elements(By.CSS_SELECTOR, articles)\n",
    "article_raw[0]\n",
    "article_raw[0].text\n",
    "article_raw[0].get_attribute('href')"
   ]
  },
  {
   "cell_type": "code",
   "execution_count": 10,
   "id": "0e6ee2a3-ea1f-46d6-be56-a3c3dd46c4d5",
   "metadata": {},
   "outputs": [
    {
     "name": "stdout",
     "output_type": "stream",
     "text": [
      "\n",
      "url 갯수:  60\n",
      "title 갯수:  60\n"
     ]
    }
   ],
   "source": [
    "for article in article_raw:\n",
    "    url = article.get_attribute('href')\n",
    "    url_list.append(url)\n",
    "\n",
    "for article in article_raw:\n",
    "    title = article.text\n",
    "    title_list.append(title)\n",
    "\n",
    "print(\"\")\n",
    "print('url 갯수: ',len(url_list))\n",
    "print('title 갯수: ',len(title_list))"
   ]
  },
  {
   "cell_type": "code",
   "execution_count": 11,
   "id": "79fffc4f-3496-45a4-932f-90333593baf2",
   "metadata": {},
   "outputs": [
    {
     "data": {
      "text/html": [
       "<div>\n",
       "<style scoped>\n",
       "    .dataframe tbody tr th:only-of-type {\n",
       "        vertical-align: middle;\n",
       "    }\n",
       "\n",
       "    .dataframe tbody tr th {\n",
       "        vertical-align: top;\n",
       "    }\n",
       "\n",
       "    .dataframe thead th {\n",
       "        text-align: right;\n",
       "    }\n",
       "</style>\n",
       "<table border=\"1\" class=\"dataframe\">\n",
       "  <thead>\n",
       "    <tr style=\"text-align: right;\">\n",
       "      <th></th>\n",
       "      <th>url</th>\n",
       "      <th>title</th>\n",
       "    </tr>\n",
       "  </thead>\n",
       "  <tbody>\n",
       "    <tr>\n",
       "      <th>0</th>\n",
       "      <td>https://blog.naver.com/occkei/222938814521</td>\n",
       "      <td>[은평구카페] 필구커피 마쉬멜로우 시그니처메뉴</td>\n",
       "    </tr>\n",
       "    <tr>\n",
       "      <th>1</th>\n",
       "      <td>https://blog.naver.com/rrim2/222622292155</td>\n",
       "      <td>필구커피, 은평구 카페, 연신내 카페</td>\n",
       "    </tr>\n",
       "    <tr>\n",
       "      <th>2</th>\n",
       "      <td>https://blog.naver.com/ovo_y/223218163215</td>\n",
       "      <td>은평구 응암역 조용한 감성카페 필구커피</td>\n",
       "    </tr>\n",
       "    <tr>\n",
       "      <th>3</th>\n",
       "      <td>https://blog.naver.com/reason8923/222696867776</td>\n",
       "      <td>은평구 불광천 카페, 크림 라떼가 맛있는 필구커피</td>\n",
       "    </tr>\n",
       "    <tr>\n",
       "      <th>4</th>\n",
       "      <td>https://blog.naver.com/dh_halim/222899578998</td>\n",
       "      <td>서울) 은평구 새절역 근처, 커피 찐찐 맛집으로 유명한 \"필구커피\"</td>\n",
       "    </tr>\n",
       "    <tr>\n",
       "      <th>5</th>\n",
       "      <td>https://blog.naver.com/son_bang_/223208139227</td>\n",
       "      <td>[응암동 카페] 빈티지 감성 가득한 필구커피</td>\n",
       "    </tr>\n",
       "    <tr>\n",
       "      <th>6</th>\n",
       "      <td>https://blog.naver.com/zzung__ha/223255516396</td>\n",
       "      <td>은평구 응암동 감성 카페 필구커피_세절역 불광천 조용한 커피...</td>\n",
       "    </tr>\n",
       "    <tr>\n",
       "      <th>7</th>\n",
       "      <td>https://blog.naver.com/smileyoolim/222954142099</td>\n",
       "      <td>[은평/새절/응암] 커피도 맛있고 스콘도 맛있었던 필구커피</td>\n",
       "    </tr>\n",
       "    <tr>\n",
       "      <th>8</th>\n",
       "      <td>https://blog.naver.com/skdus815/222873029815</td>\n",
       "      <td>[새절역 카페] 필구커피, 응암동 조용한 골목에 위치한 수제...</td>\n",
       "    </tr>\n",
       "    <tr>\n",
       "      <th>9</th>\n",
       "      <td>https://blog.naver.com/thinksobebe/223277165782</td>\n",
       "      <td>서울 은평구 감성카페 필구커피 불광천 아기자기하고 힙한...</td>\n",
       "    </tr>\n",
       "    <tr>\n",
       "      <th>10</th>\n",
       "      <td>https://blog.naver.com/wlseend/223104644209</td>\n",
       "      <td>은평구 인생 스콘 맛집, 필구커피♡</td>\n",
       "    </tr>\n",
       "    <tr>\n",
       "      <th>11</th>\n",
       "      <td>https://blog.naver.com/nn_nani/222855300157</td>\n",
       "      <td>새절역카페 : 불광천 골목사이 귀여운 카페 '필구커피'</td>\n",
       "    </tr>\n",
       "    <tr>\n",
       "      <th>12</th>\n",
       "      <td>https://blog.naver.com/pk1377/223077464573</td>\n",
       "      <td>필구커피</td>\n",
       "    </tr>\n",
       "    <tr>\n",
       "      <th>13</th>\n",
       "      <td>https://blog.naver.com/honeyjarrrr/222658760707</td>\n",
       "      <td>불광천 카페 필구커피 힙쟁이 코스 애견동반가능</td>\n",
       "    </tr>\n",
       "    <tr>\n",
       "      <th>14</th>\n",
       "      <td>https://blog.naver.com/jengmallo/222618052825</td>\n",
       "      <td>불광천카페 필구커피</td>\n",
       "    </tr>\n",
       "    <tr>\n",
       "      <th>15</th>\n",
       "      <td>https://blog.naver.com/silverhye86/222938332332</td>\n",
       "      <td>은평구 응암동 카페 ‘필구커피’</td>\n",
       "    </tr>\n",
       "    <tr>\n",
       "      <th>16</th>\n",
       "      <td>https://blog.naver.com/dcu0805/222657084780</td>\n",
       "      <td>[카페투어]불광천의 작은 카페_시그니처, 디자인, 필구커피</td>\n",
       "    </tr>\n",
       "    <tr>\n",
       "      <th>17</th>\n",
       "      <td>https://blog.naver.com/kgrbbb97/223138611803</td>\n",
       "      <td>[새절 카페추천] 필구커피ㅣ멜로우 라떼, 보내기 아쉬운...</td>\n",
       "    </tr>\n",
       "    <tr>\n",
       "      <th>18</th>\n",
       "      <td>https://blog.naver.com/ssshee2/223266529724</td>\n",
       "      <td>대구 달서구 월성동 양곱창 맛집｜필구양곱창, 소곱창 대창...</td>\n",
       "    </tr>\n",
       "    <tr>\n",
       "      <th>19</th>\n",
       "      <td>https://blog.naver.com/jihyun_note/222356016329</td>\n",
       "      <td>라떼'가 유명한 필구커피 / 불광천 카페 / 새절역 카페</td>\n",
       "    </tr>\n",
       "    <tr>\n",
       "      <th>20</th>\n",
       "      <td>https://blog.naver.com/noonseol2/222606545715</td>\n",
       "      <td>새절역 [필구커피] 아담하고 힙한 동네카페 _멜로우크림라떼</td>\n",
       "    </tr>\n",
       "    <tr>\n",
       "      <th>21</th>\n",
       "      <td>https://blog.naver.com/hyujing/222316965589</td>\n",
       "      <td>가로수길 정돈, 필구커피, 그리고 나이키덩크 코스트 지름</td>\n",
       "    </tr>\n",
       "    <tr>\n",
       "      <th>22</th>\n",
       "      <td>https://blog.naver.com/reason8923/222322450149</td>\n",
       "      <td>카페 추천] 맛있는 멜로우 크림 라떼 먹을 수 있는 핫플 필구커피</td>\n",
       "    </tr>\n",
       "    <tr>\n",
       "      <th>23</th>\n",
       "      <td>https://blog.naver.com/mary3710/222403676022</td>\n",
       "      <td>[리뷰]새절역 응암동 필구커피/은평구 핫플/불광천 카페(내돈내산)</td>\n",
       "    </tr>\n",
       "    <tr>\n",
       "      <th>24</th>\n",
       "      <td>https://blog.naver.com/him_e_review/222298255410</td>\n",
       "      <td>[불광천 카페] 인스타 감성의 초소형 카페 필구 커피...</td>\n",
       "    </tr>\n",
       "    <tr>\n",
       "      <th>25</th>\n",
       "      <td>https://blog.naver.com/euunon1y/222474884108</td>\n",
       "      <td>필구커피 , 골목길 mood 그 자체 ...</td>\n",
       "    </tr>\n",
       "    <tr>\n",
       "      <th>26</th>\n",
       "      <td>https://blog.naver.com/rooki023/222425709965</td>\n",
       "      <td>필구커피 filgu coffee응암동 새절역 불광천카페</td>\n",
       "    </tr>\n",
       "    <tr>\n",
       "      <th>27</th>\n",
       "      <td>https://blog.naver.com/wodud7478/222399847458</td>\n",
       "      <td>[새절역,응암동카페] 필구커피</td>\n",
       "    </tr>\n",
       "    <tr>\n",
       "      <th>28</th>\n",
       "      <td>https://blog.naver.com/angelphs1124/222494642714</td>\n",
       "      <td>[새절역카페]필구커피에서 멜로우라떼 마시고 반해버렸다.</td>\n",
       "    </tr>\n",
       "    <tr>\n",
       "      <th>29</th>\n",
       "      <td>https://blog.naver.com/lovefromlike/222321413800</td>\n",
       "      <td>[응암동 카페] 불광천 산책하다 가기 좋은 카페 ‘필구 커피’...</td>\n",
       "    </tr>\n",
       "    <tr>\n",
       "      <th>30</th>\n",
       "      <td>https://blog.naver.com/cooljakit/221419446941</td>\n",
       "      <td>후지 X-T3 미러리스 카메라 필구 아이템 림즈 속사케이스 리뷰</td>\n",
       "    </tr>\n",
       "    <tr>\n",
       "      <th>31</th>\n",
       "      <td>https://blog.naver.com/sorrow0902/222162477388</td>\n",
       "      <td>&lt;새절역/응암동 카페&gt; 불광천 햇살 맛집 신상 카페, 필구커피</td>\n",
       "    </tr>\n",
       "    <tr>\n",
       "      <th>32</th>\n",
       "      <td>https://blog.naver.com/skyzoa66/223042147445</td>\n",
       "      <td>3층 루프탑 뷰좋은 아산카페 : 필나인 (FILL9 , 필구)</td>\n",
       "    </tr>\n",
       "    <tr>\n",
       "      <th>33</th>\n",
       "      <td>https://blog.naver.com/tndus10515/223185786874</td>\n",
       "      <td>아산 신정호 브런치&amp;베이커리 카페 필나인 (연탄빵과 고양이 필구)</td>\n",
       "    </tr>\n",
       "    <tr>\n",
       "      <th>34</th>\n",
       "      <td>https://blog.naver.com/hshlovekr/222951952557</td>\n",
       "      <td>왠만하면 하나씩들 집어가는 제품들. 코스트코 필구목록 #2</td>\n",
       "    </tr>\n",
       "    <tr>\n",
       "      <th>35</th>\n",
       "      <td>https://publicfr.tistory.com/5194</td>\n",
       "      <td>동백꽃필무렵 33,34회 줄거리뷰... 필구-동백 오해 서울행?</td>\n",
       "    </tr>\n",
       "    <tr>\n",
       "      <th>36</th>\n",
       "      <td>https://blog.naver.com/rose7579628/222318507960</td>\n",
       "      <td>멜로우크림라떼 존맛탱! 필구커피 (filgu).</td>\n",
       "    </tr>\n",
       "    <tr>\n",
       "      <th>37</th>\n",
       "      <td>https://blog.naver.com/sy8601/222985815735</td>\n",
       "      <td>필나인(fill9 필구) - 브런치 베이커리 카페 신정호 카페...</td>\n",
       "    </tr>\n",
       "    <tr>\n",
       "      <th>38</th>\n",
       "      <td>https://blog.naver.com/sjyh86/223117058484</td>\n",
       "      <td>레고 아이디어스 신제품 2023년 1차 리뷰 71종 출품작 둘러보기</td>\n",
       "    </tr>\n",
       "    <tr>\n",
       "      <th>39</th>\n",
       "      <td>https://blog.naver.com/skdus815/222869346938</td>\n",
       "      <td>카페] 곧은, 미드 센추리 감성의 햇살 가득한 로컬커피타운</td>\n",
       "    </tr>\n",
       "    <tr>\n",
       "      <th>40</th>\n",
       "      <td>https://blog.naver.com/hms6808/222227010565</td>\n",
       "      <td>[티오비보]필구 영양제로 눈건강과 면역력 챙기세요</td>\n",
       "    </tr>\n",
       "    <tr>\n",
       "      <th>41</th>\n",
       "      <td>https://blog.naver.com/kimyong_yong/222709048894</td>\n",
       "      <td>[뚜벅 뚜벅 걸어서 응암동 한바퀴]:일상인듯 리뷰인듯 포스팅...</td>\n",
       "    </tr>\n",
       "    <tr>\n",
       "      <th>42</th>\n",
       "      <td>https://blog.naver.com/77haewon/223269615778</td>\n",
       "      <td>[새절역 고깃집] 직접 구워주시는 두툼한 초벌 가브리살...</td>\n",
       "    </tr>\n",
       "    <tr>\n",
       "      <th>43</th>\n",
       "      <td>https://blog.naver.com/gshh/223261072693</td>\n",
       "      <td>{카페}아산 카페/신정호 카페/신정호 브런치카페/신정호...</td>\n",
       "    </tr>\n",
       "    <tr>\n",
       "      <th>44</th>\n",
       "      <td>https://blog.naver.com/swkim3499/223041573672</td>\n",
       "      <td>포켓몬 몬콜레 23년 3월 신상품 10종 리뷰</td>\n",
       "    </tr>\n",
       "    <tr>\n",
       "      <th>45</th>\n",
       "      <td>https://blog.naver.com/ljyongberg/223204068185</td>\n",
       "      <td>[리뷰] 레고 60283 캠핑밴</td>\n",
       "    </tr>\n",
       "    <tr>\n",
       "      <th>46</th>\n",
       "      <td>https://blog.naver.com/upup9191/222722562054</td>\n",
       "      <td>커피311 : 구룡포오션뷰카페 분위기가 남달라</td>\n",
       "    </tr>\n",
       "    <tr>\n",
       "      <th>47</th>\n",
       "      <td>https://blog.naver.com/xxinxk/222427795683</td>\n",
       "      <td>아직 남은 5월 이야기</td>\n",
       "    </tr>\n",
       "    <tr>\n",
       "      <th>48</th>\n",
       "      <td>https://blog.naver.com/zmzm_kk/222514427495</td>\n",
       "      <td>Autumn</td>\n",
       "    </tr>\n",
       "    <tr>\n",
       "      <th>49</th>\n",
       "      <td>https://blog.naver.com/bibin0403/223104611998</td>\n",
       "      <td>신정호카페, 아산카페 // 신정호 브런치, 베이커리 카페 [필나인]</td>\n",
       "    </tr>\n",
       "    <tr>\n",
       "      <th>50</th>\n",
       "      <td>https://blog.naver.com/milli1987/221888418949</td>\n",
       "      <td>편스토랑 7대 출시메뉴!? 윌벤져스x김강훈(필구) 과연 선택은?</td>\n",
       "    </tr>\n",
       "    <tr>\n",
       "      <th>51</th>\n",
       "      <td>https://blog.naver.com/zmzm_kk/222311564042</td>\n",
       "      <td>2021 Mar.</td>\n",
       "    </tr>\n",
       "    <tr>\n",
       "      <th>52</th>\n",
       "      <td>https://blog.naver.com/j9507061/223243398935</td>\n",
       "      <td>어쩌다보니 서울에서 일주일 살기</td>\n",
       "    </tr>\n",
       "    <tr>\n",
       "      <th>53</th>\n",
       "      <td>https://blog.naver.com/realnogun/222561089386</td>\n",
       "      <td>2022 스타벅스 다이어리 프리퀀시 구매 가격</td>\n",
       "    </tr>\n",
       "    <tr>\n",
       "      <th>54</th>\n",
       "      <td>https://blog.naver.com/gkqudgh6881/222203792589</td>\n",
       "      <td>스타벅스 플레이모빌 버디세트 리뷰!</td>\n",
       "    </tr>\n",
       "    <tr>\n",
       "      <th>55</th>\n",
       "      <td>https://blog.naver.com/hyunah_zip/223105900933</td>\n",
       "      <td>봄은 언제나 찾아온다</td>\n",
       "    </tr>\n",
       "    <tr>\n",
       "      <th>56</th>\n",
       "      <td>https://blog.naver.com/cobicobin_/222353355529</td>\n",
       "      <td>4월, 봄날 벚꽃 '그리고'</td>\n",
       "    </tr>\n",
       "    <tr>\n",
       "      <th>57</th>\n",
       "      <td>https://blog.naver.com/dahye7942/223060368466</td>\n",
       "      <td>불광천 서울벚꽃 실시간 후기 및 밤데이트도 좋을듯! + 가볼만한곳</td>\n",
       "    </tr>\n",
       "    <tr>\n",
       "      <th>58</th>\n",
       "      <td>https://blog.naver.com/kgg8308/223034282923</td>\n",
       "      <td>부산 최고 빵집 옵스 마린시티점 OPS</td>\n",
       "    </tr>\n",
       "    <tr>\n",
       "      <th>59</th>\n",
       "      <td>https://blog.naver.com/qhwn0130/222734390802</td>\n",
       "      <td>포항 구룡포 카페 까멜리아 일본인 가옥거리 가볼 만한 곳</td>\n",
       "    </tr>\n",
       "  </tbody>\n",
       "</table>\n",
       "</div>"
      ],
      "text/plain": [
       "                                                 url  \\\n",
       "0         https://blog.naver.com/occkei/222938814521   \n",
       "1          https://blog.naver.com/rrim2/222622292155   \n",
       "2          https://blog.naver.com/ovo_y/223218163215   \n",
       "3     https://blog.naver.com/reason8923/222696867776   \n",
       "4       https://blog.naver.com/dh_halim/222899578998   \n",
       "5      https://blog.naver.com/son_bang_/223208139227   \n",
       "6      https://blog.naver.com/zzung__ha/223255516396   \n",
       "7    https://blog.naver.com/smileyoolim/222954142099   \n",
       "8       https://blog.naver.com/skdus815/222873029815   \n",
       "9    https://blog.naver.com/thinksobebe/223277165782   \n",
       "10       https://blog.naver.com/wlseend/223104644209   \n",
       "11       https://blog.naver.com/nn_nani/222855300157   \n",
       "12        https://blog.naver.com/pk1377/223077464573   \n",
       "13   https://blog.naver.com/honeyjarrrr/222658760707   \n",
       "14     https://blog.naver.com/jengmallo/222618052825   \n",
       "15   https://blog.naver.com/silverhye86/222938332332   \n",
       "16       https://blog.naver.com/dcu0805/222657084780   \n",
       "17      https://blog.naver.com/kgrbbb97/223138611803   \n",
       "18       https://blog.naver.com/ssshee2/223266529724   \n",
       "19   https://blog.naver.com/jihyun_note/222356016329   \n",
       "20     https://blog.naver.com/noonseol2/222606545715   \n",
       "21       https://blog.naver.com/hyujing/222316965589   \n",
       "22    https://blog.naver.com/reason8923/222322450149   \n",
       "23      https://blog.naver.com/mary3710/222403676022   \n",
       "24  https://blog.naver.com/him_e_review/222298255410   \n",
       "25      https://blog.naver.com/euunon1y/222474884108   \n",
       "26      https://blog.naver.com/rooki023/222425709965   \n",
       "27     https://blog.naver.com/wodud7478/222399847458   \n",
       "28  https://blog.naver.com/angelphs1124/222494642714   \n",
       "29  https://blog.naver.com/lovefromlike/222321413800   \n",
       "30     https://blog.naver.com/cooljakit/221419446941   \n",
       "31    https://blog.naver.com/sorrow0902/222162477388   \n",
       "32      https://blog.naver.com/skyzoa66/223042147445   \n",
       "33    https://blog.naver.com/tndus10515/223185786874   \n",
       "34     https://blog.naver.com/hshlovekr/222951952557   \n",
       "35                 https://publicfr.tistory.com/5194   \n",
       "36   https://blog.naver.com/rose7579628/222318507960   \n",
       "37        https://blog.naver.com/sy8601/222985815735   \n",
       "38        https://blog.naver.com/sjyh86/223117058484   \n",
       "39      https://blog.naver.com/skdus815/222869346938   \n",
       "40       https://blog.naver.com/hms6808/222227010565   \n",
       "41  https://blog.naver.com/kimyong_yong/222709048894   \n",
       "42      https://blog.naver.com/77haewon/223269615778   \n",
       "43          https://blog.naver.com/gshh/223261072693   \n",
       "44     https://blog.naver.com/swkim3499/223041573672   \n",
       "45    https://blog.naver.com/ljyongberg/223204068185   \n",
       "46      https://blog.naver.com/upup9191/222722562054   \n",
       "47        https://blog.naver.com/xxinxk/222427795683   \n",
       "48       https://blog.naver.com/zmzm_kk/222514427495   \n",
       "49     https://blog.naver.com/bibin0403/223104611998   \n",
       "50     https://blog.naver.com/milli1987/221888418949   \n",
       "51       https://blog.naver.com/zmzm_kk/222311564042   \n",
       "52      https://blog.naver.com/j9507061/223243398935   \n",
       "53     https://blog.naver.com/realnogun/222561089386   \n",
       "54   https://blog.naver.com/gkqudgh6881/222203792589   \n",
       "55    https://blog.naver.com/hyunah_zip/223105900933   \n",
       "56    https://blog.naver.com/cobicobin_/222353355529   \n",
       "57     https://blog.naver.com/dahye7942/223060368466   \n",
       "58       https://blog.naver.com/kgg8308/223034282923   \n",
       "59      https://blog.naver.com/qhwn0130/222734390802   \n",
       "\n",
       "                                    title  \n",
       "0               [은평구카페] 필구커피 마쉬멜로우 시그니처메뉴  \n",
       "1                    필구커피, 은평구 카페, 연신내 카페  \n",
       "2                   은평구 응암역 조용한 감성카페 필구커피  \n",
       "3             은평구 불광천 카페, 크림 라떼가 맛있는 필구커피  \n",
       "4   서울) 은평구 새절역 근처, 커피 찐찐 맛집으로 유명한 \"필구커피\"  \n",
       "5                [응암동 카페] 빈티지 감성 가득한 필구커피  \n",
       "6    은평구 응암동 감성 카페 필구커피_세절역 불광천 조용한 커피...  \n",
       "7        [은평/새절/응암] 커피도 맛있고 스콘도 맛있었던 필구커피  \n",
       "8    [새절역 카페] 필구커피, 응암동 조용한 골목에 위치한 수제...  \n",
       "9       서울 은평구 감성카페 필구커피 불광천 아기자기하고 힙한...  \n",
       "10                    은평구 인생 스콘 맛집, 필구커피♡  \n",
       "11         새절역카페 : 불광천 골목사이 귀여운 카페 '필구커피'  \n",
       "12                                   필구커피  \n",
       "13              불광천 카페 필구커피 힙쟁이 코스 애견동반가능  \n",
       "14                             불광천카페 필구커피  \n",
       "15                      은평구 응암동 카페 ‘필구커피’  \n",
       "16       [카페투어]불광천의 작은 카페_시그니처, 디자인, 필구커피  \n",
       "17      [새절 카페추천] 필구커피ㅣ멜로우 라떼, 보내기 아쉬운...  \n",
       "18     대구 달서구 월성동 양곱창 맛집｜필구양곱창, 소곱창 대창...  \n",
       "19        라떼'가 유명한 필구커피 / 불광천 카페 / 새절역 카페  \n",
       "20       새절역 [필구커피] 아담하고 힙한 동네카페 _멜로우크림라떼  \n",
       "21        가로수길 정돈, 필구커피, 그리고 나이키덩크 코스트 지름  \n",
       "22   카페 추천] 맛있는 멜로우 크림 라떼 먹을 수 있는 핫플 필구커피  \n",
       "23   [리뷰]새절역 응암동 필구커피/은평구 핫플/불광천 카페(내돈내산)  \n",
       "24       [불광천 카페] 인스타 감성의 초소형 카페 필구 커피...  \n",
       "25               필구커피 , 골목길 mood 그 자체 ...  \n",
       "26         필구커피 filgu coffee응암동 새절역 불광천카페  \n",
       "27                       [새절역,응암동카페] 필구커피  \n",
       "28         [새절역카페]필구커피에서 멜로우라떼 마시고 반해버렸다.  \n",
       "29  [응암동 카페] 불광천 산책하다 가기 좋은 카페 ‘필구 커피’...  \n",
       "30    후지 X-T3 미러리스 카메라 필구 아이템 림즈 속사케이스 리뷰  \n",
       "31     <새절역/응암동 카페> 불광천 햇살 맛집 신상 카페, 필구커피  \n",
       "32     3층 루프탑 뷰좋은 아산카페 : 필나인 (FILL9 , 필구)  \n",
       "33   아산 신정호 브런치&베이커리 카페 필나인 (연탄빵과 고양이 필구)  \n",
       "34       왠만하면 하나씩들 집어가는 제품들. 코스트코 필구목록 #2  \n",
       "35    동백꽃필무렵 33,34회 줄거리뷰... 필구-동백 오해 서울행?  \n",
       "36             멜로우크림라떼 존맛탱! 필구커피 (filgu).  \n",
       "37  필나인(fill9 필구) - 브런치 베이커리 카페 신정호 카페...  \n",
       "38  레고 아이디어스 신제품 2023년 1차 리뷰 71종 출품작 둘러보기  \n",
       "39       카페] 곧은, 미드 센추리 감성의 햇살 가득한 로컬커피타운  \n",
       "40            [티오비보]필구 영양제로 눈건강과 면역력 챙기세요  \n",
       "41   [뚜벅 뚜벅 걸어서 응암동 한바퀴]:일상인듯 리뷰인듯 포스팅...  \n",
       "42      [새절역 고깃집] 직접 구워주시는 두툼한 초벌 가브리살...  \n",
       "43      {카페}아산 카페/신정호 카페/신정호 브런치카페/신정호...  \n",
       "44              포켓몬 몬콜레 23년 3월 신상품 10종 리뷰  \n",
       "45                      [리뷰] 레고 60283 캠핑밴  \n",
       "46              커피311 : 구룡포오션뷰카페 분위기가 남달라  \n",
       "47                           아직 남은 5월 이야기  \n",
       "48                                 Autumn  \n",
       "49  신정호카페, 아산카페 // 신정호 브런치, 베이커리 카페 [필나인]  \n",
       "50    편스토랑 7대 출시메뉴!? 윌벤져스x김강훈(필구) 과연 선택은?  \n",
       "51                              2021 Mar.  \n",
       "52                      어쩌다보니 서울에서 일주일 살기  \n",
       "53              2022 스타벅스 다이어리 프리퀀시 구매 가격  \n",
       "54                    스타벅스 플레이모빌 버디세트 리뷰!  \n",
       "55                            봄은 언제나 찾아온다  \n",
       "56                        4월, 봄날 벚꽃 '그리고'  \n",
       "57   불광천 서울벚꽃 실시간 후기 및 밤데이트도 좋을듯! + 가볼만한곳  \n",
       "58                  부산 최고 빵집 옵스 마린시티점 OPS  \n",
       "59        포항 구룡포 카페 까멜리아 일본인 가옥거리 가볼 만한 곳  "
      ]
     },
     "execution_count": 11,
     "metadata": {},
     "output_type": "execute_result"
    }
   ],
   "source": [
    "df = pd.DataFrame({'url':url_list, 'title':title_list})\n",
    "df"
   ]
  },
  {
   "cell_type": "code",
   "execution_count": 12,
   "id": "9b002329-761b-4008-a534-1df40086bcce",
   "metadata": {},
   "outputs": [],
   "source": [
    "#포스트 띄우기\n",
    "i = 0\n",
    "url = df['url'][i]\n",
    "driver.get(url)"
   ]
  },
  {
   "cell_type": "code",
   "execution_count": 13,
   "id": "da9c02ed-8356-4605-964a-b30bd02b61b4",
   "metadata": {},
   "outputs": [
    {
     "name": "stdout",
     "output_type": "stream",
     "text": [
      "mainFrame\n"
     ]
    }
   ],
   "source": [
    "iframes = driver.find_elements(By.CSS_SELECTOR, 'iframe')\n",
    "for iframe in iframes:\n",
    "    print(iframe.get_attribute('name'))\n",
    "\n",
    "driver.switch_to.frame('mainFrame')\n",
    "# try:\n",
    "#     driver.switch_to.frame('mainFrame')\n",
    "#     target_info = {} #개별 블로그 내용을 담을 딕셔너리 생성\n",
    "\n",
    "#     #제목 크롤링\n",
    "#     overlays = \".se-module.se-module-text.se-title-text\"\n",
    "#     tit = driver.find_element(By.CSS_SELECTOR, overlays)\n",
    "#     title = tit.text\n",
    "\n",
    "\n",
    "# #제목 크롤링\n",
    "# overlays = \".se-module.se-module-text.se-title-text\"\n",
    "# tit = driver.find_element(By.CSS_SELECTOR, overlays)\n",
    "# title = tit.text\n",
    "# title\n"
   ]
  },
  {
   "cell_type": "code",
   "execution_count": 14,
   "id": "eb3f10ef-6b6d-4d03-84c9-99ca573df452",
   "metadata": {},
   "outputs": [
    {
     "data": {
      "text/plain": [
       "'[은평구카페] 필구커피 마쉬멜로우 시그니처메뉴'"
      ]
     },
     "execution_count": 14,
     "metadata": {},
     "output_type": "execute_result"
    }
   ],
   "source": [
    "overlays = \".se-module.se-module-text.se-title-text\"\n",
    "tit = driver.find_element(By.CSS_SELECTOR, overlays)\n",
    "title = tit.text\n",
    "title"
   ]
  },
  {
   "cell_type": "code",
   "execution_count": 17,
   "id": "8df1d456-923a-4eaf-9d90-5dbbcdd3fc48",
   "metadata": {},
   "outputs": [
    {
     "data": {
      "text/plain": [
       "\"필구커피 서울특별시 은평구 불광천길 442-29 1층 예약 안녕하세요 인프피 감성녀예요:) 필구커피 인스타에서 공지한대로 겨울 시즌메뉴로 11월 4일부터 선보이는 멜로우 라떼를 맛볼 겸, 은평구 필구커피에 다녀왔어요 필구커피 오픈시간 참고하세요 ~~ @filgucoffee 은평구에서 유명한 로컬 커피숍 필구커피는 주택을 개조하여 아기자기한 갬성의 카페예요 새절역에서 내리니 불광천 길이 시원스럽게 이어져 있구요^^ 평화롭게 산책하는 주민들이 많았어요 필구커피는 새절역에서 내려, 불광천 메인 길에서 조금 벗어나 주택가 쪽으로 5분정도 걸어 들어가면 나와요! 제가 도착한 시간은 오후 4시 경이었는데요~ 빵이없어요 ㅋㅋㅋ 텅 필구커피는 스콘맛집이라던데 안타깝게도 다음을 기약해봅니다 다음 방문 때에는 스콘 꼭 먹을꺼라구욧!! 필구커피 리뷰에서 가장 많이 보이는 메뉴인 멜로우 크림라떼도 안먹어봤는데, 하루에 두 잔을 마실 수는 없으니 이 또한 다음을 기약해봅니다 😓 💧 필구커피의 시그니처 메뉴인 멜로우 크림라떼는 벚꽃 🌸 시즌에는 핑크 마시멜로우가 토핑된다고 해요~! 로컬 커피숍으로서 지역주민들과의 소통을 중요하게 생각한다는 필구커피의 철학 ☕️ 지역민들 단골이 많은건지 테이크아웃 기다리는 사람들도 있더라구요 자 ~ 그럼 주문을 해볼까요 ? 저는 겨울 시즌메뉴 멜로우라떼와 레몬 마들렌을 주문했어요 ! 이렇게 귀여운 스티커 스탬프도 찍어주구요~ 유당불내증을 배려해서 소이라떼가 가능케 한 카페가 요즘 부쩍 눈에 띄는데요 ~ 필구커피도 두유로 비용 추가 없이 변경이 가능했어요! 밀크티는 귀여운 캐릭터가 그려진 병에 담아 주더라구요 !! 카페 내부는 최근 확장 공사를 해서 넓어졌다고 하는데 ~ 오늘이 첫 방문이어서 몰랐어요 😂 확장 공사를 했다고 하지만 아담한 느낌의 카페로 느껴졌답니다 !! LET'S GO EAT!! 필구커피 주문한 음료는 진동벨 없이 바리스타님이 직접 자리로 가져다 줘요! 필구커피의 메인 캐릭터 주황새와 함께 먹으러 가볼까요? 멜로우라떼 (5,000) 레몬 스콘(2,500) 마쉬멜로우 한개가 크게 똭! 올라가있어요 하지만 저는 마쉬멜로우를 잘~ 먹지 않거든요. 살만 찌고, 지구를 몇 바퀴돌아도 안 빠진다는데 😓 맛있는지 잘 모르겠어요 !! 하지만 커피맛은 생각보다 달지 않고 좋았어요 ! 디카페인 아메리카노도 맛있다고 하더라구요 ☕️ 막판에 이렇게나 남아버린 마시멜로우가 아깝긴했지만 덕분에 비주얼은 좋았으니 만족 매장 안쪽에는 좌석이 꽤 있었구요 ! 아담하고 포근한 느낌의 아기자기한 갬성으로 꾸며져 있었어요 🤩 힙한 느낌의 오렌지버드 캐릭터 참 잘 만든듯 ! 화장실은 내부 안쪽에 남녀공용 한칸 있습니다 필구커피를 나와서 불광천 길을 걸어보았어요 응암역 쪽으로 걸어가면서 볓빛거리 조형물을 감상했네요 💕 오리들에게 두부를 주는 아주머니도 있길래 한참을 구경했네요 ~ 오리들이 두부를 잘먹는다는건 처음 알았어요..뭐지? 😓 💧 아무튼 귀여웠구요 🦆 세계적으로 유명한 이탈리아 출신의 인더스트리얼 디자이너인 스테파노 지오반노니의 토끼들이 곳곳에 있었어요 아기자기한 동화 감성을 느낄 수 있었던 불광천 산책이었답니다 🐰 🐇 이상! 은평구 로컬 커피 맛집!! 필구커피 포스팅 마칠께요 ~~ 50m © NAVER Corp. 필구커피 서울특별시 은평구 불광천길 442-29 1층 예약\""
      ]
     },
     "execution_count": 17,
     "metadata": {},
     "output_type": "execute_result"
    }
   ],
   "source": [
    "overlays = \".se-main-container\"\n",
    "content= driver.find_element(By.CSS_SELECTOR, overlays)\n",
    "cont = content.text\n",
    "cont = cont.replace('\\n', ' ')\n",
    "cont"
   ]
  },
  {
   "cell_type": "code",
   "execution_count": 18,
   "id": "12487fe5-56ff-4a02-a1ba-01f13a64d6ee",
   "metadata": {},
   "outputs": [
    {
     "data": {
      "text/plain": [
       "{'title': '[은평구카페] 필구커피 마쉬멜로우 시그니처메뉴',\n",
       " 'content': \"필구커피 서울특별시 은평구 불광천길 442-29 1층 예약 안녕하세요 인프피 감성녀예요:) 필구커피 인스타에서 공지한대로 겨울 시즌메뉴로 11월 4일부터 선보이는 멜로우 라떼를 맛볼 겸, 은평구 필구커피에 다녀왔어요 필구커피 오픈시간 참고하세요 ~~ @filgucoffee 은평구에서 유명한 로컬 커피숍 필구커피는 주택을 개조하여 아기자기한 갬성의 카페예요 새절역에서 내리니 불광천 길이 시원스럽게 이어져 있구요^^ 평화롭게 산책하는 주민들이 많았어요 필구커피는 새절역에서 내려, 불광천 메인 길에서 조금 벗어나 주택가 쪽으로 5분정도 걸어 들어가면 나와요! 제가 도착한 시간은 오후 4시 경이었는데요~ 빵이없어요 ㅋㅋㅋ 텅 필구커피는 스콘맛집이라던데 안타깝게도 다음을 기약해봅니다 다음 방문 때에는 스콘 꼭 먹을꺼라구욧!! 필구커피 리뷰에서 가장 많이 보이는 메뉴인 멜로우 크림라떼도 안먹어봤는데, 하루에 두 잔을 마실 수는 없으니 이 또한 다음을 기약해봅니다 😓 💧 필구커피의 시그니처 메뉴인 멜로우 크림라떼는 벚꽃 🌸 시즌에는 핑크 마시멜로우가 토핑된다고 해요~! 로컬 커피숍으로서 지역주민들과의 소통을 중요하게 생각한다는 필구커피의 철학 ☕️ 지역민들 단골이 많은건지 테이크아웃 기다리는 사람들도 있더라구요 자 ~ 그럼 주문을 해볼까요 ? 저는 겨울 시즌메뉴 멜로우라떼와 레몬 마들렌을 주문했어요 ! 이렇게 귀여운 스티커 스탬프도 찍어주구요~ 유당불내증을 배려해서 소이라떼가 가능케 한 카페가 요즘 부쩍 눈에 띄는데요 ~ 필구커피도 두유로 비용 추가 없이 변경이 가능했어요! 밀크티는 귀여운 캐릭터가 그려진 병에 담아 주더라구요 !! 카페 내부는 최근 확장 공사를 해서 넓어졌다고 하는데 ~ 오늘이 첫 방문이어서 몰랐어요 😂 확장 공사를 했다고 하지만 아담한 느낌의 카페로 느껴졌답니다 !! LET'S GO EAT!! 필구커피 주문한 음료는 진동벨 없이 바리스타님이 직접 자리로 가져다 줘요! 필구커피의 메인 캐릭터 주황새와 함께 먹으러 가볼까요? 멜로우라떼 (5,000) 레몬 스콘(2,500) 마쉬멜로우 한개가 크게 똭! 올라가있어요 하지만 저는 마쉬멜로우를 잘~ 먹지 않거든요. 살만 찌고, 지구를 몇 바퀴돌아도 안 빠진다는데 😓 맛있는지 잘 모르겠어요 !! 하지만 커피맛은 생각보다 달지 않고 좋았어요 ! 디카페인 아메리카노도 맛있다고 하더라구요 ☕️ 막판에 이렇게나 남아버린 마시멜로우가 아깝긴했지만 덕분에 비주얼은 좋았으니 만족 매장 안쪽에는 좌석이 꽤 있었구요 ! 아담하고 포근한 느낌의 아기자기한 갬성으로 꾸며져 있었어요 🤩 힙한 느낌의 오렌지버드 캐릭터 참 잘 만든듯 ! 화장실은 내부 안쪽에 남녀공용 한칸 있습니다 필구커피를 나와서 불광천 길을 걸어보았어요 응암역 쪽으로 걸어가면서 볓빛거리 조형물을 감상했네요 💕 오리들에게 두부를 주는 아주머니도 있길래 한참을 구경했네요 ~ 오리들이 두부를 잘먹는다는건 처음 알았어요..뭐지? 😓 💧 아무튼 귀여웠구요 🦆 세계적으로 유명한 이탈리아 출신의 인더스트리얼 디자이너인 스테파노 지오반노니의 토끼들이 곳곳에 있었어요 아기자기한 동화 감성을 느낄 수 있었던 불광천 산책이었답니다 🐰 🐇 이상! 은평구 로컬 커피 맛집!! 필구커피 포스팅 마칠께요 ~~ 50m © NAVER Corp. 필구커피 서울특별시 은평구 불광천길 442-29 1층 예약\"}"
      ]
     },
     "execution_count": 18,
     "metadata": {},
     "output_type": "execute_result"
    }
   ],
   "source": [
    "dict = {}\n",
    "target_info = {}\n",
    "\n",
    "target_info['title'] = title\n",
    "target_info['content'] = cont\n",
    "\n",
    "dict[0]=target_info\n",
    "dict[0]"
   ]
  },
  {
   "cell_type": "code",
   "execution_count": 19,
   "id": "cadb9ab4-72bb-4981-8bcd-80fb1edde083",
   "metadata": {},
   "outputs": [
    {
     "data": {
      "text/html": [
       "<div>\n",
       "<style scoped>\n",
       "    .dataframe tbody tr th:only-of-type {\n",
       "        vertical-align: middle;\n",
       "    }\n",
       "\n",
       "    .dataframe tbody tr th {\n",
       "        vertical-align: top;\n",
       "    }\n",
       "\n",
       "    .dataframe thead th {\n",
       "        text-align: right;\n",
       "    }\n",
       "</style>\n",
       "<table border=\"1\" class=\"dataframe\">\n",
       "  <thead>\n",
       "    <tr style=\"text-align: right;\">\n",
       "      <th></th>\n",
       "      <th>title</th>\n",
       "      <th>content</th>\n",
       "    </tr>\n",
       "  </thead>\n",
       "  <tbody>\n",
       "    <tr>\n",
       "      <th>0</th>\n",
       "      <td>[은평구카페] 필구커피 마쉬멜로우 시그니처메뉴</td>\n",
       "      <td>필구커피 서울특별시 은평구 불광천길 442-29 1층 예약 안녕하세요 인프피 감성녀...</td>\n",
       "    </tr>\n",
       "  </tbody>\n",
       "</table>\n",
       "</div>"
      ],
      "text/plain": [
       "                       title  \\\n",
       "0  [은평구카페] 필구커피 마쉬멜로우 시그니처메뉴   \n",
       "\n",
       "                                             content  \n",
       "0  필구커피 서울특별시 은평구 불광천길 442-29 1층 예약 안녕하세요 인프피 감성녀...  "
      ]
     },
     "execution_count": 19,
     "metadata": {},
     "output_type": "execute_result"
    }
   ],
   "source": [
    "result_df = pd.DataFrame.from_dict(dict, orient='index')\n",
    "result_df"
   ]
  },
  {
   "cell_type": "code",
   "execution_count": 20,
   "id": "19a42c73-e7f9-41f3-a25c-f11dd6521dd0",
   "metadata": {},
   "outputs": [
    {
     "data": {
      "application/vnd.jupyter.widget-view+json": {
       "model_id": "a558aa0b9e0d47f5bb547df8132e2742",
       "version_major": 2,
       "version_minor": 0
      },
      "text/plain": [
       "  0%|          | 0/60 [00:00<?, ?it/s]"
      ]
     },
     "metadata": {},
     "output_type": "display_data"
    },
    {
     "name": "stderr",
     "output_type": "stream",
     "text": [
      "WARNING:root:Can not find chromedriver for currently installed chrome version.\n"
     ]
    },
    {
     "name": "stdout",
     "output_type": "stream",
     "text": [
      "0 [은평구카페] 필구커피 마쉬멜로우 시그니처메뉴\n"
     ]
    },
    {
     "name": "stderr",
     "output_type": "stream",
     "text": [
      "WARNING:root:Can not find chromedriver for currently installed chrome version.\n"
     ]
    },
    {
     "name": "stdout",
     "output_type": "stream",
     "text": [
      "1 필구커피, 은평구 카페, 연신내 카페\n"
     ]
    },
    {
     "name": "stderr",
     "output_type": "stream",
     "text": [
      "WARNING:root:Can not find chromedriver for currently installed chrome version.\n"
     ]
    },
    {
     "name": "stdout",
     "output_type": "stream",
     "text": [
      "2 은평구 응암역 조용한 감성카페 필구커피\n"
     ]
    },
    {
     "name": "stderr",
     "output_type": "stream",
     "text": [
      "WARNING:root:Can not find chromedriver for currently installed chrome version.\n"
     ]
    },
    {
     "name": "stdout",
     "output_type": "stream",
     "text": [
      "3 은평구 불광천 카페, 크림 라떼가 맛있는 필구커피\n"
     ]
    },
    {
     "name": "stderr",
     "output_type": "stream",
     "text": [
      "WARNING:root:Can not find chromedriver for currently installed chrome version.\n"
     ]
    },
    {
     "name": "stdout",
     "output_type": "stream",
     "text": [
      "4 서울) 은평구 새절역 근처, 커피 찐찐 맛집으로 유명한 \"필구커피\"\n"
     ]
    },
    {
     "name": "stderr",
     "output_type": "stream",
     "text": [
      "WARNING:root:Can not find chromedriver for currently installed chrome version.\n"
     ]
    },
    {
     "name": "stdout",
     "output_type": "stream",
     "text": [
      "5 [응암동 카페] 빈티지 감성 가득한 필구커피\n"
     ]
    },
    {
     "name": "stderr",
     "output_type": "stream",
     "text": [
      "WARNING:root:Can not find chromedriver for currently installed chrome version.\n"
     ]
    },
    {
     "name": "stdout",
     "output_type": "stream",
     "text": [
      "6 은평구 응암동 감성 카페 필구커피_세절역 불광천 조용한 커피 맛집, 아기자기한 애견동반 가능 한 곳\n"
     ]
    },
    {
     "name": "stderr",
     "output_type": "stream",
     "text": [
      "WARNING:root:Can not find chromedriver for currently installed chrome version.\n"
     ]
    },
    {
     "name": "stdout",
     "output_type": "stream",
     "text": [
      "7 [은평/새절/응암] 커피도 맛있고 스콘도 맛있었던 필구커피\n"
     ]
    },
    {
     "name": "stderr",
     "output_type": "stream",
     "text": [
      "WARNING:root:Can not find chromedriver for currently installed chrome version.\n"
     ]
    },
    {
     "name": "stdout",
     "output_type": "stream",
     "text": [
      "8 [새절역 카페] 필구커피, 응암동 조용한 골목에 위치한 수제 마시멜로 라떼가 맛있는 로컬커피타운\n"
     ]
    },
    {
     "name": "stderr",
     "output_type": "stream",
     "text": [
      "WARNING:root:Can not find chromedriver for currently installed chrome version.\n"
     ]
    },
    {
     "name": "stdout",
     "output_type": "stream",
     "text": [
      "9 서울 은평구 감성카페 필구커피 불광천 아기자기하고 힙한 동네카페\n"
     ]
    },
    {
     "name": "stderr",
     "output_type": "stream",
     "text": [
      "WARNING:root:Can not find chromedriver for currently installed chrome version.\n"
     ]
    },
    {
     "name": "stdout",
     "output_type": "stream",
     "text": [
      "10 은평구 인생 스콘 맛집, 필구커피♡\n"
     ]
    },
    {
     "name": "stderr",
     "output_type": "stream",
     "text": [
      "WARNING:root:Can not find chromedriver for currently installed chrome version.\n"
     ]
    },
    {
     "name": "stdout",
     "output_type": "stream",
     "text": [
      "11 새절역카페 : 불광천 골목사이 귀여운 카페 '필구커피'\n"
     ]
    },
    {
     "name": "stderr",
     "output_type": "stream",
     "text": [
      "WARNING:root:Can not find chromedriver for currently installed chrome version.\n"
     ]
    },
    {
     "name": "stdout",
     "output_type": "stream",
     "text": [
      "12 필구커피\n"
     ]
    },
    {
     "name": "stderr",
     "output_type": "stream",
     "text": [
      "WARNING:root:Can not find chromedriver for currently installed chrome version.\n"
     ]
    },
    {
     "name": "stdout",
     "output_type": "stream",
     "text": [
      "13 불광천 카페 필구커피 힙쟁이 코스 애견동반가능\n"
     ]
    },
    {
     "name": "stderr",
     "output_type": "stream",
     "text": [
      "WARNING:root:Can not find chromedriver for currently installed chrome version.\n"
     ]
    },
    {
     "name": "stdout",
     "output_type": "stream",
     "text": [
      "14 불광천카페 필구커피\n"
     ]
    },
    {
     "name": "stderr",
     "output_type": "stream",
     "text": [
      "WARNING:root:Can not find chromedriver for currently installed chrome version.\n"
     ]
    },
    {
     "name": "stdout",
     "output_type": "stream",
     "text": [
      "15 은평구 응암동 카페 ‘필구커피’\n"
     ]
    },
    {
     "name": "stderr",
     "output_type": "stream",
     "text": [
      "WARNING:root:Can not find chromedriver for currently installed chrome version.\n"
     ]
    },
    {
     "name": "stdout",
     "output_type": "stream",
     "text": [
      "16 [카페투어]불광천의 작은 카페_시그니처, 디자인, 필구커피\n"
     ]
    },
    {
     "name": "stderr",
     "output_type": "stream",
     "text": [
      "WARNING:root:Can not find chromedriver for currently installed chrome version.\n"
     ]
    },
    {
     "name": "stdout",
     "output_type": "stream",
     "text": [
      "17 [새절 카페추천] 필구커피ㅣ멜로우 라떼, 보내기 아쉬운 주말저녁 보내기\n"
     ]
    },
    {
     "name": "stderr",
     "output_type": "stream",
     "text": [
      "WARNING:root:Can not find chromedriver for currently installed chrome version.\n"
     ]
    },
    {
     "name": "stdout",
     "output_type": "stream",
     "text": [
      "18 대구 달서구 월성동 양곱창 맛집｜필구양곱창, 소곱창 대창 그리고 전골까지 술도둑.\n"
     ]
    },
    {
     "name": "stderr",
     "output_type": "stream",
     "text": [
      "WARNING:root:Can not find chromedriver for currently installed chrome version.\n"
     ]
    },
    {
     "name": "stdout",
     "output_type": "stream",
     "text": [
      "19 [서울 은평] 시그니처 메뉴 '마시멜로우 라떼'가 유명한 필구커피 / 불광천 카페 / 새절역 카페\n"
     ]
    },
    {
     "name": "stderr",
     "output_type": "stream",
     "text": [
      "WARNING:root:Can not find chromedriver for currently installed chrome version.\n"
     ]
    },
    {
     "ename": "KeyboardInterrupt",
     "evalue": "",
     "output_type": "error",
     "traceback": [
      "\u001b[1;31m---------------------------------------------------------------------------\u001b[0m",
      "\u001b[1;31mKeyboardInterrupt\u001b[0m                         Traceback (most recent call last)",
      "Cell \u001b[1;32mIn[20], line 9\u001b[0m\n\u001b[0;32m      7\u001b[0m url \u001b[38;5;241m=\u001b[39m df[\u001b[38;5;124m'\u001b[39m\u001b[38;5;124murl\u001b[39m\u001b[38;5;124m'\u001b[39m][i]\n\u001b[0;32m      8\u001b[0m chrome_path \u001b[38;5;241m=\u001b[39m chromedriver_autoinstaller\u001b[38;5;241m.\u001b[39minstall()\n\u001b[1;32m----> 9\u001b[0m driver \u001b[38;5;241m=\u001b[39m \u001b[43mwebdriver\u001b[49m\u001b[38;5;241;43m.\u001b[39;49m\u001b[43mChrome\u001b[49m\u001b[43m(\u001b[49m\u001b[43mchrome_path\u001b[49m\u001b[43m)\u001b[49m\n\u001b[0;32m     11\u001b[0m driver\u001b[38;5;241m.\u001b[39mget(url)\n\u001b[0;32m     13\u001b[0m \u001b[38;5;28;01mtry\u001b[39;00m:\n",
      "File \u001b[1;32mC:\\Python311\\Lib\\site-packages\\selenium\\webdriver\\chrome\\webdriver.py:45\u001b[0m, in \u001b[0;36mWebDriver.__init__\u001b[1;34m(self, options, service, keep_alive)\u001b[0m\n\u001b[0;32m     42\u001b[0m service \u001b[38;5;241m=\u001b[39m service \u001b[38;5;28;01mif\u001b[39;00m service \u001b[38;5;28;01melse\u001b[39;00m Service()\n\u001b[0;32m     43\u001b[0m options \u001b[38;5;241m=\u001b[39m options \u001b[38;5;28;01mif\u001b[39;00m options \u001b[38;5;28;01melse\u001b[39;00m Options()\n\u001b[1;32m---> 45\u001b[0m \u001b[38;5;28;43msuper\u001b[39;49m\u001b[43m(\u001b[49m\u001b[43m)\u001b[49m\u001b[38;5;241;43m.\u001b[39;49m\u001b[38;5;21;43m__init__\u001b[39;49m\u001b[43m(\u001b[49m\n\u001b[0;32m     46\u001b[0m \u001b[43m    \u001b[49m\u001b[43mDesiredCapabilities\u001b[49m\u001b[38;5;241;43m.\u001b[39;49m\u001b[43mCHROME\u001b[49m\u001b[43m[\u001b[49m\u001b[38;5;124;43m\"\u001b[39;49m\u001b[38;5;124;43mbrowserName\u001b[39;49m\u001b[38;5;124;43m\"\u001b[39;49m\u001b[43m]\u001b[49m\u001b[43m,\u001b[49m\n\u001b[0;32m     47\u001b[0m \u001b[43m    \u001b[49m\u001b[38;5;124;43m\"\u001b[39;49m\u001b[38;5;124;43mgoog\u001b[39;49m\u001b[38;5;124;43m\"\u001b[39;49m\u001b[43m,\u001b[49m\n\u001b[0;32m     48\u001b[0m \u001b[43m    \u001b[49m\u001b[43moptions\u001b[49m\u001b[43m,\u001b[49m\n\u001b[0;32m     49\u001b[0m \u001b[43m    \u001b[49m\u001b[43mservice\u001b[49m\u001b[43m,\u001b[49m\n\u001b[0;32m     50\u001b[0m \u001b[43m    \u001b[49m\u001b[43mkeep_alive\u001b[49m\u001b[43m,\u001b[49m\n\u001b[0;32m     51\u001b[0m \u001b[43m\u001b[49m\u001b[43m)\u001b[49m\n",
      "File \u001b[1;32mC:\\Python311\\Lib\\site-packages\\selenium\\webdriver\\chromium\\webdriver.py:53\u001b[0m, in \u001b[0;36mChromiumDriver.__init__\u001b[1;34m(self, browser_name, vendor_prefix, options, service, keep_alive)\u001b[0m\n\u001b[0;32m     49\u001b[0m \u001b[38;5;28mself\u001b[39m\u001b[38;5;241m.\u001b[39mservice \u001b[38;5;241m=\u001b[39m service\n\u001b[0;32m     51\u001b[0m \u001b[38;5;28mself\u001b[39m\u001b[38;5;241m.\u001b[39mservice\u001b[38;5;241m.\u001b[39mpath \u001b[38;5;241m=\u001b[39m DriverFinder\u001b[38;5;241m.\u001b[39mget_path(\u001b[38;5;28mself\u001b[39m\u001b[38;5;241m.\u001b[39mservice, options)\n\u001b[1;32m---> 53\u001b[0m \u001b[38;5;28;43mself\u001b[39;49m\u001b[38;5;241;43m.\u001b[39;49m\u001b[43mservice\u001b[49m\u001b[38;5;241;43m.\u001b[39;49m\u001b[43mstart\u001b[49m\u001b[43m(\u001b[49m\u001b[43m)\u001b[49m\n\u001b[0;32m     55\u001b[0m \u001b[38;5;28;01mtry\u001b[39;00m:\n\u001b[0;32m     56\u001b[0m     \u001b[38;5;28msuper\u001b[39m()\u001b[38;5;241m.\u001b[39m\u001b[38;5;21m__init__\u001b[39m(\n\u001b[0;32m     57\u001b[0m         command_executor\u001b[38;5;241m=\u001b[39mChromiumRemoteConnection(\n\u001b[0;32m     58\u001b[0m             remote_server_addr\u001b[38;5;241m=\u001b[39m\u001b[38;5;28mself\u001b[39m\u001b[38;5;241m.\u001b[39mservice\u001b[38;5;241m.\u001b[39mservice_url,\n\u001b[1;32m   (...)\u001b[0m\n\u001b[0;32m     64\u001b[0m         options\u001b[38;5;241m=\u001b[39moptions,\n\u001b[0;32m     65\u001b[0m     )\n",
      "File \u001b[1;32mC:\\Python311\\Lib\\site-packages\\selenium\\webdriver\\common\\service.py:103\u001b[0m, in \u001b[0;36mService.start\u001b[1;34m(self)\u001b[0m\n\u001b[0;32m    101\u001b[0m \u001b[38;5;28;01mwhile\u001b[39;00m \u001b[38;5;28;01mTrue\u001b[39;00m:\n\u001b[0;32m    102\u001b[0m     \u001b[38;5;28mself\u001b[39m\u001b[38;5;241m.\u001b[39massert_process_still_running()\n\u001b[1;32m--> 103\u001b[0m     \u001b[38;5;28;01mif\u001b[39;00m \u001b[38;5;28;43mself\u001b[39;49m\u001b[38;5;241;43m.\u001b[39;49m\u001b[43mis_connectable\u001b[49m\u001b[43m(\u001b[49m\u001b[43m)\u001b[49m:\n\u001b[0;32m    104\u001b[0m         \u001b[38;5;28;01mbreak\u001b[39;00m\n\u001b[0;32m    106\u001b[0m     count \u001b[38;5;241m+\u001b[39m\u001b[38;5;241m=\u001b[39m \u001b[38;5;241m1\u001b[39m\n",
      "File \u001b[1;32mC:\\Python311\\Lib\\site-packages\\selenium\\webdriver\\common\\service.py:120\u001b[0m, in \u001b[0;36mService.is_connectable\u001b[1;34m(self)\u001b[0m\n\u001b[0;32m    117\u001b[0m \u001b[38;5;28;01mdef\u001b[39;00m \u001b[38;5;21mis_connectable\u001b[39m(\u001b[38;5;28mself\u001b[39m) \u001b[38;5;241m-\u001b[39m\u001b[38;5;241m>\u001b[39m \u001b[38;5;28mbool\u001b[39m:\n\u001b[0;32m    118\u001b[0m \u001b[38;5;250m    \u001b[39m\u001b[38;5;124;03m\"\"\"Establishes a socket connection to determine if the service running\u001b[39;00m\n\u001b[0;32m    119\u001b[0m \u001b[38;5;124;03m    on the port is accessible.\"\"\"\u001b[39;00m\n\u001b[1;32m--> 120\u001b[0m     \u001b[38;5;28;01mreturn\u001b[39;00m \u001b[43mutils\u001b[49m\u001b[38;5;241;43m.\u001b[39;49m\u001b[43mis_connectable\u001b[49m\u001b[43m(\u001b[49m\u001b[38;5;28;43mself\u001b[39;49m\u001b[38;5;241;43m.\u001b[39;49m\u001b[43mport\u001b[49m\u001b[43m)\u001b[49m\n",
      "File \u001b[1;32mC:\\Python311\\Lib\\site-packages\\selenium\\webdriver\\common\\utils.py:101\u001b[0m, in \u001b[0;36mis_connectable\u001b[1;34m(port, host)\u001b[0m\n\u001b[0;32m     99\u001b[0m socket_ \u001b[38;5;241m=\u001b[39m \u001b[38;5;28;01mNone\u001b[39;00m\n\u001b[0;32m    100\u001b[0m \u001b[38;5;28;01mtry\u001b[39;00m:\n\u001b[1;32m--> 101\u001b[0m     socket_ \u001b[38;5;241m=\u001b[39m \u001b[43msocket\u001b[49m\u001b[38;5;241;43m.\u001b[39;49m\u001b[43mcreate_connection\u001b[49m\u001b[43m(\u001b[49m\u001b[43m(\u001b[49m\u001b[43mhost\u001b[49m\u001b[43m,\u001b[49m\u001b[43m \u001b[49m\u001b[43mport\u001b[49m\u001b[43m)\u001b[49m\u001b[43m,\u001b[49m\u001b[43m \u001b[49m\u001b[38;5;241;43m1\u001b[39;49m\u001b[43m)\u001b[49m\n\u001b[0;32m    102\u001b[0m     result \u001b[38;5;241m=\u001b[39m \u001b[38;5;28;01mTrue\u001b[39;00m\n\u001b[0;32m    103\u001b[0m \u001b[38;5;28;01mexcept\u001b[39;00m _is_connectable_exceptions:\n",
      "File \u001b[1;32mC:\\Python311\\Lib\\socket.py:836\u001b[0m, in \u001b[0;36mcreate_connection\u001b[1;34m(address, timeout, source_address, all_errors)\u001b[0m\n\u001b[0;32m    834\u001b[0m \u001b[38;5;28;01mif\u001b[39;00m source_address:\n\u001b[0;32m    835\u001b[0m     sock\u001b[38;5;241m.\u001b[39mbind(source_address)\n\u001b[1;32m--> 836\u001b[0m sock\u001b[38;5;241m.\u001b[39mconnect(sa)\n\u001b[0;32m    837\u001b[0m \u001b[38;5;66;03m# Break explicitly a reference cycle\u001b[39;00m\n\u001b[0;32m    838\u001b[0m exceptions\u001b[38;5;241m.\u001b[39mclear()\n",
      "\u001b[1;31mKeyboardInterrupt\u001b[0m: "
     ]
    }
   ],
   "source": [
    "dict = {}\n",
    "\n",
    "number = len(df)\n",
    "\n",
    "for i in tqdm_notebook(range(0, number)):\n",
    "    #글 띄우기\n",
    "    url = df['url'][i]\n",
    "    chrome_path = chromedriver_autoinstaller.install()\n",
    "    driver = webdriver.Chrome(chrome_path)\n",
    "    \n",
    "    driver.get(url)\n",
    "\n",
    "    try:\n",
    "        driver.switch_to.frame('mainFrame')\n",
    "\n",
    "        target_info = {}\n",
    "\n",
    "        #제목 크롤링\n",
    "        overlays = \".se-module.se-module-text.se-title-text\"\n",
    "        tit = driver.find_element(By.CSS_SELECTOR, overlays)\n",
    "        title = tit.text\n",
    "\n",
    "        #내용 크롤링\n",
    "        overlays = \".se-main-container\"\n",
    "        content= driver.find_element(By.CSS_SELECTOR, overlays)\n",
    "        cont = content.text\n",
    "        cont = cont.replace('\\n', ' ')\n",
    "\n",
    "        #딕셔너리에 담음\n",
    "        target_info['title'] = title\n",
    "        target_info['content'] = cont\n",
    "\n",
    "        #전체 딕셔너리에 담음\n",
    "        dict[i]=target_info\n",
    "        time.sleep(1)\n",
    "\n",
    "        print(i, title)\n",
    "\n",
    "        driver.close()\n",
    "\n",
    "    except:\n",
    "        driver.close()\n",
    "        continue\n",
    "    if i == len(df):\n",
    "        result_df = pd.DataFrame.from_dict(dict, orient='index')\n",
    "\n",
    "print('수집글갯수', len(dict))\n",
    "print(dict)"
   ]
  },
  {
   "cell_type": "code",
   "execution_count": 21,
   "id": "abffc6e7-1bdb-4451-962e-51b3fdd5ce6e",
   "metadata": {},
   "outputs": [
    {
     "ename": "ModuleNotFoundError",
     "evalue": "No module named 'openpyxl'",
     "output_type": "error",
     "traceback": [
      "\u001b[1;31m---------------------------------------------------------------------------\u001b[0m",
      "\u001b[1;31mModuleNotFoundError\u001b[0m                       Traceback (most recent call last)",
      "Cell \u001b[1;32mIn[21], line 2\u001b[0m\n\u001b[0;32m      1\u001b[0m result \u001b[38;5;241m=\u001b[39m pd\u001b[38;5;241m.\u001b[39mDataFrame\u001b[38;5;241m.\u001b[39mfrom_dict(\u001b[38;5;28mdict\u001b[39m)\n\u001b[1;32m----> 2\u001b[0m \u001b[43mresult\u001b[49m\u001b[38;5;241;43m.\u001b[39;49m\u001b[43mto_excel\u001b[49m\u001b[43m(\u001b[49m\u001b[43mquery_txt\u001b[49m\u001b[38;5;241;43m+\u001b[39;49m\u001b[38;5;124;43m\"\u001b[39;49m\u001b[38;5;124;43m_blog_content.xlsx\u001b[39;49m\u001b[38;5;124;43m\"\u001b[39;49m\u001b[43m,\u001b[49m\u001b[43m \u001b[49m\u001b[43mindex\u001b[49m\u001b[38;5;241;43m=\u001b[39;49m\u001b[38;5;28;43;01mFalse\u001b[39;49;00m\u001b[43m)\u001b[49m\n\u001b[0;32m      3\u001b[0m time\u001b[38;5;241m.\u001b[39msleep(\u001b[38;5;241m3\u001b[39m)\n",
      "File \u001b[1;32mC:\\Python311\\Lib\\site-packages\\pandas\\core\\generic.py:2345\u001b[0m, in \u001b[0;36mNDFrame.to_excel\u001b[1;34m(self, excel_writer, sheet_name, na_rep, float_format, columns, header, index, index_label, startrow, startcol, engine, merge_cells, inf_rep, freeze_panes, storage_options, engine_kwargs)\u001b[0m\n\u001b[0;32m   2332\u001b[0m \u001b[38;5;28;01mfrom\u001b[39;00m \u001b[38;5;21;01mpandas\u001b[39;00m\u001b[38;5;21;01m.\u001b[39;00m\u001b[38;5;21;01mio\u001b[39;00m\u001b[38;5;21;01m.\u001b[39;00m\u001b[38;5;21;01mformats\u001b[39;00m\u001b[38;5;21;01m.\u001b[39;00m\u001b[38;5;21;01mexcel\u001b[39;00m \u001b[38;5;28;01mimport\u001b[39;00m ExcelFormatter\n\u001b[0;32m   2334\u001b[0m formatter \u001b[38;5;241m=\u001b[39m ExcelFormatter(\n\u001b[0;32m   2335\u001b[0m     df,\n\u001b[0;32m   2336\u001b[0m     na_rep\u001b[38;5;241m=\u001b[39mna_rep,\n\u001b[1;32m   (...)\u001b[0m\n\u001b[0;32m   2343\u001b[0m     inf_rep\u001b[38;5;241m=\u001b[39minf_rep,\n\u001b[0;32m   2344\u001b[0m )\n\u001b[1;32m-> 2345\u001b[0m \u001b[43mformatter\u001b[49m\u001b[38;5;241;43m.\u001b[39;49m\u001b[43mwrite\u001b[49m\u001b[43m(\u001b[49m\n\u001b[0;32m   2346\u001b[0m \u001b[43m    \u001b[49m\u001b[43mexcel_writer\u001b[49m\u001b[43m,\u001b[49m\n\u001b[0;32m   2347\u001b[0m \u001b[43m    \u001b[49m\u001b[43msheet_name\u001b[49m\u001b[38;5;241;43m=\u001b[39;49m\u001b[43msheet_name\u001b[49m\u001b[43m,\u001b[49m\n\u001b[0;32m   2348\u001b[0m \u001b[43m    \u001b[49m\u001b[43mstartrow\u001b[49m\u001b[38;5;241;43m=\u001b[39;49m\u001b[43mstartrow\u001b[49m\u001b[43m,\u001b[49m\n\u001b[0;32m   2349\u001b[0m \u001b[43m    \u001b[49m\u001b[43mstartcol\u001b[49m\u001b[38;5;241;43m=\u001b[39;49m\u001b[43mstartcol\u001b[49m\u001b[43m,\u001b[49m\n\u001b[0;32m   2350\u001b[0m \u001b[43m    \u001b[49m\u001b[43mfreeze_panes\u001b[49m\u001b[38;5;241;43m=\u001b[39;49m\u001b[43mfreeze_panes\u001b[49m\u001b[43m,\u001b[49m\n\u001b[0;32m   2351\u001b[0m \u001b[43m    \u001b[49m\u001b[43mengine\u001b[49m\u001b[38;5;241;43m=\u001b[39;49m\u001b[43mengine\u001b[49m\u001b[43m,\u001b[49m\n\u001b[0;32m   2352\u001b[0m \u001b[43m    \u001b[49m\u001b[43mstorage_options\u001b[49m\u001b[38;5;241;43m=\u001b[39;49m\u001b[43mstorage_options\u001b[49m\u001b[43m,\u001b[49m\n\u001b[0;32m   2353\u001b[0m \u001b[43m    \u001b[49m\u001b[43mengine_kwargs\u001b[49m\u001b[38;5;241;43m=\u001b[39;49m\u001b[43mengine_kwargs\u001b[49m\u001b[43m,\u001b[49m\n\u001b[0;32m   2354\u001b[0m \u001b[43m\u001b[49m\u001b[43m)\u001b[49m\n",
      "File \u001b[1;32mC:\\Python311\\Lib\\site-packages\\pandas\\io\\formats\\excel.py:946\u001b[0m, in \u001b[0;36mExcelFormatter.write\u001b[1;34m(self, writer, sheet_name, startrow, startcol, freeze_panes, engine, storage_options, engine_kwargs)\u001b[0m\n\u001b[0;32m    942\u001b[0m     need_save \u001b[38;5;241m=\u001b[39m \u001b[38;5;28;01mFalse\u001b[39;00m\n\u001b[0;32m    943\u001b[0m \u001b[38;5;28;01melse\u001b[39;00m:\n\u001b[0;32m    944\u001b[0m     \u001b[38;5;66;03m# error: Cannot instantiate abstract class 'ExcelWriter' with abstract\u001b[39;00m\n\u001b[0;32m    945\u001b[0m     \u001b[38;5;66;03m# attributes 'engine', 'save', 'supported_extensions' and 'write_cells'\u001b[39;00m\n\u001b[1;32m--> 946\u001b[0m     writer \u001b[38;5;241m=\u001b[39m \u001b[43mExcelWriter\u001b[49m\u001b[43m(\u001b[49m\u001b[43m  \u001b[49m\u001b[38;5;66;43;03m# type: ignore[abstract]\u001b[39;49;00m\n\u001b[0;32m    947\u001b[0m \u001b[43m        \u001b[49m\u001b[43mwriter\u001b[49m\u001b[43m,\u001b[49m\n\u001b[0;32m    948\u001b[0m \u001b[43m        \u001b[49m\u001b[43mengine\u001b[49m\u001b[38;5;241;43m=\u001b[39;49m\u001b[43mengine\u001b[49m\u001b[43m,\u001b[49m\n\u001b[0;32m    949\u001b[0m \u001b[43m        \u001b[49m\u001b[43mstorage_options\u001b[49m\u001b[38;5;241;43m=\u001b[39;49m\u001b[43mstorage_options\u001b[49m\u001b[43m,\u001b[49m\n\u001b[0;32m    950\u001b[0m \u001b[43m        \u001b[49m\u001b[43mengine_kwargs\u001b[49m\u001b[38;5;241;43m=\u001b[39;49m\u001b[43mengine_kwargs\u001b[49m\u001b[43m,\u001b[49m\n\u001b[0;32m    951\u001b[0m \u001b[43m    \u001b[49m\u001b[43m)\u001b[49m\n\u001b[0;32m    952\u001b[0m     need_save \u001b[38;5;241m=\u001b[39m \u001b[38;5;28;01mTrue\u001b[39;00m\n\u001b[0;32m    954\u001b[0m \u001b[38;5;28;01mtry\u001b[39;00m:\n",
      "File \u001b[1;32mC:\\Python311\\Lib\\site-packages\\pandas\\io\\excel\\_openpyxl.py:57\u001b[0m, in \u001b[0;36mOpenpyxlWriter.__init__\u001b[1;34m(self, path, engine, date_format, datetime_format, mode, storage_options, if_sheet_exists, engine_kwargs, **kwargs)\u001b[0m\n\u001b[0;32m     44\u001b[0m \u001b[38;5;28;01mdef\u001b[39;00m \u001b[38;5;21m__init__\u001b[39m(\n\u001b[0;32m     45\u001b[0m     \u001b[38;5;28mself\u001b[39m,\n\u001b[0;32m     46\u001b[0m     path: FilePath \u001b[38;5;241m|\u001b[39m WriteExcelBuffer \u001b[38;5;241m|\u001b[39m ExcelWriter,\n\u001b[1;32m   (...)\u001b[0m\n\u001b[0;32m     55\u001b[0m ) \u001b[38;5;241m-\u001b[39m\u001b[38;5;241m>\u001b[39m \u001b[38;5;28;01mNone\u001b[39;00m:\n\u001b[0;32m     56\u001b[0m     \u001b[38;5;66;03m# Use the openpyxl module as the Excel writer.\u001b[39;00m\n\u001b[1;32m---> 57\u001b[0m     \u001b[38;5;28;01mfrom\u001b[39;00m \u001b[38;5;21;01mopenpyxl\u001b[39;00m\u001b[38;5;21;01m.\u001b[39;00m\u001b[38;5;21;01mworkbook\u001b[39;00m \u001b[38;5;28;01mimport\u001b[39;00m Workbook\n\u001b[0;32m     59\u001b[0m     engine_kwargs \u001b[38;5;241m=\u001b[39m combine_kwargs(engine_kwargs, kwargs)\n\u001b[0;32m     61\u001b[0m     \u001b[38;5;28msuper\u001b[39m()\u001b[38;5;241m.\u001b[39m\u001b[38;5;21m__init__\u001b[39m(\n\u001b[0;32m     62\u001b[0m         path,\n\u001b[0;32m     63\u001b[0m         mode\u001b[38;5;241m=\u001b[39mmode,\n\u001b[1;32m   (...)\u001b[0m\n\u001b[0;32m     66\u001b[0m         engine_kwargs\u001b[38;5;241m=\u001b[39mengine_kwargs,\n\u001b[0;32m     67\u001b[0m     )\n",
      "\u001b[1;31mModuleNotFoundError\u001b[0m: No module named 'openpyxl'"
     ]
    }
   ],
   "source": [
    "result = pd.DataFrame.from_dict(dict)\n",
    "result.to_excel(query_txt+\"_blog_content.xlsx\", index=False)\n",
    "time.sleep(3)"
   ]
  },
  {
   "cell_type": "code",
   "execution_count": null,
   "id": "720f3109-a13c-4342-80a2-49b1a69f0223",
   "metadata": {},
   "outputs": [],
   "source": [
    "\n"
   ]
  },
  {
   "cell_type": "code",
   "execution_count": 32,
   "id": "2fa82d2d-f886-4906-afab-f3421a4b57fa",
   "metadata": {},
   "outputs": [
    {
     "ename": "FileNotFoundError",
     "evalue": "[Errno 2] No such file or directory: 'cafelist_연희동.csv'",
     "output_type": "error",
     "traceback": [
      "\u001b[1;31m---------------------------------------------------------------------------\u001b[0m",
      "\u001b[1;31mFileNotFoundError\u001b[0m                         Traceback (most recent call last)",
      "Cell \u001b[1;32mIn[32], line 8\u001b[0m\n\u001b[0;32m      6\u001b[0m \u001b[38;5;66;03m# CSV 파일에서 카페 이름 불러오기\u001b[39;00m\n\u001b[0;32m      7\u001b[0m cafe_df \u001b[38;5;241m=\u001b[39m pd\u001b[38;5;241m.\u001b[39mread_csv(\u001b[38;5;124m'\u001b[39m\u001b[38;5;124m/Users/najee/BigdataProgramming2023/cabojago/data/cafelist_연희동.csv\u001b[39m\u001b[38;5;124m'\u001b[39m)\n\u001b[1;32m----> 8\u001b[0m cafe_df \u001b[38;5;241m=\u001b[39m \u001b[43mpd\u001b[49m\u001b[38;5;241;43m.\u001b[39;49m\u001b[43mread_csv\u001b[49m\u001b[43m(\u001b[49m\u001b[38;5;124;43m'\u001b[39;49m\u001b[38;5;124;43mcafelist_연희동.csv\u001b[39;49m\u001b[38;5;124;43m'\u001b[39;49m\u001b[43m)\u001b[49m\n\u001b[0;32m      9\u001b[0m cafe_names \u001b[38;5;241m=\u001b[39m cafe_df[\u001b[38;5;124m'\u001b[39m\u001b[38;5;124mname\u001b[39m\u001b[38;5;124m'\u001b[39m]\u001b[38;5;241m.\u001b[39mtolist()\n\u001b[0;32m     11\u001b[0m \u001b[38;5;66;03m# 크롬 드라이버 설정\u001b[39;00m\n",
      "File \u001b[1;32mC:\\Python311\\Lib\\site-packages\\pandas\\io\\parsers\\readers.py:948\u001b[0m, in \u001b[0;36mread_csv\u001b[1;34m(filepath_or_buffer, sep, delimiter, header, names, index_col, usecols, dtype, engine, converters, true_values, false_values, skipinitialspace, skiprows, skipfooter, nrows, na_values, keep_default_na, na_filter, verbose, skip_blank_lines, parse_dates, infer_datetime_format, keep_date_col, date_parser, date_format, dayfirst, cache_dates, iterator, chunksize, compression, thousands, decimal, lineterminator, quotechar, quoting, doublequote, escapechar, comment, encoding, encoding_errors, dialect, on_bad_lines, delim_whitespace, low_memory, memory_map, float_precision, storage_options, dtype_backend)\u001b[0m\n\u001b[0;32m    935\u001b[0m kwds_defaults \u001b[38;5;241m=\u001b[39m _refine_defaults_read(\n\u001b[0;32m    936\u001b[0m     dialect,\n\u001b[0;32m    937\u001b[0m     delimiter,\n\u001b[1;32m   (...)\u001b[0m\n\u001b[0;32m    944\u001b[0m     dtype_backend\u001b[38;5;241m=\u001b[39mdtype_backend,\n\u001b[0;32m    945\u001b[0m )\n\u001b[0;32m    946\u001b[0m kwds\u001b[38;5;241m.\u001b[39mupdate(kwds_defaults)\n\u001b[1;32m--> 948\u001b[0m \u001b[38;5;28;01mreturn\u001b[39;00m \u001b[43m_read\u001b[49m\u001b[43m(\u001b[49m\u001b[43mfilepath_or_buffer\u001b[49m\u001b[43m,\u001b[49m\u001b[43m \u001b[49m\u001b[43mkwds\u001b[49m\u001b[43m)\u001b[49m\n",
      "File \u001b[1;32mC:\\Python311\\Lib\\site-packages\\pandas\\io\\parsers\\readers.py:611\u001b[0m, in \u001b[0;36m_read\u001b[1;34m(filepath_or_buffer, kwds)\u001b[0m\n\u001b[0;32m    608\u001b[0m _validate_names(kwds\u001b[38;5;241m.\u001b[39mget(\u001b[38;5;124m\"\u001b[39m\u001b[38;5;124mnames\u001b[39m\u001b[38;5;124m\"\u001b[39m, \u001b[38;5;28;01mNone\u001b[39;00m))\n\u001b[0;32m    610\u001b[0m \u001b[38;5;66;03m# Create the parser.\u001b[39;00m\n\u001b[1;32m--> 611\u001b[0m parser \u001b[38;5;241m=\u001b[39m \u001b[43mTextFileReader\u001b[49m\u001b[43m(\u001b[49m\u001b[43mfilepath_or_buffer\u001b[49m\u001b[43m,\u001b[49m\u001b[43m \u001b[49m\u001b[38;5;241;43m*\u001b[39;49m\u001b[38;5;241;43m*\u001b[39;49m\u001b[43mkwds\u001b[49m\u001b[43m)\u001b[49m\n\u001b[0;32m    613\u001b[0m \u001b[38;5;28;01mif\u001b[39;00m chunksize \u001b[38;5;129;01mor\u001b[39;00m iterator:\n\u001b[0;32m    614\u001b[0m     \u001b[38;5;28;01mreturn\u001b[39;00m parser\n",
      "File \u001b[1;32mC:\\Python311\\Lib\\site-packages\\pandas\\io\\parsers\\readers.py:1448\u001b[0m, in \u001b[0;36mTextFileReader.__init__\u001b[1;34m(self, f, engine, **kwds)\u001b[0m\n\u001b[0;32m   1445\u001b[0m     \u001b[38;5;28mself\u001b[39m\u001b[38;5;241m.\u001b[39moptions[\u001b[38;5;124m\"\u001b[39m\u001b[38;5;124mhas_index_names\u001b[39m\u001b[38;5;124m\"\u001b[39m] \u001b[38;5;241m=\u001b[39m kwds[\u001b[38;5;124m\"\u001b[39m\u001b[38;5;124mhas_index_names\u001b[39m\u001b[38;5;124m\"\u001b[39m]\n\u001b[0;32m   1447\u001b[0m \u001b[38;5;28mself\u001b[39m\u001b[38;5;241m.\u001b[39mhandles: IOHandles \u001b[38;5;241m|\u001b[39m \u001b[38;5;28;01mNone\u001b[39;00m \u001b[38;5;241m=\u001b[39m \u001b[38;5;28;01mNone\u001b[39;00m\n\u001b[1;32m-> 1448\u001b[0m \u001b[38;5;28mself\u001b[39m\u001b[38;5;241m.\u001b[39m_engine \u001b[38;5;241m=\u001b[39m \u001b[38;5;28;43mself\u001b[39;49m\u001b[38;5;241;43m.\u001b[39;49m\u001b[43m_make_engine\u001b[49m\u001b[43m(\u001b[49m\u001b[43mf\u001b[49m\u001b[43m,\u001b[49m\u001b[43m \u001b[49m\u001b[38;5;28;43mself\u001b[39;49m\u001b[38;5;241;43m.\u001b[39;49m\u001b[43mengine\u001b[49m\u001b[43m)\u001b[49m\n",
      "File \u001b[1;32mC:\\Python311\\Lib\\site-packages\\pandas\\io\\parsers\\readers.py:1705\u001b[0m, in \u001b[0;36mTextFileReader._make_engine\u001b[1;34m(self, f, engine)\u001b[0m\n\u001b[0;32m   1703\u001b[0m     \u001b[38;5;28;01mif\u001b[39;00m \u001b[38;5;124m\"\u001b[39m\u001b[38;5;124mb\u001b[39m\u001b[38;5;124m\"\u001b[39m \u001b[38;5;129;01mnot\u001b[39;00m \u001b[38;5;129;01min\u001b[39;00m mode:\n\u001b[0;32m   1704\u001b[0m         mode \u001b[38;5;241m+\u001b[39m\u001b[38;5;241m=\u001b[39m \u001b[38;5;124m\"\u001b[39m\u001b[38;5;124mb\u001b[39m\u001b[38;5;124m\"\u001b[39m\n\u001b[1;32m-> 1705\u001b[0m \u001b[38;5;28mself\u001b[39m\u001b[38;5;241m.\u001b[39mhandles \u001b[38;5;241m=\u001b[39m \u001b[43mget_handle\u001b[49m\u001b[43m(\u001b[49m\n\u001b[0;32m   1706\u001b[0m \u001b[43m    \u001b[49m\u001b[43mf\u001b[49m\u001b[43m,\u001b[49m\n\u001b[0;32m   1707\u001b[0m \u001b[43m    \u001b[49m\u001b[43mmode\u001b[49m\u001b[43m,\u001b[49m\n\u001b[0;32m   1708\u001b[0m \u001b[43m    \u001b[49m\u001b[43mencoding\u001b[49m\u001b[38;5;241;43m=\u001b[39;49m\u001b[38;5;28;43mself\u001b[39;49m\u001b[38;5;241;43m.\u001b[39;49m\u001b[43moptions\u001b[49m\u001b[38;5;241;43m.\u001b[39;49m\u001b[43mget\u001b[49m\u001b[43m(\u001b[49m\u001b[38;5;124;43m\"\u001b[39;49m\u001b[38;5;124;43mencoding\u001b[39;49m\u001b[38;5;124;43m\"\u001b[39;49m\u001b[43m,\u001b[49m\u001b[43m \u001b[49m\u001b[38;5;28;43;01mNone\u001b[39;49;00m\u001b[43m)\u001b[49m\u001b[43m,\u001b[49m\n\u001b[0;32m   1709\u001b[0m \u001b[43m    \u001b[49m\u001b[43mcompression\u001b[49m\u001b[38;5;241;43m=\u001b[39;49m\u001b[38;5;28;43mself\u001b[39;49m\u001b[38;5;241;43m.\u001b[39;49m\u001b[43moptions\u001b[49m\u001b[38;5;241;43m.\u001b[39;49m\u001b[43mget\u001b[49m\u001b[43m(\u001b[49m\u001b[38;5;124;43m\"\u001b[39;49m\u001b[38;5;124;43mcompression\u001b[39;49m\u001b[38;5;124;43m\"\u001b[39;49m\u001b[43m,\u001b[49m\u001b[43m \u001b[49m\u001b[38;5;28;43;01mNone\u001b[39;49;00m\u001b[43m)\u001b[49m\u001b[43m,\u001b[49m\n\u001b[0;32m   1710\u001b[0m \u001b[43m    \u001b[49m\u001b[43mmemory_map\u001b[49m\u001b[38;5;241;43m=\u001b[39;49m\u001b[38;5;28;43mself\u001b[39;49m\u001b[38;5;241;43m.\u001b[39;49m\u001b[43moptions\u001b[49m\u001b[38;5;241;43m.\u001b[39;49m\u001b[43mget\u001b[49m\u001b[43m(\u001b[49m\u001b[38;5;124;43m\"\u001b[39;49m\u001b[38;5;124;43mmemory_map\u001b[39;49m\u001b[38;5;124;43m\"\u001b[39;49m\u001b[43m,\u001b[49m\u001b[43m \u001b[49m\u001b[38;5;28;43;01mFalse\u001b[39;49;00m\u001b[43m)\u001b[49m\u001b[43m,\u001b[49m\n\u001b[0;32m   1711\u001b[0m \u001b[43m    \u001b[49m\u001b[43mis_text\u001b[49m\u001b[38;5;241;43m=\u001b[39;49m\u001b[43mis_text\u001b[49m\u001b[43m,\u001b[49m\n\u001b[0;32m   1712\u001b[0m \u001b[43m    \u001b[49m\u001b[43merrors\u001b[49m\u001b[38;5;241;43m=\u001b[39;49m\u001b[38;5;28;43mself\u001b[39;49m\u001b[38;5;241;43m.\u001b[39;49m\u001b[43moptions\u001b[49m\u001b[38;5;241;43m.\u001b[39;49m\u001b[43mget\u001b[49m\u001b[43m(\u001b[49m\u001b[38;5;124;43m\"\u001b[39;49m\u001b[38;5;124;43mencoding_errors\u001b[39;49m\u001b[38;5;124;43m\"\u001b[39;49m\u001b[43m,\u001b[49m\u001b[43m \u001b[49m\u001b[38;5;124;43m\"\u001b[39;49m\u001b[38;5;124;43mstrict\u001b[39;49m\u001b[38;5;124;43m\"\u001b[39;49m\u001b[43m)\u001b[49m\u001b[43m,\u001b[49m\n\u001b[0;32m   1713\u001b[0m \u001b[43m    \u001b[49m\u001b[43mstorage_options\u001b[49m\u001b[38;5;241;43m=\u001b[39;49m\u001b[38;5;28;43mself\u001b[39;49m\u001b[38;5;241;43m.\u001b[39;49m\u001b[43moptions\u001b[49m\u001b[38;5;241;43m.\u001b[39;49m\u001b[43mget\u001b[49m\u001b[43m(\u001b[49m\u001b[38;5;124;43m\"\u001b[39;49m\u001b[38;5;124;43mstorage_options\u001b[39;49m\u001b[38;5;124;43m\"\u001b[39;49m\u001b[43m,\u001b[49m\u001b[43m \u001b[49m\u001b[38;5;28;43;01mNone\u001b[39;49;00m\u001b[43m)\u001b[49m\u001b[43m,\u001b[49m\n\u001b[0;32m   1714\u001b[0m \u001b[43m\u001b[49m\u001b[43m)\u001b[49m\n\u001b[0;32m   1715\u001b[0m \u001b[38;5;28;01massert\u001b[39;00m \u001b[38;5;28mself\u001b[39m\u001b[38;5;241m.\u001b[39mhandles \u001b[38;5;129;01mis\u001b[39;00m \u001b[38;5;129;01mnot\u001b[39;00m \u001b[38;5;28;01mNone\u001b[39;00m\n\u001b[0;32m   1716\u001b[0m f \u001b[38;5;241m=\u001b[39m \u001b[38;5;28mself\u001b[39m\u001b[38;5;241m.\u001b[39mhandles\u001b[38;5;241m.\u001b[39mhandle\n",
      "File \u001b[1;32mC:\\Python311\\Lib\\site-packages\\pandas\\io\\common.py:863\u001b[0m, in \u001b[0;36mget_handle\u001b[1;34m(path_or_buf, mode, encoding, compression, memory_map, is_text, errors, storage_options)\u001b[0m\n\u001b[0;32m    858\u001b[0m \u001b[38;5;28;01melif\u001b[39;00m \u001b[38;5;28misinstance\u001b[39m(handle, \u001b[38;5;28mstr\u001b[39m):\n\u001b[0;32m    859\u001b[0m     \u001b[38;5;66;03m# Check whether the filename is to be opened in binary mode.\u001b[39;00m\n\u001b[0;32m    860\u001b[0m     \u001b[38;5;66;03m# Binary mode does not support 'encoding' and 'newline'.\u001b[39;00m\n\u001b[0;32m    861\u001b[0m     \u001b[38;5;28;01mif\u001b[39;00m ioargs\u001b[38;5;241m.\u001b[39mencoding \u001b[38;5;129;01mand\u001b[39;00m \u001b[38;5;124m\"\u001b[39m\u001b[38;5;124mb\u001b[39m\u001b[38;5;124m\"\u001b[39m \u001b[38;5;129;01mnot\u001b[39;00m \u001b[38;5;129;01min\u001b[39;00m ioargs\u001b[38;5;241m.\u001b[39mmode:\n\u001b[0;32m    862\u001b[0m         \u001b[38;5;66;03m# Encoding\u001b[39;00m\n\u001b[1;32m--> 863\u001b[0m         handle \u001b[38;5;241m=\u001b[39m \u001b[38;5;28mopen\u001b[39m(\n\u001b[0;32m    864\u001b[0m             handle,\n\u001b[0;32m    865\u001b[0m             ioargs\u001b[38;5;241m.\u001b[39mmode,\n\u001b[0;32m    866\u001b[0m             encoding\u001b[38;5;241m=\u001b[39mioargs\u001b[38;5;241m.\u001b[39mencoding,\n\u001b[0;32m    867\u001b[0m             errors\u001b[38;5;241m=\u001b[39merrors,\n\u001b[0;32m    868\u001b[0m             newline\u001b[38;5;241m=\u001b[39m\u001b[38;5;124m\"\u001b[39m\u001b[38;5;124m\"\u001b[39m,\n\u001b[0;32m    869\u001b[0m         )\n\u001b[0;32m    870\u001b[0m     \u001b[38;5;28;01melse\u001b[39;00m:\n\u001b[0;32m    871\u001b[0m         \u001b[38;5;66;03m# Binary mode\u001b[39;00m\n\u001b[0;32m    872\u001b[0m         handle \u001b[38;5;241m=\u001b[39m \u001b[38;5;28mopen\u001b[39m(handle, ioargs\u001b[38;5;241m.\u001b[39mmode)\n",
      "\u001b[1;31mFileNotFoundError\u001b[0m: [Errno 2] No such file or directory: 'cafelist_연희동.csv'"
     ]
    }
   ],
   "source": [
    "import pandas as pd\n",
    "from selenium import webdriver\n",
    "from selenium.webdriver.common.by import By\n",
    "import time\n",
    "\n",
    "# CSV 파일에서 카페 이름 불러오기\n",
    "cafe_df = pd.read_csv('/Users/najee/BigdataProgramming2023/cabojago/data/cafelist_연희동.csv')\n",
    "cafe_df = pd.read_csv('cafelist_연희동.csv')\n",
    "cafe_names = cafe_df['name'].tolist()\n",
    "\n",
    "# 크롬 드라이버 설정\n",
    "chrome_options = webdriver.ChromeOptions()\n",
    "chrome_options.add_argument(\"/Users/hana/.wdm/drivers/chromedriver/mac64/119.0.6045.105/chromedriver-mac-arm64/chromedriver\")\n",
    "driver = webdriver.Chrome(chrome_options=chrome_options)\n",
    "\n",
    "for cafe_name in cafe_names:\n",
    "    # 네이버 검색 페이지 접속\n",
    "    driver.get(\"https://search.naver.com\")\n",
    "    time.sleep(1)\n",
    "    \n",
    "    # 검색창에 카페 이름 입력 후 검색\n",
    "    element = driver.find_element(By.CSS_SELECTOR, 'div.search_input_box > input#query')\n",
    "    element.send_keys(cafe_name)\n",
    "    element.submit()\n",
    "    time.sleep(1)\n",
    "    \n",
    "    # VIEW 클릭\n",
    "    driver.find_element(By.LINK_TEXT, \"VIEW\").click()\n",
    "    \n",
    "    # 옵션 클릭\n",
    "    driver.find_element(By.LINK_TEXT, \"옵션\").click()\n",
    "    \n",
    "    # 블로그 클릭\n",
    "    driver.find_element(By.LINK_TEXT, \"블로그\").click()\n",
    "\n",
    "    # 스크롤 다운\n",
    "    for _ in range(n):\n",
    "        scroll_down(driver)\n",
    "\n",
    "    # URL, 제목 크롤링\n",
    "    url_list = []\n",
    "    title_list = []\n",
    "\n",
    "    articles = \"a.title_link\"\n",
    "    article_raw = driver.find_elements(By.CSS_SELECTOR, articles)\n",
    "\n",
    "    for article in article_raw:\n",
    "        url = article.get_attribute('href')\n",
    "        url_list.append(url)\n",
    "        title = article.text\n",
    "        title_list.append(title)\n",
    "\n",
    "    # 데이터프레임에 저장\n",
    "    temp_df = pd.DataFrame({'cafe': cafe, 'url': url_list, 'title': title_list})\n",
    "    blog_df = pd.concat([blog_df, temp_df])\n",
    "\n",
    "# 크롤링 결과 출력\n",
    "print(blog_df)\n"
   ]
  },
  {
   "cell_type": "code",
   "execution_count": null,
   "id": "78f71f96-2dbf-4991-9589-d31f92caed78",
   "metadata": {},
   "outputs": [],
   "source": []
  }
 ],
 "metadata": {
  "kernelspec": {
   "display_name": "Python 3 (ipykernel)",
   "language": "python",
   "name": "python3"
  },
  "language_info": {
   "codemirror_mode": {
    "name": "ipython",
    "version": 3
   },
   "file_extension": ".py",
   "mimetype": "text/x-python",
   "name": "python",
   "nbconvert_exporter": "python",
   "pygments_lexer": "ipython3",
   "version": "3.11.3"
  }
 },
 "nbformat": 4,
 "nbformat_minor": 5
}
