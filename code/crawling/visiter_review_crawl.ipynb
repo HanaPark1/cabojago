{
 "cells": [
  {
   "cell_type": "code",
   "execution_count": 1,
   "id": "67deab3b",
   "metadata": {},
   "outputs": [],
   "source": [
    "import pandas as pd\n",
    "import numpy as np\n",
    "import requests\n",
    "from bs4 import BeautifulSoup\n",
    "from selenium import webdriver\n",
    "from selenium.webdriver.chrome.service import Service as ChromeService\n",
    "from webdriver_manager.chrome import ChromeDriverManager\n",
    "from selenium.webdriver.common.by import By\n",
    "from selenium.webdriver.common.keys import Keys\n",
    "from selenium.webdriver.support.ui import WebDriverWait\n",
    "from selenium.webdriver.support import expected_conditions as EC\n",
    "import time\n",
    "import re"
   ]
  },
  {
   "cell_type": "code",
   "execution_count": 95,
   "id": "18b120f8",
   "metadata": {},
   "outputs": [],
   "source": [
    "places={}\n",
    "visiter_reviews={}"
   ]
  },
  {
   "cell_type": "code",
   "execution_count": 217,
   "id": "eb74b66c",
   "metadata": {},
   "outputs": [
    {
     "data": {
      "text/plain": [
       "285"
      ]
     },
     "execution_count": 217,
     "metadata": {},
     "output_type": "execute_result"
    }
   ],
   "source": [
    "len(visiter_reviews.keys())"
   ]
  },
  {
   "cell_type": "code",
   "execution_count": 160,
   "id": "3f8dd8f1",
   "metadata": {},
   "outputs": [
    {
     "data": {
      "text/plain": [
       "[1480017503,\n",
       " 1618240240,\n",
       " 1300378937,\n",
       " 1601437484,\n",
       " 38282260,\n",
       " 1293334743,\n",
       " 1914086649,\n",
       " 38015815,\n",
       " 1143889950,\n",
       " 37992103,\n",
       " 35306735,\n",
       " 1493242469,\n",
       " 1035902301,\n",
       " 1179910659,\n",
       " 1166022931,\n",
       " 1865456225,\n",
       " 1299745145,\n",
       " 1910633529,\n",
       " 1383128698,\n",
       " 1500504643,\n",
       " 1612839292,\n",
       " 37468319,\n",
       " 1543986977,\n",
       " 1729088578,\n",
       " 1775224468,\n",
       " 38448458,\n",
       " 1653541790,\n",
       " 1498252663,\n",
       " 21856573,\n",
       " 1708553019,\n",
       " 1346475243,\n",
       " 1750433763,\n",
       " 1215983970,\n",
       " 1020389622,\n",
       " 1794136920,\n",
       " 1071356852,\n",
       " 33741818,\n",
       " 1668597377,\n",
       " 1964985703,\n",
       " 1213138528,\n",
       " 1727400952,\n",
       " 1830575633,\n",
       " 35453402,\n",
       " 37604020,\n",
       " 1518148646,\n",
       " 1174025294,\n",
       " 1299065898,\n",
       " 1798970075,\n",
       " 1435646824,\n",
       " 1241444193,\n",
       " 1927432324,\n",
       " 1220314330,\n",
       " 1104888425,\n",
       " 1081294843,\n",
       " 1818853219,\n",
       " 32891199,\n",
       " 1147665990,\n",
       " 1853353265,\n",
       " 1567157005,\n",
       " 1434341556,\n",
       " 38548704,\n",
       " 1218794011,\n",
       " 1377545270,\n",
       " 1010873065,\n",
       " 1110821571,\n",
       " 1940633666,\n",
       " 1601052613,\n",
       " 1908880523,\n",
       " 1664294602,\n",
       " 1521760712,\n",
       " 1016126841,\n",
       " 1211710717,\n",
       " 37769447,\n",
       " 1160848046,\n",
       " 1199972298,\n",
       " 1741866041,\n",
       " 1072884158,\n",
       " 1149762141,\n",
       " 1145635183,\n",
       " 1597752999,\n",
       " 1927900521,\n",
       " 36399494,\n",
       " 1227219807,\n",
       " 1066853151,\n",
       " 980307471,\n",
       " 1000639701,\n",
       " 1423603783,\n",
       " 1630421798,\n",
       " 1049643176,\n",
       " 1264720945,\n",
       " 572367804,\n",
       " 1211536676,\n",
       " 1860425869,\n",
       " 1074601786,\n",
       " 1487362172,\n",
       " 1775473845,\n",
       " 1528111556,\n",
       " 1134813121,\n",
       " 1287313328,\n",
       " 1556209064,\n",
       " 1746305819,\n",
       " 1889887611,\n",
       " 1522597367,\n",
       " 1106273286,\n",
       " 1549478324,\n",
       " 1934524936,\n",
       " 1771873244,\n",
       " 1977021297,\n",
       " 1014442289,\n",
       " 1316829967,\n",
       " 1493254237,\n",
       " 1579727038,\n",
       " 1545596355,\n",
       " 34308583,\n",
       " 1097452079,\n",
       " 1916171533,\n",
       " 1006125529,\n",
       " 1391453544,\n",
       " 1078186525,\n",
       " 1216509008,\n",
       " 1265903235,\n",
       " 1782159268,\n",
       " 1215736940,\n",
       " 35251819,\n",
       " 1670095825,\n",
       " 1441318263,\n",
       " 1086377447,\n",
       " 1973645577,\n",
       " 1763020097,\n",
       " 37525977,\n",
       " 1221839422,\n",
       " 1680351950,\n",
       " 1445114882,\n",
       " 1283663834,\n",
       " 1992955163,\n",
       " 1546544014,\n",
       " 1683008236,\n",
       " 1251407905,\n",
       " 1778087184,\n",
       " 1323961635,\n",
       " 20593600,\n",
       " 1083112932,\n",
       " 1532916769,\n",
       " 1326124851,\n",
       " 1408361299,\n",
       " 20502605,\n",
       " 1406853822,\n",
       " 1868894168,\n",
       " 1490185987,\n",
       " 1848999744,\n",
       " 1388641559,\n",
       " 148650743,\n",
       " 1154933297,\n",
       " 1083276741,\n",
       " 1583720553,\n",
       " 774846660,\n",
       " 1335831575,\n",
       " 1120900262,\n",
       " 1326436574,\n",
       " 1101866071,\n",
       " 1436790902,\n",
       " 20399944,\n",
       " 1655304233,\n",
       " 1659406560,\n",
       " 1101444848,\n",
       " 1633756880,\n",
       " 1456524257,\n",
       " 1648168847,\n",
       " 1629572077,\n",
       " 1459531604,\n",
       " 1270560918,\n",
       " 1903102636,\n",
       " 1775967927,\n",
       " 1161916340,\n",
       " 1827448906,\n",
       " 1099092209,\n",
       " 1355434470,\n",
       " 1613056335,\n",
       " 1929468102,\n",
       " 1601413537,\n",
       " 1198311937,\n",
       " 1005400817,\n",
       " 1444446731,\n",
       " 1578856927,\n",
       " 1464754624,\n",
       " 1600748860,\n",
       " 38462955,\n",
       " 1700345670,\n",
       " 1124107346,\n",
       " 1554926306,\n",
       " 1569055913,\n",
       " 1592701591,\n",
       " 1859611046,\n",
       " 1650174352,\n",
       " 1264736869,\n",
       " 1215536436,\n",
       " 1157056771,\n",
       " 1604895392,\n",
       " 36350986,\n",
       " 1903137270,\n",
       " 1018238643,\n",
       " 1636448566,\n",
       " 1106156821,\n",
       " 1673974291,\n",
       " 1225651194,\n",
       " 1662471064,\n",
       " 1008547388,\n",
       " 1562184080,\n",
       " 1115566217,\n",
       " 1328645576,\n",
       " 1530424893,\n",
       " 1384022341,\n",
       " 1199284777,\n",
       " 1358257052,\n",
       " 1510715349,\n",
       " 1806446626,\n",
       " 1155196632,\n",
       " 34079145,\n",
       " 1910858491,\n",
       " 1528573639,\n",
       " 1243694776,\n",
       " 1172962798,\n",
       " 1577367029,\n",
       " 1252488478,\n",
       " 31481801,\n",
       " 1783410564,\n",
       " 1291868151,\n",
       " 1562362196,\n",
       " 1007494188,\n",
       " 1971357827,\n",
       " 1265578612,\n",
       " 1081109811,\n",
       " 1282558007,\n",
       " 972643975,\n",
       " 1200953867,\n",
       " 1156818422,\n",
       " 1290724510,\n",
       " 1968958914,\n",
       " 1029465285,\n",
       " 1464978463,\n",
       " 1503395641,\n",
       " 1384520629,\n",
       " 1530993164,\n",
       " 1840055599,\n",
       " 1134232001,\n",
       " 1695706659,\n",
       " 1865813471,\n",
       " 1060478054,\n",
       " 1725457871,\n",
       " 1905198544,\n",
       " 1995454973,\n",
       " 1377936012,\n",
       " 1788613753,\n",
       " 1447869730,\n",
       " 1737627220,\n",
       " 1711774623,\n",
       " 1662756398,\n",
       " 1884084183,\n",
       " 1167415138,\n",
       " 1925392971,\n",
       " 1199734266,\n",
       " 1205351110,\n",
       " 1658837486,\n",
       " 1251739829,\n",
       " 1489881877,\n",
       " 1623011798,\n",
       " 1113794499,\n",
       " 508668545,\n",
       " 1669511347,\n",
       " 1855034009,\n",
       " 340164946,\n",
       " 1743930784,\n",
       " 1569780844,\n",
       " 1965277728,\n",
       " 1224496928,\n",
       " 1188660894,\n",
       " 37114222,\n",
       " 1739327672,\n",
       " 1853817558,\n",
       " 1168875518,\n",
       " 1995205223,\n",
       " 1430305980,\n",
       " 1846091218,\n",
       " 1918881926,\n",
       " 1133500880,\n",
       " 1714025191,\n",
       " 1675191335]"
      ]
     },
     "execution_count": 160,
     "metadata": {},
     "output_type": "execute_result"
    }
   ],
   "source": [
    "output_cafelist= pd.read_csv('../../data/output_cafelist/cafe_info_list_yeonnam.csv')[['카페ID','카페이름']]\n",
    "codes= output_cafelist['카페ID'].to_list()\n",
    "# output_cafelist\n",
    "codes"
   ]
  },
  {
   "cell_type": "markdown",
   "id": "041af65b",
   "metadata": {},
   "source": [
    "## Error\n",
    "#### 망원동\n",
    "```\n",
    "33 모아래\n",
    "이스트우드 망원점  visiter_review\n",
    "101 셀렉티드 커피앤스윗츠 name 'NoneType' object has no attribute 'get_text'\n",
    "127 베베크 top5 list index out of range\n",
    "181 다도살롱 초록달 3호점 feature list index out of range\n",
    "206 베잇킹 feature list index out of range\n",
    "226 driver\n",
    "257 메가MGC커피 마포중앙점 name 'NoneType' object has no attribute 'get_text'\n",
    "272 driver cannot convert float NaN to integer\n",
    "```\n",
    "#### 성수동\n",
    "```\n",
    "37 브라우터 name 'NoneType' object has no attribute 'get_text'\n",
    "67 투데이즈 위켄드 name 'NoneType' object has no attribute 'get_text'\n",
    "98 그린랩 name 'NoneType' object has no attribute 'get_text'\n",
    "사이드템포  visiter_review\n",
    "구테로이테 성수센트럴키친  visiter_review\n",
    "에빠  visiter_review\n",
    "181 309디저트카페 'NoneType' object has no attribute 'get_text'\n",
    "278 수피하우스 name 'NoneType' object has no attribute 'get_text'\n",
    "```\n",
    "#### 연남동\n",
    "```\n",
    "99\n",
    "128 디그이지\n",
    "176\n",
    "도 도넛\n",
    "21856573 커피리브레 연남점\n",
    "1968958914\n",
    "1270560918\n",
    "```\n",
    "#### 한남동\n",
    "```\n",
    "27\n",
    "170 nan\n",
    "```\n",
    "#### 연희동\n",
    "```\n",
    "102 nan\n",
    "103 nan\n",
    "111 nan\n",
    "112 nan\n",
    "```"
   ]
  },
  {
   "cell_type": "code",
   "execution_count": 219,
   "id": "06732ad8",
   "metadata": {},
   "outputs": [
    {
     "name": "stdout",
     "output_type": "stream",
     "text": [
      "티크닉 name 'NoneType' object has no attribute 'get_text'\n"
     ]
    }
   ],
   "source": [
    "from selenium import webdriver\n",
    "from selenium.webdriver.chrome.options import Options\n",
    "\n",
    "chrome_options = Options()\n",
    "# chrome_options.add_argument('--headless')  # 브라우저 창을 숨기는 옵션 추가\n",
    "# chrome_options.add_argument('--disable-gpu')  # GPU 사용 안 함 (일부 시스템에서 필요할 수 있음)\n",
    "\n",
    "try:\n",
    "    for code in [1270560918,1968958914]:\n",
    "        driver = webdriver.Chrome(service=ChromeService(ChromeDriverManager().install()), options=chrome_options)\n",
    "        err= 'driver'\n",
    "        url = f'https://pcmap.place.naver.com/restaurant/{int(code)}/review/visitor?entry=pll&from=map&fromPanelNum=1&n_ad_group_type=10&n_query=%EC%97%B0%ED%9D%AC%EB%8F%99%EC%B9%B4%ED%8E%98&timestamp=202311241402&x=126.92933369999999&y=37.572160200912094#'\n",
    "        driver.get(url)\n",
    "        html = driver.page_source\n",
    "        time.sleep(1)\n",
    "        soup = BeautifulSoup(html, 'html.parser')\n",
    "        \n",
    "        # 장소 이름\n",
    "        err='name'\n",
    "        name= soup.find('span', class_='Fc1rA').get_text()\n",
    "        reviews={}\n",
    "        reviews['code']= code\n",
    "        # menu tag, feature tag\n",
    "        # 꼭 큰화면으로 실행하기\n",
    "        try: # 리뷰 태그 2종류인 경우\n",
    "            err='tag'\n",
    "            tags = driver.find_elements(By.CSS_SELECTOR, 'div.PaWWQ')\n",
    "            \n",
    "            menus= tags[0]\n",
    "            features= tags[1]\n",
    "            \n",
    "            err='menu'\n",
    "            menus= menus.find_elements(By.CSS_SELECTOR, 'span.Me4yK')\n",
    "            features= features.find_elements(By.CSS_SELECTOR, 'span.Me4yK')\n",
    "            \n",
    "            for i in range(5):\n",
    "                reviews[f'menu_{i+1}']= menus[i].text\n",
    "\n",
    "            for i in range(5):\n",
    "                reviews[f'feature_{i+1}']= features[i].text               \n",
    "        except: # 리뷰 태그 1종류인 경우\n",
    "#             tags= driver.find_elements(By.CSS_SELECTOR, 'div.ngGKH')\n",
    "            err='feature'\n",
    "            features= driver.find_elements(By.CSS_SELECTOR, 'span.Me4yK')\n",
    "            \n",
    "            for i in range(5):\n",
    "                try:\n",
    "                    reviews[f'feature_{i+1}']= features[i].text \n",
    "                except:\n",
    "                    reviews[f'feature_{i+1}']= None\n",
    "\n",
    "        # short_review_top5\n",
    "        err='top5'\n",
    "        top5= driver.find_elements(By.CSS_SELECTOR, 'span.nWiXa')\n",
    "        for i in range(5):\n",
    "            try:\n",
    "                reviews[f'short_top{i+1}']= top5[i].text[1:-1]\n",
    "            except:\n",
    "                reviews[f'short_top{i+1}']= None\n",
    "        # 리뷰 더보기\n",
    "        try:\n",
    "            for i in range(10):\n",
    "                err='more'\n",
    "                more_button = driver.find_element(By.CLASS_NAME, 'fvwqf')\n",
    "                more_button.click()\n",
    "                time.sleep(1)\n",
    "        except Exception as e:        \n",
    "            print(name,' more_button')\n",
    "        \n",
    "        err='visiter'\n",
    "        visiter_review= driver.find_elements(By.CLASS_NAME, 'zPfVt')\n",
    "        visiter_review_list=[]\n",
    "        visiter_review_list.append(code)\n",
    "        for review in visiter_review:\n",
    "            try:\n",
    "                visiter_review_list.append(review.text.replace('\\n', ' '))\n",
    "            except:\n",
    "                print(name,' visiter_review')\n",
    "\n",
    "        places[name]= reviews\n",
    "        visiter_reviews[name]=visiter_review_list\n",
    "        \n",
    "    #     visiter_reviews\n",
    "        driver.quit()\n",
    "except Exception as e:\n",
    "    print(name,err,e)\n"
   ]
  },
  {
   "cell_type": "code",
   "execution_count": 212,
   "id": "a4e5f5f8",
   "metadata": {
    "scrolled": true
   },
   "outputs": [
    {
     "data": {
      "text/plain": [
       "dict_keys(['부트 카페 연남', '차니베어스테이션', '르누아즈', '플리퍼스 연남점', '호안끼엠', '다레젤라또 연남점', '1994SEOUL', '꾸다방', '페어리 하우스', '카페늘보', '바림케이크', '리이슈커피로스터스', '다르 에스프레소바', '미로베이크', '데일리라운드', '서울도넛츠 연남점', '부빵', '텐더리커피앤디저트', '야미양 글루텐프리 공방카페', '카페몽슈슈 연남점', '연남동콤부차', '마카롱롱롱', '데저트', '필엣필즈', '얼웨이즈스프링', '멜티스트', '와이와이와이 그릭요거트 연남', '컴포넌트 커피', '월에버', '메종미하벨', '백종명화이트커피', '거니노룰즈', '카페 드 루왁', '애몽', '테누커피', '벌스가든', '메리트리', 'lebonble 르봉블레', '카페스콘', '모닝캄커피랩 연남점', '코코리코', '파롤앤랑그', '17도씨', '테일러커피 연남점', '버터앤쉘터 연남점', '히포', '수크레크레페하우스', '씨스루', '땡스오트 연남', '피프에스프레소바', '모투누이', '블루보틀 연남 카페', '달콤다정', '리틀빅토리', '페블스', 'MIDNIGHT PLEASURE', 'SOP', '올웨이즈어거스트 제작소', '맥코이 연남', '오흐뒤구떼', '에스프레소 부티크', '멜팅오브', '턴다운서비스', '코리코카페', '라헬의부엌 연남점', '콩카페 연남점', '더파이샵', '목화씨라운지', 'Deweet', '포포민즈낫띵', '펠른 연남', '피에트라', '코이크', '소하염전 연남', '연트럴다방', '매일 카페', '위트앤척클', '폴리스팬케이크', '씨스터브레드', '어니스트팬케이크', '사이드테이블', '미라지커피', '지구제과', '롱베케이션', '로프스페이스 연남', '발트 본점', '베란다컵케익', '누크녹', '하프베이글', '꿀넹쿠키 연남점', '아꽁뜨', '위아소울메이트', '코코시에나 티오마카세', '플루밍', '오피스오브', '플렘므', '원모어프로포즈', '유니크혼', '무무대베이크', '네시사분', '스몰럭케이크', '흐림', '오랑지', '브래디스커피', '커피냅로스터스 연남동', '디 아더', '코메아벨렘', '스트뉴', '카페 만월회 그로서리마켓', '유니드마이요거트', '누아즈데테', '이오엠', '녹온', '마들젠', '앳더모먼트', '서당개2년로스터스', '작은새', '믜요', '모리노팡', '레또르떼', '피스피스 연남점', '카멜커피 9호점', '대충유원지', '디그이지', '벌스데이투미', 'SF bagels', '연남동그라미', '푸치케', '스윗헤르츠', '웨이즈커피 연남', '긱스 연남점', '88파운드', '슈타데', '휘퍼스', '커비스컵케이크', '알버트파크', '연남살롱', '게슈탈트 커피', '아트스뉴욕 연남점', '멜티드', '스윗미업', '라온디', '그림제작소 연남점', '솔트 포레스트', '온오프연남', '카페밀노', 'Osds 연남', '김보람 초콜릿 연남점', '더세컨드하우스', '모어쿠키', '벨라쿠키 연남', '카페하이웨스트 연남점', '퀸넬브릴', '코발트무드', '케익다방 연남점', '가스프', '딥스', '레끌라', '렌테', '니어바이카페', '카페 드 래빗', '보통공간', '카페 시즈닝즈', '아사프', '카페 시월', '해피니스인어데이', 'ttotto cuisine', '아민 위샐러듀다이닝', '올루 에스프레소바', '아이니드케이크 연남점', '라프하우스', '페브', '해피벌스데이', '연남동벚꽃집', '데얼커피', '버우드', '언페어피스', '위치앤그레텔', '채널오렌지', '테이블 연남', '봄브레드', '연남동 심리카페', '궤도 연남', '루바브', '로즈베리모어', '세빠띠', '탕후루Hub', '온플리크', '모닐이네하우스', '필로앤소피아', '어나더쉐어', '메리고라운드 연남점', '프롬헤라스 연남', '포스트 케이크', '로제드미네', '프리즘연남', '무유무유', '지구샵 제로웨이스트홈', '오테라부띠끄', '카페 세화', '얀 yawn', '카페 어쿠스틱', '판초', '쥬리스 크림하우스', '로스팅마스터즈 연남점', '오랑제뜨22', '유메이크쿠키', '왓어버터', '아트클로버', '그루비', '르프레', '낫낫커피', '키레네도시21C', '히피리피', '연남허니밀크', '지구샵 그로서리', '프롬라떼 연남', '플루프커피', '카페 롤다운', '바람커피원두상점', '프롬딥그린', '카페테틈', '카페테드', '바우 오마카세', '일련 로스터스', '츄르릅', '러프글로스', '슬리핑포레스트', '썸모어델리', '윤태익 다르다 심리카페', '가나슈블랫', '리드미', '햄니케이크', '시나모메', '로일즈', '하유', '리틀프레스커피', 'EEEK', '공간아를', '스타티스', '롭다', '타래커피', '크리멜트', '앤스커피', '로앤쿡드 연남', '요거로밀', '라보아르', '터틀힙', '조앤도슨', '청수당공명', '펠른', '바나나하루키', '유키모찌 연남점', '오버딥', '오츠커피 연남', '브라운하우스 연남', '모리노코', '파이인더샵', '팽페르뒤', '커피리브레 연남점', '브론시스', 'Are&am', '표정', '에브리데이해피벌스데이', '스트로베리32 연남본점', '코티지블루'])"
      ]
     },
     "execution_count": 212,
     "metadata": {},
     "output_type": "execute_result"
    }
   ],
   "source": [
    "places.keys()"
   ]
  },
  {
   "cell_type": "code",
   "execution_count": 220,
   "id": "9133ae0b",
   "metadata": {},
   "outputs": [],
   "source": [
    "pd.DataFrame.from_dict(places).T.to_csv('../../data/place_info/place_info_yeonnam.csv', encoding='utf-8-sig')"
   ]
  },
  {
   "cell_type": "code",
   "execution_count": 221,
   "id": "57f3ac60",
   "metadata": {},
   "outputs": [],
   "source": [
    "pd.DataFrame(index= visiter_reviews.keys(), data= visiter_reviews.values()).to_csv('../../data/visiter_reviews/visiter_reviews_yeonnam.csv', encoding='utf-8-sig')"
   ]
  },
  {
   "cell_type": "code",
   "execution_count": 216,
   "id": "52fc1d25",
   "metadata": {},
   "outputs": [
    {
     "name": "stdout",
     "output_type": "stream",
     "text": [
      "2\n"
     ]
    },
    {
     "data": {
      "text/plain": [
       "[1270560918, 1968958914]"
      ]
     },
     "execution_count": 216,
     "metadata": {},
     "output_type": "execute_result"
    }
   ],
   "source": [
    "# 검색 안된 카페id 찾기\n",
    "\n",
    "set1= set(pd.DataFrame.from_dict(places).loc['code'].to_list())\n",
    "set2= set(codes)\n",
    "\n",
    "# 서로 일치하지 않는 값을 찾기\n",
    "non_matching_values = set1.symmetric_difference(set2)\n",
    "\n",
    "# 결과 출력\n",
    "print(len(non_matching_values))\n",
    "list(non_matching_values)\n"
   ]
  },
  {
   "cell_type": "markdown",
   "id": "2f790983",
   "metadata": {},
   "source": [
    "# TEST"
   ]
  },
  {
   "cell_type": "code",
   "execution_count": 17,
   "id": "5f24fd76",
   "metadata": {},
   "outputs": [],
   "source": [
    "for code in codes:\n",
    "    driver = webdriver.Chrome(service=ChromeService(ChromeDriverManager().install()))\n",
    "    url = f'https://pcmap.place.naver.com/restaurant/{code}/review/visitor?entry=pll&from=map&fromPanelNum=1&n_ad_group_type=10&n_query=%EC%97%B0%ED%9D%AC%EB%8F%99%EC%B9%B4%ED%8E%98&timestamp=202311241402&x=126.92933369999999&y=37.572160200912094#'\n",
    "    driver.get(url)\n",
    "\n",
    "    html = driver.page_source\n",
    "\n",
    "    soup = BeautifulSoup(html, 'html.parser')\n"
   ]
  },
  {
   "cell_type": "code",
   "execution_count": 5,
   "id": "c4da4411",
   "metadata": {},
   "outputs": [
    {
     "data": {
      "text/plain": [
       "'보연희'"
      ]
     },
     "execution_count": 5,
     "metadata": {},
     "output_type": "execute_result"
    }
   ],
   "source": [
    "name= soup.find('span', class_='Fc1rA').get_text()\n",
    "name\n"
   ]
  },
  {
   "cell_type": "code",
   "execution_count": 31,
   "id": "5a8c330e",
   "metadata": {
    "scrolled": true
   },
   "outputs": [
    {
     "data": {
      "text/plain": [
       "[<selenium.webdriver.remote.webelement.WebElement (session=\"5e4b469070f7786df485adb82d606aec\", element=\"0B62C674E1760DEEA087C26D6888442B_element_24\")>,\n",
       " <selenium.webdriver.remote.webelement.WebElement (session=\"5e4b469070f7786df485adb82d606aec\", element=\"0B62C674E1760DEEA087C26D6888442B_element_25\")>]"
      ]
     },
     "execution_count": 31,
     "metadata": {},
     "output_type": "execute_result"
    }
   ],
   "source": [
    "visiter_reviews={}\n",
    "tags = driver.find_elements(By.CSS_SELECTOR, 'div.PaWWQ')\n",
    "tags"
   ]
  },
  {
   "cell_type": "code",
   "execution_count": 37,
   "id": "693ffeda",
   "metadata": {},
   "outputs": [],
   "source": [
    "# 꼭 큰화면으로 실행하기\n",
    "menus= tags[0]\n",
    "features= tags[1]\n",
    "menu_list=[]\n",
    "feature_list=[]\n",
    "\n",
    "menus= menus.find_elements(By.CSS_SELECTOR, 'span.Me4yK')\n",
    "features= features.find_elements(By.CSS_SELECTOR, 'span.Me4yK')\n",
    "\n",
    "for i in range(5):\n",
    "#     menu_list.append(menus[i].text)\n",
    "    visiter_reviews[f'menu_{i+1}']= menus[i].text\n",
    "for i in range(5):\n",
    "    visiter_reviews[f'feature_{i+1}']= features[i].text\n"
   ]
  },
  {
   "cell_type": "code",
   "execution_count": 42,
   "id": "1490176c",
   "metadata": {},
   "outputs": [
    {
     "data": {
      "text/html": [
       "<div>\n",
       "<style scoped>\n",
       "    .dataframe tbody tr th:only-of-type {\n",
       "        vertical-align: middle;\n",
       "    }\n",
       "\n",
       "    .dataframe tbody tr th {\n",
       "        vertical-align: top;\n",
       "    }\n",
       "\n",
       "    .dataframe thead th {\n",
       "        text-align: right;\n",
       "    }\n",
       "</style>\n",
       "<table border=\"1\" class=\"dataframe\">\n",
       "  <thead>\n",
       "    <tr style=\"text-align: right;\">\n",
       "      <th></th>\n",
       "      <th>menu_0</th>\n",
       "      <th>feature_0</th>\n",
       "      <th>menu_1</th>\n",
       "      <th>feature_1</th>\n",
       "      <th>menu_2</th>\n",
       "      <th>feature_2</th>\n",
       "      <th>menu_3</th>\n",
       "      <th>feature_3</th>\n",
       "      <th>menu_4</th>\n",
       "      <th>feature_4</th>\n",
       "      <th>menu_5</th>\n",
       "      <th>feature_5</th>\n",
       "      <th>short_top1</th>\n",
       "      <th>short_top2</th>\n",
       "      <th>short_top3</th>\n",
       "      <th>short_top4</th>\n",
       "      <th>short_top5</th>\n",
       "    </tr>\n",
       "  </thead>\n",
       "  <tbody>\n",
       "    <tr>\n",
       "      <th>0</th>\n",
       "      <td>케이크139</td>\n",
       "      <td>맛221</td>\n",
       "      <td>케이크139</td>\n",
       "      <td>맛221</td>\n",
       "      <td>파르페46</td>\n",
       "      <td>만족도122</td>\n",
       "      <td>과일41</td>\n",
       "      <td>서비스26</td>\n",
       "      <td>딸기케이크32</td>\n",
       "      <td>메뉴11</td>\n",
       "      <td>커피19</td>\n",
       "      <td>목적10</td>\n",
       "      <td>디저트가 맛있어요</td>\n",
       "      <td>특별한 메뉴가 있어요</td>\n",
       "      <td>친절해요</td>\n",
       "      <td>음료가 맛있어요</td>\n",
       "      <td>커피가 맛있어요</td>\n",
       "    </tr>\n",
       "  </tbody>\n",
       "</table>\n",
       "</div>"
      ],
      "text/plain": [
       "   menu_0 feature_0  menu_1 feature_1 menu_2 feature_2 menu_3 feature_3  \\\n",
       "0  케이크139      맛221  케이크139      맛221  파르페46    만족도122   과일41     서비스26   \n",
       "\n",
       "    menu_4 feature_4 menu_5 feature_5 short_top1   short_top2 short_top3  \\\n",
       "0  딸기케이크32      메뉴11   커피19      목적10  디저트가 맛있어요  특별한 메뉴가 있어요       친절해요   \n",
       "\n",
       "  short_top4 short_top5  \n",
       "0   음료가 맛있어요   커피가 맛있어요  "
      ]
     },
     "execution_count": 42,
     "metadata": {},
     "output_type": "execute_result"
    }
   ],
   "source": [
    "pd.DataFrame(visiter_reviews, index=[0])\n",
    "# visiter_reviews"
   ]
  },
  {
   "cell_type": "code",
   "execution_count": 41,
   "id": "643f07cd",
   "metadata": {},
   "outputs": [],
   "source": [
    "# 리뷰 top5\n",
    "# top5_short=[]\n",
    "top5= driver.find_elements(By.CSS_SELECTOR, 'span.nWiXa')\n",
    "for i in range(5):\n",
    "#     top5_short.append(i.text[1:-1])\n",
    "    visiter_reviews[f'short_top{i+1}']= top5[i].text[1:-1]\n",
    "    "
   ]
  },
  {
   "cell_type": "code",
   "execution_count": 8,
   "id": "0ba219c5",
   "metadata": {},
   "outputs": [
    {
     "name": "stdout",
     "output_type": "stream",
     "text": [
      "<re.Match object; span=(0, 6), match='케이크139'>\n",
      "<re.Match object; span=(0, 5), match='파르페46'>\n",
      "<re.Match object; span=(0, 4), match='과일41'>\n",
      "<re.Match object; span=(0, 7), match='딸기케이크32'>\n",
      "<re.Match object; span=(0, 4), match='커피19'>\n",
      "<re.Match object; span=(0, 8), match='생크림케이크17'>\n",
      "<re.Match object; span=(0, 7), match='아이스크림11'>\n",
      "<re.Match object; span=(0, 6), match='다쿠아즈10'>\n",
      "<re.Match object; span=(0, 10), match='딸기생크림케이크10'>\n",
      "None\n",
      "None\n",
      "None\n",
      "None\n",
      "None\n",
      "None\n"
     ]
    },
    {
     "data": {
      "text/plain": [
       "{'케이크': '139',\n",
       " '파르페': '46',\n",
       " '과일': '41',\n",
       " '딸기케이크': '32',\n",
       " '커피': '19',\n",
       " '생크림케이크': '17',\n",
       " '아이스크림': '11',\n",
       " '다쿠아즈': '10',\n",
       " '딸기생크림케이크': '10'}"
      ]
     },
     "execution_count": 8,
     "metadata": {},
     "output_type": "execute_result"
    }
   ],
   "source": [
    "import re\n",
    "\n",
    "menu_dict={}\n",
    "for input_string in menu_list:\n",
    "    # 정규 표현식을 사용하여 문자와 숫자 분리\n",
    "    matches = re.match(r'([a-zA-Z가-힣]+)(\\d+)', input_string)\n",
    "    print(matches)\n",
    "    # 결과 출력 또는 다른 용도로 사용\n",
    "    if matches:\n",
    "        coffee_type, quantity = matches.groups()\n",
    "        menu_dict[coffee_type]=quantity\n",
    "menu_dict"
   ]
  },
  {
   "cell_type": "code",
   "execution_count": 9,
   "id": "3fa0596a",
   "metadata": {
    "scrolled": false
   },
   "outputs": [
    {
     "name": "stdout",
     "output_type": "stream",
     "text": [
      "<re.Match object; span=(0, 4), match='맛221'>\n",
      "<re.Match object; span=(0, 6), match='만족도122'>\n",
      "<re.Match object; span=(0, 5), match='서비스26'>\n",
      "<re.Match object; span=(0, 4), match='메뉴11'>\n",
      "<re.Match object; span=(0, 4), match='목적10'>\n",
      "<re.Match object; span=(0, 3), match='가격9'>\n",
      "<re.Match object; span=(0, 4), match='음식량8'>\n",
      "<re.Match object; span=(0, 4), match='분위기8'>\n",
      "<re.Match object; span=(0, 3), match='예약5'>\n",
      "<re.Match object; span=(0, 5), match='대기시간4'>\n",
      "<re.Match object; span=(0, 4), match='청결도3'>\n",
      "<re.Match object; span=(0, 3), match='방역2'>\n",
      "None\n",
      "None\n"
     ]
    },
    {
     "data": {
      "text/plain": [
       "{'맛': '221',\n",
       " '만족도': '122',\n",
       " '서비스': '26',\n",
       " '메뉴': '11',\n",
       " '목적': '10',\n",
       " '가격': '9',\n",
       " '음식량': '8',\n",
       " '분위기': '8',\n",
       " '예약': '5',\n",
       " '대기시간': '4',\n",
       " '청결도': '3',\n",
       " '방역': '2'}"
      ]
     },
     "execution_count": 9,
     "metadata": {},
     "output_type": "execute_result"
    }
   ],
   "source": [
    "feature_dict={}\n",
    "for feature_string in feature_list:\n",
    "    matches=re.match(r'([a-zA-Z가-힣]+)(\\d+)', feature_string)\n",
    "    print(matches)\n",
    "    if matches:\n",
    "        tag, cnt= matches.groups()\n",
    "        feature_dict[tag]=cnt\n",
    "        \n",
    "feature_dict"
   ]
  },
  {
   "cell_type": "code",
   "execution_count": 125,
   "id": "c6806e0c",
   "metadata": {},
   "outputs": [
    {
     "name": "stdout",
     "output_type": "stream",
     "text": [
      "20\n",
      "30\n",
      "40\n",
      "50\n",
      "60\n",
      "70\n",
      "80\n",
      "89\n",
      "97\n",
      "107\n"
     ]
    }
   ],
   "source": [
    "for i in range(10):\n",
    "    more_button = driver.find_element(By.CLASS_NAME, 'fvwqf')\n",
    "    more_button.click()\n",
    "    time.sleep(1)"
   ]
  },
  {
   "cell_type": "code",
   "execution_count": 44,
   "id": "34e5a439",
   "metadata": {},
   "outputs": [],
   "source": [
    "reviews= driver.find_elements(By.CLASS_NAME, 'zPfVt')"
   ]
  },
  {
   "cell_type": "code",
   "execution_count": 45,
   "id": "f15a27fb",
   "metadata": {},
   "outputs": [],
   "source": [
    "review_list=[]\n",
    "for review in reviews:\n",
    "    review_list.append(review.text.replace('\\n', ' '))\n",
    "        \n",
    "visiter_reviews['visiter_reviews']= review_list"
   ]
  },
  {
   "cell_type": "code",
   "execution_count": 48,
   "id": "f2285d0e",
   "metadata": {},
   "outputs": [
    {
     "data": {
      "text/plain": [
       "{'menu_0': '케이크139',\n",
       " 'feature_0': '맛221',\n",
       " 'menu_1': '케이크139',\n",
       " 'feature_1': '맛221',\n",
       " 'menu_2': '파르페46',\n",
       " 'feature_2': '만족도122',\n",
       " 'menu_3': '과일41',\n",
       " 'feature_3': '서비스26',\n",
       " 'menu_4': '딸기케이크32',\n",
       " 'feature_4': '메뉴11',\n",
       " 'menu_5': '커피19',\n",
       " 'feature_5': '목적10',\n",
       " 'short_top1': '디저트가 맛있어요',\n",
       " 'short_top2': '특별한 메뉴가 있어요',\n",
       " 'short_top3': '친절해요',\n",
       " 'short_top4': '음료가 맛있어요',\n",
       " 'short_top5': '커피가 맛있어요',\n",
       " 'visiter_reviews': ['무화과와 피스타치오가 이렇게 잘 어울릴줄 몰랐는데 완전 최고!! 피스타치오 크림이 진하고 꾸덕한데 느끼하지도 않고 너무 맛있음!! 크림 자체가 맛있어서 피스타치오 갸또도 완전 맛있을듯!! 다음엔 갸또로~',\n",
       "  '무화과 시즌메뉴보고 달려가길 너무 잘한곳❣️ 다쿠아즈 위에 가나슈 얹은 메뉴가 너무 신박한데 존맛\\U0001faf6🏻 비쥬얼만보고 케이크인 줄 알았는데 다쿠아즈 시트 무슨일인가요 사장님 천재💯 무화과도 진짜 많이 때려박아주셔서 무 화과덕후들은 무조건 가야되요 집이 멀지만 굳이굳이 찾아갈 이유 이백프로 있던곳 포장해갔던 밤케이크도 진짜 맛있었어요 다음에 갈땐 케이크 전메뉴 먹을게요 \\U0001faf6🏻❣️',\n",
       "  '망고케잌 너무 맛있음 망고로 가득채워진 것 맘에들고 (뭐 가격이 이러하니.. ㅋㅋ) 고구마도 맛있는데 시트 비스켓 부분이 좀 밸런스를 깨는것 같다. 암튼 만족한 케이크!',\n",
       "  '매우늦었지만 남기는 리뷰...무화과파르페랑 피스타치오무화과다쿠아즈케이크..! 무화과 처돌이에겐 너무 행복해지는 맛이였습니다 헤헤 지금은 딸기시즌인가 보네용, 또 먹으러갈것...!!!!!',\n",
       "  '케이크가 정말 맛있어요!! 무화과가 신선하고 우유생크림이 고소하고 무화과랑 잘 어울려서 맛있어요! 바나나카라멜도 캬라멜이 진하고 달콤한 바나나랑 초코맛이 어우러져서 맛있어요!!',\n",
       "  '인기가 많은 곳이라 엄청 시끌벅적했지만 케이크가 존맛! 테이블이 너무 다닥다닥 붙어있어서 예쁜 느낌은 아니었어요. 모든 손님을 수용하기 위해 여러 테이블이 놓여진 느낌? 케이크가 좀 비싸지만 맛있는 케이크를 드시고 싶은 분들께는 추천해요.',\n",
       "  '무화과 파르페를 먹어보았어요~ 그냥 파르페인줄 알았는데 토치로 구워주는 퍼포먼스가 있어서 재미있어요! 설탕이 튀어서 뜨거우니 조심해야해요~ 무화과가 듬뿍 있어 맛있구요, 호지차푸딩이 진짜 맛있어요. 저는 개인적으로 호지차 맛이 불호인데도 너무 맛있게 먹었구요. 푸딩 밑에는 아이스크림도 있고요~ 무화과 파르페 진짜 아주 맛있게 먹었어요ㅎㅎ 사진엔 없지만 무화과 케이크도 테이크아웃 했는데 무화과가 진짜 듬뿍들어서 맛있었고, 밑에  케이크시트가 다쿠아즈였는데 다음날에도 바삭해서 진짜 맛있었어요!',\n",
       "  '연희동 핫플레이스라서 들러본곳~~계절탓에 딸기케잌은 없었지만~~무화과케잌도 있고 ~다른고객들이 케잌 주문하는걸 보니 디저트 맛집 맞나봐요~^^ 저흰 음료만~',\n",
       "  '과일 파르페와 케이크가 맛있는 카페, 연희동 카페 보연희 복숭아 파르페 물렁물렁한 백도, 크림, 아이스크림, 그래놀라 구성 복숭아 철 가기 전에 먹어봐야 할 구성 요소가 서로 잘 어울렸던 파르페 피스타치오 갸또 피스타치오  원물 맛이 잘 느껴졌고 크림, 케이크 등의 단 맛이 강했고 질감은 부드러운 편이었음. 피스타치오 디저트 좋아하시는 분이라면 좋아하실 맛 맛있게 잘 먹었습니다😃',\n",
       "  '여기 호지차 바밤바 갸또 존맛입니당 굿! 사실 원래 가려던 곳이 있었는데 휴무라서 두번째 찜!이었던 보연희에 방문했던건데 제가 미췄네요;; 이런 맛집을 첫번째로 두지않고 감히 두번째?! 케이크 종류도 많고 다 존맛탱이었습 니다 그리고 밀크티 티백 선택할 수 있어서 좋았어요 ! 차 알못이긴한데 선택해서 마시니까 뭔가 더 좋더라구요 ㅋㅋㅋ 이날 더웠는데 시원하게 잘 마셨네용 ㅎㅎ']}"
      ]
     },
     "execution_count": 48,
     "metadata": {},
     "output_type": "execute_result"
    }
   ],
   "source": [
    "visiter_reviews"
   ]
  },
  {
   "cell_type": "code",
   "execution_count": 52,
   "id": "9c35aede",
   "metadata": {},
   "outputs": [],
   "source": [
    "rr={}\n",
    "rr[name]=review_list"
   ]
  },
  {
   "cell_type": "code",
   "execution_count": 53,
   "id": "633382af",
   "metadata": {},
   "outputs": [
    {
     "data": {
      "text/html": [
       "<div>\n",
       "<style scoped>\n",
       "    .dataframe tbody tr th:only-of-type {\n",
       "        vertical-align: middle;\n",
       "    }\n",
       "\n",
       "    .dataframe tbody tr th {\n",
       "        vertical-align: top;\n",
       "    }\n",
       "\n",
       "    .dataframe thead th {\n",
       "        text-align: right;\n",
       "    }\n",
       "</style>\n",
       "<table border=\"1\" class=\"dataframe\">\n",
       "  <thead>\n",
       "    <tr style=\"text-align: right;\">\n",
       "      <th></th>\n",
       "      <th>보연희</th>\n",
       "    </tr>\n",
       "  </thead>\n",
       "  <tbody>\n",
       "    <tr>\n",
       "      <th>0</th>\n",
       "      <td>무화과와 피스타치오가 이렇게 잘 어울릴줄 몰랐는데 완전 최고!! 피스타치오 크림이 ...</td>\n",
       "    </tr>\n",
       "    <tr>\n",
       "      <th>1</th>\n",
       "      <td>무화과 시즌메뉴보고 달려가길 너무 잘한곳❣️ 다쿠아즈 위에 가나슈 얹은 메뉴가 너무...</td>\n",
       "    </tr>\n",
       "    <tr>\n",
       "      <th>2</th>\n",
       "      <td>망고케잌 너무 맛있음 망고로 가득채워진 것 맘에들고 (뭐 가격이 이러하니.. ㅋㅋ)...</td>\n",
       "    </tr>\n",
       "    <tr>\n",
       "      <th>3</th>\n",
       "      <td>매우늦었지만 남기는 리뷰...무화과파르페랑 피스타치오무화과다쿠아즈케이크..! 무화과...</td>\n",
       "    </tr>\n",
       "    <tr>\n",
       "      <th>4</th>\n",
       "      <td>케이크가 정말 맛있어요!! 무화과가 신선하고 우유생크림이 고소하고 무화과랑 잘 어울...</td>\n",
       "    </tr>\n",
       "    <tr>\n",
       "      <th>5</th>\n",
       "      <td>인기가 많은 곳이라 엄청 시끌벅적했지만 케이크가 존맛! 테이블이 너무 다닥다닥 붙어...</td>\n",
       "    </tr>\n",
       "    <tr>\n",
       "      <th>6</th>\n",
       "      <td>무화과 파르페를 먹어보았어요~ 그냥 파르페인줄 알았는데 토치로 구워주는 퍼포먼스가 ...</td>\n",
       "    </tr>\n",
       "    <tr>\n",
       "      <th>7</th>\n",
       "      <td>연희동 핫플레이스라서 들러본곳~~계절탓에 딸기케잌은 없었지만~~무화과케잌도 있고 ~...</td>\n",
       "    </tr>\n",
       "    <tr>\n",
       "      <th>8</th>\n",
       "      <td>과일 파르페와 케이크가 맛있는 카페, 연희동 카페 보연희 복숭아 파르페 물렁물렁한 ...</td>\n",
       "    </tr>\n",
       "    <tr>\n",
       "      <th>9</th>\n",
       "      <td>여기 호지차 바밤바 갸또 존맛입니당 굿! 사실 원래 가려던 곳이 있었는데 휴무라서 ...</td>\n",
       "    </tr>\n",
       "  </tbody>\n",
       "</table>\n",
       "</div>"
      ],
      "text/plain": [
       "                                                 보연희\n",
       "0  무화과와 피스타치오가 이렇게 잘 어울릴줄 몰랐는데 완전 최고!! 피스타치오 크림이 ...\n",
       "1  무화과 시즌메뉴보고 달려가길 너무 잘한곳❣️ 다쿠아즈 위에 가나슈 얹은 메뉴가 너무...\n",
       "2  망고케잌 너무 맛있음 망고로 가득채워진 것 맘에들고 (뭐 가격이 이러하니.. ㅋㅋ)...\n",
       "3  매우늦었지만 남기는 리뷰...무화과파르페랑 피스타치오무화과다쿠아즈케이크..! 무화과...\n",
       "4  케이크가 정말 맛있어요!! 무화과가 신선하고 우유생크림이 고소하고 무화과랑 잘 어울...\n",
       "5  인기가 많은 곳이라 엄청 시끌벅적했지만 케이크가 존맛! 테이블이 너무 다닥다닥 붙어...\n",
       "6  무화과 파르페를 먹어보았어요~ 그냥 파르페인줄 알았는데 토치로 구워주는 퍼포먼스가 ...\n",
       "7  연희동 핫플레이스라서 들러본곳~~계절탓에 딸기케잌은 없었지만~~무화과케잌도 있고 ~...\n",
       "8  과일 파르페와 케이크가 맛있는 카페, 연희동 카페 보연희 복숭아 파르페 물렁물렁한 ...\n",
       "9  여기 호지차 바밤바 갸또 존맛입니당 굿! 사실 원래 가려던 곳이 있었는데 휴무라서 ..."
      ]
     },
     "execution_count": 53,
     "metadata": {},
     "output_type": "execute_result"
    }
   ],
   "source": [
    "pd.DataFrame(rr)"
   ]
  },
  {
   "cell_type": "code",
   "execution_count": null,
   "id": "527be3f5",
   "metadata": {},
   "outputs": [],
   "source": []
  }
 ],
 "metadata": {
  "kernelspec": {
   "display_name": "Python 3",
   "language": "python",
   "name": "python3"
  },
  "language_info": {
   "codemirror_mode": {
    "name": "ipython",
    "version": 3
   },
   "file_extension": ".py",
   "mimetype": "text/x-python",
   "name": "python",
   "nbconvert_exporter": "python",
   "pygments_lexer": "ipython3",
   "version": "3.8.8"
  }
 },
 "nbformat": 4,
 "nbformat_minor": 5
}
