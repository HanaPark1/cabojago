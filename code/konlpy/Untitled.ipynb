{
 "cells": [
  {
   "cell_type": "code",
   "execution_count": 2,
   "id": "d23d9969",
   "metadata": {},
   "outputs": [
    {
     "name": "stdout",
     "output_type": "stream",
     "text": [
      "     Unnamed: 0        name cafe_type\n",
      "0             1        로컬코드       브런치\n",
      "1             2  브레디포스트 연남점    카페,디저트\n",
      "2             3        팽페르뒤    카페,디저트\n",
      "3             4       코코로카라      베이커리\n",
      "4             5         터틀힙    카페,디저트\n",
      "..          ...         ...       ...\n",
      "296         299        크리멜트      베이커리\n",
      "297         300        앤스커피    카페,디저트\n",
      "298         301     로앤쿡드 연남       브런치\n",
      "299         302        요거로밀    카페,디저트\n",
      "300         303        라보아르    카페,디저트\n",
      "\n",
      "[301 rows x 3 columns]\n",
      "C:\\Users\\kim\\Desktop\\2023-2\\빅데이터프로그래밍\\cabojago\\code\\konlpy\n",
      "All files have been processed.\n"
     ]
    }
   ],
   "source": [
    "import pandas as pd\n",
    "from konlpy.tag import Okt\n",
    "import os\n",
    "import glob\n",
    "import re \n",
    "\n",
    "okt = Okt()\n",
    "current_dir = os.getcwd()\n",
    "\n",
    "file_path = '../../data/crawling/cafelist/cafelist_연남동.csv'\n",
    "data = pd.read_csv(file_path)\n",
    "print(data)\n",
    "stopwords = data['name'].tolist()\n",
    "split_stopwords = []\n",
    "\n",
    "for word in stopwords:\n",
    "    split_stopwords.extend(word.split())\n",
    "    \n",
    "print(current_dir)\n",
    "input_directory = os.path.join('../../data', 'crawling', 'blog_review', 'blog_review_result_list', '연남동')\n",
    "output_directory = os.path.join('../../data', 'RE_konlpy', 'blog_reviews', 'yeonnam')\n",
    "filepaths = glob.glob(input_directory + '/*.csv')\n",
    "\n",
    "for filepath in filepaths:\n",
    "    try:\n",
    "        data = pd.read_csv(filepath)\n",
    "    except pd.errors.EmptyDataError:\n",
    "        print(f'Skipped empty file: {filepath}')\n",
    "        continue\n",
    "    \n",
    "    for stopword in split_stopwords:\n",
    "        for column in data.columns:\n",
    "            if column != 'title':\n",
    "                pattern = re.compile(stopword, re.IGNORECASE)  \n",
    "                data[column] = data[column].apply(lambda x: pattern.sub('', str(x)))\n",
    "    \n",
    "    for column in data.columns:\n",
    "        data[column] = data[column].apply(lambda x: [okt.normalize(word[0]) for word in okt.pos(' '.join(okt.morphs(x))) if word[1] in ['Noun', 'Adjective']])\n",
    "        data[column] = data[column].apply(lambda x: [okt.morphs(word, stem=True)[0] if okt.pos(word)[0][1] == 'Adjective' else word for word in x])\n",
    "    \n",
    "    base = os.path.basename(filepath)\n",
    "    new_filepath = os.path.join(output_directory, f'{os.path.splitext(base)[0]}_stopwords.txt')\n",
    "    data.to_csv(new_filepath, index=False, sep='\\t', header=None)\n",
    "\n",
    "print(\"All files have been processed.\")"
   ]
  },
  {
   "cell_type": "code",
   "execution_count": null,
   "id": "deeb5ec3",
   "metadata": {},
   "outputs": [],
   "source": []
  }
 ],
 "metadata": {
  "kernelspec": {
   "display_name": "Python 3",
   "language": "python",
   "name": "python3"
  },
  "language_info": {
   "codemirror_mode": {
    "name": "ipython",
    "version": 3
   },
   "file_extension": ".py",
   "mimetype": "text/x-python",
   "name": "python",
   "nbconvert_exporter": "python",
   "pygments_lexer": "ipython3",
   "version": "3.8.8"
  }
 },
 "nbformat": 4,
 "nbformat_minor": 5
}
