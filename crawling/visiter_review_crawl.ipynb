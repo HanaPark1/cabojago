{
 "cells": [
  {
   "cell_type": "code",
   "execution_count": 41,
   "id": "67deab3b",
   "metadata": {},
   "outputs": [],
   "source": [
    "import pandas as pd\n",
    "import numpy as np\n",
    "import requests\n",
    "from bs4 import BeautifulSoup\n",
    "from selenium import webdriver\n",
    "from selenium.webdriver.chrome.service import Service as ChromeService\n",
    "from webdriver_manager.chrome import ChromeDriverManager\n",
    "from selenium.webdriver.common.by import By\n",
    "from selenium.webdriver.common.keys import Keys\n",
    "from selenium.webdriver.support.ui import WebDriverWait\n",
    "from selenium.webdriver.support import expected_conditions as EC\n",
    "import time\n",
    "import re"
   ]
  },
  {
   "cell_type": "code",
   "execution_count": 42,
   "id": "18b120f8",
   "metadata": {},
   "outputs": [],
   "source": [
    "places={}\n",
    "visiter_reviews={}"
   ]
  },
  {
   "cell_type": "code",
   "execution_count": 59,
   "id": "eb74b66c",
   "metadata": {},
   "outputs": [
    {
     "data": {
      "text/plain": [
       "109"
      ]
     },
     "execution_count": 59,
     "metadata": {},
     "output_type": "execute_result"
    }
   ],
   "source": [
    "len(visiter_reviews.keys())"
   ]
  },
  {
   "cell_type": "code",
   "execution_count": 60,
   "id": "3f8dd8f1",
   "metadata": {},
   "outputs": [
    {
     "data": {
      "text/plain": [
       "[1618240240.0,\n",
       " 1213231016.0,\n",
       " 1300378937.0,\n",
       " 1888210838.0,\n",
       " 1176845784.0,\n",
       " 1968041382.0,\n",
       " 34658234.0,\n",
       " 1403632278.0,\n",
       " 37468319.0,\n",
       " 1176174041.0,\n",
       " 1130943497.0,\n",
       " 1299745145.0,\n",
       " 1476308702.0,\n",
       " 1256673550.0,\n",
       " 1883832743.0,\n",
       " 38015815.0,\n",
       " 1168064769.0,\n",
       " 1865456225.0,\n",
       " 1215983970.0,\n",
       " 36398891.0,\n",
       " 1310686440.0,\n",
       " 1703190567.0,\n",
       " 37992103.0,\n",
       " 1497090871.0,\n",
       " 1500504643.0,\n",
       " 1689239430.0,\n",
       " 1729088578.0,\n",
       " 1910633529.0,\n",
       " 1612839292.0,\n",
       " 1543986977.0,\n",
       " 1493242469.0,\n",
       " 38420402.0,\n",
       " 1751254128.0,\n",
       " 1367299797.0,\n",
       " 1914086649.0,\n",
       " 1383128698.0,\n",
       " 35453402.0,\n",
       " 1653541790.0,\n",
       " 35751361.0,\n",
       " 1602152491.0,\n",
       " 1346475243.0]"
      ]
     },
     "execution_count": 60,
     "metadata": {},
     "output_type": "execute_result"
    }
   ],
   "source": [
    "output_cafelist= pd.read_csv('../data/output_cafelist/output_cafelist_연희동.csv')[['카페ID','카페이름']]\n",
    "codes= output_cafelist['카페ID'].to_list()[113:]\n",
    "# output_cafelist\n",
    "codes"
   ]
  },
  {
   "cell_type": "markdown",
   "id": "041af65b",
   "metadata": {},
   "source": [
    "## Error\n",
    "#### 망원동\n",
    "```\n",
    "33 모아래\n",
    "이스트우드 망원점  visiter_review\n",
    "101 셀렉티드 커피앤스윗츠 name 'NoneType' object has no attribute 'get_text'\n",
    "127 베베크 top5 list index out of range\n",
    "181 다도살롱 초록달 3호점 feature list index out of range\n",
    "206 베잇킹 feature list index out of range\n",
    "226 driver\n",
    "257 메가MGC커피 마포중앙점 name 'NoneType' object has no attribute 'get_text'\n",
    "272 driver cannot convert float NaN to integer\n",
    "```\n",
    "#### 성수동\n",
    "```\n",
    "37 브라우터 name 'NoneType' object has no attribute 'get_text'\n",
    "67 투데이즈 위켄드 name 'NoneType' object has no attribute 'get_text'\n",
    "98 그린랩 name 'NoneType' object has no attribute 'get_text'\n",
    "사이드템포  visiter_review\n",
    "구테로이테 성수센트럴키친  visiter_review\n",
    "에빠  visiter_review\n",
    "181 309디저트카페 'NoneType' object has no attribute 'get_text'\n",
    "278 수피하우스 name 'NoneType' object has no attribute 'get_text'\n",
    "```\n",
    "#### 연남동\n",
    "```\n",
    "99\n",
    "128 디그이지\n",
    "176\n",
    "```\n",
    "#### 한남동\n",
    "```\n",
    "27\n",
    "170 nan\n",
    "```\n",
    "#### 연희동\n",
    "```\n",
    "102 nan\n",
    "103 nan\n",
    "111 nan\n",
    "112 nan\n",
    "```"
   ]
  },
  {
   "cell_type": "code",
   "execution_count": 61,
   "id": "06732ad8",
   "metadata": {},
   "outputs": [
    {
     "name": "stdout",
     "output_type": "stream",
     "text": [
      "으믐  more_button\n",
      "베베베 신촌점  more_button\n",
      "철부지붕어빠  more_button\n",
      "르바게트 메종  more_button\n",
      "그루밍커피  more_button\n",
      "코티지블루  more_button\n",
      "베이크 샵 하벳  more_button\n",
      "모리노코  more_button\n",
      "하우스오브바이닐 연남점  more_button\n"
     ]
    }
   ],
   "source": [
    "from selenium import webdriver\n",
    "from selenium.webdriver.chrome.options import Options\n",
    "\n",
    "chrome_options = Options()\n",
    "chrome_options.add_argument('--headless')  # 브라우저 창을 숨기는 옵션 추가\n",
    "# chrome_options.add_argument('--disable-gpu')  # GPU 사용 안 함 (일부 시스템에서 필요할 수 있음)\n",
    "\n",
    "try:\n",
    "    for code in codes:\n",
    "        driver = webdriver.Chrome(service=ChromeService(ChromeDriverManager().install()), options=chrome_options)\n",
    "        err= 'driver'\n",
    "        url = f'https://pcmap.place.naver.com/restaurant/{int(code)}/review/visitor?entry=pll&from=map&fromPanelNum=1&n_ad_group_type=10&n_query=%EC%97%B0%ED%9D%AC%EB%8F%99%EC%B9%B4%ED%8E%98&timestamp=202311241402&x=126.92933369999999&y=37.572160200912094#'\n",
    "        driver.get(url)\n",
    "        html = driver.page_source\n",
    "\n",
    "        soup = BeautifulSoup(html, 'html.parser')\n",
    "        \n",
    "        # 장소 이름\n",
    "        err='name'\n",
    "        name= soup.find('span', class_='Fc1rA').get_text()\n",
    "        reviews={}\n",
    "        # menu tag, feature tag\n",
    "        # 꼭 큰화면으로 실행하기\n",
    "        try: # 리뷰 태그 2종류인 경우\n",
    "            err='tag'\n",
    "            tags = driver.find_elements(By.CSS_SELECTOR, 'div.PaWWQ')\n",
    "            \n",
    "            menus= tags[0]\n",
    "            features= tags[1]\n",
    "            \n",
    "            err='menu'\n",
    "            menus= menus.find_elements(By.CSS_SELECTOR, 'span.Me4yK')\n",
    "            features= features.find_elements(By.CSS_SELECTOR, 'span.Me4yK')\n",
    "            \n",
    "            for i in range(5):\n",
    "                reviews[f'menu_{i+1}']= menus[i].text\n",
    "\n",
    "            for i in range(5):\n",
    "                reviews[f'feature_{i+1}']= features[i].text               \n",
    "        except: # 리뷰 태그 1종류인 경우\n",
    "#             tags= driver.find_elements(By.CSS_SELECTOR, 'div.ngGKH')\n",
    "            err='feature'\n",
    "            features= driver.find_elements(By.CSS_SELECTOR, 'span.Me4yK')\n",
    "            \n",
    "            for i in range(5):\n",
    "                try:\n",
    "                    reviews[f'feature_{i+1}']= features[i].text \n",
    "                except:\n",
    "                    reviews[f'feature_{i+1}']= None\n",
    "\n",
    "        # short_review_top5\n",
    "        err='top5'\n",
    "        top5= driver.find_elements(By.CSS_SELECTOR, 'span.nWiXa')\n",
    "        for i in range(5):\n",
    "            try:\n",
    "                reviews[f'short_top{i+1}']= top5[i].text[1:-1]\n",
    "            except:\n",
    "                reviews[f'short_top{i+1}']= None\n",
    "        # 리뷰 더보기\n",
    "        try:\n",
    "            for i in range(10):\n",
    "                err='more'\n",
    "                more_button = driver.find_element(By.CLASS_NAME, 'fvwqf')\n",
    "                more_button.click()\n",
    "                time.sleep(1)\n",
    "        except Exception as e:        \n",
    "            print(name,' more_button')\n",
    "        \n",
    "        err='visiter'\n",
    "        visiter_review= driver.find_elements(By.CLASS_NAME, 'zPfVt')\n",
    "        visiter_review_list=[]\n",
    "        for review in visiter_review:\n",
    "            try:\n",
    "                visiter_review_list.append(review.text.replace('\\n', ' '))\n",
    "            except:\n",
    "                print(name,' visiter_review')\n",
    "\n",
    "        places[name]= reviews\n",
    "        visiter_reviews[name]=visiter_review_list\n",
    "    #     visiter_reviews\n",
    "        driver.quit()\n",
    "except Exception as e:\n",
    "    print(name,err,e)\n"
   ]
  },
  {
   "cell_type": "code",
   "execution_count": 27,
   "id": "a4e5f5f8",
   "metadata": {
    "scrolled": true
   },
   "outputs": [
    {
     "data": {
      "text/plain": [
       "dict_keys(['로컬코드', '브레디포스트 연남점', '팽페르뒤', '코코로카라', '터틀힙', '유키모찌 연남점', '모리노코', '일쩜오플로어', '조앤도슨', '서울페이스트리 연남점', '오츠커피 연남', '마가렛 연남', 'Are&am', '작당모의', '파이인더샵', '하우에버 연남', '스트로베리32 연남본점', '청수당공명', '치플레', '카페 레이어드 연남점', '코티지블루', '바나나하루키', '랜디스도넛 연남점', '펠른', '얼스어스', '브론시스', '카페드댕', '에브리데이해피벌스데이', '커피리브레 연남점', '잼잼', '오버딥', '티크닉', '표정', '브라운하우스 연남', '꽈페 연남본점', '카페클로이인패리스', '피오니 연남점', '동명양과자점', '카페스콘', '모닝캄커피랩 연남점', '코코리코', '파롤앤랑그', '17도씨', '테일러커피 연남점', '버터앤쉘터 연남점', '히포', '수크레크레페하우스', '씨스루', '땡스오트 연남', '피프에스프레소바', '모투누이', '블루보틀 연남 카페', '달콤다정', '리틀빅토리', '페블스', 'MIDNIGHT PLEASURE', 'SOP', '펌킨 펫하우스 청담', '올웨이즈어거스트 제작소', '맥코이 연남', '오흐뒤구떼', '에스프레소 부티크', '멜팅오브', '턴다운서비스', '코리코카페', '테누커피', '벌스가든', '메리트리', 'lebonble 르봉블레', '라헬의부엌 연남점', '콩카페 연남점', '더파이샵', '목화씨라운지', 'Deweet', '골드타임', '포포민즈낫띵', '펠른 연남', '피에트라', '코이크', '소하염전 연남', '연트럴다방', '매일 카페', '위트앤척클', '폴리스팬케이크', '씨스터브레드', '어니스트팬케이크', '사이드테이블', '미라지커피', '지구제과', '롱베케이션', '로프스페이스 연남', '발트 본점', '베란다컵케익', '누크녹', '하프베이글', '꿀넹쿠키 연남점', '아꽁뜨', '위아소울메이트', '코코시에나 티오마카세', '플루밍', '오피스오브', '플렘므', '원모어프로포즈', '유니크혼', '무무대베이크', '네시사분', '스몰럭케이크', '흐림', '오랑지', '브래디스커피', '커피냅로스터스 연남동', '디 아더', '코메아벨렘', '스트뉴', '카페 만월회 그로서리마켓', '유니드마이요거트', '누아즈데테', '이오엠', '녹온', '마들젠', '앳더모먼트', '서당개2년로스터스', '작은새', '믜요', '모리노팡', '레또르떼', '피스피스 연남점', '카멜커피 9호점', '디그이지', '벌스데이투미', 'SF bagels', '연남동그라미', '푸치케', '스윗헤르츠', '웨이즈커피 연남', '긱스 연남점', '88파운드', '슈타데', '휘퍼스', '커비스컵케이크', '알버트파크', '연남살롱', '게슈탈트 커피', '아트스뉴욕 연남점', '스윗미업', '그림제작소 연남점', '카페밀노', 'Osds 연남', '김보람 초콜릿 연남점', '더세컨드하우스', '벨라쿠키 연남', '카페하이웨스트 연남점', '코발트무드', '케익다방 연남점', '카페 드 래빗', '카페 시즈닝즈', '아사프', '해피니스인어데이', 'ttotto cuisine', '아민 위샐러듀다이닝', '올루 에스프레소바', '아이니드케이크 연남점', '연남동벚꽃집', '언페어피스', '위치앤그레텔', '궤도 연남', '로즈베리모어', '세빠띠', '모닐이네하우스', '필로앤소피아', '메리고라운드 연남점', '프롬헤라스 연남', '포스트 케이크', '로제드미네', '프리즘연남', '무유무유', '샌드웨이브', '지구샵 제로웨이스트홈', '부트 카페 연남', '차니베어스테이션', '르누아즈', '플리퍼스 연남점', '호안끼엠', '다레젤라또 연남점', '1994SEOUL', '꾸다방', '페어리 하우스', '카페늘보', '바림케이크', '리이슈커피로스터스', '다르 에스프레소바', '미로베이크', '데일리라운드', '서울도넛츠 연남점', '부빵', '텐더리커피앤디저트', '노아빈', '야미양 글루텐프리 공방카페', '카페몽슈슈 연남점', '연남동콤부차', '마카롱롱롱', '필엣필즈', '얼웨이즈스프링', '멜티스트', '와이와이와이 그릭요거트 연남', '컴포넌트 커피', '월에버', '메종미하벨', '백종명화이트커피', '거니노룰즈', '카페 드 루왁', '레드애플 연남점', '오테라부띠끄', '얀 yawn', '쥬리스 크림하우스', '로스팅마스터즈 연남점', '오랑제뜨22', '유메이크쿠키', '왓어버터', '그루비', '르프레', '낫낫커피', '키레네도시21C', '히피리피', '연남허니밀크', '지구샵 그로서리', '프롬라떼 연남', '플루프커피', '카페 롤다운', '바람커피원두상점', '프롬딥그린', '카페테틈', '카페테드', '바우 오마카세', '일련 로스터스', '츄르릅', '러프글로스', '슬리핑포레스트', '썸모어델리', '윤태익 다르다 심리카페', '가나슈블랫', '리드미', '햄니케이크', '시나모메', '로일즈', '하유', '리틀프레스커피', 'EEEK', '공간아를', '스타티스', '롭다', '타래커피', '크리멜트', '앤스커피', '로앤쿡드 연남', '요거로밀', '라보아르'])"
      ]
     },
     "execution_count": 27,
     "metadata": {},
     "output_type": "execute_result"
    }
   ],
   "source": [
    "places.keys()"
   ]
  },
  {
   "cell_type": "code",
   "execution_count": 62,
   "id": "9133ae0b",
   "metadata": {},
   "outputs": [],
   "source": [
    "pd.DataFrame.from_dict(places).T.to_csv('../data/place_info/place_info_연희동.csv', encoding='utf-8-sig')"
   ]
  },
  {
   "cell_type": "code",
   "execution_count": 43,
   "id": "230a5be1",
   "metadata": {},
   "outputs": [
    {
     "data": {
      "text/plain": [
       "295"
      ]
     },
     "execution_count": 43,
     "metadata": {},
     "output_type": "execute_result"
    }
   ],
   "source": [
    "len(visiter_reviews.keys())"
   ]
  },
  {
   "cell_type": "code",
   "execution_count": 88,
   "id": "98e9dd91",
   "metadata": {},
   "outputs": [
    {
     "name": "stdout",
     "output_type": "stream",
     "text": [
      "105\n",
      "26\n"
     ]
    }
   ],
   "source": [
    "for review in visiter_reviews.values():\n",
    "    print(len(review))"
   ]
  },
  {
   "cell_type": "code",
   "execution_count": 58,
   "id": "2a594e63",
   "metadata": {},
   "outputs": [
    {
     "data": {
      "text/plain": [
       "['부재료가 아낌없이 팍팍 듬뿍 든 다양한 맛있는 빵이 가득한 홍대권 대표 베이커리 앙베리굿 부드럽고 말랑말랑한 치아바타에 팥과 버터외에 블루베리 크림치즈가 들어간 상큼 달달한 버전의 앙버터 팥크림치즈커스터드식빵 바삭한 소보루가 올라간 촉촉 부드러운 식빵으로 안에 커스터드크림, 팥, 치즈 가 들어있어 달달 고소한 맛이 좋았음 고구마크림치즈사워도우 부드럽고 얇은 사워도우 안에 달달한 고구마와 고소한 크림치즈가 빵 균형이 무...',\n",
       " '빵이 넘 맛있어서 재방문!😎ㅎ 맘먹고 간 게 아니라 남은 빵이라도 줍줍하려고 주말 오후 5시 넘어서 방문했어요 당연히 15분 정도 줄서서 입장했고 사 고 싶은 빵이 없긴했지만ㅜ 그래도 빵이 나름 있었어요 시그니처인 얼그레이 크림빵 구매했는데 역시나 빵피는 거들뿐 크림이 와장창 있어요 홍차잎이 잘게 들어가 있어서 얼그레이 향이 진하니 잘 느껴져요!👏 크림 안에 초콜렛정크가 있는 게 아니라 빵피 안에 적당한 양으로 있어서 얼그레이 맛...',\n",
       " '망원동에서 가장 인기있는 빵집이라고 할수 있으며 도대체 왜 이렇게 인기가 있나 궁금하여 왔습니다. 정말 크림폭탄이라는 말에 가까운 빵들이 많으며 다른빵들도 내용물이 꽉꽉 차 있습니다. 그래서 막상 한 두개만 먹어도 생각보다 배가 부르고 먹기 힘들어집니다. 커피 없이는 진짜 힘들어요 특히 크 림빵 계열은 빵의 모습을 한 크림덩어리 같네요 사실 맘모스빵이 궁금 했는데 막상 보니 제가 아는 맘모스랑은 많이 다르네요 일단 상당히 작은...',\n",
       " '빵이 묵직하니 내용물이 가득가득 넘 실해요~ 팥이랑 흑임자 좋아하는 할매 입맛인데 어글리베이커리 빵들은 다 취향저격!👍 흑임자 맘모스는 크지는 않은데 흑임자, 팥 압축된 밀도 있는 맛입니다 맛의 조합이 좋고 가끔 씹히는 아몬드 식감도 굿굿 빵에 들어가는 팥앙금이 설탕 단맛이 아닌 은은한 팥 본연의 단맛이 느껴져서 넘 좋네요~~ 밤이랑 팥, 소보로빵 합치면 맛없없!! 다만 내용물이 한쪽으로 쏠렸는지 끝으로 갈수록 팥이 적어져서 아쉬...',\n",
       " '옥수수 좋아해 전부터 먹어보고 싶었다가 최근에 구매해봤어요 크림은 과하지 않은 은은한 단맛이라 단거 별로 선호하지 않는 저한테 딱 알맞은 정도였어요 근데 빵피에서 짠맛이 너무 나요 과해요ㅠ 크림 맛을 해쳐요 감자치즈치아바타는 처음 구매해봤는데 크기도 크고 맛도 나쁘지 않네요 가격도 저 크기에 4천원이면 합리적인거 같아요',\n",
       " '다른 가게들과 가격대는 비슷한데 재료가 엄청 많이 들어있어서 무거울 정도라 기분 좋았어요. 하나 아쉬운 점은 대파빵에 뭔가 실 같은 게 있길래 채소  섬유질인가 했는데 ... 머리카락이었어요 ㅠㅠ (붙어있는 덩어리는 빵에 있는 야채예요) 저는 별로 신경 안써서 그냥 떼고 먹긴 했는데 앞으로 이런 부분 은 신경쓰시면 좋지 않을까 싶었습니다 +++ 다음날 남은 대파빵 먹는데 머리카락 한 가닥 더 나왔어요 ... ^^',\n",
       " '고팥치 진짜,,,맛잇네요 ㅋㅋ구황작물 라인만 먹다가 신상매뉴 잇길래 먹어봤는데 쑥떡빵은 떡 듬뿍 들어잇고 고팥치는 짱 부드럽도 간도 맞아서 더 제스탈... 또갈게요...',\n",
       " '워낙 유명한 맛집이라 고대했는데 오픈 후 2시간 이후면 원하는 빵이 솔드아웃이더라구요.. 얼른 가세요!!!!  어픈 런 강튜',\n",
       " '망리단길과 망원시장 구경갔다가 사람들 줄섰길래 따라 줄서봤어요. 알고보니 마포구 빵지순례 중 1곳이라네요. 유명한 맛집 잘 찾아갔어요. 오픈런했 죠 저도 얼결에^^ 6개 샀는데 이렇게 묵직할 수가.. 안에 내용물이 꽉차 봉지 가득 무거움이 느껴졌어요^^; 일본에서 촬영도 왔더라고요. 빵나오길 기다 리며 안에 있는 테이블에 앉아 사람 구경했네요. 적정 인원수만큼만 입장 시키고 빠지만 다음 줄 사람들 들어와 주문하는 시스템이네요. 담에 또 ...',\n",
       " '구황작물 끝판왕 :) 믿고먹는 어글리베이커리  평일 낮에 가면 조용해서 좋아요! 다만 치아바타 종류는 금방 빠지는편 !',\n",
       " '제 최애 빵집 중 하나인데 정말 오랜만에 급땡겨서 추석 연휴에 다녀왔습니다. 대기가 덜할 줄 알았는데 평소처럼 정말 많더라구요ㅎㅎ 여기 빵은 재료가 풍성하게 들어가 있어서 정말 맛있고 값을 하는것 같아요!!',\n",
       " '추석연휴 마지막날 1시간20분 웨이팅ㅎㅎ 그래도 오랜만에 먹어도 맛있는 크림빵ㅠㅠ 7만원치 샀어요~ 이번에 밤팥사워도우빵 처음샀는데 빵피 겁나 얇고 안에 밤이랑 팥 미쳤음요',\n",
       " '정말 빵킷리스트로 정해두고 기대하고 또 기대하던 어글리베이커리 드디어 입성..! 부산에서부터 얼마나 설래던지 뱅기타고 김포 내리자마자 달려왔어요 수많은 빵들보며 정말 고르는대도 행복했어요,, 하지만 전 ㅂ 팥들은아이들로만 야무지게 겟! 진짜 너무 기대됩니더 냉동고 쟁여두고 한동안 행복할예정이에요!',\n",
       " '구황작물 러버라면 사랑할 수 밖에 없는 빵집이에요 재료 가득 넣어서 너무 좋아요',\n",
       " '좋아하는 빵 전문 유튜버 분이 소개한 걸 보고 찾아간 곳인데 전부 재료의 맛이 진하게 느껴져서 좋았어요~! 엄마가 다른 곳 빵은 느끼해서 잘 안 드시는데 어글리 베이커리 맘모스 빵은 엄청 잘 드셔서 더더욱 좋았습니다^^',\n",
       " '맘모스빵들이 유명한데 저는 크림빵 좋아해요!! 얼그레이 크림빵에 초코랑 향긋한 크림 더해져서 완전 좋아여 ♥',\n",
       " '운좋게 웨이팅 거의 안하고 들어갓어요 악마의 초코슈 달고 마싯어요 겉에 초코는 마니 달고 안에 크림은 크게 안달아서 잘 어울렷어요 맘모스는 묵직합니당',\n",
       " '역시 명불허전 어글리~ 수많은 크림빵집들이 생겨나지만 역시 어글리는 어글리였다 전혀 뒤쳐지지않아... 무얼먹어도 맛은 평타이상인게 참 조아용',\n",
       " '오랜만에가서 기대했나봐요 근데 좀 늦게 가서 빵은 맘모스랄크림빵 위주로만 남아있었고요 쑥맘모스는 엄청 꾸덕한데 제 입맛엔 그냥 쏘쏘였고 제일  기대했던 피스타치오는 좀 물렸고 피스타치오 좋아하던 남편도 하나 다 먹긴 힘들었어오 크림빵 양도 많고 해서 20대 30대 초반엔 좋아했는데 이젠 버 거워졌나봐오',\n",
       " '매장에서 취식이 안되는건 아쉽지만 포장만 하기때문에 웨이팅이 길지않은점은 장점인 것 같아요! 속이 정말 알차서 조금만 먹어도 엄청 배불러요!',\n",
       " '크림빵맛집이에요 집근처지만 늘 웨이팅때문에 자주 못먹는데 평일 오후시간에 조용할때 틈타 종종 삽니다 ㅋㅋ 많이 달지 않아서 좋아요',\n",
       " '한번 먹어번걸로 만족합니다 ㅎ',\n",
       " '말차생크림빵(가나슈)- 연세우유 크림빵 등등 너무 단 거를 싫어해서 크게 기대 안 했었는데 적당히 달고 크림 듬뿍이라 너무 맛있었어요!! 생각날 때 마 다 가서 사먹고 있어요😩 망원동…에서 살고싶다.. 녹차맘모스- 녹차 맘모스도 진짜…미쳐 대존맛 마늘빵&소금빵-늦게 가서 남은 빵 아무거나 집어서  사왔는데 정말 맛이 없더라고요!! 크림류나 맘모스 드세요!',\n",
       " '망원동 빵지순례 필수코스 어글리❤️',\n",
       " '빵이 묵직하고 커요! 대파빵 생각지 못한 조합인데 맛있어요! 빵이 묵직해서 당분간 먹을빵들 냉동실에 쟁여놓으니 든든하네요!!ㅎㅎ',\n",
       " '감동의 고구마 맘모스, 옥수수좋아해 임자있어요, 단호박크림치즈사워도우 샀어요 비싸지만 맛있네요. 총금액은 21800원~~',\n",
       " '토요일 2:30 방문, 30분 웨이팅 제일 먹고싶었던 메뉴는 거의 품절 1.흑임자 맘모스 2.피스타치오크림빵 3.밤크림치즈사워도우 4.단호박크림치즈치아 바타 5.감동의대파빵 순서로 맛있었어요! 대파빵 진짜 좋아하는데 이건 너무 파 따로 빵 따로 먹는 느낌..? 맘모스 너무 맛있는데 크기에 비해 살짝 비싼 감이',\n",
       " '망원동에 갈때마다 오는 어글리 베이커리에요. 다양하게 사보는 편인데 크림빵들은 다 맛있었어요. 오늘 처음 먹어본 레몬크림빵은 쓴맛이 났어요...\\U0001f972크림빵 중에서는 얼그레이 크림빵이 제일 맛있어요!',\n",
       " '정말 실망했어요……. 꽉찬 속내용물로 유명하다고 알고있었는데…뭐죠 이 텅빔은..하ㅠㅠㅠ 원래 이렇게 가운데만 조금 있는건가요',\n",
       " '빵이 맛있고 크림소스를 개성적이고 맛있고 풍부하게 이용 잘하는 베이커리 가게 대부분 큼지막 해서 나누어서 먹거나 다른 누군가와 같이 먹는게 좋아요',\n",
       " '오후 5시에 갔으니 빵이없죠...흑 사고싶었던빵들은 못봤어요 너무 아쉬워요 그래도 맘모스랑 크림빵 사왔습니다 테이크아웃으로 빵 사가는곳인듯해 요 크림빵은 늦게까지 구입가능한듯한대 샤워크림 곡물빵등은 빨리가셔야해요 집에서 먹어봤는대 맛있었습니다 부드럽고좋아요! 망원시장쪽이라서  시장구경하시고 빵도사시고 하는코스 좋아요!',\n",
       " '매주 토요일마다 도서관 가는길에 들리는 곳인데 금요일 5시에 가니 웨이팅 없이 바로 입장 할 수 있었습니다~ 욕심안내고 안먹어 본거 위주로 몇 개씩 만 데려오는데 이번엔 황치즈맘모스!! 정말 손목이 뻐근할정도로 묵직하네요~♡ 치즈러버라 완전 행복했습니다!! 어글리크림빵은 크림이 조금 삐져나 왔다고 가격할인도 해주셨어요 ㅠㅠ 완전 혜자빵집!!',\n",
       " '빵지순례 필수코스 망원 어글리베이커리 원래 맘모스랑 크림빵이 정말 유명한 곳이지만 하드빵도 마싰어서 이번엔 하드빵 한바가지 사갑니다 안에 내 용물 항상 가득이라 가성비 최고에다가 맛도 최고💗',\n",
       " '비싸지만 맛있어요',\n",
       " '여기는 저의 망원동 찐 빵맛집이에요 맘모스랑 크림빵, 식사빵 등 빵 종류가 정말 많고 다 맛있어 보여요😭 빵 물량이 많아서 오후에 가도 품절된 빵이 그렇게 많지 않고 먹고 싶은 거를 거의 다 살 수 있었요 그리고 직원인가? 퇴근할 때 가방에 빵을 잔뜩 들고 가는걸 봤는데 여기서 일하면 빵을 매일 먹을 수 있나봐요 여기서 일하고 싶네요!🙌🏻',\n",
       " '오픈런 40분 기다렸어요 맛있긴 맛있네요 웨이팅 힘들었지만 크림에 양에 비해 느끼하지않고 부드러워요',\n",
       " '대파빵 다시 먹고싶어서 주말에 갔더니 40분기다렸어요 전보다 비싸졌는데 크기도 약간 커진것 같아요 밤샤워크림빵이 제일 궁금했는데 품절되서 못산게 많이 아쉬워요 딴거 밤들어간 빵샀는데 밤맛이 약간 밍밍하네요',\n",
       " '일요일 오전 11시 25분쯤 갔더니 (12시 오픈) 다섯번째 순서정도 됐어요 ㅋㅋ 속이 꽉꽉 차있어서 빵이 꽤 무겁습니다 크림빵 왜 하나만 샀지 후회돼요. ..',\n",
       " '이곳의 속꽉찬 하드계열빵을 좋아해요😍',\n",
       " '오랜만에 방문했는데도 여전히 맛있고 메뉴들도 다양해진 거 같아요~~!❤️ 하나같이 다 너무 맛있었어요~~💕👍',\n",
       " '소금빵은 평범했습니다. 개인적으로 조금 더 짭짤했으면 어떨까 싶어요. 호지차 크림빵 첫 입에는 엄청 맛있었는데 그 뒤부터 맛이 잘 안 느껴지더라고요? 얼그레이 크림빵이 제일 맛있었어요. 하도 달다는 후기를 많이 봐서 걱정했는데 예상한 것보다는 덜 달아서 좋았습니다!',\n",
       " '어글리크림빵 크림 가득가득 채워져있고 맛있어요😋👍🏻✨',\n",
       " '얼그레이크림빵 먹으러 몇번갔는데 맛있어요',\n",
       " '감동의대파빵? 쓴맛이ㅋㅋㅋ 빵은 매우 드라이 퍽퍽하고 안 익은 대파가 쓴맛과 아린맛을 안겨주네요 크림치즈로 진화해서 먹었습니다만.. 크림빵이나 사올걸.  종이쇼핑백은 200원 😑',\n",
       " '비주얼(만) 맛집. 1번 대파빵, 2번 황뽀또맘모스 먹고있는데, 정말 맛이 없어서 리뷰 남겨요. 대파빵은.. 이 돈 주고? 쌩파를 먹는 느낌은 고문 같아요.. 촉촉함도 없고 어떻게든 맛을 살리려고 마요네즈도 찍어 먹어보는데 별로에요. 황뽀또도 저렴한 맛이에요. 그냥 제크 몇 개 넣은.. 슬픈 금요일 밤입니다 오랜만에 빵지순례 실패 😔',\n",
       " '직원분 너무 친절하세요~ 흑임자 맘모스 맛있네요~',\n",
       " '크림빵에 크림 완전 가득! 빵피도 쫀득 부드러워요. 얼그레이크림에 초코도 깔려있어서 조합 좋아요',\n",
       " '아직 먹어보기 전인데, 12시 오픈런 하지 않으면 원하는 빵 구하기 어려운 곳..',\n",
       " '이거 먹으려고 440km 달려서 왔다구요👵🏻✨🔥✨🚗 12시 오픈런했는데 실화인가요? 그래도 묵직한 빵을 보니 피곤이 사르르🥰 명성만큼 묵직하고 맛납니다🐷 보냉백이랑 아이스팩 싹다 챙겨가세요💪🏻 어글리 베이커리 사랑해🥯🍞🥖🥨🧀🥐 #망미미 #망원맛집 #어글리베이커리',\n",
       " '망원 빵지순례 중 한 곳. 가게 찾는건 넘 쉽당. 사람들이 줄을 2층에서부터 쭉 서잇다?! 그럼 어글리베이커리 잘 찾앗다는 증거. 주말이라 웨이팅 생각하 고 온 거라 괜찮았고 궃은 날씨라서 그나마 덜한(?) 웨이팅 햇다고 생각합니당. 덕분에 매장 빨리 들어가서 빵 디스플레이에 가득찬 모습 볼 수 있었네요 ✨ 모두 한번 가게 가면 빵봉투 가득 사와서 원하던 빵 못 살까봐 걱정햇는데 크림빵, 하드빵 모두 살 수 잇엇슴돠. 역시 유명한 곳엔 이유가...! 크...',\n",
       " '여기 사진은 없지만 얼그레이 크림빵 뽀또 맘모스 사먹었어요 크림빵은 얼그레이크림빵이 대 존맛이구요 맘모스는 예전엔 맛있는지ㅡ몰랐는데 이번꺼는 진짜 맛있네요! 잘 먹었습니다.',\n",
       " '피스타치오크림빵이랑 얼그레이크림빵을 구매해봤는데 피스타치오크림빵은 크림에서 피스타치오맛도 잘 나면서 적당히 달콤해서 맛있게 잘 먹었어요! 그리고 피스타치오도 오독오독 씹혀서 좋더라구요~ 얼그레이크림빵은 맛있는데 얼그레이 향이 꽤 쎄더라구요ㅜ 맛있게 잘먹었습니다 :)',\n",
       " '구황작물 덕후 진짜 감동의 맛이에요 ㅠ 많이 달지도 않고 단호박, 밤 사이에 크림치즈도 환상의 조합입니다. 피스타치오 크림빵도 많이 안달고 피스타치오 그 자체예요,, 앞으로 자주 가겠습니다!',\n",
       " '주말 토요일 늦은 오후에 방문해서 기다리지 않고 한 종류 남아있는 얼그레이 크림빵 구입해왔어요!-!〰️\\U0001faf6🏻 진짜 크림이 가득가득 들어있어서 너무 맛있었어요 ㅠㅠ〰️💛 다음에는 평일에 방문해서 더 다양한 빵 맛보려구요!',\n",
       " '초코 맘모스 초코 진짜 진하고 맛있어요 좀 달긴한데... 크림빵류는 생각보다는 안달아서 좋았어요 감동의 무화과는 빵이 좀 딱딱해서 먹기 힘들었어요',\n",
       " '안에 토핑가득 손꼽아 기다렸던 빵😋😋😋',\n",
       " '주말이라4시넘어서인지 치아바타다나갔어여 ㅜㅜㅜ',\n",
       " '속이 꽉찬 빵으로 요즘 유명하길래 방문했어요!! 명성답게 정말 속이 알차네요!!',\n",
       " '빵맛집이라고 해서 찾아갔습니다! 생크림이 듬뿍 들어있어요!!',\n",
       " '일요일에 약 한시간 정도 대기하고 들어갔어요! 매장이 작다보니 취식은 불가한점! 재료를 아끼지 않은듯한 내용물과 맛도 너무나도 좋습니다! 재재재 방문할곳이예요!',\n",
       " '얼그레이 향 가득한 크림빵이에요. 피가 진짜 얇고 크림이 한가득이라 빵과 크림의 경계가 없을지경.. 너무 빵이 얇아서 아쉬울지경입니다. 크림 좋아하 시는 분들은 엄청 좋아하실가같아요. 바닥에 초콜렛이 깔려있어서 초코씹히는 맛도 별미네용. 꼭 시원하게 드시고 냉동실에 살짝 얼려드세용',\n",
       " '처음 골랐던 빵이 재고가 없다며 다른걸 보고있었습니다. 비슷한 빵이 뭐가 있냐는 질문에 계산하는분이 침묵으로 뚫어져라 쳐다보는데 옆에 다른분이  응대해주셔서 구매하고 나왔습니다. 빵 종류 알지못하면 계산원 눈치보면서 구매해야되네요 첫방문인데 굉장히 불쾌합니다',\n",
       " '근처 볼 일 보러갔다 간만에 들렀네요 여전히 웨이팅 있는데, 20~30분 정도 오랜만이라 잊었는데. 사랑받는 이유가 있네요 가성비 짱입니다',\n",
       " '주말엔 줄이 너무 길어욯ㅎ 한번씩 생각나는 맘모스 사러 왔어요.',\n",
       " '제 앞에서 초코나무숲이 품절 ㅜ 바로 앞에서 ( o̴̶̷᷄ ·̫ o̴̶̷̥᷅ ) 이럴순없지만 그래도 빵은 맛있고 직원분들도 예쁘고 친절하고 진짜 와보고 싶었는데 드디어 와서 먹어보는 구나 그래도 주말치고 줄이 많이 안길어서 좋아요',\n",
       " '평일에도 열어주셔서 땡큐.. 저녁 17:30경 감동의 말차 맘모스, 황치즈 맘모스 등등 남아있었어요!! 여기 황치즈 잘해요!!',\n",
       " '크림이 무겁게 엄청 꽉꽉 눌러넣었어요. 한개 다 못 먹을 정도~요새 물가 생각하면 싸고 맛있네요.',\n",
       " '저는 감동의 뽀또맘모스를 정말 추천합니다!!  크림빵들은 맛있는데 진짜 크림 좋아하시는 분들만 드세요! 뽀또맘모스는 꾸덕 쫀득 짭짤 달달 다해요 입에서 엄청난 맛들의 파티가...',\n",
       " '요즘 빵지순례 필수 코스라고 해서 가봤습니다. 줄이 너무 길어 보통 40분 정도 소요된다서 해서 망원동 구경하다가 애매하게 5시쯤 갔더니 바로 살 수 있었네요. 대파빵은 신선할 때가 지나면 굉장히 맛 차이가 나는 것 같은데 바로 먹고 갈 수 없어서 좀 아쉬웠어요. 취향 차이를 많이 겪을 것 같은 가게인 것 같습니다.',\n",
       " '크림빵이랑 맘모스 덕후에게 어글리베이커리는 천국(๑>◡<๑) 피스타치오 크림빵 제일 죠아해요\\U0001faf6🏻💗',\n",
       " '어글리는 크림빵이랑 맘모스빵 뿐만 아니라 하드빵도 징쨔 맛도리에여…\\U0001f979 속재료 진짜 빠방한거 보세여 빵피는 그냥 속재료 담기 위해 존재할뿐…👍🏻',\n",
       " '크림빵수니의 천국 어글리베이커리..🥰 크림 양 진짜 장난아님. 피스타치오는 좋아하면 추천. 얼그레이는 안에 초코가 들어있어서 오히려 아쉬웠어요. 치아바타는 살짝 건조한 편이고, 반전으로 얼그레이무화과스콘이 제일 맛있었어요!!👍',\n",
       " '오후에 갔더니 원하는 빵이 없어서 아쉬웠지만 다른 빵도 맛있어요',\n",
       " '얼그레이크림빵> 녹차맘모스 > 생크림단팥빵 > 감동의맘모스',\n",
       " '황치즈 맘모스 진짜 너무 맛있습니다💕',\n",
       " '궁금해서 찾아간 어글리베이커리에요 빵안에 재료가 가득 들어있어요~',\n",
       " '오픈런해서 줄서서 구매했는데 :-) 성공적ㅎㅎㅎ 빵지순례 성공해서 행복햐요 식사빵 치아바타가찐 맛도리에여',\n",
       " '특별한 빵이 있어요',\n",
       " '하나만 먹어도 배부르네요',\n",
       " '하드 빵들이 저는 더 맛있었어여 :-)  무호과는 필수!!',\n",
       " '진득한 무거운 맛 👍 넘맛남',\n",
       " '오레오크림빵🖤 쫀득한 빵안에 쿠키앤크림 아이스크림을 녹여서 만든 크림맛이 나는 맛있는 오레오크림이 듬뿍 들어가 있음!! 그냥 먹는 것보단 얼먹 해서 먹는 걸 추천함(그래야 덜 물림). 초코맘모스빵🤎 손바닥만한 사이즈에 두께감이 상당함. 빵의 비율은 25%정도 되고 나머지는 두꺼운 초코무스 가 발려있음. 안에 얇게 상큼한 잼이 발려있는데, 초코무스에 묻힐만큼 초코비율이 높음!! 초코무스는 되게 진하고 부드럽고 우리가 흔히 아는 맛...',\n",
       " '드디어 망원동에 어글리베이커리에 다녀왔네요🤗 그 유명한 맘모스와 크림빵 그리고 단팥빵 등등!!!! 종류가 너무너무 너어어어어어어무 많아서 고르 기 힘들었어요\\U0001f972 다행히 웨이팅도 매장 안에서 가능하고 무엇보다 에어컨이 아주아주 빵빵하답니다\\U0001fa75 시원한걸 넘어서 춥기까지 했네요☺️ 기다리면 서 빵 종류 찬찬히 고를 수 있는게 너무 다행이었고 동선도 그렇게 짜신듯한게 정말 맘에 들었네요🥳 맛은 가장 기본 맛들로 샀는데 가격이 전혀 ...',\n",
       " '망원에 오면 항상 어글리베이커리 빵을 들고 다니는 사람들을 많이 봤었는데요. 사람이 많아서 갈 엄두도 못 내다 얼마전 평일 4시쯤 사람이 없어서 방 문했습니다. 빵 종류가 정말 다양하고 맛도 다양하고 반죽 자체가 맛있어요. 감자치즈도우 감자 진짜 그득그득 들어있고 감동의 대파빵도 대파랑 크림 치즈가 잔뜩 들어있음 캐셔분도 친절하셨습니다. 이 정도라 줄 서서 사는구나 이해.. 재방문의사 1000000%',\n",
       " '망원 주변에 갈 때마다 줄이 너무 길어서 들어갈 엄두를 내지 못했었는데 평일이라 웨이팅 없이 들어갈 수 있었습니다. 구매한 뽀또 맘모스와 말차 맘모스 모두 굉장히 맛이 진하고 맛있었습니다. 다음에는 다른 빵들도 먹어보러 다시 방문하겠습니다.',\n",
       " '망원동 크림빵성지!!! 기다림은 필수죠',\n",
       " '뽀또맘모스, 바닐라커스타드팥빵 모두 너무 맛있었어요! 일요일 오후 5시쯤 갔는데 10-15분정도 대기했어요!',\n",
       " '빵이맛있어서오는곳',\n",
       " '가끔 생각날때마다 가는데 얼그레이, 녹차, 밤 다 매싯어요!   평일은 3시정도에 갔을때도 물량이 넉넉히 남아있었구요 주말은 3시정도면 몇개 안남아요!!',\n",
       " '평일 3시쯤 방문했더니 웨이팅 없이 바로 구매할 수 있었어요! 크림빵은 별로 안좋아해서 맘모스랑 구황장물덕후만 구매했습니다. 구황작물덕후 너무 맛있어요ㅠㅠ 다음에 또 사러 가야겠어용',\n",
       " '11시 40분도착해서 12시 15분에 들어왔어요! 저번에 뽀또맘모스가 넘 맛있어서 또왔어요 황치즈는 진짜 어글리만한데가 없음 ㅠㅠㅠ 크림빵도 달달하고 팥도 넘 잘해서 뭐든 성공하실거에요! 암튼 오픈런은 꼭 하세요오 ❤️',\n",
       " '빵이 달지 않고 속에 내용물이 가득찼어요~ 식사 대용으로 해도 좋겠어요~ 대신 가격도 만만치 않아요~ 팥이 맛있어요~',\n",
       " '토요일 11시 50분에 방문했는데 예전처럼 많이 기다리진 않았고 웨이팅 한 15-25분 정도 걸렸어요 트레이에 빵도 많이 남았있었어요',\n",
       " '워낙 유명한곳이라 기대엄청하고 갔는데 지인이랑 합쳐서 10만원치 사갔는데 다 별로였어요 맘모스도 그렇고 크림빵도 겉에 빵이 엄청 수분감이 없고 푸석푸석했어요 얼먹도 해보고 해동다된상태에서도 먹어봤는데 똑같았습니다. 저날 반죽이 잘못됬던걸까요?? 제가 이상한가싶어서 가족이랑 지인들한테 다 나눠줬는데 저랑 똑같은 반응이에요',\n",
       " '말차크림빵, 쑥맘모스랑 말차맘모스가 제일 맛있었어요! 패션후르츠 크림빵은 처음먹어보네유...',\n",
       " '뽀또맘모스 맛있어요~ 앙베리굿도 좋음!',\n",
       " '너무 유명해서 말이 필요없는 빵집🤍 평일 1시에 갔는데도 사람이 많았지만 구매하는데에는 문제 없었어요😊',\n",
       " '비싼만큼 재료가 풍부해요. 존맛',\n",
       " '인스타에서 라인업을 살펴보고 미리 선택해 가기를 추천. 웨이팅이 길다. 관광객은 오픈런 추천. 바로 오른쪽 카페에서 먹고 갈수 있으며 어글리 영수증  제시하면 천원 할인해줌.',\n",
       " '억지스러운 야채와 토마토 치아바타 두개다 맛있습니다. 토마토 치아바타는 흔히 보지 않던 메뉴라 주문해보았는데 정말 맛있네요! 손님에비해 계산직원이 적은거 같아 의아했지만, 충분히 웨이팅해서 먹을만한 빵맛집입니다!',\n",
       " '어글리 베이커리 맛있어요!  매장에서 취식 할 수 없습니다 ㅎㅎ',\n",
       " '날이 더워서 그런지 주말치곤 웨이팅이 그리 길진 않았어요. 이번엔 크림빵 위주로 담아왔는데 역시나 묵직하네요!! 👍  감동의 대파빵은 호불호가 있을듯 합니다~  저희 식구중에선 저만 좋아하네요^^ ㅎㅎ',\n",
       " '꺆 평일도 웨이팅이라니… 외국인들도 많이 오는것같더라구요 항상 크림빵만 먹다가 맘모스 처음 사먹어봤는데 역시 맛있어요 다음엔 대파어쩌구 먹어봐야지',\n",
       " '와 뽀또치즈 맘모스... 그냥 극강의 소금맛ㅜ. 30대 후반인데요, 요즘 친구들은 정말 이렇게 소태같이 짠맛을 찾아다니는 건가요? 저 날만 그런 건지 몰라도 단짠이 아니라 그냥 소금이 씹혀서 냉동실로 ㅋㅋ',\n",
       " '정말정말 빵 사기 어려운 곳이지만 피스타치오크림빵 넘 맛있네요! 뽀또맘모스는 비쥬얼 보고 샀는데 제겐 넘넘 달아요! 그냥 한 번 맛본 것으로 만족하렵니다. 구황작물덕후는 달지않고 구황작물이 정말 많이 들어있어요.걘적으로는 크림치즈가 조금만 더 들어가면 좀 더 고급진 맛일 거 같아요',\n",
       " '알고있는 곳이였지만 제가 사먹으러 간건 첫방문! 이였어요 ㅋㅋㅋㅋ 맘모스만 패고 왔습니댜… 감동의 맘모스는 이름처럼 감동이였어요.. ㅎㅎ 다른것들도 차근차근 맛있게 먹어볼게용 ㅎㅎ',\n",
       " '포장만 가능한데  대기도 좀 있어요.. 유명하 이유가 있겠죠',\n",
       " '어글리 베이커리 ❤️ 드디어 와보다닝 평일 12시 조금 넘어서 방문했는데 20분-30분정도 기다리다가 구매할 수 있었던 것 같아욤 감자치즈 먹고싶었는데 빨리 품절된건지 라인업에는 있었지만 없더라구여ㅠㅅㅠ 밤 크림치즈 사워도우 밤 완전 그득그득해여ㅕ ❤️',\n",
       " '다행히 웨이팅 없이 들어갔죠! 이런 힙한 곳에 오게되다니 참 감동입니다\\U0001f979 빵안에 그득그득 들어있는 맛있는 재료들. 워낙 비주얼이 대박이라 자꾸 넋놓고 보게되더라구요 ㅎㅎ 직원분들도 넘 곱고 친절하셔서 더 좋았던 어글리베이커리. 뭐가 어글리한지 모르겠고 그저 프리티한 곳입니다😻',\n",
       " '목요일 4시넘어서 갔데 빵 아직 많이 남아있었구요 줄선거에 비해 맛은 모르겠어여 여기꺼 뽀또맘모스랑 생크림단팥빵먹고 너무너무너무 느끼해서 라면 먹었어요....']"
      ]
     },
     "execution_count": 58,
     "metadata": {},
     "output_type": "execute_result"
    }
   ],
   "source": [
    "[ list(review) for review in visiter_reviews.values()][0]"
   ]
  },
  {
   "cell_type": "code",
   "execution_count": 63,
   "id": "57f3ac60",
   "metadata": {},
   "outputs": [],
   "source": [
    "pd.DataFrame(index= visiter_reviews.keys(), data= visiter_reviews.values()).to_csv('../data/visiter_reviews/visiter_reviews_연희동.csv', encoding='utf-8-sig')"
   ]
  },
  {
   "cell_type": "markdown",
   "id": "2f790983",
   "metadata": {},
   "source": [
    "# TEST"
   ]
  },
  {
   "cell_type": "code",
   "execution_count": 17,
   "id": "5f24fd76",
   "metadata": {},
   "outputs": [],
   "source": [
    "for code in codes:\n",
    "    driver = webdriver.Chrome(service=ChromeService(ChromeDriverManager().install()))\n",
    "    url = f'https://pcmap.place.naver.com/restaurant/{code}/review/visitor?entry=pll&from=map&fromPanelNum=1&n_ad_group_type=10&n_query=%EC%97%B0%ED%9D%AC%EB%8F%99%EC%B9%B4%ED%8E%98&timestamp=202311241402&x=126.92933369999999&y=37.572160200912094#'\n",
    "    driver.get(url)\n",
    "\n",
    "    html = driver.page_source\n",
    "\n",
    "    soup = BeautifulSoup(html, 'html.parser')\n"
   ]
  },
  {
   "cell_type": "code",
   "execution_count": 5,
   "id": "c4da4411",
   "metadata": {},
   "outputs": [
    {
     "data": {
      "text/plain": [
       "'보연희'"
      ]
     },
     "execution_count": 5,
     "metadata": {},
     "output_type": "execute_result"
    }
   ],
   "source": [
    "name= soup.find('span', class_='Fc1rA').get_text()\n",
    "name\n"
   ]
  },
  {
   "cell_type": "code",
   "execution_count": 31,
   "id": "5a8c330e",
   "metadata": {
    "scrolled": true
   },
   "outputs": [
    {
     "data": {
      "text/plain": [
       "[<selenium.webdriver.remote.webelement.WebElement (session=\"5e4b469070f7786df485adb82d606aec\", element=\"0B62C674E1760DEEA087C26D6888442B_element_24\")>,\n",
       " <selenium.webdriver.remote.webelement.WebElement (session=\"5e4b469070f7786df485adb82d606aec\", element=\"0B62C674E1760DEEA087C26D6888442B_element_25\")>]"
      ]
     },
     "execution_count": 31,
     "metadata": {},
     "output_type": "execute_result"
    }
   ],
   "source": [
    "visiter_reviews={}\n",
    "tags = driver.find_elements(By.CSS_SELECTOR, 'div.PaWWQ')\n",
    "tags"
   ]
  },
  {
   "cell_type": "code",
   "execution_count": 37,
   "id": "693ffeda",
   "metadata": {},
   "outputs": [],
   "source": [
    "# 꼭 큰화면으로 실행하기\n",
    "menus= tags[0]\n",
    "features= tags[1]\n",
    "menu_list=[]\n",
    "feature_list=[]\n",
    "\n",
    "menus= menus.find_elements(By.CSS_SELECTOR, 'span.Me4yK')\n",
    "features= features.find_elements(By.CSS_SELECTOR, 'span.Me4yK')\n",
    "\n",
    "for i in range(5):\n",
    "#     menu_list.append(menus[i].text)\n",
    "    visiter_reviews[f'menu_{i+1}']= menus[i].text\n",
    "for i in range(5):\n",
    "    visiter_reviews[f'feature_{i+1}']= features[i].text\n"
   ]
  },
  {
   "cell_type": "code",
   "execution_count": 42,
   "id": "1490176c",
   "metadata": {},
   "outputs": [
    {
     "data": {
      "text/html": [
       "<div>\n",
       "<style scoped>\n",
       "    .dataframe tbody tr th:only-of-type {\n",
       "        vertical-align: middle;\n",
       "    }\n",
       "\n",
       "    .dataframe tbody tr th {\n",
       "        vertical-align: top;\n",
       "    }\n",
       "\n",
       "    .dataframe thead th {\n",
       "        text-align: right;\n",
       "    }\n",
       "</style>\n",
       "<table border=\"1\" class=\"dataframe\">\n",
       "  <thead>\n",
       "    <tr style=\"text-align: right;\">\n",
       "      <th></th>\n",
       "      <th>menu_0</th>\n",
       "      <th>feature_0</th>\n",
       "      <th>menu_1</th>\n",
       "      <th>feature_1</th>\n",
       "      <th>menu_2</th>\n",
       "      <th>feature_2</th>\n",
       "      <th>menu_3</th>\n",
       "      <th>feature_3</th>\n",
       "      <th>menu_4</th>\n",
       "      <th>feature_4</th>\n",
       "      <th>menu_5</th>\n",
       "      <th>feature_5</th>\n",
       "      <th>short_top1</th>\n",
       "      <th>short_top2</th>\n",
       "      <th>short_top3</th>\n",
       "      <th>short_top4</th>\n",
       "      <th>short_top5</th>\n",
       "    </tr>\n",
       "  </thead>\n",
       "  <tbody>\n",
       "    <tr>\n",
       "      <th>0</th>\n",
       "      <td>케이크139</td>\n",
       "      <td>맛221</td>\n",
       "      <td>케이크139</td>\n",
       "      <td>맛221</td>\n",
       "      <td>파르페46</td>\n",
       "      <td>만족도122</td>\n",
       "      <td>과일41</td>\n",
       "      <td>서비스26</td>\n",
       "      <td>딸기케이크32</td>\n",
       "      <td>메뉴11</td>\n",
       "      <td>커피19</td>\n",
       "      <td>목적10</td>\n",
       "      <td>디저트가 맛있어요</td>\n",
       "      <td>특별한 메뉴가 있어요</td>\n",
       "      <td>친절해요</td>\n",
       "      <td>음료가 맛있어요</td>\n",
       "      <td>커피가 맛있어요</td>\n",
       "    </tr>\n",
       "  </tbody>\n",
       "</table>\n",
       "</div>"
      ],
      "text/plain": [
       "   menu_0 feature_0  menu_1 feature_1 menu_2 feature_2 menu_3 feature_3  \\\n",
       "0  케이크139      맛221  케이크139      맛221  파르페46    만족도122   과일41     서비스26   \n",
       "\n",
       "    menu_4 feature_4 menu_5 feature_5 short_top1   short_top2 short_top3  \\\n",
       "0  딸기케이크32      메뉴11   커피19      목적10  디저트가 맛있어요  특별한 메뉴가 있어요       친절해요   \n",
       "\n",
       "  short_top4 short_top5  \n",
       "0   음료가 맛있어요   커피가 맛있어요  "
      ]
     },
     "execution_count": 42,
     "metadata": {},
     "output_type": "execute_result"
    }
   ],
   "source": [
    "pd.DataFrame(visiter_reviews, index=[0])\n",
    "# visiter_reviews"
   ]
  },
  {
   "cell_type": "code",
   "execution_count": 41,
   "id": "643f07cd",
   "metadata": {},
   "outputs": [],
   "source": [
    "# 리뷰 top5\n",
    "# top5_short=[]\n",
    "top5= driver.find_elements(By.CSS_SELECTOR, 'span.nWiXa')\n",
    "for i in range(5):\n",
    "#     top5_short.append(i.text[1:-1])\n",
    "    visiter_reviews[f'short_top{i+1}']= top5[i].text[1:-1]\n",
    "    "
   ]
  },
  {
   "cell_type": "code",
   "execution_count": 8,
   "id": "0ba219c5",
   "metadata": {},
   "outputs": [
    {
     "name": "stdout",
     "output_type": "stream",
     "text": [
      "<re.Match object; span=(0, 6), match='케이크139'>\n",
      "<re.Match object; span=(0, 5), match='파르페46'>\n",
      "<re.Match object; span=(0, 4), match='과일41'>\n",
      "<re.Match object; span=(0, 7), match='딸기케이크32'>\n",
      "<re.Match object; span=(0, 4), match='커피19'>\n",
      "<re.Match object; span=(0, 8), match='생크림케이크17'>\n",
      "<re.Match object; span=(0, 7), match='아이스크림11'>\n",
      "<re.Match object; span=(0, 6), match='다쿠아즈10'>\n",
      "<re.Match object; span=(0, 10), match='딸기생크림케이크10'>\n",
      "None\n",
      "None\n",
      "None\n",
      "None\n",
      "None\n",
      "None\n"
     ]
    },
    {
     "data": {
      "text/plain": [
       "{'케이크': '139',\n",
       " '파르페': '46',\n",
       " '과일': '41',\n",
       " '딸기케이크': '32',\n",
       " '커피': '19',\n",
       " '생크림케이크': '17',\n",
       " '아이스크림': '11',\n",
       " '다쿠아즈': '10',\n",
       " '딸기생크림케이크': '10'}"
      ]
     },
     "execution_count": 8,
     "metadata": {},
     "output_type": "execute_result"
    }
   ],
   "source": [
    "import re\n",
    "\n",
    "menu_dict={}\n",
    "for input_string in menu_list:\n",
    "    # 정규 표현식을 사용하여 문자와 숫자 분리\n",
    "    matches = re.match(r'([a-zA-Z가-힣]+)(\\d+)', input_string)\n",
    "    print(matches)\n",
    "    # 결과 출력 또는 다른 용도로 사용\n",
    "    if matches:\n",
    "        coffee_type, quantity = matches.groups()\n",
    "        menu_dict[coffee_type]=quantity\n",
    "menu_dict"
   ]
  },
  {
   "cell_type": "code",
   "execution_count": 9,
   "id": "3fa0596a",
   "metadata": {
    "scrolled": false
   },
   "outputs": [
    {
     "name": "stdout",
     "output_type": "stream",
     "text": [
      "<re.Match object; span=(0, 4), match='맛221'>\n",
      "<re.Match object; span=(0, 6), match='만족도122'>\n",
      "<re.Match object; span=(0, 5), match='서비스26'>\n",
      "<re.Match object; span=(0, 4), match='메뉴11'>\n",
      "<re.Match object; span=(0, 4), match='목적10'>\n",
      "<re.Match object; span=(0, 3), match='가격9'>\n",
      "<re.Match object; span=(0, 4), match='음식량8'>\n",
      "<re.Match object; span=(0, 4), match='분위기8'>\n",
      "<re.Match object; span=(0, 3), match='예약5'>\n",
      "<re.Match object; span=(0, 5), match='대기시간4'>\n",
      "<re.Match object; span=(0, 4), match='청결도3'>\n",
      "<re.Match object; span=(0, 3), match='방역2'>\n",
      "None\n",
      "None\n"
     ]
    },
    {
     "data": {
      "text/plain": [
       "{'맛': '221',\n",
       " '만족도': '122',\n",
       " '서비스': '26',\n",
       " '메뉴': '11',\n",
       " '목적': '10',\n",
       " '가격': '9',\n",
       " '음식량': '8',\n",
       " '분위기': '8',\n",
       " '예약': '5',\n",
       " '대기시간': '4',\n",
       " '청결도': '3',\n",
       " '방역': '2'}"
      ]
     },
     "execution_count": 9,
     "metadata": {},
     "output_type": "execute_result"
    }
   ],
   "source": [
    "feature_dict={}\n",
    "for feature_string in feature_list:\n",
    "    matches=re.match(r'([a-zA-Z가-힣]+)(\\d+)', feature_string)\n",
    "    print(matches)\n",
    "    if matches:\n",
    "        tag, cnt= matches.groups()\n",
    "        feature_dict[tag]=cnt\n",
    "        \n",
    "feature_dict"
   ]
  },
  {
   "cell_type": "code",
   "execution_count": 125,
   "id": "c6806e0c",
   "metadata": {},
   "outputs": [
    {
     "name": "stdout",
     "output_type": "stream",
     "text": [
      "20\n",
      "30\n",
      "40\n",
      "50\n",
      "60\n",
      "70\n",
      "80\n",
      "89\n",
      "97\n",
      "107\n"
     ]
    }
   ],
   "source": [
    "for i in range(10):\n",
    "    more_button = driver.find_element(By.CLASS_NAME, 'fvwqf')\n",
    "    more_button.click()\n",
    "    time.sleep(1)"
   ]
  },
  {
   "cell_type": "code",
   "execution_count": 44,
   "id": "34e5a439",
   "metadata": {},
   "outputs": [],
   "source": [
    "reviews= driver.find_elements(By.CLASS_NAME, 'zPfVt')"
   ]
  },
  {
   "cell_type": "code",
   "execution_count": 45,
   "id": "f15a27fb",
   "metadata": {},
   "outputs": [],
   "source": [
    "review_list=[]\n",
    "for review in reviews:\n",
    "    review_list.append(review.text.replace('\\n', ' '))\n",
    "        \n",
    "visiter_reviews['visiter_reviews']= review_list"
   ]
  },
  {
   "cell_type": "code",
   "execution_count": 48,
   "id": "f2285d0e",
   "metadata": {},
   "outputs": [
    {
     "data": {
      "text/plain": [
       "{'menu_0': '케이크139',\n",
       " 'feature_0': '맛221',\n",
       " 'menu_1': '케이크139',\n",
       " 'feature_1': '맛221',\n",
       " 'menu_2': '파르페46',\n",
       " 'feature_2': '만족도122',\n",
       " 'menu_3': '과일41',\n",
       " 'feature_3': '서비스26',\n",
       " 'menu_4': '딸기케이크32',\n",
       " 'feature_4': '메뉴11',\n",
       " 'menu_5': '커피19',\n",
       " 'feature_5': '목적10',\n",
       " 'short_top1': '디저트가 맛있어요',\n",
       " 'short_top2': '특별한 메뉴가 있어요',\n",
       " 'short_top3': '친절해요',\n",
       " 'short_top4': '음료가 맛있어요',\n",
       " 'short_top5': '커피가 맛있어요',\n",
       " 'visiter_reviews': ['무화과와 피스타치오가 이렇게 잘 어울릴줄 몰랐는데 완전 최고!! 피스타치오 크림이 진하고 꾸덕한데 느끼하지도 않고 너무 맛있음!! 크림 자체가 맛있어서 피스타치오 갸또도 완전 맛있을듯!! 다음엔 갸또로~',\n",
       "  '무화과 시즌메뉴보고 달려가길 너무 잘한곳❣️ 다쿠아즈 위에 가나슈 얹은 메뉴가 너무 신박한데 존맛\\U0001faf6🏻 비쥬얼만보고 케이크인 줄 알았는데 다쿠아즈 시트 무슨일인가요 사장님 천재💯 무화과도 진짜 많이 때려박아주셔서 무 화과덕후들은 무조건 가야되요 집이 멀지만 굳이굳이 찾아갈 이유 이백프로 있던곳 포장해갔던 밤케이크도 진짜 맛있었어요 다음에 갈땐 케이크 전메뉴 먹을게요 \\U0001faf6🏻❣️',\n",
       "  '망고케잌 너무 맛있음 망고로 가득채워진 것 맘에들고 (뭐 가격이 이러하니.. ㅋㅋ) 고구마도 맛있는데 시트 비스켓 부분이 좀 밸런스를 깨는것 같다. 암튼 만족한 케이크!',\n",
       "  '매우늦었지만 남기는 리뷰...무화과파르페랑 피스타치오무화과다쿠아즈케이크..! 무화과 처돌이에겐 너무 행복해지는 맛이였습니다 헤헤 지금은 딸기시즌인가 보네용, 또 먹으러갈것...!!!!!',\n",
       "  '케이크가 정말 맛있어요!! 무화과가 신선하고 우유생크림이 고소하고 무화과랑 잘 어울려서 맛있어요! 바나나카라멜도 캬라멜이 진하고 달콤한 바나나랑 초코맛이 어우러져서 맛있어요!!',\n",
       "  '인기가 많은 곳이라 엄청 시끌벅적했지만 케이크가 존맛! 테이블이 너무 다닥다닥 붙어있어서 예쁜 느낌은 아니었어요. 모든 손님을 수용하기 위해 여러 테이블이 놓여진 느낌? 케이크가 좀 비싸지만 맛있는 케이크를 드시고 싶은 분들께는 추천해요.',\n",
       "  '무화과 파르페를 먹어보았어요~ 그냥 파르페인줄 알았는데 토치로 구워주는 퍼포먼스가 있어서 재미있어요! 설탕이 튀어서 뜨거우니 조심해야해요~ 무화과가 듬뿍 있어 맛있구요, 호지차푸딩이 진짜 맛있어요. 저는 개인적으로 호지차 맛이 불호인데도 너무 맛있게 먹었구요. 푸딩 밑에는 아이스크림도 있고요~ 무화과 파르페 진짜 아주 맛있게 먹었어요ㅎㅎ 사진엔 없지만 무화과 케이크도 테이크아웃 했는데 무화과가 진짜 듬뿍들어서 맛있었고, 밑에  케이크시트가 다쿠아즈였는데 다음날에도 바삭해서 진짜 맛있었어요!',\n",
       "  '연희동 핫플레이스라서 들러본곳~~계절탓에 딸기케잌은 없었지만~~무화과케잌도 있고 ~다른고객들이 케잌 주문하는걸 보니 디저트 맛집 맞나봐요~^^ 저흰 음료만~',\n",
       "  '과일 파르페와 케이크가 맛있는 카페, 연희동 카페 보연희 복숭아 파르페 물렁물렁한 백도, 크림, 아이스크림, 그래놀라 구성 복숭아 철 가기 전에 먹어봐야 할 구성 요소가 서로 잘 어울렸던 파르페 피스타치오 갸또 피스타치오  원물 맛이 잘 느껴졌고 크림, 케이크 등의 단 맛이 강했고 질감은 부드러운 편이었음. 피스타치오 디저트 좋아하시는 분이라면 좋아하실 맛 맛있게 잘 먹었습니다😃',\n",
       "  '여기 호지차 바밤바 갸또 존맛입니당 굿! 사실 원래 가려던 곳이 있었는데 휴무라서 두번째 찜!이었던 보연희에 방문했던건데 제가 미췄네요;; 이런 맛집을 첫번째로 두지않고 감히 두번째?! 케이크 종류도 많고 다 존맛탱이었습 니다 그리고 밀크티 티백 선택할 수 있어서 좋았어요 ! 차 알못이긴한데 선택해서 마시니까 뭔가 더 좋더라구요 ㅋㅋㅋ 이날 더웠는데 시원하게 잘 마셨네용 ㅎㅎ']}"
      ]
     },
     "execution_count": 48,
     "metadata": {},
     "output_type": "execute_result"
    }
   ],
   "source": [
    "visiter_reviews"
   ]
  },
  {
   "cell_type": "code",
   "execution_count": 52,
   "id": "9c35aede",
   "metadata": {},
   "outputs": [],
   "source": [
    "rr={}\n",
    "rr[name]=review_list"
   ]
  },
  {
   "cell_type": "code",
   "execution_count": 53,
   "id": "633382af",
   "metadata": {},
   "outputs": [
    {
     "data": {
      "text/html": [
       "<div>\n",
       "<style scoped>\n",
       "    .dataframe tbody tr th:only-of-type {\n",
       "        vertical-align: middle;\n",
       "    }\n",
       "\n",
       "    .dataframe tbody tr th {\n",
       "        vertical-align: top;\n",
       "    }\n",
       "\n",
       "    .dataframe thead th {\n",
       "        text-align: right;\n",
       "    }\n",
       "</style>\n",
       "<table border=\"1\" class=\"dataframe\">\n",
       "  <thead>\n",
       "    <tr style=\"text-align: right;\">\n",
       "      <th></th>\n",
       "      <th>보연희</th>\n",
       "    </tr>\n",
       "  </thead>\n",
       "  <tbody>\n",
       "    <tr>\n",
       "      <th>0</th>\n",
       "      <td>무화과와 피스타치오가 이렇게 잘 어울릴줄 몰랐는데 완전 최고!! 피스타치오 크림이 ...</td>\n",
       "    </tr>\n",
       "    <tr>\n",
       "      <th>1</th>\n",
       "      <td>무화과 시즌메뉴보고 달려가길 너무 잘한곳❣️ 다쿠아즈 위에 가나슈 얹은 메뉴가 너무...</td>\n",
       "    </tr>\n",
       "    <tr>\n",
       "      <th>2</th>\n",
       "      <td>망고케잌 너무 맛있음 망고로 가득채워진 것 맘에들고 (뭐 가격이 이러하니.. ㅋㅋ)...</td>\n",
       "    </tr>\n",
       "    <tr>\n",
       "      <th>3</th>\n",
       "      <td>매우늦었지만 남기는 리뷰...무화과파르페랑 피스타치오무화과다쿠아즈케이크..! 무화과...</td>\n",
       "    </tr>\n",
       "    <tr>\n",
       "      <th>4</th>\n",
       "      <td>케이크가 정말 맛있어요!! 무화과가 신선하고 우유생크림이 고소하고 무화과랑 잘 어울...</td>\n",
       "    </tr>\n",
       "    <tr>\n",
       "      <th>5</th>\n",
       "      <td>인기가 많은 곳이라 엄청 시끌벅적했지만 케이크가 존맛! 테이블이 너무 다닥다닥 붙어...</td>\n",
       "    </tr>\n",
       "    <tr>\n",
       "      <th>6</th>\n",
       "      <td>무화과 파르페를 먹어보았어요~ 그냥 파르페인줄 알았는데 토치로 구워주는 퍼포먼스가 ...</td>\n",
       "    </tr>\n",
       "    <tr>\n",
       "      <th>7</th>\n",
       "      <td>연희동 핫플레이스라서 들러본곳~~계절탓에 딸기케잌은 없었지만~~무화과케잌도 있고 ~...</td>\n",
       "    </tr>\n",
       "    <tr>\n",
       "      <th>8</th>\n",
       "      <td>과일 파르페와 케이크가 맛있는 카페, 연희동 카페 보연희 복숭아 파르페 물렁물렁한 ...</td>\n",
       "    </tr>\n",
       "    <tr>\n",
       "      <th>9</th>\n",
       "      <td>여기 호지차 바밤바 갸또 존맛입니당 굿! 사실 원래 가려던 곳이 있었는데 휴무라서 ...</td>\n",
       "    </tr>\n",
       "  </tbody>\n",
       "</table>\n",
       "</div>"
      ],
      "text/plain": [
       "                                                 보연희\n",
       "0  무화과와 피스타치오가 이렇게 잘 어울릴줄 몰랐는데 완전 최고!! 피스타치오 크림이 ...\n",
       "1  무화과 시즌메뉴보고 달려가길 너무 잘한곳❣️ 다쿠아즈 위에 가나슈 얹은 메뉴가 너무...\n",
       "2  망고케잌 너무 맛있음 망고로 가득채워진 것 맘에들고 (뭐 가격이 이러하니.. ㅋㅋ)...\n",
       "3  매우늦었지만 남기는 리뷰...무화과파르페랑 피스타치오무화과다쿠아즈케이크..! 무화과...\n",
       "4  케이크가 정말 맛있어요!! 무화과가 신선하고 우유생크림이 고소하고 무화과랑 잘 어울...\n",
       "5  인기가 많은 곳이라 엄청 시끌벅적했지만 케이크가 존맛! 테이블이 너무 다닥다닥 붙어...\n",
       "6  무화과 파르페를 먹어보았어요~ 그냥 파르페인줄 알았는데 토치로 구워주는 퍼포먼스가 ...\n",
       "7  연희동 핫플레이스라서 들러본곳~~계절탓에 딸기케잌은 없었지만~~무화과케잌도 있고 ~...\n",
       "8  과일 파르페와 케이크가 맛있는 카페, 연희동 카페 보연희 복숭아 파르페 물렁물렁한 ...\n",
       "9  여기 호지차 바밤바 갸또 존맛입니당 굿! 사실 원래 가려던 곳이 있었는데 휴무라서 ..."
      ]
     },
     "execution_count": 53,
     "metadata": {},
     "output_type": "execute_result"
    }
   ],
   "source": [
    "pd.DataFrame(rr)"
   ]
  },
  {
   "cell_type": "code",
   "execution_count": null,
   "id": "527be3f5",
   "metadata": {},
   "outputs": [],
   "source": []
  }
 ],
 "metadata": {
  "kernelspec": {
   "display_name": "Python 3",
   "language": "python",
   "name": "python3"
  },
  "language_info": {
   "codemirror_mode": {
    "name": "ipython",
    "version": 3
   },
   "file_extension": ".py",
   "mimetype": "text/x-python",
   "name": "python",
   "nbconvert_exporter": "python",
   "pygments_lexer": "ipython3",
   "version": "3.8.8"
  }
 },
 "nbformat": 4,
 "nbformat_minor": 5
}
