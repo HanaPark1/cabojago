{
 "cells": [
  {
   "cell_type": "code",
   "execution_count": null,
   "metadata": {},
   "outputs": [],
   "source": [
    "!pip install selenium"
   ]
  },
  {
   "cell_type": "code",
   "execution_count": null,
   "metadata": {},
   "outputs": [],
   "source": [
    "!pip3 install webdriver_manager"
   ]
  },
  {
   "cell_type": "code",
   "execution_count": null,
   "metadata": {},
   "outputs": [],
   "source": [
    "# selenium: 웹 브라우저를 이용, 웹 사이트 제어를 위해 사용\n",
    "# bs4: html에서 데이터 추출, html 및 xml 문서를 parsing 하기 위해 사용"
   ]
  },
  {
   "cell_type": "markdown",
   "metadata": {},
   "source": [
    "### 네이버 지도 카페 상세 정보"
   ]
  },
  {
   "cell_type": "code",
   "execution_count": null,
   "metadata": {},
   "outputs": [],
   "source": [
    "from time import sleep\n",
    "from selenium import webdriver\n",
    "from selenium.webdriver.chrome.options import Options\n",
    "from selenium.webdriver.common.by import By\n",
    "from selenium.webdriver.chrome.service import Service\n",
    "from webdriver_manager.chrome import ChromeDriverManager\n",
    "from selenium.webdriver.common.keys import Keys\n",
    "from selenium.webdriver.support import expected_conditions as EC\n",
    "from selenium.webdriver.support.ui import WebDriverWait\n",
    "\n",
    "import os\n",
    "import pandas as pd\n",
    "import re"
   ]
  },
  {
   "cell_type": "code",
   "execution_count": null,
   "metadata": {},
   "outputs": [],
   "source": [
    "os.getcwd()# CSV 파일 경로 리스트\n",
    "csv_file_paths = [\n",
    "    '../data/cafelist_망원동.csv',\n",
    "    '../data/cafelist_성수동.csv',\n",
    "    '../data/cafelist_연남동.csv',\n",
    "    '../data/cafelist_연희동.csv',\n",
    "    '../data/cafelist_후암동.csv',\n",
    "]\n",
    "\n",
    "sleep(3)"
   ]
  },
  {
   "cell_type": "code",
   "execution_count": null,
   "metadata": {},
   "outputs": [],
   "source": [
    "# 결과를 저장할 리스트\n",
    "data_list = []"
   ]
  },
  {
   "cell_type": "code",
   "execution_count": null,
   "metadata": {},
   "outputs": [],
   "source": [
    "# 필요한 예외를 import\n",
    "from selenium.common.exceptions import TimeoutException\n",
    "for csv_file_path in csv_file_paths:\n",
    "    # CSV 파일 읽기\n",
    "    df_names = pd.read_csv(csv_file_path)\n",
    "\n",
    "    # 네이버 지도에서 크롤링\n",
    "    chrome_options = webdriver.ChromeOptions()\n",
    "    chrome_options.add_argument(\"/Users/yangchaeyeon/Downloads/chromedriver-mac-arm64\")\n",
    "    driver = webdriver.Chrome(options=chrome_options)\n",
    "    driver.get(\"https://map.naver.com/p\")\n",
    "\n",
    "    for _, row in df_names.iterrows():\n",
    "        key_word = row['name']\n",
    "        print(key_word)\n",
    "        \n",
    "        # 네이버 지도 페이지 로딩\n",
    "        driver.get(\"https://map.naver.com/p\")\n",
    "\n",
    "        # 검색창에 카페 이름 입력\n",
    "        search = WebDriverWait(driver, 5).until(\n",
    "            EC.presence_of_element_located((By.CSS_SELECTOR, 'div.input_box > input.input_search')))\n",
    "        search.clear()\n",
    "        search.send_keys(key_word)\n",
    "        search.send_keys(Keys.ENTER)\n",
    "        \n",
    "        # 해당 카페에 바로 가는지, 여러 카페 목록에서 클릭해서 들어가야하는지 예외 처리 \n",
    "        iframe_present = False\n",
    "        try:\n",
    "            iframe = WebDriverWait(driver, 5).until(EC.presence_of_element_located((By.CSS_SELECTOR, \"iframe#entryIframe\")))\n",
    "            driver.switch_to.frame(iframe)\n",
    "            iframe_present = True\n",
    "        except TimeoutException as e:\n",
    "            pass\n",
    "\n",
    "        if not iframe_present:\n",
    "            iframe = WebDriverWait(driver, 5).until(EC.presence_of_element_located((By.XPATH, '//*[@id=\"searchIframe\"]')))\n",
    "            driver.switch_to.frame(iframe)\n",
    "\n",
    "            try:\n",
    "                element = WebDriverWait(driver, 5).until(\n",
    "                    EC.presence_of_element_located((By.XPATH, '//*[@id=\"_pcmap_list_scroll_container\"]/ul/li[1]/div[1]/div[2]/a[1]/div/div')))\n",
    "                # 원하는 요소가 있는 경우에만 처리\n",
    "                element.click()\n",
    "                driver.switch_to.default_content()\n",
    "                iframe = WebDriverWait(driver, 5).until(EC.presence_of_element_located((By.XPATH, '//*[@id=\"entryIframe\"]')))\n",
    "                driver.switch_to.frame(iframe)\n",
    "            except TimeoutException as e:\n",
    "                # 원하는 요소를 찾지 못한 경우 다음 카페로 넘어가기\n",
    "                print(\"해당 카페에 대한 정보를 수집할 수 없습니다.\")\n",
    "                continue\n",
    "\n",
    "        # 카페 고유 ID\n",
    "        try:\n",
    "            ID_element = WebDriverWait(driver, 3).until(\n",
    "                EC.presence_of_element_located((By.CSS_SELECTOR, 'span.PXMot > a')))\n",
    "            href = ID_element.get_attribute('href')\n",
    "            cafe_ID = re.search(r'\\d+', href).group()\n",
    "            print(\"카페 고유 ID\", cafe_ID)\n",
    "        except Exception as e:\n",
    "            cafe_ID = 'N/A'\n",
    "        \n",
    "    \n",
    "        # 카페 방문자 수      \n",
    "        try:\n",
    "            cafe_visit = WebDriverWait(driver, 2).until(\n",
    "                EC.presence_of_element_located((By.CSS_SELECTOR, 'span.PXMot > a'))).text\n",
    "            visit_count = re.sub(r'\\D', '', cafe_visit)\n",
    "        except Exception as e:\n",
    "            cafe_visit = 'N/A'\n",
    "\n",
    "        # 카페 블로그리뷰수\n",
    "        try:\n",
    "            cafe_blog = WebDriverWait(driver, 2).until(\n",
    "                EC.presence_of_element_located((By.CSS_SELECTOR, 'span.PXMot:last-child > a'))).text\n",
    "            blog_count = re.sub(r'\\D', '', cafe_blog)\n",
    "        except Exception as e:\n",
    "            cafe_blog = 'N/A'\n",
    "        \n",
    "        # 카페 주소\n",
    "        try:\n",
    "            address = WebDriverWait(driver, 1).until(\n",
    "                EC.presence_of_element_located((By.CSS_SELECTOR, 'a.PkgBl > span.LDgIH'))).text\n",
    "        except Exception as e:\n",
    "            address = 'N/A'\n",
    "\n",
    "\n",
    "\n",
    "        data_list.append({\n",
    "            '카페ID': cafe_ID,\n",
    "            '카페이름': key_word,\n",
    "            '방문자리뷰': visit_count,\n",
    "            '블로그리뷰': blog_count,\n",
    "            '주소': address\n",
    "        })\n",
    "        print(data_list[-1])\n",
    "        \n",
    "        sleep(7)\n",
    "\n",
    "    # 크롬 드라이버 종료\n",
    "    driver.quit()\n",
    "    \n",
    "    # DataFrame 생성\n",
    "    df_cafe_info = pd.DataFrame(data_list)\n",
    "\n",
    "    # 결과를 CSV로 저장\n",
    "    csv_output_path = f'output_{os.path.basename(csv_file_path)}'\n",
    "    df_cafe_info.to_csv(csv_output_path, index=False)"
   ]
  },
  {
   "cell_type": "code",
   "execution_count": null,
   "metadata": {},
   "outputs": [],
   "source": []
  },
  {
   "cell_type": "code",
   "execution_count": null,
   "metadata": {},
   "outputs": [],
   "source": []
  }
 ],
 "metadata": {
  "kernelspec": {
   "display_name": "Python 3",
   "language": "python",
   "name": "python3"
  },
  "language_info": {
   "codemirror_mode": {
    "name": "ipython",
    "version": 3
   },
   "file_extension": ".py",
   "mimetype": "text/x-python",
   "name": "python",
   "nbconvert_exporter": "python",
   "pygments_lexer": "ipython3",
   "version": "3.10.1"
  },
  "orig_nbformat": 4
 },
 "nbformat": 4,
 "nbformat_minor": 2
}
