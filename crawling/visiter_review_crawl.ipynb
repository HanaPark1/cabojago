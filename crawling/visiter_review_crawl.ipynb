{
 "cells": [
  {
   "cell_type": "code",
   "execution_count": 45,
   "id": "659671dd",
   "metadata": {},
   "outputs": [],
   "source": [
    "visiter_review= {}"
   ]
  },
  {
   "cell_type": "code",
   "execution_count": 51,
   "id": "de473fa4",
   "metadata": {},
   "outputs": [],
   "source": [
    "import requests\n",
    "from bs4 import BeautifulSoup\n",
    "\n",
    "# 크롤링할 페이지의 URL\n",
    "code= '1478636575'\n",
    "url = f'https://pcmap.place.naver.com/restaurant/{code}/review/visitor?entry=pll&from=map&fromPanelNum=1&n_ad_group_type=10&n_query=%EC%97%B0%ED%9D%AC%EB%8F%99%EC%B9%B4%ED%8E%98&timestamp=202311241402&x=126.92933369999999&y=37.572160200912094#'\n",
    "\n",
    "# 페이지에 요청을 보내 HTML을 가져옴\n",
    "response = requests.get(url)\n",
    "response.encoding = 'utf-8'\n",
    "# 응답이 성공적이라면\n",
    "if response.status_code == 200:\n",
    "    # BeautifulSoup을 사용하여 HTML을 파싱\n",
    "    soup = BeautifulSoup(response.text, 'html.parser')\n",
    "    \n",
    "    place= soup.find('span', class_='Fc1rA').get_text()\n",
    "    \n",
    "    zPfVt= soup.find_all('span', class_='zPfVt')\n",
    "    \n",
    "    reviews=[]\n",
    "    for review in zPfVt:\n",
    "        reviews.append(review.get_text().replace('\\n', ' '))\n",
    "        \n",
    "    visiter_review[place]=reviews\n",
    "\n",
    "#     # \"내용 더보기\" 링크의 href 가져오기\n",
    "#     more_link = soup.find('a', class_='xHaT3')['href']\n",
    "else:\n",
    "    print('페이지에 접근할 수 없습니다. 상태 코드:', response.status_code)\n",
    "    \n",
    "    "
   ]
  },
  {
   "cell_type": "code",
   "execution_count": 52,
   "id": "aac85978",
   "metadata": {},
   "outputs": [
    {
     "data": {
      "text/plain": [
       "10"
      ]
     },
     "execution_count": 52,
     "metadata": {},
     "output_type": "execute_result"
    }
   ],
   "source": [
    "len(reviews)"
   ]
  },
  {
   "cell_type": "code",
   "execution_count": 53,
   "id": "e85cbfd1",
   "metadata": {},
   "outputs": [
    {
     "data": {
      "text/plain": [
       "{'쿳사 연희': ['추천해주신 무화과 시즌음식은 제입맛에는 안맞았지만, 친구는 잘 먹었어요~~ 분위기도 좋고 마치 외국에 있는 브런치가게 느낌이었어요. 다음번엔 제가 좋아하는 아보카도로 초이스 하겠습니다. 응대해주시는 분들이 친절하셨습니다.',\n",
       "  '음식은 늘 만족도가 높은 편입니다! 근데 어제는 유난히 옆과 뒤테이블이 시끄러운 정도를 넘어서서 식사를 하는동안 귀가 아플정도 였어요. 옆 테이블분들이 나가실때 옷 거치대가 쓰러지면서 윗쪽 나무망 조명에 앉은 먼지가 음식으로 날려 들어오니 먹는동안 기분이 별로였답니다. 아무리 자유로운 분위기의 브런치 카페여도 다른 분들도 식사하는중인데 불편한 정도의 소음은 아닌것같아요. 박수치고 큰목소리 큰웃음은 직원분들이 살짝 말씀해주실 필요가 있을것같아요.',\n",
       "  '연희동 브런치는 가성비로나 퀄리티로나 쿳사 추천👍🏻 어떤 메뉴든 재료도 아낌없이 들어가고 플레이팅까지 신경써서 나옴. 근데 빨리 나오기까지 ㅎ 아쉬운점은 직원 숙련도와 화장실이 개선되면 참 좋을듯~! 잘먹고 가옷~!',\n",
       "  '오늘로 쿳사 3번째 방문이에요.  리뷰를 쓰는건 처음이네요. 연희동에 어울리는 분위기의 가게에요. 제가 호주를 안가봐서 호주식브런치가 어떤건진 잘 모르지만 지인이 동네에 오면 이곳으로 가자고 합니다. 다소 차분하고, 맛난 음식과 기분 전환겸 가기 좋아요.  교통편이 불편한데도(전 가까워서 넘 좋은데 말이죠) 다른곳으로 이전을 안하고 이곳에 있어서 감사할 따름이에요.  오늘은 쿳사베네딕트와 치킨콩피&보리버섯필라프를 먹었어요. 쿳사베네딕트가 젤 맛나더라고요. 다소 느끼할수 있는걸 매콤함으로 잡아주었어요. 신랑은 빵이 너무 기름기가 많다고 하더라고요. 아이스커피나 탄산과 먹기를 추천합니다.  오늘 처음 먹어본 치킨콩피&보리버섯필라프는 무난했어요. 매쉬포테이토를 좋아하시는분은 좋아하실것 같아요. ',\n",
       "  '인기가 많은 곳 같아서 미리 예약하고 방문했어요 ! 웨이팅 생기는거보니 예약하길 잘 했더라구요 아무튼 평범한 브런치들이 아니고 뭔가 처음 먹어보는듯한 색다른 메뉴들이어서 신기했고 어쩜 다 맛있더라구요! 원래 무화가 별로 안좋아하는데 시즌메뉴였던 무화과 메뉴 완전 맛있더라구요! 고기 메뉴도 맛있었고 ~  성공적인 브런치였네요^^',\n",
       "  '오랜만에 다시 찾은 연희동 쿳사 ~ 역시 재료가 신선하고 너무 맛있다 미국식보다 호주식 브런치를 좋아하는데 건강하고 정성이 들어간 브런치를 맛보고 싶다면 추천~ 오랜만에 오니 시로운 메뉴가 많이 생겼다~ 선선한 가을날 또 와야겠다',\n",
       "  '정말.. 나만 알고 싶은 곳… 뭐 하나 빠지는 게 없는 근사한 곳인데 자만하지 않고 늘 메뉴 업데이트 해주는 곳! 쿳사랑해',\n",
       "  '무화과 머시기 (시즌메뉴) 꼭 드세요!! 넘 친절하게 맞이해주셔서 더 맛있게 느껴졌습니다 저녁에 가도 분위기 좋아요 쿳사 영원하라 💕',\n",
       "  '가을 시즌 메뉴 먹으려고 예약하고 재방문했어요 신선한 무화과와 아보카도가 듬뿍 올라가서 너무 맛있고 배부른 점심을 먹었어요!! 디너 메뉴도 궁금해서 담엔 디너 먹어보려구요^^',\n",
       "  '에그베네딕트와 토마토 파스타 먹었습니다. 베네딕트 소스가  맛있습니다. 그런데 계속 먹다보니 조금 느끼해요. 저 같은 경우 탄산음료를 별로 좋아하지 않다보니 물이랑 먹으니 조금 느끼하네요. 양은 푸짐해요.']}"
      ]
     },
     "execution_count": 53,
     "metadata": {},
     "output_type": "execute_result"
    }
   ],
   "source": [
    "visiter_review"
   ]
  }
 ],
 "metadata": {
  "kernelspec": {
   "display_name": "Python 3",
   "language": "python",
   "name": "python3"
  },
  "language_info": {
   "codemirror_mode": {
    "name": "ipython",
    "version": 3
   },
   "file_extension": ".py",
   "mimetype": "text/x-python",
   "name": "python",
   "nbconvert_exporter": "python",
   "pygments_lexer": "ipython3",
   "version": "3.8.8"
  }
 },
 "nbformat": 4,
 "nbformat_minor": 5
}
