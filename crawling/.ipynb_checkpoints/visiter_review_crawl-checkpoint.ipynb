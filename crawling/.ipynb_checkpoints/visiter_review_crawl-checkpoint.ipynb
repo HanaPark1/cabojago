{
 "cells": [
  {
   "cell_type": "code",
   "execution_count": 45,
   "id": "659671dd",
   "metadata": {},
   "outputs": [],
   "source": [
    "visiter_review= {}"
   ]
  },
  {
   "cell_type": "code",
   "execution_count": 51,
   "id": "de473fa4",
   "metadata": {},
   "outputs": [],
   "source": [
    "import requests\n",
    "from bs4 import BeautifulSoup\n",
    "\n",
    "# 크롤링할 페이지의 URL\n",
    "code= '1478636575'\n",
    "url = f'https://pcmap.place.naver.com/restaurant/{code}/review/visitor?entry=pll&from=map&fromPanelNum=1&n_ad_group_type=10&n_query=%EC%97%B0%ED%9D%AC%EB%8F%99%EC%B9%B4%ED%8E%98&timestamp=202311241402&x=126.92933369999999&y=37.572160200912094#'\n",
    "\n",
    "# 페이지에 요청을 보내 HTML을 가져옴\n",
    "response = requests.get(url)\n",
    "response.encoding = 'utf-8'\n",
    "# 응답이 성공적이라면\n",
    "if response.status_code == 200:\n",
    "    # BeautifulSoup을 사용하여 HTML을 파싱\n",
    "    soup = BeautifulSoup(response.text, 'html.parser')\n",
    "    \n",
    "    place= soup.find('span', class_='Fc1rA').get_text()\n",
    "    \n",
    "    zPfVt= soup.find_all('span', class_='zPfVt')\n",
    "    \n",
    "    reviews=[]\n",
    "    for review in zPfVt:\n",
    "        reviews.append(review.get_text().replace('\\n', ' '))\n",
    "        \n",
    "    visiter_review[place]=reviews\n",
    "\n",
    "#     # \"내용 더보기\" 링크의 href 가져오기\n",
    "#     more_link = soup.find('a', class_='xHaT3')['href']\n",
    "else:\n",
    "    print('페이지에 접근할 수 없습니다. 상태 코드:', response.status_code)\n",
    "    \n",
    "    "
   ]
  },
  {
   "cell_type": "code",
   "execution_count": 8,
   "id": "0ba219c5",
   "metadata": {},
   "outputs": [
    {
     "name": "stdout",
     "output_type": "stream",
     "text": [
      "<re.Match object; span=(0, 6), match='케이크139'>\n",
      "<re.Match object; span=(0, 5), match='파르페46'>\n",
      "<re.Match object; span=(0, 4), match='과일41'>\n",
      "<re.Match object; span=(0, 7), match='딸기케이크32'>\n",
      "<re.Match object; span=(0, 4), match='커피19'>\n",
      "<re.Match object; span=(0, 8), match='생크림케이크17'>\n",
      "<re.Match object; span=(0, 7), match='아이스크림11'>\n",
      "<re.Match object; span=(0, 6), match='다쿠아즈10'>\n",
      "<re.Match object; span=(0, 10), match='딸기생크림케이크10'>\n",
      "None\n",
      "None\n",
      "None\n",
      "None\n",
      "None\n",
      "None\n"
     ]
    },
    {
     "data": {
      "text/plain": [
       "{'케이크': '139',\n",
       " '파르페': '46',\n",
       " '과일': '41',\n",
       " '딸기케이크': '32',\n",
       " '커피': '19',\n",
       " '생크림케이크': '17',\n",
       " '아이스크림': '11',\n",
       " '다쿠아즈': '10',\n",
       " '딸기생크림케이크': '10'}"
      ]
     },
     "execution_count": 8,
     "metadata": {},
     "output_type": "execute_result"
    }
   ],
   "source": [
    "import re\n",
    "\n",
    "menu_dict={}\n",
    "for input_string in menu_list:\n",
    "    # 정규 표현식을 사용하여 문자와 숫자 분리\n",
    "    matches = re.match(r'([a-zA-Z가-힣]+)(\\d+)', input_string)\n",
    "    print(matches)\n",
    "    # 결과 출력 또는 다른 용도로 사용\n",
    "    if matches:\n",
    "        coffee_type, quantity = matches.groups()\n",
    "        menu_dict[coffee_type]=quantity\n",
    "menu_dict"
   ]
  },
  {
   "cell_type": "code",
   "execution_count": 9,
   "id": "3fa0596a",
   "metadata": {
    "scrolled": false
   },
   "outputs": [
    {
     "name": "stdout",
     "output_type": "stream",
     "text": [
      "<re.Match object; span=(0, 4), match='맛221'>\n",
      "<re.Match object; span=(0, 6), match='만족도122'>\n",
      "<re.Match object; span=(0, 5), match='서비스26'>\n",
      "<re.Match object; span=(0, 4), match='메뉴11'>\n",
      "<re.Match object; span=(0, 4), match='목적10'>\n",
      "<re.Match object; span=(0, 3), match='가격9'>\n",
      "<re.Match object; span=(0, 4), match='음식량8'>\n",
      "<re.Match object; span=(0, 4), match='분위기8'>\n",
      "<re.Match object; span=(0, 3), match='예약5'>\n",
      "<re.Match object; span=(0, 5), match='대기시간4'>\n",
      "<re.Match object; span=(0, 4), match='청결도3'>\n",
      "<re.Match object; span=(0, 3), match='방역2'>\n",
      "None\n",
      "None\n"
     ]
    },
    {
     "data": {
      "text/plain": [
       "{'맛': '221',\n",
       " '만족도': '122',\n",
       " '서비스': '26',\n",
       " '메뉴': '11',\n",
       " '목적': '10',\n",
       " '가격': '9',\n",
       " '음식량': '8',\n",
       " '분위기': '8',\n",
       " '예약': '5',\n",
       " '대기시간': '4',\n",
       " '청결도': '3',\n",
       " '방역': '2'}"
      ]
     },
     "execution_count": 9,
     "metadata": {},
     "output_type": "execute_result"
    }
   ],
   "source": [
    "feature_dict={}\n",
    "for feature_string in feature_list:\n",
    "    matches=re.match(r'([a-zA-Z가-힣]+)(\\d+)', feature_string)\n",
    "    print(matches)\n",
    "    if matches:\n",
    "        tag, cnt= matches.groups()\n",
    "        feature_dict[tag]=cnt\n",
    "        \n",
    "feature_dict"
   ]
  },
  {
   "cell_type": "code",
   "execution_count": 125,
   "id": "c6806e0c",
   "metadata": {},
   "outputs": [
    {
     "name": "stdout",
     "output_type": "stream",
     "text": [
      "20\n",
      "30\n",
      "40\n",
      "50\n",
      "60\n",
      "70\n",
      "80\n",
      "89\n",
      "97\n",
      "107\n"
     ]
    }
   ],
   "source": [
    "for i in range(10):\n",
    "    more_button = driver.find_element(By.CLASS_NAME, 'fvwqf')\n",
    "    more_button.click()\n",
    "    time.sleep(1)"
   ]
  },
  {
   "cell_type": "code",
   "execution_count": 44,
   "id": "34e5a439",
   "metadata": {},
   "outputs": [],
   "source": [
    "reviews= driver.find_elements(By.CLASS_NAME, 'zPfVt')"
   ]
  },
  {
   "cell_type": "code",
   "execution_count": 45,
   "id": "f15a27fb",
   "metadata": {},
   "outputs": [],
   "source": [
    "review_list=[]\n",
    "for review in reviews:\n",
    "    review_list.append(review.text.replace('\\n', ' '))\n",
    "        \n",
    "visiter_reviews['visiter_reviews']= review_list"
   ]
  },
  {
   "cell_type": "code",
   "execution_count": 48,
   "id": "f2285d0e",
   "metadata": {},
   "outputs": [
    {
     "data": {
      "text/plain": [
       "{'menu_0': '케이크139',\n",
       " 'feature_0': '맛221',\n",
       " 'menu_1': '케이크139',\n",
       " 'feature_1': '맛221',\n",
       " 'menu_2': '파르페46',\n",
       " 'feature_2': '만족도122',\n",
       " 'menu_3': '과일41',\n",
       " 'feature_3': '서비스26',\n",
       " 'menu_4': '딸기케이크32',\n",
       " 'feature_4': '메뉴11',\n",
       " 'menu_5': '커피19',\n",
       " 'feature_5': '목적10',\n",
       " 'short_top1': '디저트가 맛있어요',\n",
       " 'short_top2': '특별한 메뉴가 있어요',\n",
       " 'short_top3': '친절해요',\n",
       " 'short_top4': '음료가 맛있어요',\n",
       " 'short_top5': '커피가 맛있어요',\n",
       " 'visiter_reviews': ['무화과와 피스타치오가 이렇게 잘 어울릴줄 몰랐는데 완전 최고!! 피스타치오 크림이 진하고 꾸덕한데 느끼하지도 않고 너무 맛있음!! 크림 자체가 맛있어서 피스타치오 갸또도 완전 맛있을듯!! 다음엔 갸또로~',\n",
       "  '무화과 시즌메뉴보고 달려가길 너무 잘한곳❣️ 다쿠아즈 위에 가나슈 얹은 메뉴가 너무 신박한데 존맛\\U0001faf6🏻 비쥬얼만보고 케이크인 줄 알았는데 다쿠아즈 시트 무슨일인가요 사장님 천재💯 무화과도 진짜 많이 때려박아주셔서 무 화과덕후들은 무조건 가야되요 집이 멀지만 굳이굳이 찾아갈 이유 이백프로 있던곳 포장해갔던 밤케이크도 진짜 맛있었어요 다음에 갈땐 케이크 전메뉴 먹을게요 \\U0001faf6🏻❣️',\n",
       "  '망고케잌 너무 맛있음 망고로 가득채워진 것 맘에들고 (뭐 가격이 이러하니.. ㅋㅋ) 고구마도 맛있는데 시트 비스켓 부분이 좀 밸런스를 깨는것 같다. 암튼 만족한 케이크!',\n",
       "  '매우늦었지만 남기는 리뷰...무화과파르페랑 피스타치오무화과다쿠아즈케이크..! 무화과 처돌이에겐 너무 행복해지는 맛이였습니다 헤헤 지금은 딸기시즌인가 보네용, 또 먹으러갈것...!!!!!',\n",
       "  '케이크가 정말 맛있어요!! 무화과가 신선하고 우유생크림이 고소하고 무화과랑 잘 어울려서 맛있어요! 바나나카라멜도 캬라멜이 진하고 달콤한 바나나랑 초코맛이 어우러져서 맛있어요!!',\n",
       "  '인기가 많은 곳이라 엄청 시끌벅적했지만 케이크가 존맛! 테이블이 너무 다닥다닥 붙어있어서 예쁜 느낌은 아니었어요. 모든 손님을 수용하기 위해 여러 테이블이 놓여진 느낌? 케이크가 좀 비싸지만 맛있는 케이크를 드시고 싶은 분들께는 추천해요.',\n",
       "  '무화과 파르페를 먹어보았어요~ 그냥 파르페인줄 알았는데 토치로 구워주는 퍼포먼스가 있어서 재미있어요! 설탕이 튀어서 뜨거우니 조심해야해요~ 무화과가 듬뿍 있어 맛있구요, 호지차푸딩이 진짜 맛있어요. 저는 개인적으로 호지차 맛이 불호인데도 너무 맛있게 먹었구요. 푸딩 밑에는 아이스크림도 있고요~ 무화과 파르페 진짜 아주 맛있게 먹었어요ㅎㅎ 사진엔 없지만 무화과 케이크도 테이크아웃 했는데 무화과가 진짜 듬뿍들어서 맛있었고, 밑에  케이크시트가 다쿠아즈였는데 다음날에도 바삭해서 진짜 맛있었어요!',\n",
       "  '연희동 핫플레이스라서 들러본곳~~계절탓에 딸기케잌은 없었지만~~무화과케잌도 있고 ~다른고객들이 케잌 주문하는걸 보니 디저트 맛집 맞나봐요~^^ 저흰 음료만~',\n",
       "  '과일 파르페와 케이크가 맛있는 카페, 연희동 카페 보연희 복숭아 파르페 물렁물렁한 백도, 크림, 아이스크림, 그래놀라 구성 복숭아 철 가기 전에 먹어봐야 할 구성 요소가 서로 잘 어울렸던 파르페 피스타치오 갸또 피스타치오  원물 맛이 잘 느껴졌고 크림, 케이크 등의 단 맛이 강했고 질감은 부드러운 편이었음. 피스타치오 디저트 좋아하시는 분이라면 좋아하실 맛 맛있게 잘 먹었습니다😃',\n",
       "  '여기 호지차 바밤바 갸또 존맛입니당 굿! 사실 원래 가려던 곳이 있었는데 휴무라서 두번째 찜!이었던 보연희에 방문했던건데 제가 미췄네요;; 이런 맛집을 첫번째로 두지않고 감히 두번째?! 케이크 종류도 많고 다 존맛탱이었습 니다 그리고 밀크티 티백 선택할 수 있어서 좋았어요 ! 차 알못이긴한데 선택해서 마시니까 뭔가 더 좋더라구요 ㅋㅋㅋ 이날 더웠는데 시원하게 잘 마셨네용 ㅎㅎ']}"
      ]
     },
     "execution_count": 48,
     "metadata": {},
     "output_type": "execute_result"
    }
   ],
   "source": [
    "visiter_reviews"
   ]
  },
  {
   "cell_type": "code",
   "execution_count": 52,
   "id": "9c35aede",
   "metadata": {},
   "outputs": [],
   "source": [
    "rr={}\n",
    "rr[name]=review_list"
   ]
  },
  {
   "cell_type": "code",
   "execution_count": 53,
   "id": "633382af",
   "metadata": {},
   "outputs": [
    {
     "data": {
      "text/html": [
       "<div>\n",
       "<style scoped>\n",
       "    .dataframe tbody tr th:only-of-type {\n",
       "        vertical-align: middle;\n",
       "    }\n",
       "\n",
       "    .dataframe tbody tr th {\n",
       "        vertical-align: top;\n",
       "    }\n",
       "\n",
       "    .dataframe thead th {\n",
       "        text-align: right;\n",
       "    }\n",
       "</style>\n",
       "<table border=\"1\" class=\"dataframe\">\n",
       "  <thead>\n",
       "    <tr style=\"text-align: right;\">\n",
       "      <th></th>\n",
       "      <th>보연희</th>\n",
       "    </tr>\n",
       "  </thead>\n",
       "  <tbody>\n",
       "    <tr>\n",
       "      <th>0</th>\n",
       "      <td>무화과와 피스타치오가 이렇게 잘 어울릴줄 몰랐는데 완전 최고!! 피스타치오 크림이 ...</td>\n",
       "    </tr>\n",
       "    <tr>\n",
       "      <th>1</th>\n",
       "      <td>무화과 시즌메뉴보고 달려가길 너무 잘한곳❣️ 다쿠아즈 위에 가나슈 얹은 메뉴가 너무...</td>\n",
       "    </tr>\n",
       "    <tr>\n",
       "      <th>2</th>\n",
       "      <td>망고케잌 너무 맛있음 망고로 가득채워진 것 맘에들고 (뭐 가격이 이러하니.. ㅋㅋ)...</td>\n",
       "    </tr>\n",
       "    <tr>\n",
       "      <th>3</th>\n",
       "      <td>매우늦었지만 남기는 리뷰...무화과파르페랑 피스타치오무화과다쿠아즈케이크..! 무화과...</td>\n",
       "    </tr>\n",
       "    <tr>\n",
       "      <th>4</th>\n",
       "      <td>케이크가 정말 맛있어요!! 무화과가 신선하고 우유생크림이 고소하고 무화과랑 잘 어울...</td>\n",
       "    </tr>\n",
       "    <tr>\n",
       "      <th>5</th>\n",
       "      <td>인기가 많은 곳이라 엄청 시끌벅적했지만 케이크가 존맛! 테이블이 너무 다닥다닥 붙어...</td>\n",
       "    </tr>\n",
       "    <tr>\n",
       "      <th>6</th>\n",
       "      <td>무화과 파르페를 먹어보았어요~ 그냥 파르페인줄 알았는데 토치로 구워주는 퍼포먼스가 ...</td>\n",
       "    </tr>\n",
       "    <tr>\n",
       "      <th>7</th>\n",
       "      <td>연희동 핫플레이스라서 들러본곳~~계절탓에 딸기케잌은 없었지만~~무화과케잌도 있고 ~...</td>\n",
       "    </tr>\n",
       "    <tr>\n",
       "      <th>8</th>\n",
       "      <td>과일 파르페와 케이크가 맛있는 카페, 연희동 카페 보연희 복숭아 파르페 물렁물렁한 ...</td>\n",
       "    </tr>\n",
       "    <tr>\n",
       "      <th>9</th>\n",
       "      <td>여기 호지차 바밤바 갸또 존맛입니당 굿! 사실 원래 가려던 곳이 있었는데 휴무라서 ...</td>\n",
       "    </tr>\n",
       "  </tbody>\n",
       "</table>\n",
       "</div>"
      ],
      "text/plain": [
       "                                                 보연희\n",
       "0  무화과와 피스타치오가 이렇게 잘 어울릴줄 몰랐는데 완전 최고!! 피스타치오 크림이 ...\n",
       "1  무화과 시즌메뉴보고 달려가길 너무 잘한곳❣️ 다쿠아즈 위에 가나슈 얹은 메뉴가 너무...\n",
       "2  망고케잌 너무 맛있음 망고로 가득채워진 것 맘에들고 (뭐 가격이 이러하니.. ㅋㅋ)...\n",
       "3  매우늦었지만 남기는 리뷰...무화과파르페랑 피스타치오무화과다쿠아즈케이크..! 무화과...\n",
       "4  케이크가 정말 맛있어요!! 무화과가 신선하고 우유생크림이 고소하고 무화과랑 잘 어울...\n",
       "5  인기가 많은 곳이라 엄청 시끌벅적했지만 케이크가 존맛! 테이블이 너무 다닥다닥 붙어...\n",
       "6  무화과 파르페를 먹어보았어요~ 그냥 파르페인줄 알았는데 토치로 구워주는 퍼포먼스가 ...\n",
       "7  연희동 핫플레이스라서 들러본곳~~계절탓에 딸기케잌은 없었지만~~무화과케잌도 있고 ~...\n",
       "8  과일 파르페와 케이크가 맛있는 카페, 연희동 카페 보연희 복숭아 파르페 물렁물렁한 ...\n",
       "9  여기 호지차 바밤바 갸또 존맛입니당 굿! 사실 원래 가려던 곳이 있었는데 휴무라서 ..."
      ]
     },
     "execution_count": 53,
     "metadata": {},
     "output_type": "execute_result"
    }
   ],
   "source": [
    "pd.DataFrame(rr)"
   ]
  },
  {
   "cell_type": "code",
   "execution_count": null,
   "id": "527be3f5",
   "metadata": {},
   "outputs": [],
   "source": []
  }
 ],
 "metadata": {
  "kernelspec": {
   "display_name": "Python 3",
   "language": "python",
   "name": "python3"
  },
  "language_info": {
   "codemirror_mode": {
    "name": "ipython",
    "version": 3
   },
   "file_extension": ".py",
   "mimetype": "text/x-python",
   "name": "python",
   "nbconvert_exporter": "python",
   "pygments_lexer": "ipython3",
   "version": "3.8.8"
  }
 },
 "nbformat": 4,
 "nbformat_minor": 5
}
