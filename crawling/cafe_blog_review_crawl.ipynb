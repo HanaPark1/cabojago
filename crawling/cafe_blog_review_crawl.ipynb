{
 "cells": [
  {
   "cell_type": "code",
   "execution_count": 2,
   "id": "c09155ed-1418-46f9-a0f5-9d47d511ab94",
   "metadata": {},
   "outputs": [],
   "source": [
    "import sys\n",
    "import os\n",
    "\n",
    "import pandas as pd\n",
    "import numpy as np\n",
    "\n",
    "from bs4 import BeautifulSoup\n",
    "\n",
    "from selenium.webdriver.common.by import By\n",
    "from selenium import webdriver\n",
    "from selenium.webdriver.common.keys import Keys\n",
    "import chromedriver_autoinstaller\n",
    "\n",
    "import time\n",
    "from tqdm import tqdm_notebook\n",
    "\n",
    "import warnings\n",
    "warnings.filterwarnings('ignore')"
   ]
  },
  {
   "cell_type": "code",
   "execution_count": 17,
   "id": "117e29a0-2355-4a47-bb19-116c9e9e181d",
   "metadata": {},
   "outputs": [
    {
     "name": "stdin",
     "output_type": "stream",
     "text": [
      "크롤링 키워드 필구커피\n"
     ]
    },
    {
     "data": {
      "text/plain": [
       "'필구커피 리뷰'"
      ]
     },
     "execution_count": 17,
     "metadata": {},
     "output_type": "execute_result"
    }
   ],
   "source": [
    "cafe = input(\"크롤링 키워드\")\n",
    "\n",
    "query_txt = cafe + \" 리뷰\""
   ]
  },
  {
   "cell_type": "code",
   "execution_count": 4,
   "id": "7761a17b-b9bf-433b-affc-417bd3bdaef8",
   "metadata": {},
   "outputs": [],
   "source": [
    "#크롬 웹브라우저 실행\n",
    "chrome_options = webdriver.ChromeOptions()\n",
    "\n",
    "chrome_options.add_argument(\"/Users/hana/.wdm/drivers/chromedriver/mac64/119.0.6045.105/chromedriver-mac-arm64/chromedriver\")\n",
    "driver = webdriver.Chrome()\n",
    "driver.get(\n",
    "    \"https://search.naver.com\"\n",
    ")\n",
    "time.sleep(1)"
   ]
  },
  {
   "cell_type": "code",
   "execution_count": 5,
   "id": "4b37e73d-a59f-459a-a924-c442aa99ad00",
   "metadata": {
    "scrolled": true
   },
   "outputs": [],
   "source": [
    "#검색창에 \"검색어\" 검색\n",
    "element = driver.find_element(By.CSS_SELECTOR, 'div.search_input_box > input#query')\n",
    "element.send_keys(query_txt)\n",
    "element.submit()\n",
    "time.sleep(1)"
   ]
  },
  {
   "cell_type": "code",
   "execution_count": 6,
   "id": "2913a74b-73fd-4515-85a8-025ec4b4f6e4",
   "metadata": {},
   "outputs": [],
   "source": [
    "#VIEW 클릭\n",
    "\n",
    "driver.find_element(By.LINK_TEXT, \"VIEW\").click()\n",
    "\n",
    "#옵션 클릭\n",
    "driver.find_element(By.LINK_TEXT, \"옵션\").click()\n",
    "\n",
    "#블로그 클릭\n",
    "driver.find_element(By.LINK_TEXT, \"블로그\").click()"
   ]
  },
  {
   "cell_type": "code",
   "execution_count": 7,
   "id": "c982eabd-7ccb-4d15-8e72-5591e1fd3a42",
   "metadata": {},
   "outputs": [],
   "source": [
    "# 스크롤을 밑으로 내려주는 함수\n",
    "\n",
    "def scroll_down(driver):\n",
    "    driver.execute_script(\"window.scrollTo(0, 99999999)\")\n",
    "    time.sleep(1)\n",
    "\n",
    "# n : 스크롤할 횟수 설정\n",
    "n = 1 #스크롤 1번당 글 30개씩 화면에 출력\n",
    "i = 0\n",
    "while i < n:\n",
    "    scroll_down(driver) #스크롤다운\n",
    "    i = i+1"
   ]
  },
  {
   "cell_type": "code",
   "execution_count": 7,
   "id": "c017588b-1603-4e44-8101-820e2b23577e",
   "metadata": {},
   "outputs": [
    {
     "data": {
      "text/plain": [
       "'https://blog.naver.com/occkei/222938814521'"
      ]
     },
     "execution_count": 7,
     "metadata": {},
     "output_type": "execute_result"
    }
   ],
   "source": [
    "url_list = []\n",
    "title_list = []\n",
    "\n",
    "\n",
    "#URL_raw 크롤링\n",
    "articles = \"a.title_link\"\n",
    "article_raw = driver.find_elements(By.CSS_SELECTOR, articles)\n",
    "article_raw[0]\n",
    "article_raw[0].text\n",
    "article_raw[0].get_attribute('href')"
   ]
  },
  {
   "cell_type": "code",
   "execution_count": 8,
   "id": "0e6ee2a3-ea1f-46d6-be56-a3c3dd46c4d5",
   "metadata": {},
   "outputs": [
    {
     "name": "stdout",
     "output_type": "stream",
     "text": [
      "\n",
      "url 갯수:  30\n",
      "title 갯수:  30\n"
     ]
    }
   ],
   "source": [
    "for article in article_raw:\n",
    "    url = article.get_attribute('href')\n",
    "    url_list.append(url)\n",
    "\n",
    "for article in article_raw:\n",
    "    title = article.text\n",
    "    title_list.append(title)\n",
    "\n",
    "print(\"\")\n",
    "print('url 갯수: ',len(url_list))\n",
    "print('title 갯수: ',len(title_list))"
   ]
  },
  {
   "cell_type": "code",
   "execution_count": 9,
   "id": "79fffc4f-3496-45a4-932f-90333593baf2",
   "metadata": {},
   "outputs": [
    {
     "data": {
      "text/html": [
       "<div>\n",
       "<style scoped>\n",
       "    .dataframe tbody tr th:only-of-type {\n",
       "        vertical-align: middle;\n",
       "    }\n",
       "\n",
       "    .dataframe tbody tr th {\n",
       "        vertical-align: top;\n",
       "    }\n",
       "\n",
       "    .dataframe thead th {\n",
       "        text-align: right;\n",
       "    }\n",
       "</style>\n",
       "<table border=\"1\" class=\"dataframe\">\n",
       "  <thead>\n",
       "    <tr style=\"text-align: right;\">\n",
       "      <th></th>\n",
       "      <th>url</th>\n",
       "      <th>title</th>\n",
       "    </tr>\n",
       "  </thead>\n",
       "  <tbody>\n",
       "    <tr>\n",
       "      <th>0</th>\n",
       "      <td>https://blog.naver.com/occkei/222938814521</td>\n",
       "      <td>[은평구카페] 필구커피 마쉬멜로우 시그니처메뉴</td>\n",
       "    </tr>\n",
       "    <tr>\n",
       "      <th>1</th>\n",
       "      <td>https://blog.naver.com/rrim2/222622292155</td>\n",
       "      <td>필구커피, 은평구 카페, 연신내 카페</td>\n",
       "    </tr>\n",
       "    <tr>\n",
       "      <th>2</th>\n",
       "      <td>https://blog.naver.com/ovo_y/223218163215</td>\n",
       "      <td>은평구 응암역 조용한 감성카페 필구커피</td>\n",
       "    </tr>\n",
       "    <tr>\n",
       "      <th>3</th>\n",
       "      <td>https://blog.naver.com/reason8923/222696867776</td>\n",
       "      <td>은평구 불광천 카페, 크림 라떼가 맛있는 필구커피</td>\n",
       "    </tr>\n",
       "    <tr>\n",
       "      <th>4</th>\n",
       "      <td>https://blog.naver.com/dh_halim/222899578998</td>\n",
       "      <td>서울) 은평구 새절역 근처, 커피 찐찐 맛집으로 유명한 \"필구커피\"</td>\n",
       "    </tr>\n",
       "    <tr>\n",
       "      <th>5</th>\n",
       "      <td>https://blog.naver.com/son_bang_/223208139227</td>\n",
       "      <td>[응암동 카페] 빈티지 감성 가득한 필구커피</td>\n",
       "    </tr>\n",
       "    <tr>\n",
       "      <th>6</th>\n",
       "      <td>https://blog.naver.com/zzung__ha/223255516396</td>\n",
       "      <td>은평구 응암동 감성 카페 필구커피_세절역 불광천 조용한 커피...</td>\n",
       "    </tr>\n",
       "    <tr>\n",
       "      <th>7</th>\n",
       "      <td>https://blog.naver.com/smileyoolim/222954142099</td>\n",
       "      <td>[은평/새절/응암] 커피도 맛있고 스콘도 맛있었던 필구커피</td>\n",
       "    </tr>\n",
       "    <tr>\n",
       "      <th>8</th>\n",
       "      <td>https://blog.naver.com/skdus815/222873029815</td>\n",
       "      <td>[새절역 카페] 필구커피, 응암동 조용한 골목에 위치한 수제...</td>\n",
       "    </tr>\n",
       "    <tr>\n",
       "      <th>9</th>\n",
       "      <td>https://blog.naver.com/wlseend/223104644209</td>\n",
       "      <td>은평구 인생 스콘 맛집, 필구커피♡</td>\n",
       "    </tr>\n",
       "    <tr>\n",
       "      <th>10</th>\n",
       "      <td>https://blog.naver.com/nn_nani/222855300157</td>\n",
       "      <td>새절역카페 : 불광천 골목사이 귀여운 카페 '필구커피'</td>\n",
       "    </tr>\n",
       "    <tr>\n",
       "      <th>11</th>\n",
       "      <td>https://blog.naver.com/pk1377/223077464573</td>\n",
       "      <td>필구커피</td>\n",
       "    </tr>\n",
       "    <tr>\n",
       "      <th>12</th>\n",
       "      <td>https://blog.naver.com/honeyjarrrr/222658760707</td>\n",
       "      <td>불광천 카페 필구커피 힙쟁이 코스 애견동반가능</td>\n",
       "    </tr>\n",
       "    <tr>\n",
       "      <th>13</th>\n",
       "      <td>https://blog.naver.com/jengmallo/222618052825</td>\n",
       "      <td>불광천카페 필구커피</td>\n",
       "    </tr>\n",
       "    <tr>\n",
       "      <th>14</th>\n",
       "      <td>https://blog.naver.com/silverhye86/222938332332</td>\n",
       "      <td>은평구 응암동 카페 ‘필구커피’</td>\n",
       "    </tr>\n",
       "    <tr>\n",
       "      <th>15</th>\n",
       "      <td>https://blog.naver.com/dcu0805/222657084780</td>\n",
       "      <td>[카페투어]불광천의 작은 카페_시그니처, 디자인, 필구커피</td>\n",
       "    </tr>\n",
       "    <tr>\n",
       "      <th>16</th>\n",
       "      <td>https://blog.naver.com/kgrbbb97/223138611803</td>\n",
       "      <td>[새절 카페추천] 필구커피ㅣ멜로우 라떼, 보내기 아쉬운...</td>\n",
       "    </tr>\n",
       "    <tr>\n",
       "      <th>17</th>\n",
       "      <td>https://blog.naver.com/ssshee2/223266529724</td>\n",
       "      <td>대구 달서구 월성동 양곱창 맛집｜필구양곱창, 소곱창 대창...</td>\n",
       "    </tr>\n",
       "    <tr>\n",
       "      <th>18</th>\n",
       "      <td>https://blog.naver.com/jihyun_note/222356016329</td>\n",
       "      <td>라떼'가 유명한 필구커피 / 불광천 카페 / 새절역 카페</td>\n",
       "    </tr>\n",
       "    <tr>\n",
       "      <th>19</th>\n",
       "      <td>https://blog.naver.com/noonseol2/222606545715</td>\n",
       "      <td>새절역 [필구커피] 아담하고 힙한 동네카페 _멜로우크림라떼</td>\n",
       "    </tr>\n",
       "    <tr>\n",
       "      <th>20</th>\n",
       "      <td>https://blog.naver.com/hyujing/222316965589</td>\n",
       "      <td>가로수길 정돈, 필구커피, 그리고 나이키덩크 코스트 지름</td>\n",
       "    </tr>\n",
       "    <tr>\n",
       "      <th>21</th>\n",
       "      <td>https://blog.naver.com/reason8923/222322450149</td>\n",
       "      <td>카페 추천] 맛있는 멜로우 크림 라떼 먹을 수 있는 핫플 필구커피</td>\n",
       "    </tr>\n",
       "    <tr>\n",
       "      <th>22</th>\n",
       "      <td>https://blog.naver.com/mary3710/222403676022</td>\n",
       "      <td>[리뷰]새절역 응암동 필구커피/은평구 핫플/불광천 카페(내돈내산)</td>\n",
       "    </tr>\n",
       "    <tr>\n",
       "      <th>23</th>\n",
       "      <td>https://blog.naver.com/him_e_review/222298255410</td>\n",
       "      <td>[불광천 카페] 인스타 감성의 초소형 카페 필구 커피...</td>\n",
       "    </tr>\n",
       "    <tr>\n",
       "      <th>24</th>\n",
       "      <td>https://blog.naver.com/euunon1y/222474884108</td>\n",
       "      <td>필구커피 , 골목길 mood 그 자체 ...</td>\n",
       "    </tr>\n",
       "    <tr>\n",
       "      <th>25</th>\n",
       "      <td>https://blog.naver.com/rooki023/222425709965</td>\n",
       "      <td>필구커피 filgu coffee응암동 새절역 불광천카페</td>\n",
       "    </tr>\n",
       "    <tr>\n",
       "      <th>26</th>\n",
       "      <td>https://blog.naver.com/wodud7478/222399847458</td>\n",
       "      <td>[새절역,응암동카페] 필구커피</td>\n",
       "    </tr>\n",
       "    <tr>\n",
       "      <th>27</th>\n",
       "      <td>https://blog.naver.com/angelphs1124/222494642714</td>\n",
       "      <td>[새절역카페]필구커피에서 멜로우라떼 마시고 반해버렸다.</td>\n",
       "    </tr>\n",
       "    <tr>\n",
       "      <th>28</th>\n",
       "      <td>https://blog.naver.com/lovefromlike/222321413800</td>\n",
       "      <td>[응암동 카페] 불광천 산책하다 가기 좋은 카페 ‘필구 커피’...</td>\n",
       "    </tr>\n",
       "    <tr>\n",
       "      <th>29</th>\n",
       "      <td>https://blog.naver.com/cooljakit/221419446941</td>\n",
       "      <td>후지 X-T3 미러리스 카메라 필구 아이템 림즈 속사케이스 리뷰</td>\n",
       "    </tr>\n",
       "  </tbody>\n",
       "</table>\n",
       "</div>"
      ],
      "text/plain": [
       "                                                 url  \\\n",
       "0         https://blog.naver.com/occkei/222938814521   \n",
       "1          https://blog.naver.com/rrim2/222622292155   \n",
       "2          https://blog.naver.com/ovo_y/223218163215   \n",
       "3     https://blog.naver.com/reason8923/222696867776   \n",
       "4       https://blog.naver.com/dh_halim/222899578998   \n",
       "5      https://blog.naver.com/son_bang_/223208139227   \n",
       "6      https://blog.naver.com/zzung__ha/223255516396   \n",
       "7    https://blog.naver.com/smileyoolim/222954142099   \n",
       "8       https://blog.naver.com/skdus815/222873029815   \n",
       "9        https://blog.naver.com/wlseend/223104644209   \n",
       "10       https://blog.naver.com/nn_nani/222855300157   \n",
       "11        https://blog.naver.com/pk1377/223077464573   \n",
       "12   https://blog.naver.com/honeyjarrrr/222658760707   \n",
       "13     https://blog.naver.com/jengmallo/222618052825   \n",
       "14   https://blog.naver.com/silverhye86/222938332332   \n",
       "15       https://blog.naver.com/dcu0805/222657084780   \n",
       "16      https://blog.naver.com/kgrbbb97/223138611803   \n",
       "17       https://blog.naver.com/ssshee2/223266529724   \n",
       "18   https://blog.naver.com/jihyun_note/222356016329   \n",
       "19     https://blog.naver.com/noonseol2/222606545715   \n",
       "20       https://blog.naver.com/hyujing/222316965589   \n",
       "21    https://blog.naver.com/reason8923/222322450149   \n",
       "22      https://blog.naver.com/mary3710/222403676022   \n",
       "23  https://blog.naver.com/him_e_review/222298255410   \n",
       "24      https://blog.naver.com/euunon1y/222474884108   \n",
       "25      https://blog.naver.com/rooki023/222425709965   \n",
       "26     https://blog.naver.com/wodud7478/222399847458   \n",
       "27  https://blog.naver.com/angelphs1124/222494642714   \n",
       "28  https://blog.naver.com/lovefromlike/222321413800   \n",
       "29     https://blog.naver.com/cooljakit/221419446941   \n",
       "\n",
       "                                    title  \n",
       "0               [은평구카페] 필구커피 마쉬멜로우 시그니처메뉴  \n",
       "1                    필구커피, 은평구 카페, 연신내 카페  \n",
       "2                   은평구 응암역 조용한 감성카페 필구커피  \n",
       "3             은평구 불광천 카페, 크림 라떼가 맛있는 필구커피  \n",
       "4   서울) 은평구 새절역 근처, 커피 찐찐 맛집으로 유명한 \"필구커피\"  \n",
       "5                [응암동 카페] 빈티지 감성 가득한 필구커피  \n",
       "6    은평구 응암동 감성 카페 필구커피_세절역 불광천 조용한 커피...  \n",
       "7        [은평/새절/응암] 커피도 맛있고 스콘도 맛있었던 필구커피  \n",
       "8    [새절역 카페] 필구커피, 응암동 조용한 골목에 위치한 수제...  \n",
       "9                     은평구 인생 스콘 맛집, 필구커피♡  \n",
       "10         새절역카페 : 불광천 골목사이 귀여운 카페 '필구커피'  \n",
       "11                                   필구커피  \n",
       "12              불광천 카페 필구커피 힙쟁이 코스 애견동반가능  \n",
       "13                             불광천카페 필구커피  \n",
       "14                      은평구 응암동 카페 ‘필구커피’  \n",
       "15       [카페투어]불광천의 작은 카페_시그니처, 디자인, 필구커피  \n",
       "16      [새절 카페추천] 필구커피ㅣ멜로우 라떼, 보내기 아쉬운...  \n",
       "17     대구 달서구 월성동 양곱창 맛집｜필구양곱창, 소곱창 대창...  \n",
       "18        라떼'가 유명한 필구커피 / 불광천 카페 / 새절역 카페  \n",
       "19       새절역 [필구커피] 아담하고 힙한 동네카페 _멜로우크림라떼  \n",
       "20        가로수길 정돈, 필구커피, 그리고 나이키덩크 코스트 지름  \n",
       "21   카페 추천] 맛있는 멜로우 크림 라떼 먹을 수 있는 핫플 필구커피  \n",
       "22   [리뷰]새절역 응암동 필구커피/은평구 핫플/불광천 카페(내돈내산)  \n",
       "23       [불광천 카페] 인스타 감성의 초소형 카페 필구 커피...  \n",
       "24               필구커피 , 골목길 mood 그 자체 ...  \n",
       "25         필구커피 filgu coffee응암동 새절역 불광천카페  \n",
       "26                       [새절역,응암동카페] 필구커피  \n",
       "27         [새절역카페]필구커피에서 멜로우라떼 마시고 반해버렸다.  \n",
       "28  [응암동 카페] 불광천 산책하다 가기 좋은 카페 ‘필구 커피’...  \n",
       "29    후지 X-T3 미러리스 카메라 필구 아이템 림즈 속사케이스 리뷰  "
      ]
     },
     "execution_count": 9,
     "metadata": {},
     "output_type": "execute_result"
    }
   ],
   "source": [
    "df = pd.DataFrame({'url':url_list, 'title':title_list})\n",
    "df"
   ]
  },
  {
   "cell_type": "code",
   "execution_count": 20,
   "id": "9b002329-761b-4008-a534-1df40086bcce",
   "metadata": {},
   "outputs": [],
   "source": [
    "#포스트 띄우기\n",
    "i = 0\n",
    "url = df['url'][i]\n",
    "driver.get(url)"
   ]
  },
  {
   "cell_type": "code",
   "execution_count": 21,
   "id": "da9c02ed-8356-4605-964a-b30bd02b61b4",
   "metadata": {},
   "outputs": [
    {
     "name": "stdout",
     "output_type": "stream",
     "text": [
      "mainFrame\n"
     ]
    }
   ],
   "source": [
    "iframes = driver.find_elements(By.CSS_SELECTOR, 'iframe')\n",
    "for iframe in iframes:\n",
    "    print(iframe.get_attribute('name'))\n",
    "\n",
    "driver.switch_to.frame('mainFrame')\n",
    "# try:\n",
    "#     driver.switch_to.frame('mainFrame')\n",
    "#     target_info = {} #개별 블로그 내용을 담을 딕셔너리 생성\n",
    "\n",
    "#     #제목 크롤링\n",
    "#     overlays = \".se-module.se-module-text.se-title-text\"\n",
    "#     tit = driver.find_element(By.CSS_SELECTOR, overlays)\n",
    "#     title = tit.text\n",
    "\n",
    "\n",
    "# #제목 크롤링\n",
    "# overlays = \".se-module.se-module-text.se-title-text\"\n",
    "# tit = driver.find_element(By.CSS_SELECTOR, overlays)\n",
    "# title = tit.text\n",
    "# title\n"
   ]
  },
  {
   "cell_type": "code",
   "execution_count": 23,
   "id": "eb3f10ef-6b6d-4d03-84c9-99ca573df452",
   "metadata": {},
   "outputs": [
    {
     "data": {
      "text/plain": [
       "'[은평구카페] 필구커피 마쉬멜로우 시그니처메뉴'"
      ]
     },
     "execution_count": 23,
     "metadata": {},
     "output_type": "execute_result"
    }
   ],
   "source": [
    "overlays = \".se-module.se-module-text.se-title-text\"\n",
    "tit = driver.find_element(By.CSS_SELECTOR, overlays)\n",
    "title = tit.text\n",
    "title"
   ]
  },
  {
   "cell_type": "code",
   "execution_count": 26,
   "id": "8df1d456-923a-4eaf-9d90-5dbbcdd3fc48",
   "metadata": {},
   "outputs": [
    {
     "data": {
      "text/plain": [
       "\"필구커피 서울특별시 은평구 불광천길 442-29 1층 예약 안녕하세요 인프피 감성녀예요:) 필구커피 인스타에서 공지한대로 겨울 시즌메뉴로 11월 4일부터 선보이는 멜로우 라떼를 맛볼 겸, 은평구 필구커피에 다녀왔어요 필구커피 오픈시간 참고하세요 ~~ @filgucoffee 은평구에서 유명한 로컬 커피숍 필구커피는 주택을 개조하여 아기자기한 갬성의 카페예요 새절역에서 내리니 불광천 길이 시원스럽게 이어져 있구요^^ 평화롭게 산책하는 주민들이 많았어요 필구커피는 새절역에서 내려, 불광천 메인 길에서 조금 벗어나 주택가 쪽으로 5분정도 걸어 들어가면 나와요! 제가 도착한 시간은 오후 4시 경이었는데요~ 빵이없어요 ㅋㅋㅋ 텅 필구커피는 스콘맛집이라던데 안타깝게도 다음을 기약해봅니다 다음 방문 때에는 스콘 꼭 먹을꺼라구욧!! 필구커피 리뷰에서 가장 많이 보이는 메뉴인 멜로우 크림라떼도 안먹어봤는데, 하루에 두 잔을 마실 수는 없으니 이 또한 다음을 기약해봅니다 😓 💧 필구커피의 시그니처 메뉴인 멜로우 크림라떼는 벚꽃 🌸 시즌에는 핑크 마시멜로우가 토핑된다고 해요~! 로컬 커피숍으로서 지역주민들과의 소통을 중요하게 생각한다는 필구커피의 철학 ☕️ 지역민들 단골이 많은건지 테이크아웃 기다리는 사람들도 있더라구요 자 ~ 그럼 주문을 해볼까요 ? 저는 겨울 시즌메뉴 멜로우라떼와 레몬 마들렌을 주문했어요 ! 이렇게 귀여운 스티커 스탬프도 찍어주구요~ 유당불내증을 배려해서 소이라떼가 가능케 한 카페가 요즘 부쩍 눈에 띄는데요 ~ 필구커피도 두유로 비용 추가 없이 변경이 가능했어요! 밀크티는 귀여운 캐릭터가 그려진 병에 담아 주더라구요 !! 카페 내부는 최근 확장 공사를 해서 넓어졌다고 하는데 ~ 오늘이 첫 방문이어서 몰랐어요 😂 확장 공사를 했다고 하지만 아담한 느낌의 카페로 느껴졌답니다 !! LET'S GO EAT!! 필구커피 주문한 음료는 진동벨 없이 바리스타님이 직접 자리로 가져다 줘요! 필구커피의 메인 캐릭터 주황새와 함께 먹으러 가볼까요? 멜로우라떼 (5,000) 레몬 스콘(2,500) 마쉬멜로우 한개가 크게 똭! 올라가있어요 하지만 저는 마쉬멜로우를 잘~ 먹지 않거든요. 살만 찌고, 지구를 몇 바퀴돌아도 안 빠진다는데 😓 맛있는지 잘 모르겠어요 !! 하지만 커피맛은 생각보다 달지 않고 좋았어요 ! 디카페인 아메리카노도 맛있다고 하더라구요 ☕️ 막판에 이렇게나 남아버린 마시멜로우가 아깝긴했지만 덕분에 비주얼은 좋았으니 만족 매장 안쪽에는 좌석이 꽤 있었구요 ! 아담하고 포근한 느낌의 아기자기한 갬성으로 꾸며져 있었어요 🤩 힙한 느낌의 오렌지버드 캐릭터 참 잘 만든듯 ! 화장실은 내부 안쪽에 남녀공용 한칸 있습니다 필구커피를 나와서 불광천 길을 걸어보았어요 응암역 쪽으로 걸어가면서 볓빛거리 조형물을 감상했네요 💕 오리들에게 두부를 주는 아주머니도 있길래 한참을 구경했네요 ~ 오리들이 두부를 잘먹는다는건 처음 알았어요..뭐지? 😓 💧 아무튼 귀여웠구요 🦆 세계적으로 유명한 이탈리아 출신의 인더스트리얼 디자이너인 스테파노 지오반노니의 토끼들이 곳곳에 있었어요 아기자기한 동화 감성을 느낄 수 있었던 불광천 산책이었답니다 🐰 🐇 이상! 은평구 로컬 커피 맛집!! 필구커피 포스팅 마칠께요 ~~ 50m © NAVER Corp. 필구커피 서울특별시 은평구 불광천길 442-29 1층 예약\""
      ]
     },
     "execution_count": 26,
     "metadata": {},
     "output_type": "execute_result"
    }
   ],
   "source": [
    "overlays = \".se-main-container\"\n",
    "content= driver.find_element(By.CSS_SELECTOR, overlays)\n",
    "cont = content.text\n",
    "cont = cont.replace('\\n', ' ')\n",
    "cont"
   ]
  },
  {
   "cell_type": "code",
   "execution_count": 31,
   "id": "12487fe5-56ff-4a02-a1ba-01f13a64d6ee",
   "metadata": {},
   "outputs": [
    {
     "data": {
      "text/plain": [
       "{'title': '[은평구카페] 필구커피 마쉬멜로우 시그니처메뉴',\n",
       " 'content': \"필구커피 서울특별시 은평구 불광천길 442-29 1층 예약 안녕하세요 인프피 감성녀예요:) 필구커피 인스타에서 공지한대로 겨울 시즌메뉴로 11월 4일부터 선보이는 멜로우 라떼를 맛볼 겸, 은평구 필구커피에 다녀왔어요 필구커피 오픈시간 참고하세요 ~~ @filgucoffee 은평구에서 유명한 로컬 커피숍 필구커피는 주택을 개조하여 아기자기한 갬성의 카페예요 새절역에서 내리니 불광천 길이 시원스럽게 이어져 있구요^^ 평화롭게 산책하는 주민들이 많았어요 필구커피는 새절역에서 내려, 불광천 메인 길에서 조금 벗어나 주택가 쪽으로 5분정도 걸어 들어가면 나와요! 제가 도착한 시간은 오후 4시 경이었는데요~ 빵이없어요 ㅋㅋㅋ 텅 필구커피는 스콘맛집이라던데 안타깝게도 다음을 기약해봅니다 다음 방문 때에는 스콘 꼭 먹을꺼라구욧!! 필구커피 리뷰에서 가장 많이 보이는 메뉴인 멜로우 크림라떼도 안먹어봤는데, 하루에 두 잔을 마실 수는 없으니 이 또한 다음을 기약해봅니다 😓 💧 필구커피의 시그니처 메뉴인 멜로우 크림라떼는 벚꽃 🌸 시즌에는 핑크 마시멜로우가 토핑된다고 해요~! 로컬 커피숍으로서 지역주민들과의 소통을 중요하게 생각한다는 필구커피의 철학 ☕️ 지역민들 단골이 많은건지 테이크아웃 기다리는 사람들도 있더라구요 자 ~ 그럼 주문을 해볼까요 ? 저는 겨울 시즌메뉴 멜로우라떼와 레몬 마들렌을 주문했어요 ! 이렇게 귀여운 스티커 스탬프도 찍어주구요~ 유당불내증을 배려해서 소이라떼가 가능케 한 카페가 요즘 부쩍 눈에 띄는데요 ~ 필구커피도 두유로 비용 추가 없이 변경이 가능했어요! 밀크티는 귀여운 캐릭터가 그려진 병에 담아 주더라구요 !! 카페 내부는 최근 확장 공사를 해서 넓어졌다고 하는데 ~ 오늘이 첫 방문이어서 몰랐어요 😂 확장 공사를 했다고 하지만 아담한 느낌의 카페로 느껴졌답니다 !! LET'S GO EAT!! 필구커피 주문한 음료는 진동벨 없이 바리스타님이 직접 자리로 가져다 줘요! 필구커피의 메인 캐릭터 주황새와 함께 먹으러 가볼까요? 멜로우라떼 (5,000) 레몬 스콘(2,500) 마쉬멜로우 한개가 크게 똭! 올라가있어요 하지만 저는 마쉬멜로우를 잘~ 먹지 않거든요. 살만 찌고, 지구를 몇 바퀴돌아도 안 빠진다는데 😓 맛있는지 잘 모르겠어요 !! 하지만 커피맛은 생각보다 달지 않고 좋았어요 ! 디카페인 아메리카노도 맛있다고 하더라구요 ☕️ 막판에 이렇게나 남아버린 마시멜로우가 아깝긴했지만 덕분에 비주얼은 좋았으니 만족 매장 안쪽에는 좌석이 꽤 있었구요 ! 아담하고 포근한 느낌의 아기자기한 갬성으로 꾸며져 있었어요 🤩 힙한 느낌의 오렌지버드 캐릭터 참 잘 만든듯 ! 화장실은 내부 안쪽에 남녀공용 한칸 있습니다 필구커피를 나와서 불광천 길을 걸어보았어요 응암역 쪽으로 걸어가면서 볓빛거리 조형물을 감상했네요 💕 오리들에게 두부를 주는 아주머니도 있길래 한참을 구경했네요 ~ 오리들이 두부를 잘먹는다는건 처음 알았어요..뭐지? 😓 💧 아무튼 귀여웠구요 🦆 세계적으로 유명한 이탈리아 출신의 인더스트리얼 디자이너인 스테파노 지오반노니의 토끼들이 곳곳에 있었어요 아기자기한 동화 감성을 느낄 수 있었던 불광천 산책이었답니다 🐰 🐇 이상! 은평구 로컬 커피 맛집!! 필구커피 포스팅 마칠께요 ~~ 50m © NAVER Corp. 필구커피 서울특별시 은평구 불광천길 442-29 1층 예약\"}"
      ]
     },
     "execution_count": 31,
     "metadata": {},
     "output_type": "execute_result"
    }
   ],
   "source": [
    "dict = {}\n",
    "target_info = {}\n",
    "\n",
    "target_info['title'] = title\n",
    "target_info['content'] = cont\n",
    "\n",
    "dict[0]=target_info\n",
    "dict[0]"
   ]
  },
  {
   "cell_type": "code",
   "execution_count": 33,
   "id": "cadb9ab4-72bb-4981-8bcd-80fb1edde083",
   "metadata": {},
   "outputs": [
    {
     "data": {
      "text/html": [
       "<div>\n",
       "<style scoped>\n",
       "    .dataframe tbody tr th:only-of-type {\n",
       "        vertical-align: middle;\n",
       "    }\n",
       "\n",
       "    .dataframe tbody tr th {\n",
       "        vertical-align: top;\n",
       "    }\n",
       "\n",
       "    .dataframe thead th {\n",
       "        text-align: right;\n",
       "    }\n",
       "</style>\n",
       "<table border=\"1\" class=\"dataframe\">\n",
       "  <thead>\n",
       "    <tr style=\"text-align: right;\">\n",
       "      <th></th>\n",
       "      <th>title</th>\n",
       "      <th>content</th>\n",
       "    </tr>\n",
       "  </thead>\n",
       "  <tbody>\n",
       "    <tr>\n",
       "      <th>0</th>\n",
       "      <td>[은평구카페] 필구커피 마쉬멜로우 시그니처메뉴</td>\n",
       "      <td>필구커피 서울특별시 은평구 불광천길 442-29 1층 예약 안녕하세요 인프피 감성녀...</td>\n",
       "    </tr>\n",
       "  </tbody>\n",
       "</table>\n",
       "</div>"
      ],
      "text/plain": [
       "                       title  \\\n",
       "0  [은평구카페] 필구커피 마쉬멜로우 시그니처메뉴   \n",
       "\n",
       "                                             content  \n",
       "0  필구커피 서울특별시 은평구 불광천길 442-29 1층 예약 안녕하세요 인프피 감성녀...  "
      ]
     },
     "execution_count": 33,
     "metadata": {},
     "output_type": "execute_result"
    }
   ],
   "source": [
    "result_df = pd.DataFrame.from_dict(dict, orient='index')\n",
    "result_df"
   ]
  },
  {
   "cell_type": "code",
   "execution_count": 10,
   "id": "19a42c73-e7f9-41f3-a25c-f11dd6521dd0",
   "metadata": {},
   "outputs": [
    {
     "data": {
      "application/vnd.jupyter.widget-view+json": {
       "model_id": "1259402ebb16461aae06e342b7522856",
       "version_major": 2,
       "version_minor": 0
      },
      "text/plain": [
       "  0%|          | 0/30 [00:00<?, ?it/s]"
      ]
     },
     "metadata": {},
     "output_type": "display_data"
    },
    {
     "name": "stderr",
     "output_type": "stream",
     "text": [
      "WARNING:root:Can not find chromedriver for currently installed chrome version.\n"
     ]
    },
    {
     "name": "stdout",
     "output_type": "stream",
     "text": [
      "0 [은평구카페] 필구커피 마쉬멜로우 시그니처메뉴\n"
     ]
    },
    {
     "name": "stderr",
     "output_type": "stream",
     "text": [
      "WARNING:root:Can not find chromedriver for currently installed chrome version.\n"
     ]
    },
    {
     "name": "stdout",
     "output_type": "stream",
     "text": [
      "1 필구커피, 은평구 카페, 연신내 카페\n"
     ]
    },
    {
     "name": "stderr",
     "output_type": "stream",
     "text": [
      "WARNING:root:Can not find chromedriver for currently installed chrome version.\n"
     ]
    },
    {
     "name": "stdout",
     "output_type": "stream",
     "text": [
      "2 은평구 응암역 조용한 감성카페 필구커피\n"
     ]
    },
    {
     "name": "stderr",
     "output_type": "stream",
     "text": [
      "WARNING:root:Can not find chromedriver for currently installed chrome version.\n",
      "WARNING:root:Can not find chromedriver for currently installed chrome version.\n"
     ]
    },
    {
     "name": "stdout",
     "output_type": "stream",
     "text": [
      "3 은평구 불광천 카페, 크림 라떼가 맛있는 필구커피\n"
     ]
    },
    {
     "name": "stderr",
     "output_type": "stream",
     "text": [
      "WARNING:root:Can not find chromedriver for currently installed chrome version.\n"
     ]
    },
    {
     "name": "stdout",
     "output_type": "stream",
     "text": [
      "4 서울) 은평구 새절역 근처, 커피 찐찐 맛집으로 유명한 \"필구커피\"\n"
     ]
    },
    {
     "name": "stderr",
     "output_type": "stream",
     "text": [
      "WARNING:root:Can not find chromedriver for currently installed chrome version.\n"
     ]
    },
    {
     "name": "stdout",
     "output_type": "stream",
     "text": [
      "5 [응암동 카페] 빈티지 감성 가득한 필구커피\n"
     ]
    },
    {
     "name": "stderr",
     "output_type": "stream",
     "text": [
      "WARNING:root:Can not find chromedriver for currently installed chrome version.\n"
     ]
    },
    {
     "name": "stdout",
     "output_type": "stream",
     "text": [
      "6 은평구 응암동 감성 카페 필구커피_세절역 불광천 조용한 커피 맛집, 아기자기한 애견동반 가능 한 곳\n"
     ]
    },
    {
     "name": "stderr",
     "output_type": "stream",
     "text": [
      "WARNING:root:Can not find chromedriver for currently installed chrome version.\n"
     ]
    },
    {
     "name": "stdout",
     "output_type": "stream",
     "text": [
      "7 [은평/새절/응암] 커피도 맛있고 스콘도 맛있었던 필구커피\n"
     ]
    },
    {
     "name": "stderr",
     "output_type": "stream",
     "text": [
      "WARNING:root:Can not find chromedriver for currently installed chrome version.\n"
     ]
    },
    {
     "name": "stdout",
     "output_type": "stream",
     "text": [
      "8 [새절역 카페] 필구커피, 응암동 조용한 골목에 위치한 수제 마시멜로 라떼가 맛있는 로컬커피타운\n"
     ]
    },
    {
     "name": "stderr",
     "output_type": "stream",
     "text": [
      "WARNING:root:Can not find chromedriver for currently installed chrome version.\n"
     ]
    },
    {
     "name": "stdout",
     "output_type": "stream",
     "text": [
      "9 은평구 인생 스콘 맛집, 필구커피♡\n"
     ]
    },
    {
     "name": "stderr",
     "output_type": "stream",
     "text": [
      "WARNING:root:Can not find chromedriver for currently installed chrome version.\n"
     ]
    },
    {
     "name": "stdout",
     "output_type": "stream",
     "text": [
      "10 새절역카페 : 불광천 골목사이 귀여운 카페 '필구커피'\n"
     ]
    },
    {
     "name": "stderr",
     "output_type": "stream",
     "text": [
      "WARNING:root:Can not find chromedriver for currently installed chrome version.\n"
     ]
    },
    {
     "name": "stdout",
     "output_type": "stream",
     "text": [
      "11 필구커피\n"
     ]
    },
    {
     "name": "stderr",
     "output_type": "stream",
     "text": [
      "WARNING:root:Can not find chromedriver for currently installed chrome version.\n"
     ]
    },
    {
     "name": "stdout",
     "output_type": "stream",
     "text": [
      "12 불광천 카페 필구커피 힙쟁이 코스 애견동반가능\n"
     ]
    },
    {
     "name": "stderr",
     "output_type": "stream",
     "text": [
      "WARNING:root:Can not find chromedriver for currently installed chrome version.\n"
     ]
    },
    {
     "name": "stdout",
     "output_type": "stream",
     "text": [
      "13 불광천카페 필구커피\n"
     ]
    },
    {
     "name": "stderr",
     "output_type": "stream",
     "text": [
      "WARNING:root:Can not find chromedriver for currently installed chrome version.\n"
     ]
    },
    {
     "name": "stdout",
     "output_type": "stream",
     "text": [
      "14 은평구 응암동 카페 ‘필구커피’\n"
     ]
    },
    {
     "name": "stderr",
     "output_type": "stream",
     "text": [
      "WARNING:root:Can not find chromedriver for currently installed chrome version.\n"
     ]
    },
    {
     "name": "stdout",
     "output_type": "stream",
     "text": [
      "15 [카페투어]불광천의 작은 카페_시그니처, 디자인, 필구커피\n"
     ]
    },
    {
     "name": "stderr",
     "output_type": "stream",
     "text": [
      "WARNING:root:Can not find chromedriver for currently installed chrome version.\n"
     ]
    },
    {
     "name": "stdout",
     "output_type": "stream",
     "text": [
      "16 [새절 카페추천] 필구커피ㅣ멜로우 라떼, 보내기 아쉬운 주말저녁 보내기\n",
      "17 대구 달서구 월성동 양곱창 맛집｜필구양곱창, 소곱창 대창 그리고 전골까지 술도둑.\n"
     ]
    },
    {
     "name": "stderr",
     "output_type": "stream",
     "text": [
      "WARNING:root:Can not find chromedriver for currently installed chrome version.\n",
      "WARNING:root:Can not find chromedriver for currently installed chrome version.\n"
     ]
    },
    {
     "name": "stdout",
     "output_type": "stream",
     "text": [
      "18 [서울 은평] 시그니처 메뉴 '마시멜로우 라떼'가 유명한 필구커피 / 불광천 카페 / 새절역 카페\n"
     ]
    },
    {
     "name": "stderr",
     "output_type": "stream",
     "text": [
      "WARNING:root:Can not find chromedriver for currently installed chrome version.\n"
     ]
    },
    {
     "name": "stdout",
     "output_type": "stream",
     "text": [
      "19 새절역 [필구커피] 아담하고 힙한 동네카페 _멜로우크림라떼\n"
     ]
    },
    {
     "name": "stderr",
     "output_type": "stream",
     "text": [
      "WARNING:root:Can not find chromedriver for currently installed chrome version.\n"
     ]
    },
    {
     "name": "stdout",
     "output_type": "stream",
     "text": [
      "20 스물아홉의 일상) 서울숲카페 오브코하우스, 가로수길 정돈, 필구커피, 그리고 나이키덩크 코스트 지름\n"
     ]
    },
    {
     "name": "stderr",
     "output_type": "stream",
     "text": [
      "WARNING:root:Can not find chromedriver for currently installed chrome version.\n",
      "WARNING:root:Can not find chromedriver for currently installed chrome version.\n"
     ]
    },
    {
     "name": "stdout",
     "output_type": "stream",
     "text": [
      "22 [리뷰]새절역 응암동 필구커피/은평구 핫플/불광천 카페(내돈내산)\n",
      "23 [불광천 카페] 인스타 감성의 초소형 카페 필구 커피 FILGU COFFEE\n"
     ]
    },
    {
     "name": "stderr",
     "output_type": "stream",
     "text": [
      "WARNING:root:Can not find chromedriver for currently installed chrome version.\n",
      "WARNING:root:Can not find chromedriver for currently installed chrome version.\n"
     ]
    },
    {
     "name": "stdout",
     "output_type": "stream",
     "text": [
      "24 필구커피 , 골목길 mood 그 자체 ...\n",
      "25 필구커피 filgu coffee응암동 새절역 불광천카페\n"
     ]
    },
    {
     "name": "stderr",
     "output_type": "stream",
     "text": [
      "WARNING:root:Can not find chromedriver for currently installed chrome version.\n",
      "WARNING:root:Can not find chromedriver for currently installed chrome version.\n"
     ]
    },
    {
     "name": "stdout",
     "output_type": "stream",
     "text": [
      "26 [새절역,응암동카페] 필구커피\n",
      "27 [새절역카페]필구커피에서 멜로우라떼 마시고 반해버렸다.\n"
     ]
    },
    {
     "name": "stderr",
     "output_type": "stream",
     "text": [
      "WARNING:root:Can not find chromedriver for currently installed chrome version.\n",
      "WARNING:root:Can not find chromedriver for currently installed chrome version.\n"
     ]
    },
    {
     "name": "stdout",
     "output_type": "stream",
     "text": [
      "28 [응암동 카페] 불광천 산책하다 가기 좋은 카페 ‘필구 커피’!_유쾌하신 사장님과 머쉬멜로우 커피 그리고 포인트 컬러가 매력적인 공간!\n",
      "수집글갯수 28\n",
      "{0: {'title': '[은평구카페] 필구커피 마쉬멜로우 시그니처메뉴', 'content': \"필구커피 서울특별시 은평구 불광천길 442-29 1층 예약 안녕하세요 인프피 감성녀예요:) 필구커피 인스타에서 공지한대로 겨울 시즌메뉴로 11월 4일부터 선보이는 멜로우 라떼를 맛볼 겸, 은평구 필구커피에 다녀왔어요 필구커피 오픈시간 참고하세요 ~~ @filgucoffee 은평구에서 유명한 로컬 커피숍 필구커피는 주택을 개조하여 아기자기한 갬성의 카페예요 새절역에서 내리니 불광천 길이 시원스럽게 이어져 있구요^^ 평화롭게 산책하는 주민들이 많았어요 필구커피는 새절역에서 내려, 불광천 메인 길에서 조금 벗어나 주택가 쪽으로 5분정도 걸어 들어가면 나와요! 제가 도착한 시간은 오후 4시 경이었는데요~ 빵이없어요 ㅋㅋㅋ 텅 필구커피는 스콘맛집이라던데 안타깝게도 다음을 기약해봅니다 다음 방문 때에는 스콘 꼭 먹을꺼라구욧!! 필구커피 리뷰에서 가장 많이 보이는 메뉴인 멜로우 크림라떼도 안먹어봤는데, 하루에 두 잔을 마실 수는 없으니 이 또한 다음을 기약해봅니다 😓 💧 필구커피의 시그니처 메뉴인 멜로우 크림라떼는 벚꽃 🌸 시즌에는 핑크 마시멜로우가 토핑된다고 해요~! 로컬 커피숍으로서 지역주민들과의 소통을 중요하게 생각한다는 필구커피의 철학 ☕️ 지역민들 단골이 많은건지 테이크아웃 기다리는 사람들도 있더라구요 자 ~ 그럼 주문을 해볼까요 ? 저는 겨울 시즌메뉴 멜로우라떼와 레몬 마들렌을 주문했어요 ! 이렇게 귀여운 스티커 스탬프도 찍어주구요~ 유당불내증을 배려해서 소이라떼가 가능케 한 카페가 요즘 부쩍 눈에 띄는데요 ~ 필구커피도 두유로 비용 추가 없이 변경이 가능했어요! 밀크티는 귀여운 캐릭터가 그려진 병에 담아 주더라구요 !! 카페 내부는 최근 확장 공사를 해서 넓어졌다고 하는데 ~ 오늘이 첫 방문이어서 몰랐어요 😂 확장 공사를 했다고 하지만 아담한 느낌의 카페로 느껴졌답니다 !! LET'S GO EAT!! 필구커피 주문한 음료는 진동벨 없이 바리스타님이 직접 자리로 가져다 줘요! 필구커피의 메인 캐릭터 주황새와 함께 먹으러 가볼까요? 멜로우라떼 (5,000) 레몬 스콘(2,500) 마쉬멜로우 한개가 크게 똭! 올라가있어요 하지만 저는 마쉬멜로우를 잘~ 먹지 않거든요. 살만 찌고, 지구를 몇 바퀴돌아도 안 빠진다는데 😓 맛있는지 잘 모르겠어요 !! 하지만 커피맛은 생각보다 달지 않고 좋았어요 ! 디카페인 아메리카노도 맛있다고 하더라구요 ☕️ 막판에 이렇게나 남아버린 마시멜로우가 아깝긴했지만 덕분에 비주얼은 좋았으니 만족 매장 안쪽에는 좌석이 꽤 있었구요 ! 아담하고 포근한 느낌의 아기자기한 갬성으로 꾸며져 있었어요 🤩 힙한 느낌의 오렌지버드 캐릭터 참 잘 만든듯 ! 화장실은 내부 안쪽에 남녀공용 한칸 있습니다 필구커피를 나와서 불광천 길을 걸어보았어요 응암역 쪽으로 걸어가면서 볓빛거리 조형물을 감상했네요 💕 오리들에게 두부를 주는 아주머니도 있길래 한참을 구경했네요 ~ 오리들이 두부를 잘먹는다는건 처음 알았어요..뭐지? 😓 💧 아무튼 귀여웠구요 🦆 세계적으로 유명한 이탈리아 출신의 인더스트리얼 디자이너인 스테파노 지오반노니의 토끼들이 곳곳에 있었어요 아기자기한 동화 감성을 느낄 수 있었던 불광천 산책이었답니다 🐰 🐇 이상! 은평구 로컬 커피 맛집!! 필구커피 포스팅 마칠께요 ~~ 50m © NAVER Corp. 필구커피 서울특별시 은평구 불광천길 442-29 1층 예약\"}, 1: {'title': '필구커피, 은평구 카페, 연신내 카페', 'content': '필구커피 서울특별시 은평구 불광천길 442-29 1층 예약 안녕하세요. 꿀동입니다. 오늘은 새절역에 위치한 필구커피 리뷰입니다. @ 가는 길 새절역 1번 출구, 298m / 가정집 근처에 있어서, 지도를 보면서 여기가 맞나..? 싶을 때쯤 나타나는 곳 @ 영업시간 및 매장 정보 11:00 ~ 21:00 (매주 화요일 정기 휴무) - 가기 전 휴무일 확인 필수 주차 불가, 반려동물 동반 가능 - 응암~새절 근처에 예쁜 카페들이 많이 생겨서 어디 갈까 고민하다, 필구 커피 리뷰도 많고 평도 괜찮길래 방문하게 되었습니다. @ 메뉴판 @ 매장 내부 : 매장 내부는 굉장히 좁은 편입니다. 안쪽엔 테이블 두 개, 그리고 주문하는 곳에도 자리가 있긴 하지만 bar 형식의 자리입니다. 그리고 가방이나, 두꺼운 옷을 담을 수 있는 바구니가 있어 물건을 두기 편했어요. 패션후르츠에이드(5,000원) / 옐로우크림라떼(5,500원) / 고메버터 스콘 (3,000원) 옐로우크림라떼(5,500원) : 필구커피의 시그니쳐 메뉴로, 크림 위에 마시멜로우가 올라가 있는 커피입니다. 마시멜로우를 이렇게 먹는 게 정말 몇 년 만인 것 같은데, 폭신하고 달달한 식감이 참 기분 좋았어요! 크림 또한 쫀쫀해서, 크림과 마시멜로우를 먹고 커피를 먹으면 달달함과 씁쓸함이 잘 어우러져서 맛있게 먹은 커피입니다. 패션후르츠에이드(5,000원) : 카페에서 패션후르츠에이드는 처음 먹어 보는 것 같은데, 생각보다 괜찮았던 메뉴. 검은색 씨(?) 가 톡톡 씹히는 재미가 있었고, ICE 음료였지만 얼음만 왕창 있는 음료가 아니라 좋았어요. 패션후르츠는 백가지 맛과 향을 가졌다는 여신의 과일이라고 합니다. 백향과라고도 불리며, 비타민 C, 식이섬유가 풍부한 과일이라고 하네요! 고메버터 스콘 (3,000원) : 고소한 풍미가 입맛을 돋우는 스콘, 새로운 신메뉴 도전도 좋아하지만, 역시나 기본이 제일 맛있기에 기본 스콘으로 주문했습니다. 잼 없이도 고소한 맛이 있고, 생각보다 퍽퍽하지 않아서 음료랑 맛있게 먹었던 스콘. @ 매장 내부 인테리어 : 커피를 구매하면 2022년 달력과, 스티커도 무료로 가져갈 수 있는 필구커피 〰 매장 내부는 확실히 좁지만, 그래도 작은 공간 속 인테리어들이 너무 센스 있는 곳입니다. 소품 하나하나 매력적이라, 가게에 직접 방문해야 필구 커피의 감성을 오롯이 느낄 수 있을 것 같아요. 다만 가게는 좁고, 인기는 많아서 커피를 마시는 동안에도 정말 많은 분들이 방문하고 기다리시더라고요! 다수의 인원보다는 소수의 인원끼리, 또는 혼자서 조용하게 방문해서 커피 한잔 마시면 좋을 것 같은 곳입니다 2021 서울 커피 가이드 맵에도 소개되어 있는 필구커피, 여기 이미 유명한 곳이었네요! ㅎㅎ @총평 가게는 좁지만 알찬 필구커피, 커피의 맛도, 가격, 양도 모두 만족스러운 카페! - 맛 ⭐️⭐️⭐️.5 가격 ⭐️⭐️⭐️ 재방문의사 있음'}, 2: {'title': '은평구 응암역 조용한 감성카페 필구커피', 'content': '분위기 좋은 조용한 은평구 응암역 카페 ☕️ 필구커피 필구커피 주소 : 서울시 은평구 불광천길 442-29 운영시간 : 수 - 일 09:30 - 21:30 / 월 09:30 - 18:00 / (화요일 정기휴무) 애견동반 가능 안녕하세여 ㅎㅎ 엘리입니다 오늘 모처럼 회사가 일찍 끝나서 응암역 근처에서 볼일 좀 보고 시간이 남더라구요. 그냥 집에 가기는 아쉬워서 어디 예쁜 감성카페 없나 하고 찾아봤는데요! 카페 외관 그러다가 찾게 된 응암역 카페인데요 필구커피라는 곳이에요 리뷰를 보고 아기자기한 모습에 반해서 오게 되었어요 어디 외국 거리에 나오는 카페 같지 않나요? 💛잡지에 나올 것 같은 너낌,,, 먼지 알죠? 응암역 안쪽 골목에 위치해있어 조용한 동네카페 같은 느낌인데~ 또 핫플 번화가에 있어도 전혀 이상하지 않을 만큼 외관부터 ✅트렌디하고 힙한 카페였어요! 은평구 응암 근처에 아기자기한 감성카페들이 모여있다는 얘기는 언뜻 들은 것 같은데 정말이었어요 ㅋㅋㅋ 영업시간 ⏰ 영업시간은 위에 사진처럼 아침 9시 30분부터 밤 9시 30분까지 하는데요~ 월요일만 저녁 6시까지 하시고 화요일은 정기휴무라고 해요! 메뉴판 필구커피의 시그니처 메뉴는 멜로우크림라떼에요~ 크림라떼위에 귀여운 마시멜로가 올라가있는 라떼인데 원래 커피를 자주 먹는 편은 아니지만 먹고 싶어서 멜로우크림라떼를 주문했어요 ~❗️❗️ 💛 그 외 감귤라떼나 아이스아메리카노, 크림초코, 핫초코, 에이드, 디카페인커피와 차 종류 그리고 스콘, 쿠키, 바스크 치즈 케이크까지 디저트까지 완벽히 준비되어있네요 ㅎㅎ 매장 인테리어 커피 주문을 하고 인테리어를 스윽 둘러보았는데요... 어디 진짜 잡지에 나오는 감성카페 저리가라였어요 !! 진짜 너무 취향저격 ㅠ.ㅜ!!✨💛💛 아늑한 느낌에 노랑노랑 색감 조명이나 커텐, 블라인드, 포스터까지 사장님이 엄청 감각적이신듯 ㅋㅋㅋ 카운터 옆 좌석인데요 위에 외국 식료품 올려져 있는것도 넘 예쁨,,... 오늘의집에 나올것만 같아요 넘 예뻐.... 겉으로 티는 안냈지만 속으로 엄청 호들갑이었어요 .. 평일에 갔더니 한적하고 조용해서 제 찰칵 소리만 계속 들려서 조금 민망했다는 .. ㅋㅋㅋㅋㅋ😊 안쪽 좌석은 2인용 테이블 3개 있구요! 저 원래 아이보리/우드톤 색감을 좋아하는데 제 감성에 어찌 딱 맞춤으로 꾸며져있는지요 ㅋㅋㅋ 저 천장에 달린 조명도 넘 센스있음.. 제 사진욕구를 불태우는 곳이었어요 ㅋㅋㅋ 아, 애견동반 가능하더라구요! 강아지 손님도 있었어용 ㅋㅋㅋ🐶 그 맞은편에 보면 2인용 좌석이 2개 또 놓여있어요. 전체적으로 좌석간 공간이 널널해서 좋더라구요 사장님이 조명 소품을 적재적소에 감각적으로 잘 활용하시는 것 같아요 창문쪽 좌석은 제가 방문했을 당시 손님이 계셔서 그 맞은편 안쪽 자리에 앉아서 벽에 걸린 소품들을 구경했어요 저 포스터 찍을 때는 몰랐는데 매장 사진을 작은 포스터로 뽑으셨나봐요? 어디서 따로 구매하신 줄 알았어요..!! 안에서 기다리면서 줌 해서 또 찍어봤는데 ㅋㅋㅋ 아무리봐도 넘 예쁨 지금 제 폰 배경으로 해놨어요 ㅎㅎㅎ✨ 음료 사진, 맛 시식 사진찍으면서 기다렸더니 멜로우크림라떼가 나왔어요~ 꺄~ 비쥬얼 너무 귀여운거 아닌가요..??? 컵 앞에 그림도 너무 귀여움 ㅋㅋㅋ 위에 크림이랑 마시멜로우가 잔뜩 올라가있어요 ~💛 원래 달달한 커피를 좋아하는 편인데 진짜 달달구리 그 자체... 비주얼마저 넘 귀엽고여.. 숟가락으로 마시멜로우 먼저 먹어보고 크림이랑 잘 섞어서도 떠먹어 봤어요 조금 먹고 난 뒤에는 섞어서 먹었네요 ㅎㅎ 촉촉하고 말랑한 마시멜로우가 입안에서 사르르 녹고 그 뒤에 크림과 라떼가 섞여 부드럽고 달달한 맛이에요 ~ 평일에 갔더니 카페가 조용해서 분위기도 좋아서 가져간 책도 조금 읽었어요 ~~ 근데 오늘 일정이 피곤해서 눈에 잘 안들어와 금방 덮어버림 ㅋㅋㅋ 근데 마시멜로우가 조금씩 녹으면서 커피가 더 달아지더라구요 ~~ 달달한 커피 잘 못드시는 분은 너무 달다고 느끼실 수도 있겠어요❗️ 그래도 한번쯤 먹어볼만한 시그니처 커피로 단거 좋아하시는 분들은 한번 드셔보세요! 내돈내산 후기입니다 필구커피 서울특별시 은평구 불광천길 442-29 1층 예약 #응암역카페 #은평구카페 #서울감성카페 #새절역카페 #조용한카페 #예쁜카페 #불광천카페'}, 3: {'title': '은평구 불광천 카페, 크림 라떼가 맛있는 필구커피', 'content': '필구커피 by디몽 드디어 기다리고 기다리던 벚꽃시즌이 돌아왔는데요 오늘은 은평구 불광천에 위치한 \"필구커피\" 소개 드리려고 해요 필구커피는 불광천에서 벚꽃이 예쁘기로 소문난 불광천 수변무대 근처에 위치하고 있는데요 오랜만에 재방문한 필구커피가 확장과 함께 더욱더 아늑한 공간이 되어 많은 분들에게 소개 드리고 싶었습니다. 그럼 사진과 함께 빠르게 만나보겠습니다. 매장 정보 50m © NAVER Corp. 필구커피 서울특별시 은평구 불광천길 442-29 1층 예약 영업시간 월 ~ 토 11:00 - 21:00 일요일 11:00 - 19:00 매주 화요일 정기 휴무 차량 이용 시 근처 공영 주차장 이용 응암3동공영주차장 서울특별시 은평구 불광천길 436 응암공영주차장 공영주차장 주차 후 도보 3분 거리 평일 저녁 벚꽃 구경을 마치고 저녁시간에 방문한 필구커피는 아늑하고 포근함이 더욱더 좋았는데요 무엇보다 가장 놀라웠던 점은 작년 방문 시에 없던 매장 내부 공간을 확장하여 더욱더 넓고 여유롭게 즐길 수 있는 점이 가장 좋았습니다. 특히 불편하였던 화장실이 매장 내부로 이동하여 편하게 이용할 수 있는 점도 추가되었습니다. 기존의 매장 공간과 동일한 장소지만 확장된 공간의 모습 또한 같은 느낌으로 연출되었는데요 아늑함과 포근함 그리고 실제로 이용 시 생각보다 편한 의자까지 3박자가 너무나 완벽하게 어우러져 있었습니다. 확장된 첫 번째 내부 공간 두 번째 확장된 내부 공간 2인 좌석 기준으로 3팀이 이용할 수 있는 좌석이 마련되어 있었습니다. 음료 및 메뉴 정보 메뉴판입니다. 시그니처 음료인 멜로우 크림 라떼를 포함하여 커피와 논커피 음료까지 준비되어 있었습니다. 가격은 개인 카페 평균보다 저렴한이라는 점도 좋았습니다. 다양한 디저트 메뉴도 함께 판매하고 있었지만 마감시간에 방문하였더니 재고가 소진되어 사진 촬영은 못하였습니다.😭 멜로우 크림 라떼 5,500원 아이스 아메리카노 3,500원 멜로우크림라떼 재생 0 좋아요 0 00:00 00:00  접기/펴기 멜로우크림라떼 말랑말랑한 마시멜로가 올려진 크림 라떼는 달달하면서도 커피의 바디감이 잘 어우러져 너무나 맛있는데요 방문 시에 크림 라떼 1잔은 꼭 필수였습니다. 아메리카노는 부드러운 바디감이 좋아 맛있었습니다.👍 필구 커피 총평 ●●●●●(5/5) 장점 - 멜로우 크림 라떼가 맛있다. - 아늑하고 포근함을 즐길 수 있다. - 산책하기 좋은 불광천 바로 옆에 있다. 단점 - 특별하게 단점을 느낄 수 없었음 지금까지 내돈내산으로 다녀온 맛있는 크림 라떼와 아늑하고 포근함을 즐길 수 있는 \"필구커피\" 리뷰였습니다. 긴 글 읽어주셔서 감사합니다.'}, 4: {'title': '서울) 은평구 새절역 근처, 커피 찐찐 맛집으로 유명한 \"필구커피\"', 'content': '안녕하세요 소소한 기록쟁이 기마림이에요. 오늘의 기록, 예전부터 다녀오고 싶었던 불광천 옆 \"필구커피\" 리뷰해볼게요! \"필구커피\" 불광천 새절역 근처 커피 맛집으로 유명한 카페 시간 11:00 - 21:00 마지막주문 20:50 화요일 정기휴무 / 4째주는 월화 휴무 주차공간 2대정도 가능해보이는 공간은 있어요. 새절역 바로 앞이라 대중교통 추천! 맛 ⭐️⭐️⭐️⭐️⭐️ 재방문의사 👍🏻👍🏻👍🏻있어요👍🏻👍🏻👍🏻 필구커피 서울특별시 은평구 불광천길 442-29 1층 예약 이번에 가장 마음에 들었던 사진이었어요. 밤이 되니 가을과 겨울에 정말 어울릴만한 주황 불빛이 새어나오는데 너무 아름답더라구요. 밖에 있는 의자에 걸터 앉아 한장 찍었답니다. 눈 올때에 뭔가 더 이쁜 사진을 얻을 수 있을 듯한 느낌이랄까요? 눈 올 때, 다시 오고 싶네요 해가 지고 나서 찍은 필구 커피의 외관. 해가 지기 전에 찍으려했다가 깜빡하고.. 핳ㅎㅎ 근데 저는 낮보다는 저녁이 더 느낌있고 가을 분위기 낭낭해서 더 좋더라구요. 뮤비의 한장면 같았던 순간. 친구 카메라 필터 있는걸로 찍은 것 밖에 없어서 빛이 많이 번진 사진이네요ㅠㅠ 필구커피의 카운터이자 커피 메이킹 공간. Today\\'s pick 멜로우 크림 라떼 핫초코 라떼 깔끔하고 아기자기한 느낌의 메뉴판. 시그니처 커피에서 가려진 부분은 멜로우커피 (only hot)에요. 10월중부터 3월까지만 나오는 시즌 메뉴인데 제가 간 10월10일에는 아직 오픈 되지 않았더라구요! 전 카페에 가면 그 카페의 시그니처를 먹어봐야해서 추웠지만... 멜로우 크림 라떼를 시켜봤답니다! 아쉽게도 스콘은 저녁시간대 가니 없더라구요 ㅠㅠㅠ 다음에는 꼭 일찍 가서 스콘을 먹어보겠어요!!! 카운터 옆에는 밀크티 보틀이 있는데 병이 너무 귀엽.... 그냥 갖고오고싶었답니다ㅠㅠ 요즘은 저렇게 병에 줘서 집에 가서 꽃병으로 쓰고 그러면 좋더라구요! 예전에 론트에서 받은걸 꽃병으로 잘 쓰고 있답니다 ㅎㅎ 안쪽으로도 만드는 공간이 있는지 안쪽왔다갔다 하시더라구요. 필구커피는 불광천 바로 옆에 위치해서 테이크아웃 해가시는 분들도 많아서 카운터 바로 앞에는 잠깐 앉아서 기다릴 수 있는 공간이 있더라구요. 배려 넘치는 사장님의 센스를 볼 수 있었어요. 필구커피의 마스코트 비둘기씨 곳곳에서 볼 수 있었어요. 화장실은 한칸이었고 내부 자리는 주택을 개조한듯했어요. 방들을 다 터서 개방감을 줬고 높은 테이블과 적당한 높이의 의자 덕분에 편하게 커피를 즐길 수 있었어요. 저희가 앉았던 자리는 여기였답니다. 방처럼 있는 공간은 여기와 카운터 옆쪽에 있고 둘 다 두자리씩 있는 공간이랍니다. 자리로 직접 갖다주시는 사장님. 컵에도 비둘기씨가 읏쨔 하고 있네요 ㅋㅋㅋㅋ 귀여워 핫초코라떼는 라떼 아트 되어있었고 사진이 없어졌어요 ㅠㅠㅠ 이건 멜로우 크림 라떼. 마시멜로우가 가득 올려져있었어요. 우선은 떠먹고 그다음 커피와 함께 마시라고 안내해주셔서 그대로 했는데..!! 크림도 크림인데 커피가.. 예술이네요 여기 진짜. 왜 유명한지 알겠어요. 크림 맛있는 곳은 몇군데 있었는데 커피까지 맛있던적은 없었거든요!! 근데 크림과 커피 모두 너무 맛있어서 행복했어요 ㅠㅠㅠ 진짜 제가 먹은 크림라떼 중에 원탑!! 좀 단거 좋아하신다면 정말 맘에 드실거고 단거 싫어하신다면 좀 꺼려지실 수 있을 듯해요!! 카운터 앞에 있던 의자처럼 포토존이자 대기석이 밖에도 있어서 여기서도 한번 찍어봤어요. 낮에 날 좋은 날에는 여기 밖에서도 먹으면 좋을 것 같고 불광천 산책할겸 여기서 커피 사서 간다면 진짜 너무 좋을 듯 해요!! 불광천 오신다면 꼭 필구커피 들려주세용!! 추천추천입니다'}, 5: {'title': '[응암동 카페] 빈티지 감성 가득한 필구커피', 'content': '골목 사이에 이런 예쁜 카페가 있다고...? 필구와 함께 커피를 즐겨요 :) 첫 포스팅은 바로 어제 갔다온 카페. 필구커피에 대해 리뷰 해보려고 합니다 ! 벌써 두 번째 방문이지만 1년만에 다시 오는거라 왠지 모를 기대감에 설레는 마음으로 발걸음을 향했어요 매장을 들어서기 전, 전체적인 뷰를 찍어보았어요 화이트 톤으로 깔끔하게 페인팅이 되어있고 벽돌 구조가 눈에 띄어요 ~ 입구 바로 오른쪽에 위치한 작은 벤치 선선한 바람을 맞으며 커피 한 잔 하기 딱 좋은 장소네요 벽면에 이런 귀여운 포스터가 붙어 있습니다 사장님께서 굿즈로 판매를 하실지 모르겠지만 너무 탐난다는... 입구로 들어오시면 바로 앞에 보이는 이 공간에서 주문을 하실 수 있습니다 저기 메뉴판이 가지런히 놓아져 있는데 다음엔 꼭 첨부하도록 할게요 ㅠㅠ 가게 안쪽에서도 확인 할 수 있는 필구의 흔적들 2023년 달력을 멋지게 꾸며 놓으셨네요 ㅎㅎ (이것도 탐나네...) 사장님께서 가게 내부 인테리어에 꼼꼼하게 신경쓰신 걸 확인 할 수 있었습니다 무심하게 붙여진 사진들과 액자, 그리고 소품들 까지. 요즘 빈티지 감성에 빠진 저로서는 천국이 따로 없네요 제가 앉았던 자리에서 본 뷰입니다 확장 공사를 하셨는지 작년보다 훨씬 더 넓어진 모습이에요~ 사진에 보이는 것처럼 안쪽에도 공간이 더 있답니다 (손님들 계셔서 더 못찍음 ㅠ) 아메리카노와 레모네이드를 한 잔씩 주문 했어요 사장님께서 직접 자리까지 가져다 주셔서 정말 좋았습니다 ! 처음 시켜본 레모네이드는 정말 상큼했어요 한 번 저어서 드시라는 사장님의 말씀을 듣고 잘 섞어서 먹었답니다 ㅎㅎ 오랜만에 방문했지만 여전히 편한 휴식공간을 제공 해주었고 빈티지한 감성도 그대로 묻어있어서 너무 좋았습니다 다음에는 시그니처 메뉴인 멜로우크림라떼를 꼭 먹어보고 싶네요 ! 지금까지 응암동 필구커피 리뷰 였습니다 ~~ 필구커피 서울특별시 은평구 불광천길 442-29 1층 #서울 #은평구 #응암동 #응암역 #새절역 #카페 #카페추천 #필구커피 #빈티지 #감성'}, 6: {'title': '은평구 응암동 감성 카페 필구커피_세절역 불광천 조용한 커피 맛집, 아기자기한 애견동반 가능 한 곳', 'content': \"은평구 응암동 필구커피 불광천 애견동반 가능 커피 맛집 응암동 근천에서 오랜만에 족발 먹고 나서 소화도 시킬 겸 불광천으로 나왔다. 여기 근처에 방문할 때 마다 느끼지만 정말 많은분들이 운동하며 걷는것 같다. 고기나 기름진 것을 먹고 나면 느끼함을 없애기 위해서 커피를 한잔 마셔줘야 된다. 직장을 다니기전에는 커피를 입에도 안대었었는데 이제는 하루에 커피 한잔이 필수가 되었다. 카페인도 중독이 되는듯 하다. 예전 벚꽃이 한창 피었을 때 불광천 벚꽃 구경 하러 왔다가 주변 카페 가려고 했었는데 마땅히 괜찮은 곳이 보이지 않아서 그리고 많은 정보가 없어서 새로운 도전이 두려웠던 우리는 바로 집에 돌아갔었는데... 기어코 울쩡이가 불광천 커피 맛집을 찾아놨다고 한번 가보자고 했다. 조금 외진곳에 있지만 블로그 리뷰가 400건이 넘고 평점이 4.7점 정도되는 곳이라서 은근히 기대하게 만들었던 곳이다. 불광천 걸으면서 소화시키면서 내 몸속에 커피가 들어갈 공간을 만든 후 울쩡이가 추천하는 불광천 커피 맛집 필구커피를 방문했다. 아무래도 불광천 근처에서 산책하시는 분들이 많아서 그런지 근처에 카페가 많이 보이는데 그것보다 조금 더 안쪽으로 들어가다 보면 주택가에 필구커피를 볼 수 있었다. 주변에 산책하시는 분들이 많아서 그런지 응암역이나 세절역 근처에 카페들이 많고 특히나 애견동반 가능한 카페들도 많은 것 같다. 필구커피도 주택 1층을 개조해서 만들어서 그렇게 크지는 않지만 애견동반 가능한 카페였다. 그런데 사진 너무 감성있게 찍었는데..? 카페가 감성있게 생겨서 그런건가..? 영업시간은 오전 9시 30분부터 저녁 9시 30분까지 매주 화요일 휴무일 월요일만 저녁 6시까지! 사장님께서도 월요병 때문에 월요일에는 일찍 문을 닫는가 보다. 참고로 라스트 오더는 마감 30분전 까지! 서울커피가이드라는 배찌는 처음 보는 것 같은데 이거 유명한 곳에만 붙어있는 건가요?? 커피 맛집에만 주는 건가.. 필구커피의 마스코트인 것 같은 그림이었다. 커피잔뿐만 아니라 주변에 이 캐릭터가 많이 붙어 있었다. 입구에 붙어있던 마스코트 캐릭터 세 마리의 새가 겹쳐져서 Let's go eat!을 외치고 있다. 먹으로 들어가자!라는 뜻입니다 혹시나... 일반 주택의 1층을 개조해서 만든 느낌의 카페여서 그런지 카페 내부도 기존의 구조를 가지고 있어서 방처럼 공간이 분리되어 있었다. 카운터 바로 옆에 있던 곳인데 원래는 큰 방이었던 곳인 것 같았다. 2인 테이블 2개가 놓여있었는데 테이블을 조금 많이 배치했다면 조금 답답할 수 있었을 것 같은데 2개만 놓여있어서 조용하고 편하게 쉴 수 있을 것 같은 공간이었다. 역시 필구커피의 마스코트 캐릭터들 계속 먹으러 가자라고 하는데 어떤거...? 포스터 4개가 봄 여름 가을 겨울을 나타내는건 아니겠지? 포스터를 붙여놓은 테이프조차 감성이 느껴지는 것 같다. 주변에 보면 아기자기한 소품들이 정말 많았고 옷이나 소지품을 따로 보관할 수 있는 바구니가 있었다. 두 번째 방이었던 공간 이 방 또한 2인 테이블 2개가 놓여있어서 복잡하지 않고 편안해 보였다. 만약 4명에서 방문한다면 방 한 칸을 단독으로 사용할 수 있어서 좋을 것 같았다. 사장님께서 아기자기한 소품들을 좋아하는지 주변에 정말 많은 소품들 닥터마틴은 신발 브랜드로 알고 있는데 레고 같은 소품도 출시되었었나 보다 먼가 정돈되지 않고 자연스러운 느낌이 더 감성적이고 마음에 드는 것 같은 곳이었다. 필구 시그니처 캐릭터들과 아기자기한 감성에 맞지 않은 책들까지 놓여있었다. 마지막으로 기존의 거실 같은 공간처럼 보이는 곳이 있다. 이곳 또한 2인 테이블 3개가 놓여있는 크지 않은 공간이다 하지만 테이블이 다닥다닥 붙어있지 않아서 조용히 쉬기에는 좋았던 공간이었다. 특이하게도 의자들이 다양한 종류가 놓여있다. 등받이 없는 것도 있고 플라스틱으로 된 것도 있고.. 우리는 플라스틱으로 된 의자에 앉았다가 조금 불편한 것 같아서 거실로 나왔다. 거실에서 바라본 작은방의 느낌 한쪽에는 물과 종이컵 그리고 와이파이 비밀번호가 적혀있다. 와이파이 비밀번호를 한 장씩 뜯어갈 수 있게 오징어 다리처럼 잘라놓은 것도 특이했다. 거실에도 붙어있는 필구커피 시그니처 캐릭터 그래서 어떤거 먹으러 가자고..? 화장실이 카페 내부에 있기는 했지만 옛날 주택집을 개조해서 만들어서 그런지 조금 오래된 옛날 느낌 그대로였다. 오픈 주방으로 커피를 내리는 모습을 직접 볼 수 있어서 좋았던 것 같다. 거실에는 뒤에 창문이 있어서 그렇지 않았지만 방 두개는 조금 닫혀있는 고립된 느낌의 공간이었는데 사장님께서 사용하는 공간은 시원하게 뚫여있는 개방된 느낌이었다. 사장님이 제일 좋은 공간을 차지하고 계셨네.. 커피 가격은 일반적인 가격대로 비싸지도 싸지도 않은 느낌이었다. 시그니처 커피인 멜로우크림라떼와 감귤라떼가 있었고 커피뿐만 아니라 에이드와 음료류도 판매하고 있다. 필터 커피와 차 그리고 디저트까지 생각보다 종류가 다양했던 것 같다. 필터 커피 종류에는 과테말라, 브라질 등 원두의 원산지가 적혀있는 부분도 좋았고 미디엄과 라이트 등 커피의 정보에 대해 적혀있어서 선택하는 데 도움이 될 수 있을 것 같았다. 우리는 시그니처커피인 멜로우크림라떼 그리고 크림초코 한잔 주문했다. 디저트는 스콘과 쿠키 그리고 케이크가 있었다. 메뉴판에 홀케이크도 있는 거 보면 홀케이크도 따로 판매하고 있는 것 같았다. 우리가 주문한 커피가 나왔다. 컵에도 시그니처 캐릭터인 3마리의 새가 Let's go eat을 외치며 뛰어가는 이미지다. 드디어 메뉴 결정해서 가는 거니..? 시그니처 메뉴인 멜로우크림라떼 고소하고 꾸덕꾸덕한 크림 위에 쫀득한 마시멜로가 놓여있다. 우선 섞어먹지 말고 마시멜로와 크림을 떠먹고 나서 커피를 마시면 된다고 알려주셨다. 마시멜로의 스펀지 같은 식감을 별로 좋아하지 않는데 내가 먹어본 것들과 다르게 쫀득해서 맛있었던 것 같다. 보통 크림이나 커피에 잘 녹을 것으로 생각했는데 커피 안에 담겨 있어도 녹지 않고 쫀득함이 계속 유지되어서 괜찮았던 것 같다. 울쩡이가 주문한 크림초코 달달한 초코 음료 위에 꾸덕꾸덕한 크림과 초코 가루가 뿌려져있었다. 어렸을 때 먹던 달달한 초코 음료 맛이 생각났던 맛이었다. 그렇다고 너무 많이 달지는 않고 딱 적당하게 달달한 맛이라서 부담스럽지 않게 마실 수 있었던 음료였던 것 같다. 필구커피 재생 0 좋아요 0 00:00 00:00  필구커피 예전에는 불광천 산책하러 와서 카페 맛집을 찾다가 실패하고 집에 돌아갔었는데 그 이후로 울쩡이가 다음에 불광천이나 세절역 근처에 가게 되면 방문하기 위해서 저장해놓은 곳을 이번 기회에 찾아가 봤다. 불광천 근처에 조금 큰 카페도 몇 곳 있지만 조금 안으로 들어가면 볼 수 있었던 아기자기하고 감성적인 카페도 좋았던 것 같다. 애견동반이 가능해서 강아지와 산책 나왔다가 조용히 즐기다가 가기도 좋은 곳이었던 것 같다. 커피 맛도 괜찮은 편이어서 다음에는 시그니처인 감귤라떼 또는 필터 커피류를 한번 마셔보고 싶다. 응암역이나 세절역 근처에서 조용한 카페를 찾는다면 또는 애견동반 카페를 찾는다면 한번 방문해도 좋을 것 같다. 50m © NAVER Corp. 필구커피 서울특별시 은평구 불광천길 442-29 1층 예약\"}, 7: {'title': '[은평/새절/응암] 커피도 맛있고 스콘도 맛있었던 필구커피', 'content': '성수 미크커피가 넘 멀어서 슬펐으나 은평에 크림라떼 맛집을 찾아서 쓰는 리뷰 50m © NAVER Corp. 필구커피 서울특별시 은평구 불광천길 442-29 1층 예약 새절역과 응암역 한 중간에 있다 그치만 새절역에서 아주 조금 더 가까움 빛번짐 오져버림. 호오오오올리 호오오오올리하게 나온 외관샷 약간 을지로 감성의 카페 같아보임 미닫이문 넘나 오랜만이군요 분명히 문 잘 안닫고 다니는 사람들이 있을 것 같음 멜로우크림라떼에 마쉬멜로우 빼고 시켰고 아아, 플레인스콘, 딸기잼 1 시켰다 다양한 디저트 종류가 있었지만 버터스콘이 젤 땡겼움 밀크티는 병으로 포장도 가능 병으로 포장하면 용량이 증가해서 천원 비싸다. 그치만 양만 많다면야 쿠폰도 스티커다. 굿즈에 진심이신 분 같음 가게 내부도 을지로 갬성 주방? 아닌 주방이 아주 잘보임 사장님 조금 잘 생겨서 계속 쳐다봤다... 부담스러우셨을수도 크 너무 맛있었음 특히 이 스콘이 도라방스 약간 페스츄리 같은 겉면에 촉촉한 스콘... 진짜 내가 좋아하는 파파이스 st였다ㅜㅜ 가게가 작은데 생각보다 자리는 많음 서울커피가이드에 이름이 올랐었더라규 나는 돼지가 가자고 해서 따라온건데 서울 최애 커피집 탑 3안에 등극 크림라떼가 너무 맛있어서 밀크티는 테이크아웃 했는데 다음에는 보틀로 포장을 해야겠다 후후 만년 달력도 만드셨던데 대단쓰.... 거의 갤러리 같이 굿즈가 많았다 포스터.. 스티커.. 등등ㅋㅋㅋㅋ 학교에서 은평구가 생각보다 가까워서 차만 있으면 자주 올 것 같다 그럼 크림라떼와 스콘 맛집 필구커피 리뷰는 여기서 20000'}, 8: {'title': '[새절역 카페] 필구커피, 응암동 조용한 골목에 위치한 수제 마시멜로 라떼가 맛있는 로컬커피타운', 'content': '필구커피 은평구 응암동 조용한 골목에 위치한 커피 맛집 ✔️ 위치 : 서울 은평구 불광천길 442-29(새절역 1번 출구 298m) ✔️ 영업시간 : 수-토 11:00 -21:00 (매주 화요일 휴무) 네번째 주 월, 화 휴무, 일요일 및 공휴일은 19시 마감 ✔️ 반려동물 동반가능 안녕하세요 룰루입니당 :) 오늘은 불광천 근처 은평구 응암동에 위치한 \"필구커피\"에 대해 소개해드릴게요~ 불광천 근처 응암동 골목에 자리 잡고 있는\"필구커피\"는 화이트톤의 주택 건물 1층에 위치해 있었어용 외관부터 멋스러움이 느껴지는 카페✨ 여기가 필구커피 입구인데 옛날 슈퍼자리(?)를 리모델링했다고 알고 있는데 입구가 뭔가 정겨우면서 필구커피의 시그니처 캐릭터인 주황색의 새 3마리가 그려진 귀여운 포스터에 눈이 가더라구여 \"Let\\'s go eat!!!\" 입구로 들어오면 생각보다 넓은 공간이 나오는데 알고보니 얼마전에 내부 확장공사를 하셨다고 하시더라구요!! 내부에는 약7~8개의 테이블이 놓여 있었습니당 또 다른 안쪽 공간에서 바라보는 카운터 쪽이 뭔가 모르게 너무너무 이쁘더라구요~ 사장님이 인테리어랑 소품 하나하나에 신경 쓰인게 느껴지는 공간이었는데 모든곳에 오렌지색 포인트가 너무 잘 어울렸어여 그리고 개인적으로 내부에 화장실이 있어서 너무 좋았어요!! (또 다른 내부 공간은 손님이 계셔서 찍지 않았습니당) 필구커피 메뉴 응암동 \"필구커피\"에서 가장 마셔보고 싶었던 메뉴는 바로!! 필구커피의 시그니처인 수제 마시멜로우가 올라간 크림라떼인 \"멜로우크림라떼\"를 주문했어용~ 카페인이 약하신 분들은 500원 추가 시 디카페인으로 변경도 가능하니 참고부탁드립니당 [참고사항] - 매장내 테이크아웃컵 사용금지 - 매장이용 시 1인 1메뉴 주문 필수 디저트 종류는 고메버터스콘(3,000원) 더블초코스콘(3,500원) 레몬스콘(3,500원) 바스크치즈케이크(6,000원) 저는 추가로 \"고메버터스콘\"도 주문했어용 :) (추가요금을 내면 딸기잼도 함께 제공됩니다.) 전 갠적으로 여기 카운터 공간이 너무 취향저격🧡 이른 오픈시간에 방문했는데도 불구하고 이미 동네 주민분들이 강아지와 함께, 이웃과 함께, 혼자 여유롭게 커피를 마시며 대화를 나누고 계셨는데 저라도 이런 카페라면 아침 일찍부터 커피 한잔하러 방문할 거 같더라구여 이런 카페가 저희 동네에 없는게 아쉬울 뿐\\U0001f979 사실 카페를 다니면서 메뉴 주문 말고는 사장님들과 대화를 할 기회가 거의 없는데 처음 방문한 \"필구커피\"는 로컬커피타운 덕분에 사장님과 아주 짧은 대화를 했는데 짧은 대화에서도 사장님의 친절함이 느껴졌어요~~ 짠 제가 주문한 \"멜로우크림라떼(5,500원)\"와 \"고메버터스콘(3,000원)\" 실내에서 마시기 전 밖에 놓여있는 포토존(?) 의자에서 필구커피 감성 살려서 찍어봤어용 응암동 필구커피는 내부 말고도 외부에서도 먹을 수 있는 자리가 있더라구용!! 알고보니 웨이팅이 있을 정도로 유명하고, 맛있는 곳이었는데 제가 간 평일 오픈시간대는 운 좋게도 여유롭게 즐길 수 있었습니당 그리고 저 스티커는 무료인데 사장님,,, 스티커도 필구커피 갬성 살려서 너무 귀엽게 고퀄로 만드신 거 아닌가용 이제 다시 실내 자리로 들어와서 언넝 저 수제 마시멜로를 먹어 보도록 할게용!! 정말 푸짐하게 올라간 마시멜로🧡 과연 어떤 맛일지 너무 궁금했어요~ 벚꽃 시즌에 오면 핑크색의 마시멜로가 올라간다던데 불광천 벚꽃구경 겸 내년 봄을 또 노려봐야겠어용 ㅎㅎㅎ 마시멜로는 수제로 만들어서 그런지 엄청 퐁신 쫀득했는데 달달한 크림과 커피랑 함께 먹으면 최고 ✨ 나 마시멜로 좋아했구나? 사진에는 없는뎅 스콘도 겉바속촉으로 딸기잼 없이도 너무 맛있었어요~ 조만간 방문해서 다른 메뉴도 먹어봐야징🧡 본 포스팅은 100% 내돈내먹 리얼 리뷰입니다:) 필구커피ㅣ은평구카페(@filgucoffee) • Instagram 사진 및 동영상 instagram.com 50m © NAVER Corp. 필구커피 서울특별시 은평구 불광천길 442-29 1층 예약'}, 9: {'title': '은평구 인생 스콘 맛집, 필구커피♡', 'content': '블로그 시작 후 영광의 첫 포스팅은 바로바로 필구커피! 10회이상 방문한 찐 단골이 인정한 인생 스콘맛집임ㅠㅠ 위치는 은평구 응암동에 있고 불광천에서 골목으로 들어오면 가까운 곳이다 외관은 가정집을 개조해서 만든 약간은 레트로한 감성 이런문 너무 구여워>< 내부 인테리어가 정말 아기자기하다 ㅜㅜ 넘나 내취향 색감도 되게 톡톡튀고 소품들 하나하나 벽 인테리어도 구경하는 맛이 쏠쏠하다 정수기에 스티커 꾸며놓으신거 봐 숨은공간도 소홀히 하지 않으심 올때마다 쿠폰도 꼭꼭 모으기! 메뉴 참고하셔요 주절주절 인테리어만 얘기했는데 사실 인테리어도 인테리어지만 여기는 맛때문에라도 꼭 다시오고싶은 곳이다!! 라떼 4,500원 멜로우라떼 5,500원 바스크치즈케이크 6,500원 고메버터스콘 3,500원(+딸기쨈 500원) 일단 커피맛도 좋다 리뷰보면 커피 맛있다는 후기 많던데 인정인정 하지만 여기 미친놈은 스콘이랑 치즈케이크임.. 스콘은 버터맛이라고 생각하는 1인인데 버터 풍미 난리난다 좋은 버터 쓰시는게 분명해!!! 치즈케이크도 진짜진짜 맛있는편 맛있는건 한번 더 10번 넘게 오면서 다양한 메뉴 시켜봤는데 개인적으로 아메리카노도 너무 맛있었고 스콘들도 다 맛있지만 원픽은 역시 고메버터스콘!!!! 포장도 가능하지만 주말에는 점심쯤 스콘이 품절된 적도 있으니 일찍일찍 방문하셔야 함니당 :) 50m © NAVER Corp. 필구커피 서울특별시 은평구 불광천길 442-29 1층 예약 #첫글 #필구커피 #불광천카페 #은평구카페 #스콘맛집 #이웃 #이웃환영 #소통 #댓글 #좋아요'}, 10: {'title': \"새절역카페 : 불광천 골목사이 귀여운 카페 '필구커피'\", 'content': \"필구커피 서울특별시 은평구 불광천길 442-29 1층 예약 마시멜로우 라떼가 유명한 새절역 골목길 귀여운 카페 필구커피 🕰영업시간 월~토 11:00 ~ 21:00 일요일 11:00 ~ 19:00 (매주 화요일 휴무) 📍주소 서울 은평구 불광천길 442-29 1층 🚘주차공간 없음 자차 이용시 근처 공영주차장 이용(도보 3분거리) 인스타에서 정말 많이 봤던 새절역카페 '필구커피' 무려 4월에 방문한 후기를 이제야ㅎㅎㅎ 나는 대중교통을 이용해서 방문했는데 버스정류장에서 멀지 않은 곳에 필구커피가 있었다 골목길에 있는 카페라서 주차공간이 없으니 대중교통을 이용해서 방문하는걸 추천ღ 차량을 이용한다면 근처 공영주차장을 이용하면 될 것 같다 외관부터 너무 귀여운 필구커피ღ 옛날 주택을 개조해서 옛날느낌을 살려서 인테리어 하신게 너무 예쁘다! 내가 방문 했을 땐 옆 공간까지 확장해서 공간이 넓어진 후 라서 앉을 자리가 넉넉했다 필구커피 메뉴판 필구커피 메뉴판 커피가격이 저렴하다 아메리카노 1잔에 3.5 필구커피에는 커피와, 논커피, 티 종류가 준비되어있다! 그리고 디저트는 세종류의 맛있는 스콘이 준비되어있다ღ 너무나 아기자기하고 예쁜 내부공간ღ 나는 아기자기하고 따뜻한 느낌의 카페를 좋아하는데 필구커피가 딱 그런 느낌이다! 내가 주문한 메뉴가 나왔다ღ 아이스아메리카노(디카페인) 4.0 고베버터 스콘 3.0 딸기쨈 0.5 4월엔 내가 빡쎄게 다이어트 하는 중이었어서 아쉽게도 시그니처 메뉴인 메로우크림라떼를 못먹어봤다 ㅠㅠ 요즘 커피마시면 심장 벌렁거려서 디카페인으로 주문했는데 커피 너무 맛있다아아ღ 딸기쨈 발라먹는 스콘도 너무 맛있었구 선선한 봄가을엔 밖에있는 귀여운 나무 벤치에 앉아서 마시는 것도 좋을 것 같다ღ 요기가 포토존 인 것 같은데 난 혼커족이라서 사진은 못찍었다 헿 ㅋㅋㅋㅋㅋㅋㅋ 선선한 날에 필구커피에서 커피한잔 사서 불광천 산책하는 것도 좋을듯! 새절역 근처에 갈 일이 있다면 아기자기하고 귀여운 커피맛집 '필구커피' 꼭 방문해보세요~ 리뷰끝ღ 글엄 20000 필구커피 서울특별시 은평구 불광천길 442-29 1층 예약\"}, 11: {'title': '필구커피', 'content': '마시멜로우가 올라간 귀여운 커피를 파는 귀여운 카페 (지만) 아메리카노를 먹었읍니다 예예 ㅎㅋ 📍필구커피 필구커피 서울특별시 은평구 불광천길 442-29 1층 영업시간 open 10:30&11:00 close 19:00 last order 18:45 메뉴판을 찍지 못했읍니다 oops. 매장 외관이 너무 귀여웠던 필구씨. 특히 입구 쪽이 드르륵 여는 문이었는데 너무 귀엽고 갬성적... 아이라킷. 개인적으로 카페에서 젤 맘에 들었던 공간 카운터 큰 통창과 멋드러진 커피 머신들이 너무 잘 어울렸었다 아기자기 귀여운 카페 내부 공간이 넓지는 않았지만 아늑하니 너무 좋았었다 나는 아메리카노 쑤는 밀크티 컵이 너무 귀여움 저 주황친구가 필구씨인가. 음료만 마시다 아쉬워 얼그레이 스콘 먹어보았읍니다. 딸기잼 추가는 선택이 아닌 필수 스콘은 담백하고 평범한 맛-! 스콘과 커피 한잔의 여유를 ^^ 즐기며...ㅎㅎ 쑤와 행복하게 수다를 정말 끊임없이 나눴다고 합니다.🍀 책 읽으러 오기도 좋은 카페라 생각이 듭네다. 여기가 은평구가 맞나 싶을정도로 갬성적이고 예뻤던 필 구 커 피 간단 리뷰 ㄲ ㅡ ㅌ.'}, 12: {'title': '불광천 카페 필구커피 힙쟁이 코스 애견동반가능', 'content': '220226 토미랑 같이 가서 내돈내산 불광천에도 카페거리라는 이름이 생겼다고 한다 몇 년 전부터 산책로를 따라 카페가 생기기 시작했는데 최근에 열라 힙한 감성의 카페들이 늘어나고 있음 약간 그.. 연남갬성..먼지 알죠 요즘 세미 프리랜서로 일하게 되면서 듀얼모니터를 포기 못해서 카페 가서 일할 수 없게 되어버린 나 . . 카페인 수혈을 위해 테이크아웃을 결심하고 조금이라도 걸으려고 불광천 카페 서치를 열심히 했다 그러다 발견한 개힙한 곳..!! 필구커피 서울특별시 은평구 불광천길 442-29 1층 예약 필구커피 서울특별시 은평구 불광천길 442-29 1층 애견동반가능 (아기자기 장난감 같은 불광천 응암동 카페) 라고 네이버에서 그럼 .. ㅎ 토미를 데리고 테이크아웃하기로 하고 열심히 걸었다 애견동반가능 이게 너무너무 큰 장점인 것 같다!! 개천이 산책로다 보니까 강쥐들이랑 산책하다가 집 가면서 들르기도 딱 좋은 코스라구 생각함 짱짱 위치는 산책로 바로 앞에 있는 건 아니었고 주택가로 조금 들어가야 한다 하지만 큰길에서도 새절역에서도 매우 가까워서 거리적인 접근성이 그렇게 나쁜 편은 아니었다 실제로 주택 건물 1층에 카페가 있어서 자칫 잘못하면 영업하는 덴 줄 모르고 지나칠 수도 있음 더헉,, 들어갔더니 벌써 힙한 느낌이 물씬 났다 정말 설명대로 아기자기한 소품들이 어엄청 많았음 앉을 수 있는 테이블은 세 개 정도 되는 것 같다 !! 하지만 의자가 열라 불편해 보였다 .. ㅎ..근데 원래 이런 힙쟁이카페는 불편하게 앉는 거다 여기도 불편해보이지만 개힙한 테이블 이쪽은 의자 높이가 높은 바 의자여서 사장님이 앉아서 기다리라고 했는데 앉지 못했다 .. . 그냥.. 그냥... 다리가 짧아서 못 앉을 것 같앴다... 렛츠고잇 필구커피 귀엽다 .. 먼가 미국 애니메이션에 나올 것만 같고 .. 마치 심슨 같구 .. 여기저기 귀여운 포스터가 붙어 있다 찰칵 소리가 넘 크게 나서 사진을 다 못 찍었는데 정말 구경하고 사진 찍을 소품들이 한가득이다!! 메뉴는 대충 이렇다 아이스로 먹는 멜로우크림라떼와 따뜻하게 먹는 멜로우라떼가 시그니처 메뉴다 하지만 나는 다이어터이기 때문에 아쉬움을 뒤로하고 아이스아메리카노 시킴 마시멜로우가 올라가는 음료라서 먹었다가는 큰일이 날 것 같았다..ㅎ (사실 강쥐땜에 가는길에 쏟을까봐 걱정댓음...) 그래서 아쉬운 마음을 스콘으로 달래기로 했다 아닛.. 고메버터스콘 꼭 먹어야 한다는 리뷰를 보고 그냥 지나치는 건 스콘에 대한 예의가 아니다 딸기잼은 별도로 추가해야 해서 당근 추가 ~~ 내가 토미를 계속 안고 있었더니 사장님께서 애기 내려놓으셔도 된다고 많이들 데리고 오셔서 괜찮다고 말해주셨다 .. 갬동 ... 하지만 내려놓자마자 안아달라고 떼쓰는 강쥐녀석 테이크아웃하고 집으로 돌아가는 길 . . 갑자기 빗방울이 쏟아졌지만 사진 찍는 걸 멈추지 않지 밀봉스티커에도 그 캐릭터들이 그려져 있다 !! 강쥐때문에 버거워하는 나를 보시고는 비닐캐리어에 담아드릴까요? 하고 먼저 물어봐주신 사장님 정말 감사함니다 •• 컵홀더도 기엽죠 ?? 주먹을 불끈 쥐고 왔는지 꾸깃해진 종이봉투 .. 참고로 제 게임 닉네임이 신사동불주먹이거등요 스콘이 얼마나 맛있을지 기대된다 !! 아악.. 마스킹테이프 귀여워서 기절해버리기 먹기 전에 이렇게 귀여우면 기분이 조크든요 딸기잼이 이렇게 귀여워도 됨 ?? 여러분 .. 여기 가면 스콘은 꼬오옥 드세요 진짜 담백하면서 고소하면서 너무 퍽퍽하지도 않고 딸기잼과의 궁합도 goooood 글구 버터 향이.. 고메버터스콘 닉값 지대루 함 아메리카노는 굉장히 시원하고..!! Soso였음 그런데 나에게 양이 너무 부족해서 두 개 살걸 그랬음 .. 하쥐만 가격이 저렴하니까 이해되는 양이었다 담에는 강쥐 대신 친구랑 가서 사진도 많이 찍고 시그니처 매뉴도 먹어봐야겠음 동네에 이런 카페가 있어서 너무 좋네요 .. ~ 행복한 하루 끗 ~'}, 13: {'title': '불광천카페 필구커피', 'content': '말롱이는 평소에 하천을 따라 길 걷는걸 좋아하는데요, 오늘은 불광천을 따라 길을 걷다가 새절역에서 가까운 응암동카페 마쉬멜로우크림라떼 가 맛있는 힙한 카페 필구커피 를 재방문 했습니다 첫방문 했을때는 필구커피 대표메뉴인 멜로우크림라떼를 마셨었는데요 라떼가 너무 맛있는데다 달기만 할것같은 마시멜로우가 달지 않아서 취향저격 이었어요 그래서 재방문해서 마신 커피는 바로 겨울한정메뉴 멜로우 라떼 랍니다 필구커피 인스타그램을 먼저 확인해보고 방문한 터라 불광천을 자주 못올것같은 말롱이는 겨울한정메뉴를 마시기로 했습니다 11월부터 3월까지만 판매한다고 하시네요 ^^ 두부한모가 통째로 들어간것만 같은 멜로우라떼 ㅎㅎ 푹 담가 먹어봅니다 저는 개인적으로 멜로우크림라떼(ice) 가 더 맛있는것 같아요ㅎㅎ 멜로우라떼는 마쉬멜로우가 녹으면 녹을수록 조금 달았던것 같아요 (말롱이 개인적인 입맛) 그래서 아예 단짠으로 먹으려고 치즈콘스콘 을 또 주문했습니다 와 이거 요물이네요 너무너무 맛있었어요 그래서 단짠의 조합으로 야무지게 먹은 말롱이 냅킨 너무 귀여운거 아닐까요 ㅎㅎ 고메버터 스콘 (3.0) 더블초코 스콘 (3.5) 치즈콘 스콘 (3.8) 인데 스콘 넘 맛있게 먹어서 담번에 또 왔을때는 아이스라떼랑 더블초코스콘이나 고메버터 스콘도 먹어봐야 겠다고 다짐했습니다 필구커피는 커피자체가 워낙 맛있는거 같아서 좋아요 필구커피 테이블은 총 3군데 됩니다 ㅎㅎ 그래서 이렇게 한적한 월요일날 방문하시면 더 좋으실듯 합니다 아늑하고 좋아요 벽면에는 필구커피 캐릭터가 그려진 포스터들이 붙어있어요ㅎㅎ 너무귀여운거 같아요 사장님 닮은 캐릭터일까요 ㅎㅎ 사장님께서 참 브랜드 마케팅을 잘하신거같아요 왼쪽 사진은 매장 왼쪽편이구요 오른쪽 사진은 매장 입구 사진입니다 ㅎㅎ 사진찍을공간들이 깨알같이 많아요 친구와 방문하게 되시면 꼭 인증샷 찍구 오시길 바래요 필구커피 서울특별시 은평구 불광천길 442-29 1층 매주 화요일은 정기휴무 고 매달 넷째주에는 월,화 휴무니 꼭 참고해서 방문하세요! 이상 내돈내먹 말롱이 리뷰였습니다 ㅎㅎ'}, 14: {'title': '은평구 응암동 카페 ‘필구커피’', 'content': '라떼에 진심인 짜짜가 추천하는 은평구 카페 필구커피 라떼를 소개합니다 친정에 가면 최근 계속 들리는 방앗간 필구커피 일단 라떼는 라떼아트가 기본! 리뷰 사진을 보고 라떼에 하트정도는 되어 있어야 일단 카페를 가볼까 고민합니다! 그 다음 리뷰에 산미가 있다고 하면 일단 제끼라웃! 짜짜는 고소한 커피를 좋아합니다! 고소하다 못해 단맛이 나는 커피를 사랑합니다! 8년전부터 증가로커피공방을 애정했는데, 최근 핸드드립과 콜드브루만 하셔서 라떼러버는 증가로커피공방을 갈 수가 없게 되었죠. 그러다 찾게된 필구커피! 카페 내부는 아기자기 귀엽습니다. 라떼는 꼬숩꼬숩 맛있습니다! 다만 커피맛은 좀 부드러운 편에 속합니다~ 오늘은 차도 애들도 없이 저 혼자 즐겼습니다! 왜냐하면 김장을 도우러 아침부터 출동을 해야했기에~~ 맛있는 라떼 한 잔 마시고, 김장 도우러 출발! 결국 김장은 엄마가 거의 다 하시고, 저는 거들뿐\\U0001f979그리고선 김장김치를 몽땅 가져오는 저는 예쁜도둑이었습니다🤗 필구커피 : 네이버 방문자리뷰 209 · 블로그리뷰 353 naver.me 참고로 필구커피는 찐골목에 있어요! 그래도 잠깐 주차(빌라주변에)하고 테이크아웃 할 수 있는 상황이니 참고하셔요~~ #필구커피 #응암동카페 #라떼맛집 #잡숴봐 #새절역카페 #인생라떼'}, 15: {'title': '[카페투어]불광천의 작은 카페_시그니처, 디자인, 필구커피', 'content': '불광천의 작은카페 수제 마쉬멜로우가 올라간 멜로우라떼가 있는 필구커피 작은 골목 골목을 지나 마주하게 된 필구 커피. 인스타, 잡지에서 마주할 때마다 가서 꼭 저 시그니처 메뉴 한번 먹어봐야지 했는데, 집에서 10분 거리에 필구 커피가있을 줄이야! 가까운 거리에 이렇게 유명한 카페가 있을 줄이야 생각지도 못했다. 골목 주택가의 필구 카페는 정말 이 길로 가면 카페가 나온다고? 생각하는 순간 눈앞에 마주하게 된다. 새절역에서 약 5분 거리, 불광천 주택가 사이에 하얀 벽돌 통 유리 빈티지 하면서도 레터링으로 트렌디하게 자기 모습을 뽐내고 있다! 4~5평 정도의 공간일까? 바 식으로 앉을 수 있는 공간과 안쪽 공간에 테이블 2개가 전부인 3~4팀이 들어오면 꽉차 시끌시끌해질 작은 공간의 필구커피는 동네 카페다운 모습을 하고 있다. 시그니처 HOT와 ICED 2가지와 기본 커피메뉴 넌커피 메뉴 그리고 tea로 구성된 기본 카페 메뉴를 가지고 있다. 여러 가지 하나 하나 다 맛보고 싶어 시그니처 메뉴 2가지와 아메리카노 아이스, 제주 레모네이드, 바닐라빈 까지 주문! 시그니처 메뉴 중 멜로우 라떼는 겨울 한정으로 라떼에 수제 마쉬멜로우가 올라간다. 처음에는 살짝 단맛에 마쉬멜로우가 녹을수록 단맛이 찐~해지는 따뜻하고 포근한 음료! 멜로우크림라떼랑 멜로우라떼랑 추천을 하라고 한다면 요즘 같은 꽃샘 추위에는 멜로우라떼(HOT) 강력추천!!!!! 따뜻하면서도 점점 달큰지는 라떼 맛이 기가막힌다! 혼자 하시고 계셔 음료가 엄청 빠르게 나오진 않지만, 정성을 다해 주신다! 그 외 음료는 기본! (이건 취향의 문제입니다) 사실 이 카페는 시그니처 뿐만아니라 디자인이 굉장히 마음에 들어오고 싶었던 곳 중 한 곳이었다. SNS에서 \\'이쁘게만\\' 보이는 카페 인지 정말 이쁜 공간 인지에 대해 디자이너로서 너무 궁금했던 공간! SNS에서 보던 공간보다 직접 마주한 공간이 더 마음에 들었다. 주인의 정성이 담긴 공간이었기 때문에!! 필구 커피의 포스터와 2022 달력 많은 카페가 자신들만의 캐릭터를 만들어 운영하고 있는데, 캐릭터와 매장의 분위기, 성격, 특징을 다 잘 담아내고 있는 것은 아니다. \\'그냥\\' 요즘 트렌드니깐 혹은 귀여우니깐. 필구 커피는 캐릭터와 매장의 분위기 성격 스토리를 만들어 내고 담아내고 있다고 느껴졌다. 그리고 그 캐릭터의 아이덴티티를 여기저기 작음 소품들과 테이블, 의자와 음료에까지 담아낸 것 같아서 커피를 디자인하고 있는 나로서 너무 마음에 쏙 드는 공간이 아닐 수 없었다. \"와 너무 귀엽다!\"라는 한마디를 끌어 내기까지 얼마나 많은 생각으로 포스터를 디자인하고, 달력을 디자인하고, 음료 쿠폰을 디자인했을지, 이런 디자인 너무 매력적이잖아!!!!! 필구 같은 디자인을 만들어내는 그날까지!! 커피 한 잔과 귀여운 캐릭터가 이렇게 행복해질 수 있다니! 하고 느낄 수 있는 필구 커피!! 시그니처와 함께 곳곳에 작은 디자인들도 함께 즐기면 더욱 좋을 것 같다! 네이버 지도 은평구 응암동 map.naver.com 50m © NAVER Corp. 필구커피 서울특별시 은평구 불광천길 442-29 1층 예약 주소 서울 은평구 불광천길 442-291 1층 영업시간 [화요일 휴무] [네번째 월, 화 휴무] 일요일 11:00~19:00 월,수 - 토 11:00~21:00 [아티스트가 되고싶은 장대리의 내돈 내산 리뷰입니다]'}, 16: {'title': '[새절 카페추천] 필구커피ㅣ멜로우 라떼, 보내기 아쉬운 주말저녁 보내기', 'content': '주말 다들 잘 보내셨나요~?? 저는 일요일 저녁에 집에만 있기에는 시간이 너무 아깝다는 생각이 들어서 동네 코인 빨래방에 맡긴 이불 기다릴겸 급으로 저희 동네 구석구석 돌아다니게 되었는데요~ 왜 벌써 일요일 저녁인걸까요!?\\U0001f979 ( 내 주말 돌려죠… ) 벌써 8개월째 지금 동네에서 거주 하고있는데 아직도 제가 모르는곳이 넘 많은것 같아요! 골목골목 구경하다가 필구커피 라는 곳을 발견하게 되었어요~ 필구커피 내부 가게 내부 사진입니당~ 마감시간이 다 되어 가는데도 손님들이 한두분씩 방문을 많이 하는것 같더라구요! (그래서 내부 사진찍기가 조금 조심스러웠어요ㅎㅎ) 저는 필구커피의 시그니쳐 메뉴인 멜로우 크림라떼를 주문시켜 보았습니다ㅎㅎ 주문하고 나서 사장님께서 제가 앉은자리로 직접 커피를 가져다 주셨어요! 그리고 친절하게 커피 맛있게 마시는법도 설명해주시더라구요~ 크림과 마시멜로우를 먼저 숟가락으로 조금 떠먹은후 커피와 크림을 함께 마셔보길 추천해주셨는데 진짜 커피맛 1도 모르는데 저인데 이게 맛있는 커피구나 하는걸 첨 느껴보게 된것 같아요👍🏻 카페에서 조금 앉아서 밀린 다이어리도 작성하고 음악도 들으며 사색을 좀 즐기다보니 어느덧 이불 빨래 찾으러 갈 시간이더라구요! 나가는 길에 사장님께도 커피 너무 맛있었다고 꼭 이야기 드리고 싶어서 인사드리고 나왔네용 ㅎㅎ 꼭 한번 들려보시면 좋을것 같아요~ 저도 곧 다시 남자친구를 데리고 같이 가보려구용🤭 이번 리뷰는 여기까지 하고 마무리 하겠습니당 저의 리뷰가 도움이 되셨다면 하트와 댓글 부탁드려용 👉 필구커피 네이버 지도 링크 👈 50m © NAVER Corp. 필구커피 서울특별시 은평구 불광천길 442-29 1층 예약 #필구커피 #멜로우라떼 #커피 #카페추천 #새절카페 #응암카페'}, 17: {'title': '대구 달서구 월성동 양곱창 맛집｜필구양곱창, 소곱창 대창 그리고 전골까지 술도둑.', 'content': '꺅 안녕하세용 욤둥히 입니당 ❣ 여전히 술을 줄기차게 먹고 있는 요즘 ... 제가 소곱창 대창 + 소맥 조합을 너무 너무 사랑하거든요? 그런데 월성동에선 맛집을 찾지 못해 멀리까지 가서 먹곤 했는데 이제 멀리 갈 필요가 없어졌어요 .... 한 입 먹고 너무 맛있어서 입틀막한 월성동 양대창 맛집 필구양곱창 솔직후기 입니다.🥰 필구양곱창 대구 달서구 조암로 29 1층 053-633-0322 [영업시간] 일-목16:00-23:00 ｜라스트오더 22:00 금-토 16:00-24:00 ｜라스트오더 23:00 ** 격주 화요일 정기 휴무 저는 화요일 저녁 9시 30분쯤 방문했어요. 격주 화요일 정기 휴무인데 나이스 타이밍으로 문 여는 화요일이더라구요 ❣ 월성동 필구양곱창 내부 필구 양곱창은 2층으로 되어 있어요. 1층은 테이블 3-4개 있었구요. 필구양곱창 2층은 4-5개 테이블이 있었어요. 4개인가 ?ㅎ-ㅎ.... 월성동 대창 맛집 필구양곱창 메뉴판 저희가 주문한 메뉴는 실속모둠한판 + 소곱창전골 小 입니다. 저는 대창 구이를 좋아하기 때문에 전골에는 별 기대없었는데 어라라 ... 다음에 방문해도 저 세트로 먹기로 약속하고 나온 우리. ㅋㅋㅋㅋㅋ 전골도 미친 맛이에요 진짜 ... 제 포스팅 보고 방문하시는 분들 꼭 !!! 전골도 함께 드세요 ㅠ.ㅠ 필구 양곱창 벽면에 붙어 있는 메뉴판과 셀프코너가 있었어요. 이 셀프코너엔 뭐가 있나 보았더니 ~,, 셀프라면 조리대더라구요! 메뉴판엔 적혀있지 않지만 가격은 2,000 으로 가성비 좋았어요. 봄, 가을이나 날씨가 선선하니 좋을 땐 야외에 테이블을 깔아주는데 대창 곱창을 먹고 셀프 라면 삭 끓여서 .. 먹으면 얼마나 맛있게요 ㅠ.ㅠ ... 왜 이렇게 추워진 후에 이 맛집을 알게 되었는지 ...!!! 날씨 좋아지면 꼭 야외에서 먹으러 올거에요. 그 전에는 실내 테이블 이용. ㅋㅋㅋㅋㅋ 셀프라면 조리대와 함께 믹스커피, 쌀과자가 있었어요. 후식으로 따악 깔끔하지요~ 필구양곱창 앞치마 양곱창 대창은 기름이 많아 멀찍이 앉아도 기름이 튀는 경우가 있어 꼭 앞치마가 필요한데 필구양곱창에선 일회용 앞치마를 사용해서 깔끔하고 좋았어요. 월성동맛집 필구양곱창 기본 상차림 모둠세트와 전골을 주문 후 메뉴가 나오기 전 기본 상차림이 차려졌어요. 간장 양념장과 매운 양념장 그리고 내 최애 궁채나물 장아찌! 기본 상차림이 세팅되고 매운 소스 부터 젓가락으로 콕 찍어 먹었거든요. 그때 바로 알았어요. 여기가 맛집이라는 것을... 저 매운 소스가 진짜 미쳤습니다. 대박이에요..... 술을 찍으려 한 건 아닌데 ㅎ-ㅎ 맹물이 아니라 좋아서 사진 찍었어요. 저는 술 마실 때 맹물은 먹기가 싫더라구요. 필구 양곱창 센스 칭찬해 👍👍👍 월성동곱창맛집 필구양곱창 기본 상차림 별미였던 허파무침 (?) 허파와 함께 양파, 부추가 버무러져 나오는데 와 이거 맛도리더라구요 ... 허파도 야들야들하고 부추와 양파 간도 맛있어서 허파 다 먹고 부추와 양파까지 싹쓰리 했지 모에요. 달서구곱창맛집 필구양곱창 기본상차림 기본 상차림의 꽃(?) 계란찜! 저희 둘의 최애 안주 계란찜. 메뉴판에 계란찜이 적혀 있길래 따로 주문해야 하는 줄 알았는데 기본 상차림에 포함이었어요 💛 포슬포슬한 계란찜에 소주 한 잔 ~ 필구양곱창 소곱창전골 팽이버섯 수북이 올라간 거 보이시나요. 각종 야채들도 푸짐 푸짐. 육수가 맛이 없을 수 없는 비주얼 입니다. 소곱창 전골 안에 있는 다데기를 찾아 살살 풀어주니 우리가 좋아하는 빨~간 국물 ❤ 야채만 많이 들어가 있는 게 아니라 소곱창 대창 특양이 골고루 많이 들어가 있던 필구양곱창 곱창전골 필구양곱창은 구이도 맛있지만 이 전골이 진짜 ... 미쳤더라구요. 안에 든 고기도 많을 뿐만 아니라 잡내 하나 없고 국물에 기름도 다른 소곱창 전골에 비해 많지 않아서 먹을 때 거부감이 없었어요. 곱창 대창의 느끼함을 잡을 수 있게 국물이 매콤하더라구요 ... 💘 저희 커플은 입맛 베이스가 매운 요리인데 저희 입에 너무 만족스러웠던 필구양곱창 소곱창 전골. 당면까지 들어 있어서 더 마음에 들었던 소곱창 전골. 소곱창 전골만 주문해서 먹어도 1인 3병이다 이럼서 찹찹 먹기. ㅋㅋㅋㅋㅋㅋ 소곱창 전골의 하이라이트는 볶음밥인 거 아시죠? 저희는 모듬구이도 주문했기 때문에 볶음밥 볶기 편한 돌판에 볶음밥을 볶고 소곱창 전골 국물을 부어 비벼줬는데 극락 .... ....... ........... 최고에요. 무조건 시키셔야 합니다. 필구 양곱창 소곱창 전골 !!!! 필구양곱창 실속모둠한판 전골이 먼저 나와서 잠시 잊고 있던 양곱창구이. ㅋㅋㅋ 고기가 준비되는 시간이 있어서 돌판에 불을 먼저 그려두고 숙주와 부추를 준비해두시더라구요. 월성동 맛집 필구양곱창 실속모둠한판 꺅 양곱창, 양대창, 소막창 그리고 우삼겹 !! 이것 저것 맛 보기에 좋은 모둠세트 였어요. 먹어보고 입맛에 따라 추가로 주문하시는 걸 추천드려요. 저는 원래 양대창 러버인데 필구양곱창 방문하곤 바뀌었어요. 그냥 다 사랑해요 ... 아니 어찌 고기들이 잡내 없이 고소하고 신선한지 ... 첫 방문에 바로 단골 예약했지 모에요. 필구양곱창 실속모둠한판 필구양곱창 좋은점 중 하나 ! 직원분께서 다 구워주신다는 점~❤ 구워주시면서 고기의 부위도 설명해주셨어요. 제일 빨리 익는 우삼겹 세 점. 찹찹 야무지게 뒤집어주시고 간장 장에 퐁당 담궈주십니다. 응.. 살살 녹아요. 한 잔 하고 우삼겹 한 입. 고기도 맛있지만 양념장도 너무 맛있었어요. 츄릅.. 필구양곱창 실속모둠한판 양대창과 소막창도 먹기 좋은 크기로 잘라주십니당. 양대창은 상대적으로 늦게 익어서 소막창부터 냠! 저는 다른 양곱창집 가서 소막창은 안시키는데요, 그 이유가 질겨서 (?) + 별 맛 안나서..인데 와.. 필구양곱창은 소막창 마저 맛있어요. 고소함 그잡채 식감 탱글 ... 필구양곱창의 매운소스와 너무 잘어울리던 소막창! 필구양곱창 실속모둠한판 양대창과 소막창이 어느정도 익으면 양곱창을 올려주십니다. @@@@ 동글동글 곱창. 비주얼 최고지요 ~ 하 사진보니까 또 먹고 싶네요 ^^ 고기들이 어느정도 익으면 미리 준비해두셨던 숙주와 부추를 올려주세요. 불판에 구워 고기들과 곁들여 먹으니 이것 또한 별미 ~!!!! 고기만 먹으면 물릴 수 있는데 양념장부터 곁들이는 음식까지 맛있고 다양해서 질릴 틈이 없었네요. 숙주와 부추가 올라가니 더 푸짐해보이는 필구양곱창 실속모둠한판 소막창과 양대창을 먹고 있으니 소곱창도 야무지게 익었더라구요. 먹기 좋은 크기로 잘라주시는 사장님. 소곱창이 익는동안 다 익은 고기는 숙주 위로 올려주기. 너무 오래 구으면 고기의 맛이 떨어진다고 하시더라구용. 크..기름.. 어 저게 진짜 고소한건데 .. 필구양곱창 실속모둠한판이 다 구워지고 완벽해진 우리의 술상 💖 구이에 전골까지 ... 진짜 소주 안주 제대로죠 ㅠㅠㅠ 구이가 살짝 느끼해지면 전골 파바밧... 전골이 맵싹하면 구이 파바밧... 다음에 필구양곱창 또 방문하게 되도 실속모둠한판과 전골 소짜로 주문할 것 같아요. 구성이 정말 야무집니다. 맛은 더 야무지고요 ^^ 필구양곱창의 꽃이라 생각드는 이 매운 양념장.. 어떻게 만드신거에요 사장님. 젓가락이 멈추지 않자나여 ... 먹다보면 느끼한 양대창도 이 매운 소스 하나면 질릴 틈이 없습니다. 진짜로요. 필구 양곱창 양대창도 맛있고 양곱창 와 곱창 곱이 진짜 꽉~~~ 차 있어요. 불판에꺼 바로 들어 먹으면 곱이 퍽 튀어 나와서 혀가 디일 수 있으니 후 ~ 불어 드셔야 합니다. 소곱창도 잡내도 안나고 고소 그잡채.. 이래서 소곱창 먹는 거 였구나 싶더라구요. 구운 숙주도 간장 양파장에 푹 담궈 먹으면 이거도 별미더라구요. 필구양곱창은 양념장 자체가 너무 맛있어요.... 간장에 담궜다가 뺀 숙주와 소막창 냠냠. 후 왜 이제서야 이 맛집을 알게 된고야 ... 필구양곱창 볶음밥 늦은 시간이었지만 전골 국물에 볶은 볶음밥은 안먹으면 무조건 후회각이라 주문해보았어요. 전골 냄비에 볶기도 하지만 저희는 돌판이 있기에 널찍한 곳이 더 볶기 편하니 돌판에 볶음밥을 볶아주셨답니당. 전골 국물까지 푹 떠서 볶 볶~ 국물이 안들어가도 맛있는 볶음밥이지만 국물이 더해지면 더 맛있지요 ^^ 중간에 자리를 비우시길래 잉 모지~? 했는데 깔쌈한 마무리 계란까지 톡! ㅋㅋㅋㅋㅋㅋㅋㅋㅋㅋ 센스 미쳤다요 💛 그렇게 만들어진 우리의 볶음밥 사장님께서 야무지게 볶아주셔서 너무 맛있게 잘 먹었어요. 밥 한 입 국물 한 입 극락 그자체. 어느정도 식사를 마치니 사장님께서 귤 두개 디저트로 주시더라구요. \"귤 하나면 소주 두병 아니냐\" 라는 말과 함께 ... ㅋㅋㅋㅋㅋㅋㅋㅋㅋㅋㅋㅋㅋ 늦은 시간에 야식겸 방문한 필구 양곱창 화요일은 마감이 23:00 여서 한시간 반, 두시간 밖에 시간이 없었는데 안주가 너무 훌륭해서 술이 술술 들어갔지 모에요. 다음엔 일찍 가서 술청망청 먹으려구요 .. 이렇게 맛있으면 진짜 반칙이에요 사장님 보고 계세요? 반칙 !!!! 💖💖💖 이 날은 못하고 나온 네이버 영수증 리뷰 필구양곱창 네이버 영수증 리뷰 작성 후 보여주시면 테이블당 1회 볶음밥 서비스! 꼭 꼭 하세요. 볶음밥 진짜 존맛탱 이에요.😋 늦게 방문해 스스로에게 화났던 필구 양곱창 일찍 가서 진득하게 많이 먹을걸 ㅜㅜ ㅋㅋㅋㅋㅋ 너무 너무 맛있어서 저희 또간집 리스트에 올라갈 월성동 맛집 필구양곱창 고기들 그리고 전골 양념장, 사이드 들이 모두 맛있었던 월성동 찐맛집 필구양곱창 조만간 또 방문할거에요오 그럼~ 안뇽!!! 50m © NAVER Corp. 필구양곱창 대구광역시 달서구 조암로 29 1층 진짜 존맛탱 ㅋㅋ'}, 18: {'title': \"[서울 은평] 시그니처 메뉴 '마시멜로우 라떼'가 유명한 필구커피 / 불광천 카페 / 새절역 카페\", 'content': \"50m © NAVER Corp. 필구커피 서울특별시 은평구 불광천길 442-29 1층 예약 겨울과 봄 사이에 다녀와본 은평구 #필구커피 입구부터 귀여운 캐릭터가 반겨준다 불광천을 따라 걷다보면, 동네 중간에 있는 동네 분위기랑 너무 잘어울리는 아기자기한 카페 11시~9시 (일요일, 공휴일 7시) 매주 월요일 휴무 YES KIDS, YES ANIMAL, NO PARKING (5/18일 기준 인스타그램 공지) 내부가 생각보다 아기자기하고 테이블은 4테이블 있었어요 스콘이 진짜 맛있다고 했는데, 품절사태로 먹어보지 못했어요..너무너무 아쉽 가셨는데 스콘이 있다면.. 아묻따 구매해서 드셔보세요 안먹어봤지만 그렇게 존맛이라고 합니댜 바쁘다 바빠 현대사회 사장님 혼자서 굉장히 바쁘십니당 주말이라 사람이 끊이지않고 왔어요~ 테이크아웃 하는 손님이 대부분 역시 오빠는 아아 나는 멜로우크림라떼 가격도 굉장히 착했어요 아아 35 멜로우 50 내외 였던거로 기억합니다 제가 갔을때는 HOT 만 주문 가능했어요 지금은 아이스로 주문 가능한데 비쥬얼이 아주 미쳐씀 마시멜로우가 이렇게 통으로 똭 (아이스는 짜잘한 마시멜로우가 잔뜩 들어가요) 직접 마시멜로우를 만드신다고 했는데, 저 가벼운 마시멜로우가 커피를 머금더니 커피가 쫀쫀해지더라구요 마시멜로우 자체는 시중에 파는 마시멜로우랑 달리, 가벼운데 텁텁하게 달지 않고 라떼랑 너무 잘어울릴 질감 & 당도 였어요 흔한 시럽들어간 라떼 느낌이 아니라 쫀쫀한 당도있는 라떼 (무게감 있는 바디감) 여서 너무 만족함 그냥 라떼를 먹어도 맛있겠구나~ 했어요 커피맛을 해치지 않는 단맛.. 단 커피 마시는데 커피맛이 오롯이 느껴지는게 진짜 오랜만이였움 또 가고싶다 오빠 꼴이 말이 아니여서.. 옆모습만 총총 찍어주구 너무 귀엽지 않나요 저캐릭터 주황주황한 캐릭터가 진짜 너무 귀여움ㅋㅋㅋㅋㅋㅋ 톰브라운 갤럭시워치 갑자기 자랑한다구 ? 바깥샷도 잠깐 추가하구여~ 동네 자체도 고즈넉하고 한산해서 너무너무 좋았어요 요즘같은 날씨에 테이크아웃해서 걸으면 너무너무 좋을것 같은 카페 리뷰입니담 'ㅁ' #응암동카페 #새절역카페 #불광천카페 #은평구카페 #필구커피 #마시멜로우라떼 #마시멜로우크림라떼 #서이추 #일상블로그\"}, 19: {'title': '새절역 [필구커피] 아담하고 힙한 동네카페 _멜로우크림라떼', 'content': '6호선 새절역에서 골목으로 찾아오면 발견할수있는 스몰 카페 커피 평소에 잘 안마시거나 깔끔하게 아아만 마시는데 요즘은 크림이 올라간 달콤한 커피들이 맛있어서 메뉴에 있으면 꼭 크림라떼를 찾게 된다 우연히 인스타에서 보고 가까워서 오후 남은 시간에 혼자 방문했다 내가 혼자 카페도 가보다니 (ㅋㅋㅋㅋㅋㅋ) 50m © NAVER Corp. 필구커피 서울특별시 은평구 불광천길 442-29 1층 예약 생각했던거보다 더 작았던 카페 근데 안에는 아기자기하면서도 세련된 인테리어와 소품들이 많아서 분위기가 좋았다 문구점 소품샵 느낌도 들었고 큼직한 스콘도 먹음직스럽게 진열장에 나와있었다 안쪽으로 한두칸 턱을 올라가면 다락방처럼 테이블이 있는 공간이 나온다 이런 감성 ㅎ...ㅎ 시그니처메뉴인 멜로우크림라떼를 주문했고 사장님께서 제작한 2022 달력 포스터를 한장씩 무료로 가져올수있었다 >.< 멜로우크림라떼 5,500 크림라떼 위에 요렇게 마시멜로가 잔뜩! 당연히 섞어먹기 보다는 위에 있는 마시멜로와 크림을 먼저 떠먹으면 좋다고 알려주셨다 아주아주 핵 달콤한 맛,,,,!!! 내가 먹어본 크림라떼 중에서 제일 달콤했다... 달콤해서 기분은 좋지만 뭔가 살찌는 기분이 든다,,, 내돈내산 솔직 리뷰입니다 공감과 댓글 그리고 서이추 환영해요~!'}, 20: {'title': '스물아홉의 일상) 서울숲카페 오브코하우스, 가로수길 정돈, 필구커피, 그리고 나이키덩크 코스트 지름', 'content': '요즘 블로그에 주로 리뷰나, 후기등을 위주로 올리고 나의 소소한 일상을 너무 안쓴거 같아서 두서없는 최근 나의 일상을 적어보려고 한다 시국이 시국인지라 우리커플은 최근에 pc방가서 로스트아크나 하거나 ㅋㅋㅋ 귀찮아서 잘 안나가는데, 그나마 가장 최근에 나들이 다녀온 서울숲 몇달이 흘러도 , 이시국이여도 여전히 사람이 미어터지는 서울숲 날씨 좋으니까 다들 더 못참고 나왔던거 같다 ㅋㅋㅋ 핫하디 핫한 노티드 도넛을 맛볼수있는 카페라 우리가 들어오자마자 만석이였던 서울숲 오브코하우스 커피맛은 갬성카페 치고 그렇게 시지않아서 좋았고 도넛 대신 시나몬롤이 맛있다길래 시켜봤는데 뭐...그냥 그랬다 노티드 도넛은 예전에 먹어본적있어서 안시켰는데 아직도 노티드도넛이 왜그렇게까지 성공했는지 모르겠는 1인.. 먹어본자로서는 그냥 다른 도넛보다 좀 더 촉촉하고 조금더 맛있는 도넛일뿐 막 웨이팅 오지게 해서 사먹을 맛정돈 아님... 사실 가로수길이 진짜 은근 먹을게 많지 않은데 (레알 맛집들이 딱 몇개만 있는듯) 그나마 믿고 먹었던 정돈 프리미엄의 배신. 예전에 비해 튀김옷도 너무 두껍고 덜익은 느낌으로 나왔고 느끼느끼해서 아쉬웠다 역시 우리커플 입맛엔 서울돈까스 원탑은 카츠바이콘반이당..(콘반이 심지어 더 쌈) 은평구에서 겁나게 핫한 카페 필구커피 벚꽃도 못보고 봄을 보낼 순없어 !! 해서 억지로 오빠데리고 갔던 응암역카페인데 유명한만큼 저 필구 멜로우라떼? 는 존맛이였당 저 마쉬멜로우를 직접 만든다는 소리를 들엇었음 분위기도 엄청 키치하고 귀엽고 딱 인스타갬성샷 건질수있는 카페인데 주말에 진짜사람 개 미어터짐....심지어 가게도 엄청 쪼고매서 평일 낮이라면 가시는걸 추천 주말이라면 그냥 테이크아웃 추천 막상 갈땐 몰랐는데, 갔다와보니까 인터넷 쇼핑몰 들어가서 보다보면 여기서 사진 찍은 쇼핑몰모델들 진짜 많았다 촬영임대도 많이 해주시는듯 그리고 겁나게 많이 뿌려대드만 내것은 하나도 없엇던 슬픈 덩크로우.... 범고래는 너무 흔하기도하고 거의 뭐 몇만족을 푼거같은데 나 1개도 안준거 억울해서 안사고 ㅡㅡ 여름에 반바지랑 딱일거같은 코스트 크림에서 업어왔다 요즘 운동화 시세 더 비싸져서 너무 슬퍼....리셀러들...휴 ㅂㄷㅂㄷ 아직 조던1 새틴스네이크도 리뷰 못했는데 ㅜㅜ 요 코스트는 언제 할수있을랑가 ㅋㅋㅋㅋㅋㅋㅋㅋㅋㅋ 기승전결 없는 이 포스팅의 마무리는 조세호짤ㅋㅋㅋㅋㅋ 유퀴즈 제작진들 조세호 놀리기에 진심인거 너무 웃기닼ㅋㅋ 입덕한적도 없는데 탈덕시키는 탈덕직캠 ^_^ 앞으로도 가끔 일상글 남겨봐야지 헤헷'}, 22: {'title': '[리뷰]새절역 응암동 필구커피/은평구 핫플/불광천 카페(내돈내산)', 'content': \"#새절역카페 #필구커피 #응암동카페 #응암동필구커피 #불광천카페 #불광천 #은평구카페 #갬성카페 새절역 필구커피(새절역 1번 출구에서 298m) 서울 은평구 불광천길 442-29 1층 :6월 18일자: 안녕하세요~!~!~! 또 서연이에요 ㅎㅎ 오늘은 종강을 한 날이라 아주아주 기분이 좋았답니다~~ 그래서 저랑 이름이 같은 고등학교 친구네 집에 놀러갔어용 저희가 노는 날은 항상 흐릿흐릿하답니다 ㅎㅎㅎ 이것은 고딩 때부터 불변의 법칙이었어요 진짜 담엔 날씨가 좋은 날에 만나는 게 미션이에요. 감성을 좀 아는, 하지만 귀칼 만화책과 피아노전집을 갖고 있는 별 이상하고 신기한게 다있는 요상한 친구집 천안 튀김소보로호두과자 이것은 친구 아버지께서 천안에서 공수해오신 바로바로바로 튀김소보로호두과자에요!!!! 진짜 놀랐던게 얼마전에 제 다른 친구가 천안 놀러갔다가 튀김소보로호두과자 사와서 딱 알고 있었는데 바로 다음날에 실물 뚜등등장....진짜 이것은 데스티니라고 하더라구요 근데 저는 소보로호두과자랑 데스티니가 맞아요 제가 호두과자 안 좋아하거든요??근데 진짜.. 저것은 넘 맛있어,,,,서,,, 또 ,,, 먹고,,,싶어,,,, 은평구 응암동 불광천 친구 집에 별게 다있는데 그 중 제일 맘에 드는게 노래방 마이크랑 스위치였어요 스위치 엄청 하고 눈 좀 프레쉬시킬 겸 먹을 겸 밖으로 나와 불광천 다리를 건너서 필구커피 외관 바로바로바로 유명하다는 필구커피에 왔어요!!! 저는 사실 필구커피가 뭔지 몰랐는데 여기 주민인 친구가 여기가 웨이팅이 길다하더라구요 그래서 운 좋으면 먹는거라 기대를 두구두구 하고 갔어요 필구커피 앞모습 진짜 감성적인 포스터 뭥미..너무 예쁘지 않나요? 소품샵에 팔 것 같은 포스터들이에요 필구커피 앞모습 확대 다행히도 저희가 갔을 때는 사람이 한 테이블밖에 없었어요 전체 테이블은 3개였고 가게 내부가 좁아서 많은 인원을 수용할 수는 없는 구조였어요. 하지만 포장과 배달이 되니 테이크아웃도 많이 해가신다 하더라구요 필구커피 전체 외관 요즘 카페들이 워낙 위치하는 지점이 집 근처라서 신기한 위치에 있었어요 진짜 마을 주민분들은 많이 오실 것 같은 느낌 옆면에도 포스터가 붙여져있고 의자가 있어서 포토존이라고 하더라구요 필구커피 메뉴판 멜로우크림라떼 에스프레소 아메리카노 라떼 바닐라빈/카라멜 블랜딩밀크티 초코 패션후르츠 에이드 루이보스 앱솔루우롱 밀키우롱 스콘 필구커피 스콘 딱 들어가자마자 보이는 것은 메뉴판과 스콘 저희는 오기전에 안심돈가스와 모밀국수를 먹고 오는 바람에 스콘은 먹지 못했어요ㅜㅜ 멜로우크림라떼 아이스 저희는 필구커피 시그니처인 멜로우크림라떼를 시켰어요 아니 이거 진짜 너무 외국갬성이지 않나요 저 진짜 먹기 싫었어요 왜냐? 너무 예.쁘.니.까... Let's go eat Filgu Coffee 마시멜로우가 토핑으로 얹어있고 달고나라떼 맛이 나면서도 굉장히 진한 아이스라떼 맛이었어요 뭔가 먹고나면 잠이 안 올 것 같은..그런 느낌쓰 그리고 그 느낌은 정확했어요 바로 제가 당일 새벽 4시에 잤답니다... 제일 안쪽에서 찍은 내부 모습 아기자기한 장난감 디자인 내부모습 해외 느낌 낭낭한 인테리어 필구커피 내부 카페 내부 전경 모습인데 마샬스피커는 요즘 핫플 카페 어딜가나 있더라구요 저도 하나 겟해야겠어요 스마일 휴지..^^ 카페 디자인 부분이 굉장히 세밀하고 디테일해서 커피를 마시면서도 카페 내부를 보면서 여러 장난감같은 귀여운 아이템들을 발견하실 수 있어요 너무 귀엽지 않나요? 휴지까지..귀엽다니.. 여튼 응암동오시면 가보실만한 카페였어요 특히 소품샵 좋아하시는 분들이 굉장히 좋아하실 것 같았답니다~! 담에 꼭 가보세요 저는 추천~ 그럼 이만 안뇽~~~~~~~~~~~ 50m © NAVER Corp. 필구커피 서울특별시 은평구 불광천길 442-29 1층 예약\"}, 23: {'title': '[불광천 카페] 인스타 감성의 초소형 카페 필구 커피 FILGU COFFEE', 'content': '안녕하세요 잡다한 것을 리뷰하는 힘이입니다 🙋🏻\\u200d♀️ 저는 페이스북 페이지 서울여행을 종종 보면서 끌리는 곳을 캡쳐해두는 편인데 오늘 오전에 누워서 핸드폰을 하다가 서울여행에 뜬 필구커피를 보고 캡쳐해서 친구한테 보내면서 \"야 다음에 불광천 갈 때 가보자\" 라고 했다가 오늘 당장 다녀오게 되었답니다 🤣 필구커피 서울특별시 은평구 불광천길 442-29 1층 예약 필구커피는 새절역 1번 출구에서 한 5분 정도만 걸어가면 나와요 골목골목 안으로 들어가야 한답니다! 필구커피는 오전 11시부터 오후 9시까지 운영하며 (일요일은 7시) 화요일 휴무예요 \" Yes Kids, Yes Animal, No parking \" 필구커피는 아이와 반려동물 동반이 가능한 카페라서 아이를 데려오신 젊은 아부지도, 귀여운 비숑을 데려오신 커플도 있었답니다 :) 필구커피는 되게 작은 카페예요. 필구커피 인스타에서 보니까 에스콰이어 웹 매거진에 소개 되었다는데, \"10평 미만 초소형 카페\"라는 헤드라인으로 소개되었더라구요. 캡쳐폰을 보니까 6평 남짓이라고 해요. 사진에 보이는 두 테이블은 매장 안 쪽이고, 카운터 앞에 작은 테이블 두 개가 더 있습니다 저는 일요일 세 시쯤에 방문했는데, 제가 방문했을 때만 해도 앞에 두 팀 웨이팅이 있었어요. 필구커피에서는 웨이팅 명부를 따로 작성하지 않더라구요. 저희가 도착하고 나서 그 뒤로 손님이 많이 몰렸는데 따로 웨이팅 명부도 없고 줄을 서는 것도 아니고 사장님들도 계속 음료를 만드느라 바쁘셔서 저희가 먼저 왔는데 뒤늦게 오신 분들이 자리에 먼저 앉으시고 그러는 일이 있었어요ㅠㅠ 처음에는 그냥 기다렸는데, 두 번째 자리가 났을 때는 그냥 먼저 가서 \"죄송한데 저희가 두 번째 순서라서요ㅠㅠ\" 라고 말하고 자리를 양보 받았어요! 웨이팅 명부를 작성하거나, 주문할 때 말씀해주시는 번호 순으로 앉을 수 있다고 말이라도 해주시면 좋을 것 같다는 생각이 들었어요! 주문이 밀려있었기도 하고 만드는데 시간이 올리는 것 같았어요! 그래서 좀 오래 기다려서 받은 메뉴들! 요건 제가 시킨 멜로우 크림 라떼 (5,500원) 우유+생크림+에스프레소+마시멜로우가 들어간 메뉴로, 필구커피의 시그니처 메뉴예요. 필구커피는 아마 다 이거 드시로 오시지 않을까 싶어요! 일단 비주얼이 넘 귀엽고 예쁨 >_< 근데 개인적으로 저는 맛은 그냥 그랬어요ㅠㅠ 저희가 나올 때는 줄이 꽤 길어져있었는데 (한 4-5팀 정도? 기다리시는 것 같았어요) 오래 기다려서 먹을 정도는....ㅠㅠㅠ..... 사람 없이 한적할 때 방문해서 여유롭게 먹으면 좋을 것 같아요 :) 이건 친구가 시킨 패션후르츠 에이드 (5,000원) 친구는 목이 말라서 시원한 에이드를 시켰어요 🍹 요건 초코 스콘 (3,500원) 초코 스콘은 달지 않아서 단 디저트를 좋아하시는 분들이라면 넘 싱겁게(?) 느껴지실 것 같아요! 단 걸 안 좋아하시는 분들이라면 맛있게 드실 수 있을 거예요 👍🏻 필구커피는 컵에 붙어있는 스티커를 하나씩 가져갈 수 있게 카운터에 놓여져 있어요! (두 종류) 저도 다이어리에 붙이려고 하나 쏙 가져왔답니다 :) 그리고 스티커 10개를 모으면 아메리카노 한 잔을 무료로 주는 쿠폰도 받아왔어요! 언젠가.. 사람이 없는 시간대에 방문할 수 있다면 또 한 번 가볼까봐요 😊 기대하고 갔는데, 주말 오후 사람이 많은 시간대에 방문해서 제대로 즐기고 오지 못했던 필구커피 😢 (한 15분? 앉아있다 나왔어요..) 필구커피 방문을 계획 중이신 분들이라면 사람 없는 여유로운 시간대에 방문하길 추천드려요 👍🏻 불광천에 걸으러 가셨다가 예쁜 카페를 찾으신다면 새절역 근처 필구커피를 찾아보세요 😉 그럼 오늘의 리뷰는 여기서 끝! 앞으로도 다양한 리뷰로 찾아오겠습니다 그럼 안뇽 👋🏻'}, 24: {'title': '필구커피 , 골목길 mood 그 자체 ...', 'content': '하 오늘도 할일 없어서가 아니라 나는 블로거니까 주말에 다녀온 곳 리뷰를 써보도록 하겠읍니다 필구커피 서울특별시 은평구 불광천길 442-29 1층 에스콰이어 모바일로 보고 반했던 곳 불광천 근처에 있는 필구커피 ! 역으로 따지면 응암역 6호선 쪽 인것 같음ㅎㅎ 연신내에서 밥 먹고 버스타고 슬슬 다녀오면 있는 곳이고 불광천을 걸어서 지나가야 하기 때문에 데이트 코스로도 좋은 곳이당 짜잔 귀여운 필구커피 가게 외관 ! 진짜 이런 곳에 카페가 있다고 ? 하는 뜬금없는 골목길에 화이트톤으로 자리하고 있다 앞 쪽의 의자가 유명한 포토스팟인걸로 알고 있음 ! 필구커피의 시그니처 인 듯한 귀여운 주황색 새 포스터가 가게 내 외부에 붙어있당 근데 그게 과하지 않고 가게 정체성이랑 넘나 잘 어울린다는게 함정... 필구커피 메뉴는 위에 첨부해뒀음 ! 메뉴가 심플하고 가격대가 합리적이당 :) 주말 저녁 7시? 쯤 방문 했었는데 플레인 스콘은 이미 다 떨어지고 없었음ㅠㅠ 그리고 이런 갬성카페들은 노키즈존이 많은데 이 곳은 아이들을 위한 사탕까지 준비되어 있다 센스쟁이 애들이 주황색 새 포스터 보면 넘 좋아할것 같다 일단 이 곳의 시그니처인 멜로우 크림라떼 5.5 와 아메리카노 3.5 초콜릿 스콘 3.0 을 주문 했당 기다리며 가게 곳곳 둘러보기 ! 절대 넓지 않은 곳 이지만, 앞쪽의 공간과 안 쪽의 공간이 나름 나뉘어져 있당 의자 개수로 봤을때 한 타임 동시에 한 8-10명 정도 들어올 수 있을 것 같았다 ! 앞 쪽 공간의 의자 보다는, 안으로 들어가면 있는 의자가 등받이도 있고 편안해 보였당 :) 가게는 전체적으로 힙하면서도 진입장벽 낮은 힙이랄까 뭔가 너무 홍대st 혹은 체인 주렁주렁 st가 아니라 편안하고 여유롭게 즐길 수 있는 분위기다 ! 곳곳에 귀여운 소품들도 많고 포스터도 붙어있어서 즐기며 머무를 수 있을것 같은 곳 ㅎㅎ 우리가 주문 했던 것들 ! 멜로우 크림라떼는 마쉬멜로우가 위에 올라가 있고 그 밑에 크림 + 라떼 로 이루어져 있당 ✨🧡 레알 눈으로 보기만 해도 살 찌는 맛ㅎㅎ 마시멜로우를 별로 안 좋아하는 내가 먹어도 맛있었다 ! 달달 하면서 커피에 젖으면 식감이 별로일것 같았는데 오히려 더 맛있고 난리임 ... 💨🧡 근데 크림이 너무 무거워서 라떼가 너무 잘 안나왔다 ㅋㅋㅋ거의 손목 스냅 확 꺾어서 마셔야 하는 스타일.. 밥 먹고 간거라 배불러 남겼는데, 종종 필구커피 마시멜로우 맛이 생각난당 위에 단게 올라가 있어서 그런지 라떼 본연의 맛은 별로 달지 않았음 ! 좀 먹어서 섞으면 저렇게 변하는 필구커피의 시그니처 ,, 아메리카노는 개인적으로 느끼기에 진한 맛 이었다 산미가 있고 없고 이건 잘 기억 안남ㅎㅎ 초콜릿 스콘도 너무 달지 않고 맛있었음 꾸준히 투고 리스트에 있었던 필구커피 뭔가 퀘스트 깬 느낌으로 다녀와서 뿌듯한 파워 J ✅ 주말 저녁 바람 선선해질때 여유롭게 다녀오기 딱 좋음 코로로로로롱만 아니면 손에 들고 불광천 걷기에도 좋을듯'}, 25: {'title': '필구커피 filgu coffee응암동 새절역 불광천카페', 'content': '오늘은 응암동 동네의 자랑 필구커피 입니다 새절역 불광천카페 중 내가 가장 좋아하는 카페, 필구커피 사실 단순 리뷰가 아니라 필구커피를 정말 내가 좋아하는 곳이라는 걸 알려주기 위한 포스팅 응암동 새절역 주변 불광천에도 좋은 카페가 많이 생기긴 하지만 여기 필구커피가 가장 정감가는 곳 그리고 여기 필구커피 퀄리티는 응암동 새절역 불광천카페 중에서 내가 가장 좋다고 생각하는 곳 필구커피 사장님 바깥은 비올 것 같은 날씨로 우중충한데 여기는 대비되는 느낌 내부는 포근한 분위기 필구커피 사장님은 원래 커피가 전공은 아니었다고 하셨는데 커피 전공하는 사람보다 더 전문인 같은 액션과 커피 퀄리티를 보인다 필구커피 장비들 커피를 하는 친구들과 같이 왔을 때 그 친구가 하는 말이 필구커피 사장님은 장비에 진심이라고 그 만큼 필구커피 사장님은 커피 퀄리티에 정말 애를 쓰고 있다는 말이다 장인은 도구를 가리지 않는다 라는 말이 있지만 장인일수록 도구를 더 따진다 특히나 커피는 과학적인 방법으로 접근해야 같은 퀄리티를 유지할 수 있다 온도, 원두의 양, 수율, 농도 등 양과 시간에 관한 것들이 가장 밀접하게 연관되어 있어서 과학적 접근으로 다가가야 한다 오밀조밀 정말 잘 꾸며놓은 필구커피 필구커피 Scone 언제나 정겨운 필구커피의 캐릭터 쟤 이름이 필구인가봐 필구커피의 시그니처메뉴 그리고 에스프레소 필구커피의 에스프레소 커피 자체가 맛있어서 나는 여기서 늘 에스프레소를 마신 후 라떼나 아메리카노를 한 잔 더 마신다 필구커피 쿠폰 얼마나 모았더라 필구가 이번에 모자 장만했다 필구커피의 스콘 초코 스콘은 카카오닙스를 넣어서 너무 달지 않고 매력적인 쌉사름한 매력을 가지고 있다 필구커피 4번째 방문 이번엔 세명이라 스콘 두개 이즈니버터를 넣어 풍미가 정말 고급스러운 필구커피 버터스콘 커피는 라떼와 아메리카노 필구커피의 에스프레소에 얼음 세 알 새절역 응암동 불광천카페 응암동의 핫플, 자랑으로 내놓아도 손색없는 필구커피 이렇게 늘 동네에 머물러 불광천의 클래식이 되어주세요! Lugis Kitchen 루기가 추천하는 키친웨어 루기스키친 기분 좋은 식사와 파티를 위해 루기가 추천하는 키친웨어, 테이블웨어 LugisKitchen.com 쉐프와 바리스타, 파티시에가 꿈이라면 사진을 클릭!'}, 26: {'title': '[새절역,응암동카페] 필구커피', 'content': '커피피플의 93번째 카페는 응암동 새절역 카페 필구커피입니다! 처음 커피피플을 시작할 때 증산역 근처에서 지내고 있어서 불광천 따라 카페 투어를 많이 했었는데요 그때는 필구커피가 없었습니다😭 - 북한산 비봉을 내려와서 근처에 온 김에 그동안 가고 싶었던 필구커피를 다녀왔습니다 필구커피는 작년 12월쯤 생긴 거 같은데요 리뷰나 후기를 보면 짧은 시간에 탄탄한 입지와 인지도가 있는 것 같아요 비결이 뭔지 궁금합니다 사장님😄😄 응암동,새절역카페 필구커피에 도착! 아담한 카페에요 내부에는 좌석이 3테이블 정도 있고 야외에도 간단하게 마시고 갈 수 있는 좌석이 있습니다 주황색 포인트가 매력적인 응암동,새절역카페 필구커피 앵무새?오리? 부리가 있는걸 보면 조류인거 같죠?ㅎㅎ 무튼 귀여운 친구가 반기고 있습니다 매장도 HIP 사장님도 HIP 아이비리그컷이 잘 어울리시는 사장님😁 저희는 바 앞에 있는 테이블에 자리를 잡았어요 카페를 이곳 저곳 둘러보기 좋았던 자리 중구난방 정신 없는 것 같으면서도 이걸 느낌으로 만들어버리는 센스 이게 진짜 감각인거 같아요 부러운 능력 중 하나입니다 응암동,새절역카페 필구커피의 메뉴입니다 시그니처로는 멜로우크림라떼가 있습니다 여름이라 그런지 온리 아이스에요!! 겨울에는 뜨겁게도 가능한데 마시멜로우 올려주시는 모습이 유명하더라구요 겨울에도 와서 먹어볼 예정입니다🙌 안쪽으로 작은 방이 있고 이곳도 아기자기한 소품들과 마스킹테이프로 필구커피만의 색을 잘 보여주고 있습니다 응암동,새절역카페 필구커피 스콘입니다 요즘 너무 달지 않고 바삭한 스콘 재질을 좋아해서 초코스콘도 같이 주문했어요 뭔가 미국 카페테리아 느낌이 나기고 하고 창문과 블라인드 사이로 들어오는 햇살도 좋았고 무심한듯 한 조명들도 분위기를 잘 잡아주는 것 같아요 필구커피에 있으면서 선명하고 쨍한 느낌을 받았습니다 응암동, 새절역 카페 필구커피의 멜로우 크림 라떼입니다! 라떼에 크림이 올라가고 그 위에 마시멜로 토핑이 올라갑니다 단 걸 별로 안 좋아하고 그래서 마시멜로도 잘 안 먹는데 필구커피 마시멜로는 크기도 작고 커피랑 같이 먹으니까 당도가 적당했어요 너무 달지 않아 좋았던 멜로우크림라떼👍 작은 공간이지만 알찬 응암동, 새절역 카페 필구커피 많은걸 느끼고 배워가는 시간이었어요🙌 - 작은 공간의 한계를 느끼는 요즘 마음은 항상 넓은 공간을 상상하고 있지만 무작정 넓다고만 해서 해결되는 문제는 아닌 것 같아요 - 작은 공간이더라도 시선을 사로잡는 인테리어와 디자인 그리고 맛있는 음료와 시그니처 메뉴 그리고 사람들이 찾아올 수 있는 이야기로 채운다면 충분히 경쟁력이 있는 것 같습니다 - 더욱 단단해지고 있는 과정이라고 생각하고 더 열심히 해야겠습니다💪🏻 오늘은 여기까지😄 필구커피 서울특별시 은평구 불광천길 442-29 1층 https://www.instagram.com/p/CQKJwKsF0WB/?utm_medium=copy_link #커피 #카페 #카페탐방#카페투어 #서울카페추천 #응암동카페 #새절역카페 #필구커피 #마시멜로 #멜로우크림라떼 #공간 #카페인테리어 #커피맛집 #라떼맛집'}, 27: {'title': '[새절역카페]필구커피에서 멜로우라떼 마시고 반해버렸다.', 'content': 'FILGU COFFEE 멜로우라떼 마시멜로우가 소복이 올라간 크림라떼가 정말 인상적이에요.. 오늘의 리뷰는 새절역 카페 새절역 핫플로는 이미 정평나 있는 필구커피입니다. 필구커피 카페가 왜 이렇게 핫한지 정말 궁금했는데 방문해 보니 독특한 인테리어 훌륭한 커피 맛 핫플인 이유를 알겠더라고요. 필구커피 외관이에요. 핫플이라 그런지 다들 외관 앞에서 사진을 찍으시더라고요. 요즘 불광천인근 새절역카페들이 핫플로 떠오른다고해요. 귀염뽀짝하죠? 연남동처럼 주택단지에 위치해 있어요. 이제 내부를 보여드릴게요 내부는 10평남짓의 규모 오픈키친 협소한데 꽉찬기분 뭔가 이렇다 할 정도로 필구카페의 아이덴티티가 잘 느껴져요. 너무 귀염뽀짝하잖아..? 이곳은 스몰카페 컨셉이라 테이블은 딱3개입니다. 내부공간이 정말 협소해서 근처에 거주하시는 분들은 테이크아웃으로 이용하는 것도 좋을 것 같아요..집에서 맛난 커퓌咖啡☕ 아니면. . 필구커피 부근에 자리한 불광천도 너무 예쁘더라고요~? 저는 코시국이 잠잠해 진다면 테이크 아웃 해서 마셔도 좋을 것 같다는 생각도 했답니다..💓☺️ 저랑 친구는 시그니처인 멜로크림라떼 (5.5)랑 필구라떼(4.0)를 주문했는데요. 멜로크림라떼는 크림위에 마시멜로가 올라가 있는데 수북이 쌓인 마시멜로 비주얼ㅠㅠ 카메라 셔터를 막누르게 되쥬.. 무엇보다..맛도 일품이에요. 입술에 닿았던 마시멜로촉감과 찌인한 커피맛이 잊혀지지않아요. 극강의 맛,, 다음은 필구라떼.. 저의 이웃님들은 아실 거 예요. 저 라떼의 진심인..여자인데요.. 일반 라떼도 넘 찐하고.. 꼬숩고 맛있게 잘 먹었어요.베리굿 저는 완전 ,,여기 동네이면 자주 오고 싶다고 했네요. 커피에 조예가 깊은..친구도 필구 커피 너무 맛있대요. 스티커도 1인당 한개씩 너무 귀엽죠?..❤ 이렇게 불광천카페 새절역카페 SNS로 입소문 가득한 필구커피 후기를 남겼는데요. 솔직히,,여기 커피 맛집으로 인정합니다!!!탕탕 특히 고소하고 찐한 커피 좋아하는 분들에게 추천드려용~~~~ 50m © NAVER Corp. 필구커피 서울특별시 은평구 불광천길 442-29 1층 예약 (영업시간) 월-토 11:00 - 21:00 일요일&공휴일 11:00 - 19:00 ✔새절역 1번 출구에서 도보로 5분이내 ✔주차×'}, 28: {'title': '[응암동 카페] 불광천 산책하다 가기 좋은 카페 ‘필구 커피’!_유쾌하신 사장님과 머쉬멜로우 커피 그리고 포인트 컬러가 매력적인 공간!', 'content': '#필구커피 #불광천카페 #새절역카페 #동네카페 #멜로우크림라떼 #우롱차 #서울카페 #카페추천 #응암동카페 #불광천 안녕하세요~ 깨하~~ 오늘은 불광천 부근 카페! 산책하다가 들리기 좋은 동네 카페! ‘필구커피’ 를 리뷰하려고해요~ 남자친구가 가보고 싶다고 했는데 전 위치만 보고 불광천 바로 옆도 아닌데... 이랬지만ㅋㅋㅋ 가보고는 제가 더 신나했던! 필구커피 함께 구경가보시죠! 운영시간 화요일휴무 월수목금토 11:00~21:00 일 11:00~19:00 불광천에서 살짝 안쪽 골목으로 들어가면 주택단지 골목에 위치하고 있는 ‘필구커피’! 통 유리여서 눈에 띄어요!! 커피 내리고 계시는 사장님! 노란비니가 공간과 찰떡입니다ㅎㅎ 슬쩍 들여다봐도 색감 #취향저격 ㅎㅎㅎ 손잡이도 주황이라구요!! 안에 사람이 꽉차있고 바깥에 의자가 있어서 잠깐 엉덩이만 걸치고 갈까했는데 (이 사진은 손님 모두 빠지고 마지막으로 나가면서 찍은 사진) 마침 한팀이 나갔고 내부 구경을 하고 싶어서 자리에 앉기로 했어요! 계단을 하나 올라가서 있는 자리! 필구커피 인테리어 둘러보기 요 자리에 앉았습니다~ 의자 색감 취저! 의자 컬러가 다 달라요~ 벽에 주황 마스킹 테이프로 툭 붙여있는 시그니처 포스터 너무 귀엽지 않나요~~~? 바로 건너 좌석도 손님빠졌을 때 찰칵! 저희가 앉은 자리와 다르죠! 가방 놓을 수 있는 상자로 마트 바구니 귀엽 ㅠㅠ 저희 자리는 검은색 초록색 장바구니였어요~~ 매력 포인트가 하도 많아서ㅎㅎㅎ 전부 다 표현할 수가 없어요... 제가 요즘 형광 주황색에 꽂혀있긴한데ㅋㅋㅋ 캐릭터로 주황이 매력을 극대화시키신 사장님! 화이트+우드+실버금속+빈티지 를 너무 조화롭게 꾸미셔서 어디로 눈을 둬도 즐거웠어요~ 필구 커피의 메인캐릭터! (이름은 모름...) 주황 노랑 조합에 귀여운 폰트로 힙합을 뽐냅니다ㅎㅎㅎ 무료 스티커도 있어요~ 맥북에 붙이고 싶은 색감과 비쥬얼! 선반에 얹어진 씨리얼+케챱 패키지 비쥬얼도 귀엽구요~~ 포스터 / 사진들이 모두 포인트 주황색 마스킹테이프로 붙여있어서 전체적으로 일관된 인테리어에 퐁당! 계단에도 깨알 마스킹테이프ㅎㅎㅎ 어디에서 구매하셨냐고 여쭤봤는데! 답은....... !? ㅋㅋㅋㅋ궁금하신분은 댓글 남겨주세여ㅎㅎㅎ 필구커피에서 음료 마시기 필구커피 메뉴판 저흰 #멜로우크림라떼 와 저녁이어서 카페인이 아닌 다른걸 고민하는 저에게 추천해주신 우롱차! 중에 살짝 상콤한게 먹고 싶어서 #앱솔루우롱차 를 선택했어요! 멜로우 크림라떼는 필구커피 대표 커피인데~ 어떻게 나오냐면요~~ 짠~~메뉴가 나왔어요!!! 왼쪽이 앱솔루 우롱 오른쪽이 ‘멜로우 크림 라떼’ 아이스 입니다! 우롱차는 심플하지만 리필을 요청드리면 요렇게 주전자 채로 주세요ㅎㅎㅎ 건너편 테이블에 올리기ㅋㅋㅋㅋ 우롱롱~ㅎㅎ 향도 풍성하고 맛도 차 맛 중 달달! 커피 대신 먹기 좋았어요~ 여기서 꿀팁!! 요 우롱차는 멜로우 크림 라떼에 얹어진 마쉬멜로우와 찰떡인데요!! 필구커피 ‘멜로우 크림 라떼’ 커피+크림+머쉬멜로우 조합의 멜로우 크림 라떼! 미니 머쉬멜로우들이 올라가 있는데 요게 엄청 크리미하고 달달한데 향이 풍부한 우롱차를 연달아 마시니까~~ 찰떡!! 완전 #jmt !! 대만족이었습니다~~ 그냥 커피만 마셔도 맛있고 조화로운 맛도 최고!! (남친 왈 그냥 라떼가 아니라 머쉬멜로우가 얹어져서 카라멜 라떼 맛이 났데요!) 뒤쪽 골목으로 포토존처럼 벤치도 있던 필구커피! 공간도 매력적이고 색감도 매력적이고 유쾌하신 사장님도 매력적인! 아담하지만 즐겁고 꽉찬 공간이었습니다~ 위치는~~ 50m © NAVER Corp. 필구커피 서울특별시 은평구 불광천길 442-29 1층 예약 새절역 부근 불광천 안쪽 골목입니다~! 그럼 맛있는 커피데이되세요~~'}}\n"
     ]
    }
   ],
   "source": [
    "dict = {}\n",
    "\n",
    "number = len(df)\n",
    "\n",
    "for i in tqdm_notebook(range(0, number)):\n",
    "    #글 띄우기\n",
    "    url = df['url'][i]\n",
    "    chrome_path = chromedriver_autoinstaller.install()\n",
    "    driver = webdriver.Chrome(chrome_path)\n",
    "    \n",
    "    driver.get(url)\n",
    "\n",
    "    try:\n",
    "        driver.switch_to.frame('mainFrame')\n",
    "\n",
    "        target_info = {}\n",
    "\n",
    "        #제목 크롤링\n",
    "        overlays = \".se-module.se-module-text.se-title-text\"\n",
    "        tit = driver.find_element(By.CSS_SELECTOR, overlays)\n",
    "        title = tit.text\n",
    "\n",
    "        #내용 크롤링\n",
    "        overlays = \".se-main-container\"\n",
    "        content= driver.find_element(By.CSS_SELECTOR, overlays)\n",
    "        cont = content.text\n",
    "        cont = cont.replace('\\n', ' ')\n",
    "\n",
    "        #딕셔너리에 담음\n",
    "        target_info['title'] = title\n",
    "        target_info['content'] = cont\n",
    "\n",
    "        #전체 딕셔너리에 담음\n",
    "        dict[i]=target_info\n",
    "        time.sleep(1)\n",
    "\n",
    "        print(i, title)\n",
    "\n",
    "        driver.close()\n",
    "\n",
    "    except:\n",
    "        driver.close()\n",
    "        continue\n",
    "    if i == len(df):\n",
    "        result_df = pd.DataFrame.from_dict(dict, orient='index')\n",
    "\n",
    "print('수집글갯수', len(dict))\n",
    "print(dict)"
   ]
  },
  {
   "cell_type": "code",
   "execution_count": 14,
   "id": "abffc6e7-1bdb-4451-962e-51b3fdd5ce6e",
   "metadata": {},
   "outputs": [],
   "source": [
    "result = pd.DataFrame.from_dict(dict)\n",
    "result.to_excel(query_txt+\"_blog_content.xlsx\", index=False)\n",
    "time.sleep(3)"
   ]
  }
 ],
 "metadata": {
  "kernelspec": {
   "display_name": "Python 3 (ipykernel)",
   "language": "python",
   "name": "python3"
  },
  "language_info": {
   "codemirror_mode": {
    "name": "ipython",
    "version": 3
   },
   "file_extension": ".py",
   "mimetype": "text/x-python",
   "name": "python",
   "nbconvert_exporter": "python",
   "pygments_lexer": "ipython3",
   "version": "3.10.12"
  }
 },
 "nbformat": 4,
 "nbformat_minor": 5
}
