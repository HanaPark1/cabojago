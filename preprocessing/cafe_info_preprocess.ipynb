{
 "cells": [
  {
   "cell_type": "markdown",
   "metadata": {},
   "source": [
    "#### 데이터 임포트"
   ]
  },
  {
   "cell_type": "code",
   "execution_count": 163,
   "metadata": {},
   "outputs": [],
   "source": [
    "import pandas as pd\n",
    "yeonhee = pd.read_csv(\"../data/output_cafelist/output_cafelist_연희동.csv\")\n",
    "mangone = pd.read_csv(\"../data/output_cafelist/output_cafelist_망원동 오후 5.16.47.csv\")\n",
    "yeonnam = pd.read_csv(\"../data/output_cafelist/output_cafelist_연남동.csv\")\n",
    "seongsu = pd.read_csv(\"../data/output_cafelist/output_cafelist_성수동.csv\")\n",
    "hannam = pd.read_csv(\"../data/output_cafelist/output_cafelist_한남동.csv\")"
   ]
  },
  {
   "cell_type": "markdown",
   "metadata": {},
   "source": [
    "#### 연희동 이상데이터 처리"
   ]
  },
  {
   "cell_type": "code",
   "execution_count": 164,
   "metadata": {},
   "outputs": [
    {
     "data": {
      "text/html": [
       "<div>\n",
       "<style scoped>\n",
       "    .dataframe tbody tr th:only-of-type {\n",
       "        vertical-align: middle;\n",
       "    }\n",
       "\n",
       "    .dataframe tbody tr th {\n",
       "        vertical-align: top;\n",
       "    }\n",
       "\n",
       "    .dataframe thead th {\n",
       "        text-align: right;\n",
       "    }\n",
       "</style>\n",
       "<table border=\"1\" class=\"dataframe\">\n",
       "  <thead>\n",
       "    <tr style=\"text-align: right;\">\n",
       "      <th></th>\n",
       "      <th>카페ID</th>\n",
       "      <th>카페이름</th>\n",
       "      <th>방문자리뷰</th>\n",
       "      <th>블로그리뷰</th>\n",
       "      <th>주소</th>\n",
       "    </tr>\n",
       "  </thead>\n",
       "  <tbody>\n",
       "    <tr>\n",
       "      <th>0</th>\n",
       "      <td>1.233282e+09</td>\n",
       "      <td>Poke all day 포케&amp;샐러드 연희점</td>\n",
       "      <td>927</td>\n",
       "      <td>6</td>\n",
       "      <td>서울 서대문구 연희로15길 39 1층</td>\n",
       "    </tr>\n",
       "    <tr>\n",
       "      <th>1</th>\n",
       "      <td>1.826959e+09</td>\n",
       "      <td>스웨이커피스테이션</td>\n",
       "      <td>1082</td>\n",
       "      <td>6</td>\n",
       "      <td>서울 서대문구 연희로11길 61</td>\n",
       "    </tr>\n",
       "    <tr>\n",
       "      <th>2</th>\n",
       "      <td>1.032580e+09</td>\n",
       "      <td>프로토콜 연희점</td>\n",
       "      <td>474</td>\n",
       "      <td>1004</td>\n",
       "      <td>서울 서대문구 연희로 109 2층</td>\n",
       "    </tr>\n",
       "    <tr>\n",
       "      <th>3</th>\n",
       "      <td>1.677856e+09</td>\n",
       "      <td>보연희</td>\n",
       "      <td>473</td>\n",
       "      <td>295</td>\n",
       "      <td>서울 서대문구 연희맛로 17-63 2층</td>\n",
       "    </tr>\n",
       "    <tr>\n",
       "      <th>4</th>\n",
       "      <td>3.654373e+07</td>\n",
       "      <td>푸어링아웃</td>\n",
       "      <td>443</td>\n",
       "      <td>928</td>\n",
       "      <td>서울 서대문구 연희로11나길 7-7 반지층 카페 (푸어링아웃)</td>\n",
       "    </tr>\n",
       "    <tr>\n",
       "      <th>...</th>\n",
       "      <td>...</td>\n",
       "      <td>...</td>\n",
       "      <td>...</td>\n",
       "      <td>...</td>\n",
       "      <td>...</td>\n",
       "    </tr>\n",
       "    <tr>\n",
       "      <th>212</th>\n",
       "      <td>1.653542e+09</td>\n",
       "      <td>카페드댕</td>\n",
       "      <td>424</td>\n",
       "      <td>587</td>\n",
       "      <td>서울 마포구 동교로 269 1층, 2층</td>\n",
       "    </tr>\n",
       "    <tr>\n",
       "      <th>213</th>\n",
       "      <td>3.575136e+07</td>\n",
       "      <td>리히트</td>\n",
       "      <td>1042</td>\n",
       "      <td>587</td>\n",
       "      <td>서울 서대문구 연희로4길 10 리히트</td>\n",
       "    </tr>\n",
       "    <tr>\n",
       "      <th>214</th>\n",
       "      <td>1.602152e+09</td>\n",
       "      <td>하우스오브바이닐 연남점</td>\n",
       "      <td>48</td>\n",
       "      <td>36</td>\n",
       "      <td>서울 마포구 동교로 230 지1층</td>\n",
       "    </tr>\n",
       "    <tr>\n",
       "      <th>215</th>\n",
       "      <td>1.154933e+09</td>\n",
       "      <td>커피하우스</td>\n",
       "      <td>127</td>\n",
       "      <td>81</td>\n",
       "      <td>서울 마포구 동교로46길 25 1층</td>\n",
       "    </tr>\n",
       "    <tr>\n",
       "      <th>216</th>\n",
       "      <td>1.346475e+09</td>\n",
       "      <td>오버딥</td>\n",
       "      <td>287</td>\n",
       "      <td>160</td>\n",
       "      <td>서울 마포구 성미산로 149-8 2, 3층, 루프탑</td>\n",
       "    </tr>\n",
       "  </tbody>\n",
       "</table>\n",
       "<p>217 rows × 5 columns</p>\n",
       "</div>"
      ],
      "text/plain": [
       "             카페ID                     카페이름  방문자리뷰  블로그리뷰  \\\n",
       "0    1.233282e+09  Poke all day 포케&샐러드 연희점    927      6   \n",
       "1    1.826959e+09                스웨이커피스테이션   1082      6   \n",
       "2    1.032580e+09                 프로토콜 연희점    474   1004   \n",
       "3    1.677856e+09                      보연희    473    295   \n",
       "4    3.654373e+07                    푸어링아웃    443    928   \n",
       "..            ...                      ...    ...    ...   \n",
       "212  1.653542e+09                     카페드댕    424    587   \n",
       "213  3.575136e+07                      리히트   1042    587   \n",
       "214  1.602152e+09             하우스오브바이닐 연남점     48     36   \n",
       "215  1.154933e+09                    커피하우스    127     81   \n",
       "216  1.346475e+09                      오버딥    287    160   \n",
       "\n",
       "                                     주소  \n",
       "0                  서울 서대문구 연희로15길 39 1층  \n",
       "1                     서울 서대문구 연희로11길 61  \n",
       "2                    서울 서대문구 연희로 109 2층  \n",
       "3                 서울 서대문구 연희맛로 17-63 2층  \n",
       "4    서울 서대문구 연희로11나길 7-7 반지층 카페 (푸어링아웃)  \n",
       "..                                  ...  \n",
       "212               서울 마포구 동교로 269 1층, 2층  \n",
       "213                서울 서대문구 연희로4길 10 리히트  \n",
       "214                  서울 마포구 동교로 230 지1층  \n",
       "215                 서울 마포구 동교로46길 25 1층  \n",
       "216        서울 마포구 성미산로 149-8 2, 3층, 루프탑  \n",
       "\n",
       "[217 rows x 5 columns]"
      ]
     },
     "execution_count": 164,
     "metadata": {},
     "output_type": "execute_result"
    }
   ],
   "source": [
    "yeonhee"
   ]
  },
  {
   "cell_type": "code",
   "execution_count": 165,
   "metadata": {},
   "outputs": [],
   "source": [
    "yeonhee_na_rows = yeonhee[yeonhee['카페ID'].isna()]"
   ]
  },
  {
   "cell_type": "code",
   "execution_count": 166,
   "metadata": {},
   "outputs": [
    {
     "data": {
      "text/html": [
       "<div>\n",
       "<style scoped>\n",
       "    .dataframe tbody tr th:only-of-type {\n",
       "        vertical-align: middle;\n",
       "    }\n",
       "\n",
       "    .dataframe tbody tr th {\n",
       "        vertical-align: top;\n",
       "    }\n",
       "\n",
       "    .dataframe thead th {\n",
       "        text-align: right;\n",
       "    }\n",
       "</style>\n",
       "<table border=\"1\" class=\"dataframe\">\n",
       "  <thead>\n",
       "    <tr style=\"text-align: right;\">\n",
       "      <th></th>\n",
       "      <th>카페ID</th>\n",
       "      <th>카페이름</th>\n",
       "      <th>방문자리뷰</th>\n",
       "      <th>블로그리뷰</th>\n",
       "      <th>주소</th>\n",
       "    </tr>\n",
       "  </thead>\n",
       "  <tbody>\n",
       "    <tr>\n",
       "      <th>148</th>\n",
       "      <td>NaN</td>\n",
       "      <td>전통찻집다향</td>\n",
       "      <td>7</td>\n",
       "      <td>7</td>\n",
       "      <td>서울 서대문구 연희맛로 34 남강빌딩</td>\n",
       "    </tr>\n",
       "    <tr>\n",
       "      <th>154</th>\n",
       "      <td>NaN</td>\n",
       "      <td>MUSEUM CAFE</td>\n",
       "      <td>9</td>\n",
       "      <td>9</td>\n",
       "      <td>서울 서대문구 연희로32길 51</td>\n",
       "    </tr>\n",
       "    <tr>\n",
       "      <th>159</th>\n",
       "      <td>NaN</td>\n",
       "      <td>유어브레드</td>\n",
       "      <td>15</td>\n",
       "      <td>5</td>\n",
       "      <td>서울 서대문구 연희로 109</td>\n",
       "    </tr>\n",
       "    <tr>\n",
       "      <th>160</th>\n",
       "      <td>NaN</td>\n",
       "      <td>Sous Le Theier</td>\n",
       "      <td>15</td>\n",
       "      <td>5</td>\n",
       "      <td>서울 서대문구 성산로 291</td>\n",
       "    </tr>\n",
       "    <tr>\n",
       "      <th>169</th>\n",
       "      <td>NaN</td>\n",
       "      <td>CO끼리</td>\n",
       "      <td>621</td>\n",
       "      <td>105</td>\n",
       "      <td>서울 서대문구 연희로31길 24-12 1층</td>\n",
       "    </tr>\n",
       "    <tr>\n",
       "      <th>170</th>\n",
       "      <td>NaN</td>\n",
       "      <td>부향식품</td>\n",
       "      <td>621</td>\n",
       "      <td>105</td>\n",
       "      <td>서울 서대문구 연희로26나길 9</td>\n",
       "    </tr>\n",
       "  </tbody>\n",
       "</table>\n",
       "</div>"
      ],
      "text/plain": [
       "     카페ID            카페이름  방문자리뷰  블로그리뷰                       주소\n",
       "148   NaN          전통찻집다향      7      7     서울 서대문구 연희맛로 34 남강빌딩\n",
       "154   NaN     MUSEUM CAFE      9      9        서울 서대문구 연희로32길 51\n",
       "159   NaN           유어브레드     15      5          서울 서대문구 연희로 109\n",
       "160   NaN  Sous Le Theier     15      5          서울 서대문구 성산로 291\n",
       "169   NaN            CO끼리    621    105  서울 서대문구 연희로31길 24-12 1층\n",
       "170   NaN            부향식품    621    105        서울 서대문구 연희로26나길 9"
      ]
     },
     "execution_count": 166,
     "metadata": {},
     "output_type": "execute_result"
    }
   ],
   "source": [
    "yeonhee_na_rows"
   ]
  },
  {
   "cell_type": "code",
   "execution_count": 167,
   "metadata": {},
   "outputs": [],
   "source": [
    "# 문제점: 해당 카페에 리뷰가 존재하지 않는 경우 카페 고유 ID를 못받아옴\n",
    "# 해결방안: 리뷰가 없는 카페가 얼마 없으니 직접 PC 뷰로 들어가 찾음\n",
    "\n",
    "# 전통찻집다향: 36547602\n",
    "# MUSEUM CAFE: 1887301004\n",
    "# 유어브레드: 1015572082\n",
    "# Sous Le Theier: 1470436838\n",
    "# CO끼리: 1990953407\n",
    "# 부향식품: 18257972"
   ]
  },
  {
   "cell_type": "code",
   "execution_count": 168,
   "metadata": {},
   "outputs": [],
   "source": [
    "na_cafe_id = {\n",
    "  '전통찻집다향': 36547602,\n",
    "  'MUSEUM CAFE': 1887301004,\n",
    "  '유어브레드': 1015572082,\n",
    "  'Sous Le Theier': 1470436838,\n",
    "  'CO끼리': 1990953407,\n",
    "  '부향식품': 18257972\n",
    "}"
   ]
  },
  {
   "cell_type": "code",
   "execution_count": 169,
   "metadata": {},
   "outputs": [],
   "source": [
    "for cafe_name, cafe_id in na_cafe_id.items():\n",
    "    # 주어진 카페이름에 해당하는 행 찾기\n",
    "    cafe_row = yeonhee[yeonhee['카페이름'] == cafe_name]\n",
    "    \n",
    "    # 해당 행이 존재하는 경우 값 변경\n",
    "    if not cafe_row.empty:\n",
    "        index = cafe_row.index[0]\n",
    "        yeonhee.at[index, '카페ID'] = cafe_id\n",
    "        yeonhee.at[index, '방문자리뷰'] = 0\n",
    "        yeonhee.at[index, '블로그리뷰'] = 0"
   ]
  },
  {
   "cell_type": "code",
   "execution_count": 170,
   "metadata": {},
   "outputs": [
    {
     "name": "stdout",
     "output_type": "stream",
     "text": [
      "           카페ID    카페이름  방문자리뷰  블로그리뷰                    주소\n",
      "148  36547602.0  전통찻집다향      0      0  서울 서대문구 연희맛로 34 남강빌딩\n"
     ]
    }
   ],
   "source": [
    "# 확인\n",
    "cafe_check = yeonhee[yeonhee['카페이름'] == \"전통찻집다향\"]\n",
    "print(cafe_check)\n"
   ]
  },
  {
   "cell_type": "code",
   "execution_count": 171,
   "metadata": {},
   "outputs": [
    {
     "name": "stdout",
     "output_type": "stream",
     "text": [
      "14\n",
      "             카페ID     카페이름  방문자리뷰  블로그리뷰  \\\n",
      "12   2.105252e+07    폴앤폴리나   1071     29   \n",
      "37   2.108908e+07    알레스구떼   1117     78   \n",
      "54   1.984355e+09    하니앤손스    352    180   \n",
      "65   1.706129e+09       래인    736     52   \n",
      "78   1.640225e+09     공간커피    287     27   \n",
      "87   1.273878e+09     루카카페    165    260   \n",
      "118  1.645258e+09       녹다    239    173   \n",
      "132  1.279947e+07     더클래식    551     60   \n",
      "147  1.673576e+09      아지트      7      7   \n",
      "151  1.877665e+09     커피나루     23      1   \n",
      "162  2.174300e+08   언더그라운드    231    241   \n",
      "164  1.299027e+07      에이치     45      9   \n",
      "166  1.500626e+09  카페 그레이스    122     14   \n",
      "168  1.536331e+09     라온카페    621    105   \n",
      "\n",
      "                                             주소  \n",
      "12                    서울 영등포구 의사당대로 108 아일렉스 상가  \n",
      "37                              경기 하남시 덕풍북로 109  \n",
      "54                              서울 양천구 신목로2길 68  \n",
      "65                     인천 미추홀구 미추홀대로733번길 15 1층  \n",
      "78                         경북 구미시 경은로 30 1층 다가감  \n",
      "87                             서울 강남구 압구정로4길 19  \n",
      "118                        서울 용산구 대사관로34길 21 2층  \n",
      "132                      서울 강남구 학동로 206 동화빌딩 5층  \n",
      "147                         충남 공주시 제민1길 4 제민1길4  \n",
      "151  경기 과천시 과천대로7길 26 B타워 지하1층 B103,B104, B105호  \n",
      "162                     서울 서초구 강남대로53길 11 지하 1층  \n",
      "164       경기 의정부시 평화로 170 동인빌딩 6,7,8층 fitness H  \n",
      "166                            서울 중구 세종대로19길 16  \n",
      "168        인천 남동구 남동대로733번길 55-6 도담로즈빌 1층 피트인커피  \n"
     ]
    }
   ],
   "source": [
    "# 다른 지역의 카페를 수집한 경우 처리\n",
    "# '서울 서대문구' 또는 '서울 마포구'가 아닌 행 선택\n",
    "invalid_address_rows = yeonhee[~yeonhee['주소'].str.contains('서울 서대문구|서울 마포구')]\n",
    "print(len(invalid_address_rows))\n",
    "print(invalid_address_rows)\n",
    "# 행 삭제\n",
    "yeonhee = yeonhee.drop(invalid_address_rows.index)\n"
   ]
  },
  {
   "cell_type": "markdown",
   "metadata": {},
   "source": [
    "#### 망원동 이상데이터 처리"
   ]
  },
  {
   "cell_type": "code",
   "execution_count": 172,
   "metadata": {},
   "outputs": [],
   "source": [
    "mangone_na_rows = mangone[mangone['카페ID'].isna()]"
   ]
  },
  {
   "cell_type": "code",
   "execution_count": 173,
   "metadata": {},
   "outputs": [
    {
     "data": {
      "text/html": [
       "<div>\n",
       "<style scoped>\n",
       "    .dataframe tbody tr th:only-of-type {\n",
       "        vertical-align: middle;\n",
       "    }\n",
       "\n",
       "    .dataframe tbody tr th {\n",
       "        vertical-align: top;\n",
       "    }\n",
       "\n",
       "    .dataframe thead th {\n",
       "        text-align: right;\n",
       "    }\n",
       "</style>\n",
       "<table border=\"1\" class=\"dataframe\">\n",
       "  <thead>\n",
       "    <tr style=\"text-align: right;\">\n",
       "      <th></th>\n",
       "      <th>카페ID</th>\n",
       "      <th>카페이름</th>\n",
       "      <th>방문자리뷰</th>\n",
       "      <th>블로그리뷰</th>\n",
       "      <th>주소</th>\n",
       "    </tr>\n",
       "  </thead>\n",
       "  <tbody>\n",
       "    <tr>\n",
       "      <th>178</th>\n",
       "      <td>NaN</td>\n",
       "      <td>고망고 망원점</td>\n",
       "      <td>93</td>\n",
       "      <td>226</td>\n",
       "      <td>NaN</td>\n",
       "    </tr>\n",
       "    <tr>\n",
       "      <th>264</th>\n",
       "      <td>NaN</td>\n",
       "      <td>퐁치 커피익스프레스 망원점</td>\n",
       "      <td>6</td>\n",
       "      <td>1</td>\n",
       "      <td>서울 마포구 망원로 72 1층</td>\n",
       "    </tr>\n",
       "  </tbody>\n",
       "</table>\n",
       "</div>"
      ],
      "text/plain": [
       "     카페ID            카페이름  방문자리뷰  블로그리뷰                주소\n",
       "178   NaN         고망고 망원점     93    226               NaN\n",
       "264   NaN  퐁치 커피익스프레스 망원점      6      1  서울 마포구 망원로 72 1층"
      ]
     },
     "execution_count": 173,
     "metadata": {},
     "output_type": "execute_result"
    }
   ],
   "source": [
    "mangone_na_rows"
   ]
  },
  {
   "cell_type": "code",
   "execution_count": 174,
   "metadata": {},
   "outputs": [],
   "source": [
    "# 원인을 모르겠으나 못긁어와서 직접 확인\n",
    "mangone.loc[mangone['카페이름'] == \"고망고 망원점\", '카페ID'] = 1792676925\n",
    "mangone.loc[mangone['카페이름'] == \"고망고 망원점\", '방문자리뷰'] = 2131\n",
    "mangone.loc[mangone['카페이름'] == \"고망고 망원점\", '블로그리뷰'] = 76\n",
    "\n",
    "# 리뷰가 없어서 저장안된 카페\n",
    "mangone.loc[mangone['카페이름'] == \"퐁치 커피익스프레스 망원점\", '카페ID'] = 1717391085\n",
    "mangone.loc[mangone['카페이름'] == \"퐁치 커피익스프레스 망원점\", '방문자리뷰'] = 0\n",
    "mangone.loc[mangone['카페이름'] == \"퐁치 커피익스프레스 망원점\", '블로그리뷰'] = 0"
   ]
  },
  {
   "cell_type": "code",
   "execution_count": 175,
   "metadata": {},
   "outputs": [
    {
     "name": "stdout",
     "output_type": "stream",
     "text": [
      "             카페ID            카페이름  방문자리뷰  블로그리뷰                주소\n",
      "264  1.717391e+09  퐁치 커피익스프레스 망원점      0      0  서울 마포구 망원로 72 1층\n"
     ]
    }
   ],
   "source": [
    "# 확인\n",
    "cafe_check = mangone[mangone['카페이름'] == \"퐁치 커피익스프레스 망원점\"]\n",
    "print(cafe_check)"
   ]
  },
  {
   "cell_type": "code",
   "execution_count": 176,
   "metadata": {},
   "outputs": [
    {
     "name": "stdout",
     "output_type": "stream",
     "text": [
      "8\n",
      "             카페ID  카페이름  방문자리뷰  블로그리뷰                                    주소\n",
      "23   1.469082e+09    당도    113      5                충남 서산시 예천1로 28 유플라자 1층\n",
      "66   1.258654e+09   카페엠    167      7         대전 유성구 진잠로106번길 5-11 1층 엠시드카페\n",
      "165  1.259932e+09  카페하임    132    129            서울 광진구 천호대로129길 40 2층 카페하임\n",
      "218  1.706990e+09  카페오후     47     25                 서울 종로구 낙산1길 22-1 지하1층\n",
      "235  1.240636e+09   블랭크      6      3                  서울 강남구 도산대로81길 39 3층\n",
      "257  1.827846e+09   수커피     22     13     충남 천안시 서북구 한들3로 70 근린생활시설 1동 105호\n",
      "265  1.930719e+09  와우살롱      4    110            서울 서대문구 거북골로 45 지하와우점핑다이어트\n",
      "270  1.339075e+09   레스트     14      4  경기 파주시 경의로 1046 이더펠리체 201호 노브랜드버거 건물\n"
     ]
    }
   ],
   "source": [
    "# 다른 지역의 카페를 수집한 경우 처리\n",
    "# '서울 마포구'가 아닌 행 선택\n",
    "mangone = mangone.dropna(subset=['주소'])\n",
    "invalid_address_rows = mangone[~mangone['주소'].str.contains('서울 마포구')]\n",
    "print(len(invalid_address_rows))\n",
    "print(invalid_address_rows)\n",
    "# 행 삭제\n",
    "mangone = mangone.drop(invalid_address_rows.index)"
   ]
  },
  {
   "cell_type": "markdown",
   "metadata": {},
   "source": [
    "#### 연남동 이상데이터 처리"
   ]
  },
  {
   "cell_type": "code",
   "execution_count": 177,
   "metadata": {},
   "outputs": [
    {
     "data": {
      "text/html": [
       "<div>\n",
       "<style scoped>\n",
       "    .dataframe tbody tr th:only-of-type {\n",
       "        vertical-align: middle;\n",
       "    }\n",
       "\n",
       "    .dataframe tbody tr th {\n",
       "        vertical-align: top;\n",
       "    }\n",
       "\n",
       "    .dataframe thead th {\n",
       "        text-align: right;\n",
       "    }\n",
       "</style>\n",
       "<table border=\"1\" class=\"dataframe\">\n",
       "  <thead>\n",
       "    <tr style=\"text-align: right;\">\n",
       "      <th></th>\n",
       "      <th>카페ID</th>\n",
       "      <th>카페이름</th>\n",
       "      <th>방문자리뷰</th>\n",
       "      <th>블로그리뷰</th>\n",
       "      <th>주소</th>\n",
       "    </tr>\n",
       "  </thead>\n",
       "  <tbody>\n",
       "  </tbody>\n",
       "</table>\n",
       "</div>"
      ],
      "text/plain": [
       "Empty DataFrame\n",
       "Columns: [카페ID, 카페이름, 방문자리뷰, 블로그리뷰, 주소]\n",
       "Index: []"
      ]
     },
     "execution_count": 177,
     "metadata": {},
     "output_type": "execute_result"
    }
   ],
   "source": [
    "# 연남동 확인\n",
    "yeonnam_na_rows = yeonnam[yeonnam['카페ID'].isna()]\n",
    "yeonnam_na_rows"
   ]
  },
  {
   "cell_type": "code",
   "execution_count": 178,
   "metadata": {},
   "outputs": [
    {
     "name": "stdout",
     "output_type": "stream",
     "text": [
      "10\n",
      "           카페ID   카페이름  방문자리뷰  블로그리뷰                                       주소\n",
      "57   1538902857   그림카페     68    139                        서울 강남구 압구정로46길 77\n",
      "74   1774349050     시계     55     60                 서울 은평구 수색로 200 4BL동 116호\n",
      "133  1084359942     히비    860    232                      서울 용산구 백범로87길 24 1층\n",
      "175  1963625418     환대     74     32               경기 고양시 덕양구 무원로54번길 7-19 1층\n",
      "183  1518287138   루트커피      1      1                        전남 화순군 화순읍 만연로 27\n",
      "207  1329714120   바람커피    249     52                서울 강동구 성내로3길 18 . 1층(성내동)\n",
      "227  1668678002   우즈커피    157     89                       울산 남구 신정로58번길 2 1층\n",
      "250  1045452794  디저트 뷰   4346     79  경기 남양주시 강변북로632번길 66 카페 뷰66 미호점 (관광휴양지)\n",
      "259   587864518    마르셀    140    295           서울 영등포구 여의대로 8 여의도파크센터 상가 지하1층\n",
      "260  1171989964    라헨느      1    117        경기 고양시 일산서구 주엽로 80 일산가로수길 A동 129호\n"
     ]
    }
   ],
   "source": [
    "# 다른 지역의 카페를 수집한 경우 처리\n",
    "# '서울 마포구'가 아닌 행 선택\n",
    "invalid_address_rows = yeonnam[~yeonnam['주소'].str.contains('서울 마포구')]\n",
    "print(len(invalid_address_rows))\n",
    "print(invalid_address_rows)\n",
    "# 행 삭제\n",
    "yeonnam = yeonnam.drop(invalid_address_rows.index)"
   ]
  },
  {
   "cell_type": "markdown",
   "metadata": {},
   "source": [
    "### 성수동 이상데이터 처리"
   ]
  },
  {
   "cell_type": "code",
   "execution_count": 179,
   "metadata": {},
   "outputs": [
    {
     "data": {
      "text/html": [
       "<div>\n",
       "<style scoped>\n",
       "    .dataframe tbody tr th:only-of-type {\n",
       "        vertical-align: middle;\n",
       "    }\n",
       "\n",
       "    .dataframe tbody tr th {\n",
       "        vertical-align: top;\n",
       "    }\n",
       "\n",
       "    .dataframe thead th {\n",
       "        text-align: right;\n",
       "    }\n",
       "</style>\n",
       "<table border=\"1\" class=\"dataframe\">\n",
       "  <thead>\n",
       "    <tr style=\"text-align: right;\">\n",
       "      <th></th>\n",
       "      <th>카페ID</th>\n",
       "      <th>카페이름</th>\n",
       "      <th>방문자리뷰</th>\n",
       "      <th>블로그리뷰</th>\n",
       "      <th>주소</th>\n",
       "    </tr>\n",
       "  </thead>\n",
       "  <tbody>\n",
       "  </tbody>\n",
       "</table>\n",
       "</div>"
      ],
      "text/plain": [
       "Empty DataFrame\n",
       "Columns: [카페ID, 카페이름, 방문자리뷰, 블로그리뷰, 주소]\n",
       "Index: []"
      ]
     },
     "execution_count": 179,
     "metadata": {},
     "output_type": "execute_result"
    }
   ],
   "source": [
    "# 성수동 확인\n",
    "seongsu_na_rows = seongsu[seongsu['카페ID'].isna()]\n",
    "seongsu_na_rows"
   ]
  },
  {
   "cell_type": "code",
   "execution_count": 180,
   "metadata": {},
   "outputs": [
    {
     "name": "stdout",
     "output_type": "stream",
     "text": [
      "0\n",
      "Empty DataFrame\n",
      "Columns: [카페ID, 카페이름, 방문자리뷰, 블로그리뷰, 주소]\n",
      "Index: []\n"
     ]
    }
   ],
   "source": [
    "# 다른 지역의 카페를 수집한 경우 처리\n",
    "# '서울 성동구'가 아닌 행 선택\n",
    "invalid_address_rows = seongsu[~seongsu['주소'].str.contains('서울 성동구')]\n",
    "print(len(invalid_address_rows))\n",
    "print(invalid_address_rows)\n",
    "# 행 삭제\n",
    "seongsu = seongsu.drop(invalid_address_rows.index)"
   ]
  },
  {
   "cell_type": "markdown",
   "metadata": {},
   "source": [
    "#### 한남동 이상데이터 처리"
   ]
  },
  {
   "cell_type": "code",
   "execution_count": 181,
   "metadata": {},
   "outputs": [
    {
     "data": {
      "text/html": [
       "<div>\n",
       "<style scoped>\n",
       "    .dataframe tbody tr th:only-of-type {\n",
       "        vertical-align: middle;\n",
       "    }\n",
       "\n",
       "    .dataframe tbody tr th {\n",
       "        vertical-align: top;\n",
       "    }\n",
       "\n",
       "    .dataframe thead th {\n",
       "        text-align: right;\n",
       "    }\n",
       "</style>\n",
       "<table border=\"1\" class=\"dataframe\">\n",
       "  <thead>\n",
       "    <tr style=\"text-align: right;\">\n",
       "      <th></th>\n",
       "      <th>카페ID</th>\n",
       "      <th>카페이름</th>\n",
       "      <th>방문자리뷰</th>\n",
       "      <th>블로그리뷰</th>\n",
       "      <th>주소</th>\n",
       "    </tr>\n",
       "  </thead>\n",
       "  <tbody>\n",
       "    <tr>\n",
       "      <th>148</th>\n",
       "      <td>NaN</td>\n",
       "      <td>나인원카페</td>\n",
       "      <td>300</td>\n",
       "      <td>3</td>\n",
       "      <td>서울 용산구 우사단로10길 59 1층 카페 나인원</td>\n",
       "    </tr>\n",
       "    <tr>\n",
       "      <th>173</th>\n",
       "      <td>NaN</td>\n",
       "      <td>다니엘커피숍</td>\n",
       "      <td>9</td>\n",
       "      <td>9</td>\n",
       "      <td>서울 용산구 대사관로34다길 21</td>\n",
       "    </tr>\n",
       "  </tbody>\n",
       "</table>\n",
       "</div>"
      ],
      "text/plain": [
       "     카페ID    카페이름  방문자리뷰  블로그리뷰                           주소\n",
       "148   NaN   나인원카페    300      3  서울 용산구 우사단로10길 59 1층 카페 나인원\n",
       "173   NaN  다니엘커피숍      9      9           서울 용산구 대사관로34다길 21"
      ]
     },
     "execution_count": 181,
     "metadata": {},
     "output_type": "execute_result"
    }
   ],
   "source": [
    "# 한남동 확인\n",
    "hannam_na_rows = hannam[hannam['카페ID'].isna()]\n",
    "hannam_na_rows"
   ]
  },
  {
   "cell_type": "code",
   "execution_count": 182,
   "metadata": {},
   "outputs": [],
   "source": [
    "# 리뷰가 없어서 저장안된 카페\n",
    "hannam.loc[hannam['카페이름'] == \"나인원카페\", '카페ID'] = 1096865151\n",
    "hannam.loc[hannam['카페이름'] == \"다니엘커피숍\", '카페ID'] = 18183485\n",
    "\n",
    "hannam.loc[hannam['카페이름'] == \"나인원카페\", '방문자리뷰'] = 0\n",
    "hannam.loc[hannam['카페이름'] == \"나인원카페\", '블로그리뷰'] = 0\n",
    "hannam.loc[hannam['카페이름'] == \"다니엘커피숍\", '방문자리뷰'] = 0\n",
    "hannam.loc[hannam['카페이름'] == \"다니엘커피숍\", '블로그리뷰'] = 0"
   ]
  },
  {
   "cell_type": "code",
   "execution_count": 183,
   "metadata": {},
   "outputs": [
    {
     "name": "stdout",
     "output_type": "stream",
     "text": [
      "             카페ID   카페이름  방문자리뷰  블로그리뷰                           주소\n",
      "148  1.096865e+09  나인원카페      0      0  서울 용산구 우사단로10길 59 1층 카페 나인원\n"
     ]
    }
   ],
   "source": [
    "cafe_check = hannam[hannam['카페이름'] == \"나인원카페\"]\n",
    "print(cafe_check)"
   ]
  },
  {
   "cell_type": "code",
   "execution_count": 184,
   "metadata": {},
   "outputs": [
    {
     "name": "stdout",
     "output_type": "stream",
     "text": [
      "70\n",
      "             카페ID               카페이름  방문자리뷰  블로그리뷰  \\\n",
      "31   1.851308e+09          베이커리 오월의종    455     56   \n",
      "67   1.165545e+09                 모모    357    588   \n",
      "94   3.021509e+08                벨루스      3      8   \n",
      "126  1.755396e+09                이코이    285    182   \n",
      "158  1.377332e+09             Treats    417      1   \n",
      "..            ...                ...    ...    ...   \n",
      "260  1.851242e+09                 당옥    621    579   \n",
      "264  1.547178e+09              경성미술관    576    235   \n",
      "265  1.379309e+09              아가젤라또    402    354   \n",
      "268  1.176444e+09  우나하우스 현대백화점 압구정본점      4      9   \n",
      "269  1.798709e+09         빽다방 신사사거리점   4952    555   \n",
      "\n",
      "                                  주소  \n",
      "31       서울 영등포구 영중로 15 타임스퀘어 112-1호  \n",
      "67                  서울 마포구 동교로 242-6  \n",
      "94         경기 평택시 조개터로5번길 28 1층 벨루스퀸  \n",
      "126                서울 도봉구 도봉로112길 20  \n",
      "158            경기 부천시 까치로6번길 17-7 1층  \n",
      "..                               ...  \n",
      "260            서울 강남구 강남대로162길 22 1층  \n",
      "264             서울 강남구 도산대로15길 32 B1  \n",
      "265             서울 강남구 논현로155길 11 1층  \n",
      "268  서울 강남구 압구정로 165 현대백화점압구정본점 지하1층  \n",
      "269          서울 서초구 강남대로 605 휴먼타워 1층  \n",
      "\n",
      "[70 rows x 5 columns]\n"
     ]
    }
   ],
   "source": [
    "# 다른 지역의 카페를 수집한 경우 처리\n",
    "# '서울 용산구'가 아닌 행 선택\n",
    "invalid_address_rows = hannam[~hannam['주소'].str.contains('서울 용산구')]\n",
    "print(len(invalid_address_rows))\n",
    "print(invalid_address_rows)\n",
    "# 행 삭제\n",
    "hannam = hannam.drop(invalid_address_rows.index)"
   ]
  },
  {
   "cell_type": "markdown",
   "metadata": {},
   "source": [
    "#### 최종 데이터 저장"
   ]
  },
  {
   "cell_type": "code",
   "execution_count": 185,
   "metadata": {},
   "outputs": [],
   "source": [
    "yeonhee.to_csv('../data/output_cafelist/cafe_info_list_yeonhee.csv', index=False)\n",
    "mangone.to_csv('../data/output_cafelist/cafe_info_list_mangone.csv', index=False)\n",
    "yeonnam.to_csv('../data/output_cafelist/cafe_info_list_yeonnam.csv', index=False)\n",
    "seongsu.to_csv('../data/output_cafelist/cafe_info_list_seongsu.csv', index=False)\n",
    "hannam.to_csv('../data/output_cafelist/cafe_info_list_hannam.csv', index=False)"
   ]
  },
  {
   "cell_type": "code",
   "execution_count": null,
   "metadata": {},
   "outputs": [],
   "source": []
  }
 ],
 "metadata": {
  "kernelspec": {
   "display_name": "Python 3",
   "language": "python",
   "name": "python3"
  },
  "language_info": {
   "codemirror_mode": {
    "name": "ipython",
    "version": 3
   },
   "file_extension": ".py",
   "mimetype": "text/x-python",
   "name": "python",
   "nbconvert_exporter": "python",
   "pygments_lexer": "ipython3",
   "version": "3.10.1"
  },
  "orig_nbformat": 4
 },
 "nbformat": 4,
 "nbformat_minor": 2
}
